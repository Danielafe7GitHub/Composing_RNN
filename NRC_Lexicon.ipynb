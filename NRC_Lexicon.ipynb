{
 "cells": [
  {
   "cell_type": "markdown",
   "metadata": {},
   "source": [
    "Importando Librerías"
   ]
  },
  {
   "cell_type": "code",
   "execution_count": 1,
   "metadata": {},
   "outputs": [],
   "source": [
    "#!/usr/bin/python\n",
    "import math\n",
    "import nltk\n",
    "from nltk.corpus import wordnet\n",
    "from nltk.corpus import stopwords\n",
    "from math import floor\n",
    "from nltk.tokenize import RegexpTokenizer\n",
    "from nltk.stem.snowball import SnowballStemmer\n",
    "import matplotlib.pyplot as plt"
   ]
  },
  {
   "cell_type": "markdown",
   "metadata": {},
   "source": [
    "Cargado NRC Lexicon de Emociones"
   ]
  },
  {
   "cell_type": "code",
   "execution_count": 2,
   "metadata": {},
   "outputs": [],
   "source": [
    "n = open(\"emmod_potter/ginger_and_pickles.emmood\", 'r+')\n",
    "linea = n.readline()\n",
    "pal_senti_emoci = []\n",
    "nrc_lexicon = []"
   ]
  },
  {
   "cell_type": "markdown",
   "metadata": {},
   "source": [
    "Transformando Lexicon a vectores"
   ]
  },
  {
   "cell_type": "code",
   "execution_count": 5,
   "metadata": {},
   "outputs": [],
   "source": [
    "#No olvides :Añadir un enter al ultimo elemento de nrc.txt\n",
    "while linea != \"\\n\":\n",
    "    tokens = nltk.word_tokenize(linea)\n",
    "    for token in tokens:\n",
    "        pal_senti_emoci.append(token)\n",
    "    nrc_lexicon.append(pal_senti_emoci)\n",
    "    pal_senti_emoci = []\n",
    "    linea = n.readline()\n",
    "n.close()"
   ]
  },
  {
   "cell_type": "markdown",
   "metadata": {},
   "source": [
    "Definiendo 7 emociones básicas + 2 sentimientos"
   ]
  },
  {
   "cell_type": "code",
   "execution_count": 6,
   "metadata": {},
   "outputs": [],
   "source": [
    "positive = 0 \n",
    "negative = 0\n",
    "anger = 0 \n",
    "fear = 0 \n",
    "surprise = 0 \n",
    "sadness = 0 \n",
    "joy = 0  \n",
    "disgust = 0"
   ]
  },
  {
   "cell_type": "markdown",
   "metadata": {},
   "source": [
    "Funcion de conteo de emociones"
   ]
  },
  {
   "cell_type": "code",
   "execution_count": 7,
   "metadata": {},
   "outputs": [],
   "source": [
    "def _nrc(pal_novela):\n",
    "    #print (\"Pal analizada:  \"+pal_novela)\n",
    "    global positive \n",
    "    global negative \n",
    "    global anger  \n",
    "    global fear  \n",
    "    global anticipation \n",
    "    global trust \n",
    "    global surprise \n",
    "    global sadness \n",
    "    global joy  \n",
    "    global disgust\n",
    "    global num_pal \n",
    "    global num_pal_emo \n",
    " \n",
    "    for emoWord in nrc_lexicon:\n",
    "        if emoWord[0] == pal_novela:\n",
    "            num_pal_emo += 1\n",
    "            if emoWord[1] == \"1\":\n",
    "                positive += 1\n",
    "            if emoWord[2] == \"1\":\n",
    "                negative += 1\n",
    "            if emoWord[3] == \"1\":\n",
    "                #print(\"anger\",\" con \", pal_novela)\n",
    "                anger += 1\n",
    "            #if emoWord[4] == \"1\":\n",
    "                #anticipation += 1\n",
    "            if emoWord[5] == \"1\":\n",
    "                #print(\"disgust\",\" con \", pal_novela)\n",
    "                disgust += 1\n",
    "            if emoWord[6] == \"1\":\n",
    "                #print(\"fear\",\" con \", pal_novela)\n",
    "                fear += 1\n",
    "            if emoWord[7] == \"1\":\n",
    "                #print(\"joy\",\" con \", pal_novela)\n",
    "                joy += 1\n",
    "            if emoWord[8] == \"1\":\n",
    "                #print(\"sadness\",\" con \", pal_novela)\n",
    "                sadness += 1\n",
    "            if emoWord[9] == \"1\":\n",
    "                #print(\"surprise\",\" con \", pal_novela)\n",
    "                surprise += 1\n",
    "            #if emoWord[10] == \"1\":\n",
    "                #trust += 1"
   ]
  },
  {
   "cell_type": "markdown",
   "metadata": {},
   "source": [
    "Compila lo siguiente, si vas a cambiar de libro, para que se limpie"
   ]
  },
  {
   "cell_type": "code",
   "execution_count": 8,
   "metadata": {},
   "outputs": [],
   "source": [
    "positive = 0 \n",
    "negative = 0\n",
    "anger = 0 \n",
    "fear = 0 \n",
    "surprise = 0 \n",
    "sadness = 0 \n",
    "joy = 0 \n",
    "disgust = 0\n",
    "num_pal = 0\n",
    "num_pal_emo = 0"
   ]
  },
  {
   "cell_type": "markdown",
   "metadata": {},
   "source": [
    "Leyendo toda el texto"
   ]
  },
  {
   "cell_type": "code",
   "execution_count": 12,
   "metadata": {},
   "outputs": [
    {
     "name": "stdout",
     "output_type": "stream",
     "text": [
      "done...\n"
     ]
    }
   ],
   "source": [
    "stopWords = set(stopwords.words('english'))\n",
    "tokenizer = RegexpTokenizer(r'\\w+')\n",
    "stemmer = SnowballStemmer(\"english\") #improve\n",
    "libro = \"Tales/bones.txt\"\n",
    "f = open(libro, 'r+')\n",
    "linea = f.readline()\n",
    "while linea != \"\":    \n",
    "    if len(linea) > 1:\n",
    "            #print(linea)\n",
    "            tokens = tokenizer.tokenize(linea)\n",
    "            for token in tokens:\n",
    "                token = token.lower()\n",
    "                if not token in stopWords:\n",
    "                    token = stemmer.stem(token)\n",
    "                    if not token.isdigit():\n",
    "                        num_pal += 1 \n",
    "                        _nrc(token)                    \n",
    "        \n",
    "    linea = f.readline()\n",
    "f.close()\n",
    "Palabras_SS = num_pal #Valor necesario para SubSeccion\n",
    "print(\"done...\")"
   ]
  },
  {
   "cell_type": "code",
   "execution_count": 13,
   "metadata": {},
   "outputs": [
    {
     "name": "stdout",
     "output_type": "stream",
     "text": [
      "1036\n",
      "1461\n",
      "1102\n",
      "1945\n",
      "2093\n",
      "769\n"
     ]
    }
   ],
   "source": [
    "print (anger)\n",
    "print (fear)\n",
    "print (surprise)\n",
    "print (sadness)\n",
    "print (joy)\n",
    "print (disgust)"
   ]
  },
  {
   "cell_type": "code",
   "execution_count": 14,
   "metadata": {},
   "outputs": [
    {
     "name": "stdout",
     "output_type": "stream",
     "text": [
      "anger =  1036\n",
      "fear =  1461\n",
      "surprise =  1102\n",
      "sadness =  1945\n",
      "joy =  2093\n",
      "disgust =  769\n",
      "\n",
      "\n",
      "positives =  4100\n",
      "negatives =  3144\n",
      "pal_total =  47559\n"
     ]
    }
   ],
   "source": [
    "print (\"anger = \",anger)\n",
    "print (\"fear = \",fear)\n",
    "print (\"surprise = \",surprise)\n",
    "print (\"sadness = \",sadness)\n",
    "print (\"joy = \",joy)\n",
    "print (\"disgust = \",disgust)\n",
    "print(\"\\n\")\n",
    "print (\"positives = \",positive)\n",
    "print (\"negatives = \",negative)\n",
    "print (\"pal_total = \",num_pal)"
   ]
  },
  {
   "cell_type": "markdown",
   "metadata": {},
   "source": [
    "Calculando Activity score && Joy-Sad de todo el texto"
   ]
  },
  {
   "cell_type": "code",
   "execution_count": 12,
   "metadata": {},
   "outputs": [
    {
     "name": "stdout",
     "output_type": "stream",
     "text": [
      "activity:  0.025\n",
      "joy-sad:  0.0031\n"
     ]
    }
   ],
   "source": [
    "activas = (joy/num_pal + anger/num_pal) \n",
    "pasivas = sadness/num_pal\n",
    "print(\"activity: \",(round(activas-pasivas,3)))\n",
    "print(\"joy-sad: \",round(joy/num_pal - sadness/num_pal,4))"
   ]
  },
  {
   "cell_type": "markdown",
   "metadata": {},
   "source": [
    "Leyendo el texto po subsseciones"
   ]
  },
  {
   "cell_type": "code",
   "execution_count": 15,
   "metadata": {},
   "outputs": [],
   "source": [
    "def read_novel_secction(pal_novela,batch,sections):\n",
    "    global libro\n",
    "    global anger\n",
    "    global fear\n",
    "    global surprise\n",
    "    global sadness \n",
    "    global joy  \n",
    "    global disgust \n",
    "    global num_pal_emo\n",
    "    \n",
    "    num_pal = 0\n",
    "    num_pal_emo = 0\n",
    "    sec = 1\n",
    "    anger = 0 \n",
    "    fear = 0 \n",
    "    surprise = 0 \n",
    "    sadness = 0 \n",
    "    joy = 0  \n",
    "    disgust = 0\n",
    "    \n",
    "    de1 = []\n",
    "    de2 = []\n",
    "    #----\n",
    "    doe = []\n",
    "    dee = []\n",
    "    #----\n",
    "    de2 = []\n",
    "    dee2 = []\n",
    "    #--\n",
    "    anger_points = []\n",
    "    joy_points = []\n",
    "    sadness_points = []\n",
    "    eje_y = []\n",
    "    f = open(libro, 'r+')\n",
    "    linea = f.readline()\n",
    "    while linea != \"\":    \n",
    "        if len(linea) > 1:\n",
    "                tokens = tokenizer.tokenize(linea)\n",
    "                for token in tokens:\n",
    "                    token = token.lower()\n",
    "                    if not token in stopWords:\n",
    "                        token = stemmer.stem(token)\n",
    "                        if not token.isdigit():\n",
    "                            num_pal += 1 \n",
    "                            _nrc(token)  \n",
    "                        if num_pal == batch:\n",
    "                            print(\"--------------\",sec,\" con Batch: \", batch)\n",
    "                            print (\"anger  \",anger)\n",
    "                            print (\"fear  \",fear)\n",
    "                            print (\"surprise  \",surprise)\n",
    "                            print (\"sadness  \",sadness)\n",
    "                            print (\"joy  \",joy)\n",
    "                            print (\"disgust  \",disgust)\n",
    "                            #print (\"emocion  \",num_pal_emo)\n",
    "                            print(\"\\n\")\n",
    "                            #Obteniendo Info sobre densidades\n",
    "                            densidades = []\n",
    "                            densidades.append(anger)\n",
    "                            densidades.append(fear)\n",
    "                            densidades.append(surprise)\n",
    "                            densidades.append(sadness)\n",
    "                            densidades.append(joy)\n",
    "                            densidades.append(disgust)\n",
    "                            \n",
    "                            densidades = sorted(densidades)\n",
    "                            e1 = densidades[len(densidades)-1]\n",
    "                            e2 = densidades[len(densidades)-2]\n",
    "                            oe = num_pal_emo / num_pal\n",
    "                            '''print(\"Info:\")\n",
    "                            print(\"oe\", round(oe,3) )\n",
    "                            print(\"e1-pal\", round(e1 / num_pal,3) )\n",
    "                            print(\"e1-emo\", round(e1 / num_pal_emo,3) )\n",
    "                            print(\"e2-pal\", round(e2 / num_pal,3) )\n",
    "                            print(\"e2-emo\", round(e2 / num_pal_emo,3) )'''\n",
    "                            \n",
    "                            #Añadiendo Densidades\n",
    "                            de1.append(round(e1 / num_pal,3))\n",
    "                            de2.append(round(e2 / num_pal,3))\n",
    "                            \n",
    "                            #Probando otras densidades\n",
    "                            doe.append(round(oe,3))\n",
    "                            dee.append(round(e2 / num_pal_emo,3))\n",
    "                            \n",
    "                            #Densidades Emocion 2\n",
    "                            dee2.append(round(e1 / num_pal_emo,3))\n",
    "                            \n",
    "                            \n",
    "                            #Añadiendo emociones para graficar\n",
    "                            anger_points.append(anger)\n",
    "                            joy_points.append(joy)\n",
    "                            sadness_points.append(sadness)\n",
    "                            eje_y.append(sec)\n",
    "                            \n",
    "                            if sec == sections - 1: #Preguntamos si quedan pal restantes\n",
    "                                batch = pal_novela - (batch * sec)\n",
    "                            \n",
    "                            sec += 1\n",
    "                            #Reiniciando valores\n",
    "                            num_pal = 0\n",
    "                            num_pal_emo = 0\n",
    "                            anger = 0 \n",
    "                            fear = 0 \n",
    "                            surprise = 0 \n",
    "                            sadness = 0 \n",
    "                            joy = 0  \n",
    "                            disgust = 0\n",
    "\n",
    "        linea = f.readline()\n",
    "    #--print(\"Densidades\")\n",
    "    #--print(\"de1 = \",de1)\n",
    "    #--print(\"de2 = \",de2)\n",
    "    #--print(\"doe = \",doe)\n",
    "    plt.plot(eje_y, anger_points, 'r')\n",
    "    plt.plot(eje_y, joy_points, 'g')\n",
    "    plt.plot(eje_y, sadness_points, 'b')\n",
    "    plt.axis([0, 7, 0, 400])\n",
    "    plt.show()\n",
    "    f.close()"
   ]
  },
  {
   "cell_type": "markdown",
   "metadata": {},
   "source": [
    "Obteniendo los datos por subseccion"
   ]
  },
  {
   "cell_type": "code",
   "execution_count": 16,
   "metadata": {},
   "outputs": [
    {
     "name": "stdout",
     "output_type": "stream",
     "text": [
      "Num Pal:  47559\n",
      "7926\n",
      "-------------- 1  con Batch:  7926\n",
      "anger   187\n",
      "fear   269\n",
      "surprise   182\n",
      "sadness   344\n",
      "joy   342\n",
      "disgust   145\n",
      "\n",
      "\n",
      "-------------- 2  con Batch:  7926\n",
      "anger   163\n",
      "fear   226\n",
      "surprise   182\n",
      "sadness   358\n",
      "joy   363\n",
      "disgust   129\n",
      "\n",
      "\n",
      "-------------- 3  con Batch:  7926\n",
      "anger   158\n",
      "fear   259\n",
      "surprise   187\n",
      "sadness   334\n",
      "joy   356\n",
      "disgust   128\n",
      "\n",
      "\n",
      "-------------- 4  con Batch:  7926\n",
      "anger   193\n",
      "fear   219\n",
      "surprise   173\n",
      "sadness   336\n",
      "joy   374\n",
      "disgust   132\n",
      "\n",
      "\n",
      "-------------- 5  con Batch:  7926\n",
      "anger   184\n",
      "fear   255\n",
      "surprise   170\n",
      "sadness   282\n",
      "joy   298\n",
      "disgust   125\n",
      "\n",
      "\n",
      "-------------- 6  con Batch:  7929\n",
      "anger   151\n",
      "fear   233\n",
      "surprise   208\n",
      "sadness   291\n",
      "joy   360\n",
      "disgust   110\n",
      "\n",
      "\n"
     ]
    },
    {
     "data": {
      "image/png": "[encoded data removed]",
      "text/plain": [
       "<Figure size 432x288 with 1 Axes>"
      ]
     },
     "metadata": {},
     "output_type": "display_data"
    },
    {
     "name": "stdout",
     "output_type": "stream",
     "text": [
      "done...\n"
     ]
    }
   ],
   "source": [
    "print(\"Num Pal: \",Palabras_SS)\n",
    "num_secciones = 6\n",
    "batch = floor(Palabras_SS / num_secciones)\n",
    "print(batch)\n",
    "read_novel_secction(Palabras_SS,batch,num_secciones)\n",
    "print(\"done...\")"
   ]
  },
  {
   "cell_type": "code",
   "execution_count": null,
   "metadata": {},
   "outputs": [],
   "source": []
  },
  {
   "cell_type": "code",
   "execution_count": null,
   "metadata": {},
   "outputs": [],
   "source": []
  },
  {
   "cell_type": "code",
   "execution_count": null,
   "metadata": {},
   "outputs": [],
   "source": []
  },
  {
   "cell_type": "code",
   "execution_count": null,
   "metadata": {},
   "outputs": [],
   "source": []
  },
  {
   "cell_type": "code",
   "execution_count": null,
   "metadata": {},
   "outputs": [],
   "source": []
  },
  {
   "cell_type": "code",
   "execution_count": null,
   "metadata": {},
   "outputs": [],
   "source": []
  }
 ],
 "metadata": {
  "kernelspec": {
   "display_name": "Python 3",
   "language": "python",
   "name": "python3"
  },
  "language_info": {
   "codemirror_mode": {
    "name": "ipython",
    "version": 3
   },
   "file_extension": ".py",
   "mimetype": "text/x-python",
   "name": "python",
   "nbconvert_exporter": "python",
   "pygments_lexer": "ipython3",
   "version": "3.6.6"
  }
 },
 "nbformat": 4,
 "nbformat_minor": 2
}
