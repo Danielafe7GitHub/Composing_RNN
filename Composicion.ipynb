{
 "cells": [
  {
   "cell_type": "markdown",
   "metadata": {},
   "source": [
    "Importando Librerías"
   ]
  },
  {
   "cell_type": "code",
   "execution_count": 1,
   "metadata": {},
   "outputs": [],
   "source": [
    "#!/usr/bin/python\n",
    "import random\n",
    "import numpy as np"
   ]
  },
  {
   "cell_type": "markdown",
   "metadata": {},
   "source": [
    "Tempo: A más actividad más tempo"
   ]
  },
  {
   "cell_type": "code",
   "execution_count": 2,
   "metadata": {},
   "outputs": [],
   "source": [
    "#Selección Tempo 100bmp -420bpm\n",
    "def selector_tempo(act):\n",
    "    act = round(act,3)\n",
    "    act_max = 0.07\n",
    "    act_min = 0.006\n",
    "    _tempo = 100 + (((act - act_min) * (420-100)) / (act_max - act_min))\n",
    "    return round(_tempo)"
   ]
  },
  {
   "cell_type": "markdown",
   "metadata": {},
   "source": [
    "Octavas"
   ]
  },
  {
   "cell_type": "code",
   "execution_count": 3,
   "metadata": {},
   "outputs": [],
   "source": [
    "#Selección de Octavas Para las 2 melodías\n",
    "def selector_octavas(pal_alegr,pal_trist,e1,e2,pal_total):\n",
    "    js_max = 0.0375  \n",
    "    js_min = -0.0009 \n",
    "    js = (pal_alegr - pal_trist) / pal_total\n",
    "\n",
    "    _octava  = 4 + round((js - js_min)*(6-4)/(js_max - js_min))\n",
    "\n",
    "    if e1 == \"joy\" or e1 == \"trust\" or e1 == \"sadness\":\n",
    "        _octava_m1 =  _octava + 1\n",
    "    elif e1 == \"anger\" or e1 == \"fear\" or e1 == \"disgust\":\n",
    "        _octava_m1 =  _octava - 1\n",
    "\n",
    "    else:\n",
    "        _octava_m1 = _octava\n",
    "\n",
    "    if e2 == \"joy\" or e2 == \"trust\" or e2 == \"sadness\":\n",
    "        _octava_m2 =  _octava + 1\n",
    "    elif e2 == \"anger\" or e2 == \"fear\" or e2 == \"disgust\":\n",
    "        _octava_m2 =  _octava - 1\n",
    "\n",
    "    else:\n",
    "        _octava_m2 = _octava \n",
    "\n",
    "    return _octava,_octava_m1,_octava_m2"
   ]
  },
  {
   "cell_type": "markdown",
   "metadata": {},
   "source": [
    "Pitch Countour"
   ]
  },
  {
   "cell_type": "code",
   "execution_count": 4,
   "metadata": {},
   "outputs": [],
   "source": [
    "def pitch_countour(positives,negatives):\n",
    "    ratio = positives / negatives\n",
    "    if ratio > 1:\n",
    "        return 0\n",
    "    else:\n",
    "        return 1"
   ]
  },
  {
   "cell_type": "markdown",
   "metadata": {},
   "source": [
    "Escalas Gregorianas en Modalidad (key) C"
   ]
  },
  {
   "cell_type": "code",
   "execution_count": 5,
   "metadata": {},
   "outputs": [],
   "source": [
    "#El Modo Jónico (I)\n",
    "jonico =  [\"C\",\"D\",\"E\",\"F\",\"G\",\"A\",\"B\"] \n",
    "#El Modo Dórico (II)\n",
    "dorico =  [\"C\",\"D\",\"Eb\",\"F\",\"G\",\"A\",\"Bb\"] \n",
    "#El Modo Frigo (III)\n",
    "frigio =  [\"C\",\"Db\",\"Eb\",\"F\",\"G\",\"Ab\",\"Bb\"] \n",
    "#El Modo Lidio (IV)\n",
    "lidio =  [\"C\",\"D\",\"E\",\"F#\",\"G\",\"A\",\"B\"] \n",
    "#El Modo Mixolidio (V)\n",
    "mixolidio =  [\"C\",\"D\",\"E\",\"F\",\"G\",\"A\",\"Bb\"] \n",
    "#El Modo Eólico (VI)\n",
    "eolico =  [\"C\",\"D\",\"Eb\",\"F\",\"G\",\"Ab\",\"Bb\"] \n",
    "#El Modo Locrio (VII)\n",
    "locrio =  [\"C\",\"Db\",\"Eb\",\"F\",\"Gb\",\"Ab\",\"Bb\"] "
   ]
  },
  {
   "cell_type": "markdown",
   "metadata": {},
   "source": [
    "Escalas Mayores"
   ]
  },
  {
   "cell_type": "code",
   "execution_count": 6,
   "metadata": {},
   "outputs": [],
   "source": [
    "Amaj = [\"A\",\"B\",\"C#\",\"D\",\"E\",\"F#\",\"G#\"] \n",
    "Bmaj = [\"B\",\"C#\",\"D#\",\"E\",\"F#\",\"G#\",\"A#\"] \n",
    "Cmaj = [\"C\",\"D\",\"E\",\"F\",\"G\",\"A\",\"B\"] \n",
    "Dmaj = [\"D\",\"E\",\"F#\",\"G\",\"A\",\"B\",\"C#\"] \n",
    "Emaj = [\"E\",\"F#\",\"G#\",\"A\",\"B\",\"C#\",\"D#\"] \n",
    "Fmaj = [\"F\",\"G\",\"A\",\"Bb\",\"C\",\"D\",\"E\"] \n",
    "Gmaj = [\"G\",\"A\",\"B\",\"C\",\"D\",\"E\",\"F#\"] "
   ]
  },
  {
   "cell_type": "markdown",
   "metadata": {},
   "source": [
    "Escalas Menores"
   ]
  },
  {
   "cell_type": "code",
   "execution_count": 7,
   "metadata": {},
   "outputs": [],
   "source": [
    "Amin = [\"A\",\"B\",\"C\",\"D\",\"E\",\"F\",\"G\"] \n",
    "Bmin = [\"B\",\"C#\",\"D\",\"E\",\"F#\",\"G\",\"A\"] \n",
    "Cmin = [\"C\",\"D\",\"Eb\",\"F\",\"G\",\"Ab\",\"Bb\"] \n",
    "Dmin = [\"D\",\"E\",\"F\",\"G\",\"A\",\"Bb\",\"C\"] \n",
    "Emin = [\"E\",\"F#\",\"G\",\"A\",\"B\",\"C\",\"D\"] \n",
    "Fmin = [\"F\",\"G\",\"Ab\",\"Bb\",\"C\",\"Db\",\"Eb\"] \n",
    "Gmin = [\"G\",\"A\",\"Bb\",\"C\",\"D\",\"Eb\",\"F\"] "
   ]
  },
  {
   "cell_type": "markdown",
   "metadata": {},
   "source": [
    "Seleccionando Escala "
   ]
  },
  {
   "cell_type": "code",
   "execution_count": 33,
   "metadata": {},
   "outputs": [],
   "source": [
    "def selector_escala(e):\n",
    "    escala = []\n",
    "    if e == \"joy\":\n",
    "        escala = jonico\n",
    "    elif e == \"sadness\":\n",
    "        escala = Cmin\n",
    "    elif e == \"anger\":\n",
    "        escala = frigio\n",
    "    elif e == \"disgust\":\n",
    "        escala = Gmin\n",
    "    elif e == \"fear\":\n",
    "        escala = Dmin \n",
    "    elif e == \"surprise\":\n",
    "        escala = lidio\n",
    "    return escala"
   ]
  },
  {
   "cell_type": "markdown",
   "metadata": {},
   "source": [
    "The Markov matrix in the Harmony Module"
   ]
  },
  {
   "cell_type": "code",
   "execution_count": 34,
   "metadata": {},
   "outputs": [],
   "source": [
    "Markov_Matrix = [[0,       0.05,   0.07,   0.35,   0.35,   0.08,   0.1],\n",
    "                 [0.05,    0,      0.05,   0.15,   0.55,   0.2,    0],\n",
    "                 [0,       0.07,   0,      0.21,   0.07,    0.65,   0],\n",
    "                 [0.15,    0.15,   0.05,   0,      0.6,    0.05,   0],\n",
    "                 [0.64,    0.05,   0.05,   0.13,   0,      0.13,   0],\n",
    "                 [0.06,    0.35,   0.12,   0.12,   0.35,   0,      0],\n",
    "                 [1,       0,      0,      0,      0,      0,      0]]"
   ]
  },
  {
   "cell_type": "markdown",
   "metadata": {},
   "source": [
    "Progresión de Acordes: En base a las probabilidades"
   ]
  },
  {
   "cell_type": "code",
   "execution_count": 35,
   "metadata": {},
   "outputs": [],
   "source": [
    "def progresion(num_bars,e):\n",
    "    pos = random.randint(0,2)\n",
    "    grado = Markov_Matrix[pos]\n",
    "    prog = []\n",
    "    for i in range (0,num_bars):\n",
    "        prog.append(pos)\n",
    "        pos = np.random.choice(np.arange(0, 7), p=grado)\n",
    "        grado = Markov_Matrix[pos]\n",
    "    return prog"
   ]
  },
  {
   "cell_type": "markdown",
   "metadata": {},
   "source": [
    "Construyendo Progresion de Acordes"
   ]
  },
  {
   "cell_type": "code",
   "execution_count": 36,
   "metadata": {},
   "outputs": [],
   "source": [
    "def acordes(escala,num_bars,e):\n",
    "    prog = progresion(num_bars,e)\n",
    "    values = []\n",
    "    chords = []\n",
    "    for chord in prog:\n",
    "        values.append(escala[(chord)% 7])     #Nota base\n",
    "        values.append(escala[(chord + 2) % 7]) #Su tercera\n",
    "        values.append(escala[(chord + 4) % 7]) #Su quinta\n",
    "        chords.append(values)\n",
    "        values = []\n",
    "    return chords"
   ]
  },
  {
   "cell_type": "markdown",
   "metadata": {},
   "source": [
    "Limitando Ritmos"
   ]
  },
  {
   "cell_type": "code",
   "execution_count": 64,
   "metadata": {},
   "outputs": [],
   "source": [
    "def ritmo_values(e):\n",
    "    duracion_1 = [1]   \n",
    "    duracion_2 = [0.5,0.5]  \n",
    "    duracion_3 = [0.25,0.25,0.25,0.25]\n",
    "    duracion_4 = [0.125,0.125,0.125,0.125,0.125,0.125,0.125,0.125]\n",
    "    duracion_5 = [0.5,0.5]\n",
    "    return duracion_1,duracion_2,duracion_3,duracion_4,duracion_5"
   ]
  },
  {
   "cell_type": "markdown",
   "metadata": {},
   "source": [
    "Módulo del Ritmo"
   ]
  },
  {
   "cell_type": "code",
   "execution_count": 51,
   "metadata": {},
   "outputs": [],
   "source": [
    "time_signature = 4\n",
    "def ritmo(densidades,e):\n",
    "    num_secciones = len(densidades)\n",
    "    duracion_1,duracion_2,duracion_3,duracion_4,duracion_5 = ritmo_values(e)\n",
    "    measure = []\n",
    "    patron_ritmo = []\n",
    "    for i in range (0,num_secciones):\n",
    "        if densidades[i] == 1:\n",
    "            measure = (duracion_1)\n",
    "        elif densidades[i] == 2:\n",
    "            measure = (duracion_2)\n",
    "        elif densidades[i] == 3:\n",
    "             measure = (duracion_3)\n",
    "        elif densidades[i] == 4:\n",
    "             measure = (duracion_4)\n",
    "        elif densidades[i] == 5:\n",
    "             measure = (duracion_5)\n",
    "        patron_ritmo.append(measure)\n",
    "        assert (np.sum(measure) == 1)\n",
    "        measure = []\n",
    "    return patron_ritmo"
   ]
  },
  {
   "cell_type": "markdown",
   "metadata": {},
   "source": [
    "Módulo Melodía :Ponemos notas a al patrón de ritmo"
   ]
  },
  {
   "cell_type": "code",
   "execution_count": 52,
   "metadata": {
    "scrolled": true
   },
   "outputs": [],
   "source": [
    "def melodia(patron_ritmo,acordes,pitch_contour,escala):\n",
    "    pitch = []\n",
    "    patron_melodia = []\n",
    "    it = 0\n",
    "    r = random.randint(0,2)\n",
    "    for measure in patron_ritmo:\n",
    "        pitch.append(acordes[it][0])       \n",
    "        if len(measure) > 1:\n",
    "            for nota in range (1,len(measure)):\n",
    "                if measure[nota] > 0.125: #change\n",
    "                     pitch.append(acordes[it][r]) #random\n",
    "                else:\n",
    "                    if pitch_contour == 0: \n",
    "                        pitch.append(escala[(escala.index(pitch[nota-1]) + 1) % 7])\n",
    "                    else: \n",
    "                        pitch.append(escala[(escala.index(pitch[nota-1]) - 1) % 7])\n",
    "        it += 1\n",
    "        patron_melodia.append(pitch)\n",
    "        pitch = []\n",
    "    return  patron_melodia"
   ]
  },
  {
   "cell_type": "markdown",
   "metadata": {},
   "source": [
    "Split Densidades"
   ]
  },
  {
   "cell_type": "code",
   "execution_count": 53,
   "metadata": {},
   "outputs": [],
   "source": [
    "def split_densities(densidad):\n",
    "    split = []\n",
    "    desplazamiento = (max(densidad) - min(densidad)) / 5\n",
    "    for seccion_densidad in densidad: \n",
    "        flag = 0\n",
    "        tmp1 =  min(densidad)\n",
    "        tmp2 =  min(densidad) + desplazamiento\n",
    "        if flag != 1 and seccion_densidad >= tmp1 and seccion_densidad < tmp2:\n",
    "            split.append(1) \n",
    "            flag = 1\n",
    "        else:\n",
    "            tmp1 = tmp2 + desplazamiento\n",
    "        if flag != 1 and seccion_densidad >= tmp2 and seccion_densidad < tmp1:\n",
    "            split.append(2)\n",
    "            flag = 1\n",
    "        else:\n",
    "            tmp2 = tmp1 + desplazamiento\n",
    "        if flag != 1 and seccion_densidad >= tmp1 and seccion_densidad < tmp2:\n",
    "            split.append(3)\n",
    "            flag = 1\n",
    "        else:\n",
    "            tmp1 = tmp2 + desplazamiento\n",
    "        if flag != 1 and seccion_densidad >= tmp2 and seccion_densidad < tmp1:\n",
    "            split.append(4)\n",
    "            flag = 1\n",
    "        else:\n",
    "            tmp2 = tmp1 + desplazamiento\n",
    "        if flag != 1 and seccion_densidad >= tmp1 and seccion_densidad <= max(densidad): #No 100 el des encaja\n",
    "            split.append(5)\n",
    "            flag = 1\n",
    "    return split"
   ]
  },
  {
   "cell_type": "markdown",
   "metadata": {},
   "source": [
    "Unimos Todo: Mano izquierda: Acordes y Mano derecha: Melodía"
   ]
  },
  {
   "cell_type": "code",
   "execution_count": 54,
   "metadata": {},
   "outputs": [],
   "source": [
    "def modelo(patron_melodia,patron_ritmo,escala,octava,tempo,voz,acordes):\n",
    "    output = \"\"\n",
    "    measure = \"\"\n",
    "    bar = \"\"\n",
    "    chords = \"\"\n",
    "    c = \"\"\n",
    "    output += escala + \"  \"\n",
    "    output += \"V\"+str(voz) + \" \"\n",
    "    output += \"T\" + str(tempo) + \" \"\n",
    "    \n",
    "    #Mano izquiera\n",
    "    for triada in acordes:\n",
    "        for nota in triada:\n",
    "            c += nota + str(octava) + \"/1\" + '+'\n",
    "        c = c[:-1]\n",
    "        chords += c + \"  \"\n",
    "        c = \"\"\n",
    "    #Mano Derecha\n",
    "    for melodia,ritmo in zip(patron_melodia,patron_ritmo):\n",
    "        for nota,tiempo in zip(melodia,ritmo):\n",
    "            measure += nota + str(octava) + \"/\" + str(tiempo) + \"   \" \n",
    "        bar += str(measure) + str(measure) \n",
    "        measure = \"\"\n",
    "\n",
    "    right_hand = output + bar\n",
    "    left_hand = output + chords\n",
    "    ##print(left_hand) \n",
    "    print(right_hand) \n",
    "    return right_hand,left_hand"
   ]
  },
  {
   "cell_type": "markdown",
   "metadata": {},
   "source": [
    "Obtención de emociones del Texto"
   ]
  },
  {
   "cell_type": "code",
   "execution_count": 65,
   "metadata": {},
   "outputs": [],
   "source": [
    "anger =  1235\n",
    "fear =  1410\n",
    "surprise =  1071\n",
    "sadness =  1255\n",
    "joy =  1406\n",
    "disgust =  855\n",
    "\n",
    "\n",
    "positives =  3310\n",
    "negatives =  2806\n",
    "pal_total =  51239"
   ]
  },
  {
   "cell_type": "markdown",
   "metadata": {},
   "source": [
    "Emociones Predominates en el Texto"
   ]
  },
  {
   "cell_type": "code",
   "execution_count": 66,
   "metadata": {},
   "outputs": [],
   "source": [
    "e1 = \"fear\"\n",
    "e2 = \"joy\""
   ]
  },
  {
   "cell_type": "markdown",
   "metadata": {},
   "source": [
    "Calculando valores adicionales del Libro"
   ]
  },
  {
   "cell_type": "code",
   "execution_count": 67,
   "metadata": {},
   "outputs": [],
   "source": [
    "activas = (joy/pal_total + anger/pal_total) \n",
    "pasivas = sadness/pal_total\n",
    "act = (activas - pasivas)"
   ]
  },
  {
   "cell_type": "markdown",
   "metadata": {},
   "source": [
    "Inicialización de Valores"
   ]
  },
  {
   "cell_type": "code",
   "execution_count": 68,
   "metadata": {},
   "outputs": [
    {
     "name": "stdout",
     "output_type": "stream",
     "text": [
      "Tempo:  205\n",
      "Octava oe:  4  Octava e1:  3  Octava e2:  4\n",
      "Escala:  ['D', 'E', 'F', 'G', 'A', 'Bb', 'C']\n"
     ]
    }
   ],
   "source": [
    "tempo = selector_tempo(act)\n",
    "o,o1,o2 = selector_octavas(joy,sadness,e1,e2,pal_total)\n",
    "o2 = o1 + 1\n",
    "pitch = pitch_countour(positives,negatives)\n",
    "escala = selector_escala(e1)\n",
    "chords = acordes(escala,8,e1)\n",
    "print(\"Tempo: \",tempo)\n",
    "print(\"Octava oe: \",o,\" Octava e1: \",o1, \" Octava e2: \",o2)\n",
    "print(\"Escala: \",escala)"
   ]
  },
  {
   "cell_type": "markdown",
   "metadata": {},
   "source": [
    "Evaluando Densidades"
   ]
  },
  {
   "cell_type": "code",
   "execution_count": 69,
   "metadata": {
    "scrolled": true
   },
   "outputs": [
    {
     "name": "stdout",
     "output_type": "stream",
     "text": [
      "[2, 2, 3, 5, 1, 5, 3, 2]\n",
      "[1, 2, 3, 2, 1, 5, 4, 2]\n",
      "[5, 5, 3, 5, 2, 1, 1, 4]\n"
     ]
    }
   ],
   "source": [
    "de1 =  [0.028, 0.027, 0.03, 0.033, 0.025, 0.034, 0.03, 0.027]\n",
    "de2 =  [0.024, 0.025, 0.029, 0.026, 0.023, 0.033, 0.03, 0.026]\n",
    "doe =  [0.425, 0.424, 0.402, 0.419, 0.396, 0.388, 0.386, 0.415]\n",
    "densidad1 = split_densities(de1)\n",
    "densidad2 = split_densities(de2)\n",
    "densidad3 = split_densities(doe)\n",
    "\n",
    "print(densidad1)\n",
    "print(densidad2)\n",
    "print(densidad3)\n",
    "\n",
    "\n",
    "patron_ritmo = ritmo(densidad1,e1)\n",
    "patron_melodia = melodia(patron_ritmo,chords,pitch,escala)\n",
    "\n",
    "patron_ritmo2 = ritmo(densidad2,e1) #e2?\n",
    "patron_melodia2 = melodia(patron_ritmo2,chords,pitch,escala)\n",
    "\n",
    "patron_ritmo3 = ritmo(densidad3,e1)\n",
    "patron_melodia3 = melodia(patron_ritmo3,chords,pitch,escala)"
   ]
  },
  {
   "cell_type": "markdown",
   "metadata": {},
   "source": [
    "Generación de Melodía (e1) "
   ]
  },
  {
   "cell_type": "code",
   "execution_count": 70,
   "metadata": {},
   "outputs": [
    {
     "name": "stdout",
     "output_type": "stream",
     "text": [
      "  V0 T205 F3/0.5   C3/0.5   F3/0.5   C3/0.5   Bb3/0.5   F3/0.5   Bb3/0.5   F3/0.5   G3/0.25   D3/0.25   D3/0.25   D3/0.25   G3/0.25   D3/0.25   D3/0.25   D3/0.25   A3/0.5   E3/0.5   A3/0.5   E3/0.5   D3/1   D3/1   Bb3/0.5   F3/0.5   Bb3/0.5   F3/0.5   A3/0.25   E3/0.25   E3/0.25   E3/0.25   A3/0.25   E3/0.25   E3/0.25   E3/0.25   D3/0.5   A3/0.5   D3/0.5   A3/0.5   \n"
     ]
    }
   ],
   "source": [
    "right_hand,left_hand = modelo(patron_melodia,patron_ritmo,\"\",o1,tempo,0,chords)"
   ]
  },
  {
   "cell_type": "markdown",
   "metadata": {},
   "source": [
    "Generación de Melodía (e2) "
   ]
  },
  {
   "cell_type": "code",
   "execution_count": 71,
   "metadata": {},
   "outputs": [
    {
     "name": "stdout",
     "output_type": "stream",
     "text": [
      "  V1 T205 F4/1   F4/1   Bb4/0.5   F4/0.5   Bb4/0.5   F4/0.5   G4/0.25   D4/0.25   D4/0.25   D4/0.25   G4/0.25   D4/0.25   D4/0.25   D4/0.25   A4/0.5   E4/0.5   A4/0.5   E4/0.5   D4/1   D4/1   Bb4/0.5   F4/0.5   Bb4/0.5   F4/0.5   A4/0.125   Bb4/0.125   C4/0.125   D4/0.125   E4/0.125   F4/0.125   G4/0.125   A4/0.125   A4/0.125   Bb4/0.125   C4/0.125   D4/0.125   E4/0.125   F4/0.125   G4/0.125   A4/0.125   D4/0.5   A4/0.5   D4/0.5   A4/0.5   \n"
     ]
    }
   ],
   "source": [
    "right_hand,left_hand = modelo(patron_melodia2,patron_ritmo2,\"\",o2,tempo,1,chords)"
   ]
  },
  {
   "cell_type": "markdown",
   "metadata": {},
   "source": [
    "Generación de Melodía (oe) "
   ]
  },
  {
   "cell_type": "code",
   "execution_count": 72,
   "metadata": {
    "scrolled": true
   },
   "outputs": [
    {
     "name": "stdout",
     "output_type": "stream",
     "text": [
      "  V2 T205 F4/0.5   C4/0.5   F4/0.5   C4/0.5   Bb4/0.5   F4/0.5   Bb4/0.5   F4/0.5   G4/0.25   D4/0.25   D4/0.25   D4/0.25   G4/0.25   D4/0.25   D4/0.25   D4/0.25   A4/0.5   E4/0.5   A4/0.5   E4/0.5   D4/0.5   A4/0.5   D4/0.5   A4/0.5   Bb4/1   Bb4/1   A4/1   A4/1   D4/0.125   E4/0.125   F4/0.125   G4/0.125   A4/0.125   Bb4/0.125   C4/0.125   D4/0.125   D4/0.125   E4/0.125   F4/0.125   G4/0.125   A4/0.125   Bb4/0.125   C4/0.125   D4/0.125   \n"
     ]
    }
   ],
   "source": [
    "right_hand,left_hand = modelo(patron_melodia3,patron_ritmo3,\"\",o,tempo,2,chords)"
   ]
  },
  {
   "cell_type": "markdown",
   "metadata": {},
   "source": [
    "Melodía (2)"
   ]
  },
  {
   "cell_type": "code",
   "execution_count": 63,
   "metadata": {},
   "outputs": [
    {
     "name": "stdout",
     "output_type": "stream",
     "text": [
      "['C', 'D', 'Eb', 'F', 'G', 'Ab', 'Bb']\n"
     ]
    }
   ],
   "source": [
    "print(escala)"
   ]
  },
  {
   "cell_type": "code",
   "execution_count": null,
   "metadata": {},
   "outputs": [],
   "source": []
  },
  {
   "cell_type": "code",
   "execution_count": null,
   "metadata": {},
   "outputs": [],
   "source": []
  },
  {
   "cell_type": "code",
   "execution_count": null,
   "metadata": {},
   "outputs": [],
   "source": [
    "CAMBIA TUS RITMOS . MUY BIEN PARA :) PERO NO PARA :( LIMITALOSSS\n",
    "arregla ese tempo !!!!\n",
    "Arreglar distribucion . Analizar densidades limpiando lematizando todito :)    \n",
    "Si termina en 8 0 16 . aumentar un measure mas con 1 o un acorde \n",
    "Limpia el texto y si densidadades con respecto a num plab o a la cant de emociones OK.\n",
    "cambiar valores del tempo y octavas por los nuestros :)\n",
    "Se divide el texto en secciones.\n",
    "De cada seccion calcular . Cuántas palabras hay con e1 e2\n",
    "Tendrás un array [20 10 40 50 ... 80]\n",
    "Si el número es > entonces, más densidad de notas, porque hay más de esa emoción en dicha seccio\n",
    "ver ideas cel\n",
    "\n",
    "\n",
    "Coautor?\n",
    "Aleatorios :(\n",
    "Validar?\n",
    "Postcom\n",
    "Publicar\n",
    "    andre carlos ponde de leom carballo U sao paulo"
   ]
  }
 ],
 "metadata": {
  "kernelspec": {
   "display_name": "Python 3",
   "language": "python",
   "name": "python3"
  },
  "language_info": {
   "codemirror_mode": {
    "name": "ipython",
    "version": 3
   },
   "file_extension": ".py",
   "mimetype": "text/x-python",
   "name": "python",
   "nbconvert_exporter": "python",
   "pygments_lexer": "ipython3",
   "version": "3.6.5"
  }
 },
 "nbformat": 4,
 "nbformat_minor": 2
}
