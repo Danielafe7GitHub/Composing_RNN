{
 "cells": [
  {
   "cell_type": "code",
   "execution_count": 1,
   "metadata": {},
   "outputs": [],
   "source": [
    "#!/usr/bin/python\n",
    "import nltk\n",
    "import numpy as np\n",
    "import re\n",
    "import tensorflow as tf\n",
    "from nltk.corpus import stopwords\n",
    "from nltk.tokenize import WordPunctTokenizer\n",
    "from random import randint\n",
    "from sklearn.model_selection import train_test_split\n",
    "import random\n",
    "import pandas as pd\n",
    "import itertools\n",
    "from nltk.stem.wordnet import WordNetLemmatizer \n",
    "from collections import namedtuple\n",
    "from collections import defaultdict\n",
    "from tqdm import tqdm\n",
    "from sklearn.metrics import precision_score\n",
    "from sklearn.metrics import f1_score\n",
    "from sklearn.metrics import recall_score\n",
    "from sklearn.metrics import classification_report"
   ]
  },
  {
   "cell_type": "markdown",
   "metadata": {},
   "source": [
    "Importing Glove and  40000 words list "
   ]
  },
  {
   "cell_type": "code",
   "execution_count": 2,
   "metadata": {},
   "outputs": [
    {
     "name": "stdout",
     "output_type": "stream",
     "text": [
      "Loaded the word list!\n",
      "Loaded the word vectors!\n",
      "400000\n",
      "(400000, 50)\n",
      "closure\n",
      "[ 0.50653   0.12284  -0.11653  -0.21052  -1.0672   -0.17536   0.16253\n",
      "  0.76781   0.25517  -0.15995   0.025424 -0.65425  -0.44638  -0.19395\n",
      "  0.45319   1.0955    0.050096 -0.36712   0.1729    0.28393   0.85448\n",
      " -0.54932  -1.1816    0.066158 -0.58561  -0.84893   0.1947    0.37832\n",
      "  0.94141   0.62982   2.3869   -0.41035  -0.11599   0.049907 -0.41563\n",
      " -0.056999  1.5044   -0.93772  -0.16045   0.80019  -0.44448  -0.50036\n",
      "  0.065875  0.27778  -0.27505  -0.012317 -0.37458   0.49171  -0.35498\n",
      "  0.035347]\n"
     ]
    }
   ],
   "source": [
    "wordsList = np.load('wordsList.npy')\n",
    "print('Loaded the word list!')\n",
    "wordsList = wordsList.tolist() #Originally loaded as numpy array\n",
    "wordsList = [word.decode('UTF-8') for word in wordsList] #Encode words as UTF-8\n",
    "wordVectors = np.load('wordVectors.npy')\n",
    "print ('Loaded the word vectors!')\n",
    "print(len(wordsList))\n",
    "print(wordVectors.shape)\n",
    "print(wordsList[5066])\n",
    "print(wordVectors[5066][:])"
   ]
  },
  {
   "cell_type": "markdown",
   "metadata": {},
   "source": [
    "Importing the Dataset "
   ]
  },
  {
   "cell_type": "code",
   "execution_count": 3,
   "metadata": {},
   "outputs": [
    {
     "name": "stdout",
     "output_type": "stream",
     "text": [
      "anger   How the fu*k! Who the heck! moved my fridge!... should I knock the landlord door. #angry #mad ##\n",
      "Labels:  3960 Sentences:  3960\n"
     ]
    }
   ],
   "source": [
    "#--------------------Extracting Emotion && sentences from corpus\n",
    "def extract(dataset):\n",
    "    f = open(dataset, 'r+', encoding='utf-8')\n",
    "    linea = f.readline()\n",
    "    emotion = []\n",
    "    sentences = []\n",
    "    neutro = re.compile('^ne')\n",
    "    while linea != \"\":    \n",
    "        #Ignoramos Neutro emotions\n",
    "        if not re.match(neutro, linea):\n",
    "            #print(\"** \",linea)\n",
    "            linea = linea.split(\"**@**\")\n",
    "            #Obtaining the emocion\n",
    "            emotion.append(linea[2])\n",
    "            sentences.append(linea[1])\n",
    "        linea = f.readline()\n",
    "    f.close()\n",
    "    return sentences,emotion\n",
    "\n",
    "dataset = \"TwitterDataset/Train/train_valid.txt\"\n",
    "sentences,emotions = extract(dataset)\n",
    "print(emotions[0],\" \",sentences[0])\n",
    "print(\"Labels: \",len(emotions), \"Sentences: \",len(sentences))"
   ]
  },
  {
   "cell_type": "code",
   "execution_count": 4,
   "metadata": {},
   "outputs": [],
   "source": [
    "import csv\n",
    "with open('TwitterDataset/Train/train_valid.csv', mode='w', encoding='utf-8') as emo_file:\n",
    "    emo_writer = csv.writer(emo_file, delimiter=',', quotechar='\"', quoting=csv.QUOTE_MINIMAL)\n",
    "    emo_writer.writerow(['Emotion', 'Sentence'])\n",
    "    for i in range(0,len(emotions)):\n",
    "        emo_writer.writerow([emotions[i],sentences[i]])"
   ]
  },
  {
   "cell_type": "code",
   "execution_count": 5,
   "metadata": {},
   "outputs": [
    {
     "data": {
      "text/html": [
       "<div>\n",
       "<style scoped>\n",
       "    .dataframe tbody tr th:only-of-type {\n",
       "        vertical-align: middle;\n",
       "    }\n",
       "\n",
       "    .dataframe tbody tr th {\n",
       "        vertical-align: top;\n",
       "    }\n",
       "\n",
       "    .dataframe thead th {\n",
       "        text-align: right;\n",
       "    }\n",
       "</style>\n",
       "<table border=\"1\" class=\"dataframe\">\n",
       "  <thead>\n",
       "    <tr style=\"text-align: right;\">\n",
       "      <th></th>\n",
       "      <th>Emotion</th>\n",
       "      <th>Sentence</th>\n",
       "    </tr>\n",
       "  </thead>\n",
       "  <tbody>\n",
       "    <tr>\n",
       "      <th>0</th>\n",
       "      <td>anger</td>\n",
       "      <td>How the fu*k! Who the heck! moved my fridge!.....</td>\n",
       "    </tr>\n",
       "    <tr>\n",
       "      <th>1</th>\n",
       "      <td>anger</td>\n",
       "      <td>So my Indian Uber driver just called someone t...</td>\n",
       "    </tr>\n",
       "    <tr>\n",
       "      <th>2</th>\n",
       "      <td>anger</td>\n",
       "      <td>@DPD_UK I asked for my parcel to be delivered ...</td>\n",
       "    </tr>\n",
       "    <tr>\n",
       "      <th>3</th>\n",
       "      <td>anger</td>\n",
       "      <td>so ef whichever butt wipe pulled the fire alar...</td>\n",
       "    </tr>\n",
       "    <tr>\n",
       "      <th>4</th>\n",
       "      <td>anger</td>\n",
       "      <td>Don't join @BTCare they put the phone down on ...</td>\n",
       "    </tr>\n",
       "  </tbody>\n",
       "</table>\n",
       "</div>"
      ],
      "text/plain": [
       "  Emotion                                           Sentence\n",
       "0   anger  How the fu*k! Who the heck! moved my fridge!.....\n",
       "1   anger  So my Indian Uber driver just called someone t...\n",
       "2   anger  @DPD_UK I asked for my parcel to be delivered ...\n",
       "3   anger  so ef whichever butt wipe pulled the fire alar...\n",
       "4   anger  Don't join @BTCare they put the phone down on ..."
      ]
     },
     "execution_count": 5,
     "metadata": {},
     "output_type": "execute_result"
    }
   ],
   "source": [
    "train = pd.read_csv(\"TwitterDataset/Train/train_valid.csv\", delimiter=\",\")\n",
    "train.head()"
   ]
  },
  {
   "cell_type": "markdown",
   "metadata": {},
   "source": [
    "Cuánto hay de cada emoción"
   ]
  },
  {
   "cell_type": "code",
   "execution_count": 6,
   "metadata": {},
   "outputs": [
    {
     "data": {
      "image/png": "[encoded data removed]",
      "text/plain": [
       "<Figure size 432x288 with 1 Axes>"
      ]
     },
     "metadata": {},
     "output_type": "display_data"
    }
   ],
   "source": [
    "import matplotlib.pyplot as plt\n",
    "import collections\n",
    "%matplotlib inline\n",
    "def histograma(emotion):\n",
    "    #print(emotion)\n",
    "    plt.hist(emotion, 50)\n",
    "    plt.xlabel('Emotion')\n",
    "    plt.ylabel('Frequency')\n",
    "    plt.axis([0, 4, 0, 1400])\n",
    "    plt.show()\n",
    "histograma(emotions)"
   ]
  },
  {
   "cell_type": "markdown",
   "metadata": {},
   "source": [
    "Preprocesing of Sentences"
   ]
  },
  {
   "cell_type": "code",
   "execution_count": 7,
   "metadata": {},
   "outputs": [],
   "source": [
    "def decontracted(phrase):\n",
    "    # specific\n",
    "    '''phrase = re.sub(r\"won't\", \"will not\", phrase)\n",
    "    phrase = re.sub(r\"can\\'t\", \"can not\", phrase)'''\n",
    "\n",
    "    if phrase == \"t\":\n",
    "        phrase = \"not\"\n",
    "    elif phrase == \"re\":\n",
    "        phrase = \"are\"\n",
    "    elif phrase == \"s\":\n",
    "        phrase = \"is\"\n",
    "    elif phrase == \"d\":\n",
    "        phrase = \"would\"\n",
    "    elif phrase == \"ve\":\n",
    "        phrase = \"have\"\n",
    "    elif phrase == \"m\":\n",
    "        phrase = \"am\"\n",
    "    elif phrase == \"ca\":\n",
    "        phrase = \"can\"\n",
    "    elif phrase == \"isn\":\n",
    "        phrase = \"is\"\n",
    "    elif phrase == \"aren\":\n",
    "        phrase = \"are\"\n",
    "    elif phrase == \"wouldn\":\n",
    "        phrase = \"would\"\n",
    "    elif phrase == \"don\":\n",
    "        phrase = \"do\"\n",
    "    elif phrase == \"wasn\":\n",
    "        phrase = \"was\"\n",
    "    elif phrase == \"weren\":\n",
    "        phrase = \"were\"\n",
    "\n",
    "    # general\n",
    "    '''phrase = re.sub(r\"n\\'t\", \" not\", phrase)\n",
    "    phrase = re.sub(r\"\\'re\", \" are\", phrase)\n",
    "    phrase = re.sub(r\"\\'s\", \" is\", phrase)\n",
    "    phrase = re.sub(r\"\\'d\", \" would\", phrase)\n",
    "    phrase = re.sub(r\"\\'ll\", \" will\", phrase)\n",
    "    phrase = re.sub(r\"\\'t\", \" not\", phrase)\n",
    "    phrase = re.sub(r\"\\'ve\", \" have\", phrase)\n",
    "    phrase = re.sub(r\"\\'m\", \" am\", phrase)'''\n",
    "    return phrase"
   ]
  },
  {
   "cell_type": "code",
   "execution_count": 8,
   "metadata": {},
   "outputs": [],
   "source": [
    "def translator(user_string):\n",
    "    user_string = user_string.lower()\n",
    "    user_string = WordPunctTokenizer().tokenize(user_string)\n",
    "    j = 0\n",
    "    for _str in user_string:\n",
    "        # File path which consists of Abbreviations.\n",
    "        fileName = \"TwitterDataset/slang.txt\"\n",
    "        # File Access mode [Read Mode]\n",
    "        accessMode = \"r\"\n",
    "        with open(fileName, accessMode) as myCSVfile:\n",
    "            # Reading file as CSV with delimiter as \"=\", so that abbreviation are stored in row[0] and phrases in row[1]\n",
    "            dataFromFile = csv.reader(myCSVfile, delimiter=\"=\")\n",
    "            # Removing Special Characters.\n",
    "            _str = re.sub('[^a-zA-Z0-9-_.]', '', _str)\n",
    "            for row in dataFromFile:\n",
    "                # Check if selected word matches short forms[LHS] in text file.\n",
    "                if _str.upper() == row[0]:\n",
    "                    # If match found replace it with its Abbreviation in text file.\n",
    "                    user_string[j] = row[1].lower()\n",
    "            myCSVfile.close()\n",
    "        j = j + 1\n",
    "    return user_string"
   ]
  },
  {
   "cell_type": "code",
   "execution_count": 9,
   "metadata": {},
   "outputs": [],
   "source": [
    "#----------------Cleanning Sentences--------------\n",
    "lem = WordNetLemmatizer()\n",
    "def clean_text(text, remove_stopwords=False):\n",
    "    '''Clean the text, with the option to remove stopwords'''\n",
    "    #Remove @user or http://...\n",
    "    text = re.sub(r\"(@[A-Za-z0-9_]+)|([^0-9A-Za-z \\t])|(\\w+:\\/\\/\\S+)\",\" \",text) \n",
    "\n",
    "    # Translate OMG to Oh My God\n",
    "    text = translator(text)\n",
    "    #Decontracs\n",
    "    for w in range (0,len(text)):\n",
    "        text[w] = decontracted(text[w])\n",
    "\n",
    "    # Convert words to lower case and split them\n",
    "    #text = text.lower()#.split()\n",
    "\n",
    "    # Optionally, remove stop words\n",
    "    if remove_stopwords:\n",
    "        stops = set(stopwords.words(\"english\"))\n",
    "        text = [w for w in text if not w in stops]\n",
    "    \n",
    "    text = \" \".join(text)\n",
    "\n",
    "    # Clean the text\n",
    "    text = re.sub(r\"<br />\", \" \", text)\n",
    "    text = re.sub(r\"[^a-z]\", \" \", text)\n",
    "    text = re.sub(r\"   \", \" \", text) # Remove any extra spaces\n",
    "    text = re.sub(r\"  \", \" \", text)\n",
    "    \n",
    "    #Lematize && itertools Ejmp: looove to love\n",
    "    text = ''.join(''.join(s)[:2] for _, s in itertools.groupby(text))\n",
    "    text = lem.lemmatize(text, \"v\")\n",
    "    \n",
    "    # Return a list of words\n",
    "    return(text)\n",
    "\n",
    "\n",
    "train_clean = []\n",
    "for sentence in train.Sentence:\n",
    "    train_clean.append(clean_text(sentence))"
   ]
  },
  {
   "cell_type": "code",
   "execution_count": 10,
   "metadata": {},
   "outputs": [
    {
     "name": "stdout",
     "output_type": "stream",
     "text": [
      "How the fu*k! Who the heck! moved my fridge!... should I knock the landlord door. #angry #mad ##\n",
      "how the fu k who the heck moved my fridge should i knock the landlord door angry mad\n",
      "\n",
      "So my Indian Uber driver just called someone the N word. If I wasn't in a moving vehicle I'd have jumped out #disgusted \n",
      "so my indian uber driver just called someone the n word if i was not in a moving vehicle i would have jumped out disgusted\n",
      "\n",
      "@DPD_UK I asked for my parcel to be delivered to a pick up store not my address #fuming #poorcustomerservice\n",
      "i asked for my parcel to be delivered to a pick up store not my address fuming poorcustomerservice\n",
      "\n"
     ]
    }
   ],
   "source": [
    "# Inspect the cleaned reviews\n",
    "for i in range(3):\n",
    "    print(sentences[i])\n",
    "    print(train_clean[i])\n",
    "    print()"
   ]
  },
  {
   "cell_type": "markdown",
   "metadata": {},
   "source": [
    "Les't determine the total and average number of words in each sentencesLes't determine the total and average number of words in each sentences"
   ]
  },
  {
   "cell_type": "code",
   "execution_count": 11,
   "metadata": {},
   "outputs": [
    {
     "name": "stdout",
     "output_type": "stream",
     "text": [
      "Average:  83\n"
     ]
    }
   ],
   "source": [
    "def maximum(sent):\n",
    "    numWords = []\n",
    "    for s in sent:\n",
    "        counter = len(s)\n",
    "        numWords.append(counter) \n",
    "    maxLengh = int(sum(numWords)/len(numWords))\n",
    "    print(\"Average: \", maxLengh)\n",
    "    return numWords,maxLengh\n",
    "numWords,maxSeqLength = maximum(train_clean)"
   ]
  },
  {
   "cell_type": "code",
   "execution_count": 12,
   "metadata": {},
   "outputs": [
    {
     "data": {
      "image/png": "[encoded data removed]",
      "text/plain": [
       "<Figure size 432x288 with 1 Axes>"
      ]
     },
     "metadata": {},
     "output_type": "display_data"
    }
   ],
   "source": [
    "import matplotlib.pyplot as plt\n",
    "%matplotlib inline\n",
    "def histograma(numWords):\n",
    "    plt.hist(numWords, 50)\n",
    "    plt.xlabel('Sequence Length')\n",
    "    plt.ylabel('Frequency')\n",
    "    plt.axis([0, 70, 0, 500])\n",
    "    plt.show()\n",
    "histograma(numWords)"
   ]
  },
  {
   "cell_type": "markdown",
   "metadata": {},
   "source": [
    "Converting each sentence into a vector and adding it into a matrix of 'ids'"
   ]
  },
  {
   "cell_type": "code",
   "execution_count": 13,
   "metadata": {},
   "outputs": [],
   "source": [
    "def integerSenteces(sent,maximum):\n",
    "    i = 0\n",
    "    embbeding = 0\n",
    "    matrix = np.zeros((len(sent), maximum)) #250 X 6 (numEjem X Maximun)\n",
    "    for s in sent:\n",
    "        vector = np.zeros((maximum), dtype='int32')\n",
    "        s =  s.split()\n",
    "        bound = maximum\n",
    "        if len(s) < maximum:\n",
    "            bound = len(s)    \n",
    "        for token in range(0,bound): #No encuentra macu, porque la corta\n",
    "            if s[token] not in wordsList:\n",
    "                vector[token] = embbeding # ???\n",
    "                #---print(s[token])\n",
    "            else:\n",
    "                vector[token] = (wordsList.index(s[token]))\n",
    "                embbeding = vector[token]\n",
    "        matrix[i] = (vector)\n",
    "        i += 1\n",
    "    return matrix"
   ]
  },
  {
   "cell_type": "code",
   "execution_count": 14,
   "metadata": {},
   "outputs": [
    {
     "name": "stdout",
     "output_type": "stream",
     "text": [
      "Sentences integer representation:  (3960, 83)\n",
      "Sentences:  3960\n",
      "Integer format:  [8.100e+01 4.300e+01 3.320e+02 5.960e+02 1.318e+03 3.800e+01 4.146e+03\n",
      " 8.100e+01 1.170e+02 4.100e+01 1.190e+02 5.000e+00 1.200e+01 1.920e+02\n",
      " 8.350e+02 4.300e+01 3.000e+01 1.920e+02 5.476e+03 0.000e+00 0.000e+00\n",
      " 0.000e+00 0.000e+00 0.000e+00 0.000e+00 0.000e+00 0.000e+00 0.000e+00\n",
      " 0.000e+00 0.000e+00 0.000e+00 0.000e+00 0.000e+00 0.000e+00 0.000e+00\n",
      " 0.000e+00 0.000e+00 0.000e+00 0.000e+00 0.000e+00 0.000e+00 0.000e+00\n",
      " 0.000e+00 0.000e+00 0.000e+00 0.000e+00 0.000e+00 0.000e+00 0.000e+00\n",
      " 0.000e+00 0.000e+00 0.000e+00 0.000e+00 0.000e+00 0.000e+00 0.000e+00\n",
      " 0.000e+00 0.000e+00 0.000e+00 0.000e+00 0.000e+00 0.000e+00 0.000e+00\n",
      " 0.000e+00 0.000e+00 0.000e+00 0.000e+00 0.000e+00 0.000e+00 0.000e+00\n",
      " 0.000e+00 0.000e+00 0.000e+00 0.000e+00 0.000e+00 0.000e+00 0.000e+00\n",
      " 0.000e+00 0.000e+00 0.000e+00 0.000e+00 0.000e+00 0.000e+00]\n",
      "Normal format:  you will never find someone who loved you like i did and that my love will be my revenge\n"
     ]
    }
   ],
   "source": [
    "X = integerSenteces(train_clean,maxSeqLength) \n",
    "print(\"Sentences integer representation: \",(X.shape))\n",
    "print(\"Sentences: \",len(train_clean))\n",
    "print(\"Integer format: \",X[249])\n",
    "print(\"Normal format: \",train_clean[249])"
   ]
  },
  {
   "cell_type": "code",
   "execution_count": 15,
   "metadata": {},
   "outputs": [
    {
     "name": "stdout",
     "output_type": "stream",
     "text": [
      "3   How the fu*k! Who the heck! moved my fridge!... should I knock the landlord door. #angry #mad ##\n"
     ]
    }
   ],
   "source": [
    "def toClasses(emo):\n",
    "    id_emo = []\n",
    "    for e in emo:\n",
    "        e = e.split()\n",
    "        e = e[0]\n",
    "        if e == 'joy':\n",
    "            e = 1\n",
    "        elif e == 'sadness':\n",
    "            e = 2\n",
    "        elif e == 'anger':\n",
    "            e = 3\n",
    "        elif e == 'fear':\n",
    "            e = 4\n",
    "            \n",
    "        id_emo.append(e)\n",
    "    return id_emo\n",
    "emotions = toClasses(emotions)\n",
    "print(emotions[0],\" \",sentences[0])"
   ]
  },
  {
   "cell_type": "markdown",
   "metadata": {},
   "source": [
    "Split the Data (stratify) into : Train && Test Sets"
   ]
  },
  {
   "cell_type": "code",
   "execution_count": 16,
   "metadata": {},
   "outputs": [
    {
     "name": "stdout",
     "output_type": "stream",
     "text": [
      "Sentences:  3960   Labels:  3960\n",
      "X_train:  3168   Y_train:  3168   X_test:  792   Y_test:  792\n"
     ]
    }
   ],
   "source": [
    "print(\"Sentences: \",len(X),\"  Labels: \",len(emotions))\n",
    "X_train, X_test, Y_train, Y_test = train_test_split(X, emotions, test_size=0.20, random_state=random.randrange(50), stratify=emotions)\n",
    "print(\"X_train: \",len(X_train),\"  Y_train: \",len(Y_train),\"  X_test: \",len(X_test),\"  Y_test: \",len(Y_test))"
   ]
  },
  {
   "cell_type": "code",
   "execution_count": 17,
   "metadata": {},
   "outputs": [
    {
     "data": {
      "image/png": "[encoded data removed]",
      "text/plain": [
       "<Figure size 432x288 with 1 Axes>"
      ]
     },
     "metadata": {},
     "output_type": "display_data"
    },
    {
     "name": "stdout",
     "output_type": "stream",
     "text": [
      "*****************\n"
     ]
    },
    {
     "data": {
      "image/png": "[encoded data removed]",
      "text/plain": [
       "<Figure size 432x288 with 1 Axes>"
      ]
     },
     "metadata": {},
     "output_type": "display_data"
    }
   ],
   "source": [
    "import matplotlib.pyplot as plt\n",
    "import collections\n",
    "%matplotlib inline\n",
    "def histograma(emotion):\n",
    "    #print(emotion)\n",
    "    plt.hist(emotion, 50)\n",
    "    plt.xlabel('Emotion')\n",
    "    plt.ylabel('Frequency')\n",
    "    plt.axis([0, 4, 0, 1000])\n",
    "    plt.show()\n",
    "histograma(Y_train)\n",
    "print(\"*****************\")\n",
    "histograma(Y_test)\n",
    "#for i in range (0,len(X_train)):\n",
    " #   print(Y_train[i],\"  \",X_train[i])"
   ]
  },
  {
   "cell_type": "markdown",
   "metadata": {},
   "source": [
    "Converting the Labels into Onehot Vectors"
   ]
  },
  {
   "cell_type": "code",
   "execution_count": 18,
   "metadata": {},
   "outputs": [],
   "source": [
    "def toLabels(emo):\n",
    "    classes = 4\n",
    "    Y = np.zeros((len(emo), classes)) #Num Ejemplos X 4 emociones\n",
    "    for e in range(0,len(emo)):\n",
    "        vector = np.zeros((classes))\n",
    "        vector[(emo[e] % (classes + 1)) - 1] = 1 \n",
    "        Y[e] = vector\n",
    "        #print(emo[e],\"---\",vector)\n",
    "    return Y\n",
    " \n",
    "Y_train = toLabels(Y_train)\n",
    "Y_test = toLabels(Y_test)"
   ]
  },
  {
   "cell_type": "code",
   "execution_count": 19,
   "metadata": {},
   "outputs": [
    {
     "name": "stdout",
     "output_type": "stream",
     "text": [
      "Y_train:  (3168, 4)  Num Ejem X # clases\n",
      "X_train:  (3168, 83)  Num Ejem X Maximun Lengh\n",
      "Y_test:  (792, 4)  Num Ejem X # clases\n",
      "X_test:  (792, 83)  Num Ejem X Maximun Lengh\n"
     ]
    }
   ],
   "source": [
    "print(\"Y_train: \",Y_train.shape,\" Num Ejem X # clases\")\n",
    "print(\"X_train: \",X_train.shape,\" Num Ejem X Maximun Lengh\")\n",
    "print(\"Y_test: \",Y_test.shape,\" Num Ejem X # clases\")\n",
    "print(\"X_test: \",X_test.shape,\" Num Ejem X Maximun Lengh\")"
   ]
  },
  {
   "cell_type": "markdown",
   "metadata": {},
   "source": [
    "Test Dataset"
   ]
  },
  {
   "cell_type": "code",
   "execution_count": 20,
   "metadata": {},
   "outputs": [
    {
     "name": "stdout",
     "output_type": "stream",
     "text": [
      "anger   At the point today where if someone says something remotely kind to me, a waterfall will burst out of my eyes\n",
      "Labels:  3142 Sentences:  3142\n"
     ]
    },
    {
     "data": {
      "image/png": "[encoded data removed]",
      "text/plain": [
       "<Figure size 432x288 with 1 Axes>"
      ]
     },
     "metadata": {},
     "output_type": "display_data"
    },
    {
     "name": "stdout",
     "output_type": "stream",
     "text": [
      "At the point today where if someone says something remotely kind to me, a waterfall will burst out of my eyes\n",
      "at the point today where if someone says something remotely kind to me a waterfall will burst out of my eyes\n",
      "\n",
      "@CorningFootball  IT'S GAME DAY!!!!      T MINUS 14:30  #relentless\n",
      "it is game day not minus  relentless\n",
      "\n",
      "This game has pissed me off more than any other game this year. My blood is boiling! Time to turn it off! #STLCards\n",
      "this game has pissed me off more than any other game this year my blood is boiling time to turn it off stlcards\n",
      "\n",
      "Average:  83\n",
      "Average:  83\n",
      "Sentences integer representation:  (3142, 83)\n",
      "Sentences:  3142\n",
      "Integer format:  [1.8120e+03 4.0000e+00 1.4960e+03 8.3700e+02 9.6740e+03 2.2000e+01\n",
      " 6.5400e+02 1.2000e+01 2.2135e+04 8.1000e+01 2.0000e+01 1.4000e+01\n",
      " 4.8620e+03 4.0000e+00 1.6900e+02 5.1210e+03 2.2000e+01 6.9000e+01\n",
      " 3.8140e+03 3.8140e+03 5.1210e+03 3.5910e+03 0.0000e+00 0.0000e+00\n",
      " 0.0000e+00 0.0000e+00 0.0000e+00 0.0000e+00 0.0000e+00 0.0000e+00\n",
      " 0.0000e+00 0.0000e+00 0.0000e+00 0.0000e+00 0.0000e+00 0.0000e+00\n",
      " 0.0000e+00 0.0000e+00 0.0000e+00 0.0000e+00 0.0000e+00 0.0000e+00\n",
      " 0.0000e+00 0.0000e+00 0.0000e+00 0.0000e+00 0.0000e+00 0.0000e+00\n",
      " 0.0000e+00 0.0000e+00 0.0000e+00 0.0000e+00 0.0000e+00 0.0000e+00\n",
      " 0.0000e+00 0.0000e+00 0.0000e+00 0.0000e+00 0.0000e+00 0.0000e+00\n",
      " 0.0000e+00 0.0000e+00 0.0000e+00 0.0000e+00 0.0000e+00 0.0000e+00\n",
      " 0.0000e+00 0.0000e+00 0.0000e+00 0.0000e+00 0.0000e+00 0.0000e+00\n",
      " 0.0000e+00 0.0000e+00 0.0000e+00 0.0000e+00 0.0000e+00 0.0000e+00\n",
      " 0.0000e+00 0.0000e+00 0.0000e+00 0.0000e+00 0.0000e+00]\n",
      "Normal format:  note to self stop laughing at things that offend you it is ok to get mad at people n notetoself mad upset\n",
      "3   [2.20000e+01 2.01534e+05 3.89000e+02 3.73000e+02 1.11000e+02 8.30000e+01\n",
      " 1.31800e+03 2.10000e+02 6.45000e+02 1.85740e+04 9.21000e+02 4.00000e+00\n",
      " 2.85000e+02 7.00000e+00 1.85010e+04 4.30000e+01 6.30500e+03 6.60000e+01\n",
      " 3.00000e+00 1.92000e+02 2.25100e+03 0.00000e+00 0.00000e+00 0.00000e+00\n",
      " 0.00000e+00 0.00000e+00 0.00000e+00 0.00000e+00 0.00000e+00 0.00000e+00\n",
      " 0.00000e+00 0.00000e+00 0.00000e+00 0.00000e+00 0.00000e+00 0.00000e+00\n",
      " 0.00000e+00 0.00000e+00 0.00000e+00 0.00000e+00 0.00000e+00 0.00000e+00\n",
      " 0.00000e+00 0.00000e+00 0.00000e+00 0.00000e+00 0.00000e+00 0.00000e+00\n",
      " 0.00000e+00 0.00000e+00 0.00000e+00 0.00000e+00 0.00000e+00 0.00000e+00\n",
      " 0.00000e+00 0.00000e+00 0.00000e+00 0.00000e+00 0.00000e+00 0.00000e+00\n",
      " 0.00000e+00 0.00000e+00 0.00000e+00 0.00000e+00 0.00000e+00 0.00000e+00\n",
      " 0.00000e+00 0.00000e+00 0.00000e+00 0.00000e+00 0.00000e+00 0.00000e+00\n",
      " 0.00000e+00 0.00000e+00 0.00000e+00 0.00000e+00 0.00000e+00 0.00000e+00\n",
      " 0.00000e+00 0.00000e+00 0.00000e+00 0.00000e+00 0.00000e+00]\n",
      "Y_train:  (3142, 4)  Num Ejem X # clases\n",
      "X_train:  (3142, 83)  Num Ejem X Maximun Lengh\n"
     ]
    }
   ],
   "source": [
    "#Importing Dataset\n",
    "dataset = \"TwitterDataset/Test/testDataset.txt\"\n",
    "test_sentences,test_emotions = extract(dataset)\n",
    "print(test_emotions[0],\" \",test_sentences[0])\n",
    "print(\"Labels: \",len(test_emotions), \"Sentences: \",len(test_sentences))\n",
    "\n",
    "#Converting data to CVS\n",
    "import csv\n",
    "with open('TwitterDataset/Test/test.csv', mode='w', encoding='utf-8') as emo_file:\n",
    "    emo_writer = csv.writer(emo_file, delimiter=',', quotechar='\"', quoting=csv.QUOTE_MINIMAL)\n",
    "    emo_writer.writerow(['Emotion', 'Sentence'])\n",
    "    for i in range(0,len(test_emotions)):\n",
    "        emo_writer.writerow([test_emotions[i],test_sentences[i]])\n",
    "\n",
    "#Examinaiting the data\n",
    "test = pd.read_csv(\"TwitterDataset/Test/test.csv\", delimiter=\",\")\n",
    "test.head()\n",
    "\n",
    "histograma(test_emotions)\n",
    "\n",
    "#Cleanning the data\n",
    "test_clean = []\n",
    "for sentence in test.Sentence:\n",
    "    test_clean.append(clean_text(sentence))\n",
    "    \n",
    "# Inspect the cleaned reviews\n",
    "for i in range(3):\n",
    "    print(test_sentences[i])\n",
    "    print(test_clean[i])\n",
    "    print()\n",
    "    \n",
    "#Find the maximun sequence of words in test dataset\n",
    "numWords,testmaxSeqLength = maximum(test_clean)\n",
    "test_X = integerSenteces(test_clean,testmaxSeqLength)\n",
    "print(\"Average: \",testmaxSeqLength)\n",
    "print(\"Sentences integer representation: \",(test_X.shape))\n",
    "print(\"Sentences: \",len(test_clean))\n",
    "print(\"Integer format: \",test_X[249])\n",
    "print(\"Normal format: \",test_clean[249])\n",
    "\n",
    "#Transforming Labels From Happy to 1\n",
    "test_emotions = toClasses(test_emotions)\n",
    "print(test_emotions[0],\" \",test_X[0])\n",
    "\n",
    "#Transforming Labels from 1 to [1,0,0,0]\n",
    "test_Y = toLabels(test_emotions)\n",
    "\n",
    "print(\"Y_train: \",test_Y.shape,\" Num Ejem X # clases\")\n",
    "print(\"X_train: \",test_X.shape,\" Num Ejem X Maximun Lengh\")"
   ]
  },
  {
   "cell_type": "code",
   "execution_count": 21,
   "metadata": {},
   "outputs": [],
   "source": [
    "#Random X_test split\n",
    "#x_train, y_train = train_test_split(test_X, test_Y, test_size=0.1, random_state=random.randrange(50), stratify=test_Y)\n",
    "#Flata!!!"
   ]
  },
  {
   "cell_type": "code",
   "execution_count": 22,
   "metadata": {},
   "outputs": [
    {
     "name": "stdout",
     "output_type": "stream",
     "text": [
      "Y_train:  (3142, 4)  Num Ejem X # clases\n",
      "X_train:  (3142, 83)  Num Ejem X Maximun Lengh\n"
     ]
    }
   ],
   "source": [
    "print(\"Y_train: \",test_Y.shape,\" Num Ejem X # clases\")\n",
    "print(\"X_train: \",test_X.shape,\" Num Ejem X Maximun Lengh\")\n",
    "#for i in range (0,len(x_test)):\n",
    " #   print(y_test[i])"
   ]
  },
  {
   "cell_type": "markdown",
   "metadata": {},
   "source": [
    "RNN Model"
   ]
  },
  {
   "cell_type": "code",
   "execution_count": 23,
   "metadata": {},
   "outputs": [],
   "source": [
    "def build_rnn(numClasses, maxSeqLength, numDimensions, batchSize, lstmUnits, dropout, learning_rate):\n",
    "    '''Build the Recurrent Neural Network'''\n",
    "\n",
    "    tf.reset_default_graph()\n",
    "\n",
    "    # Declare placeholders we'll feed into the graph\n",
    "    with tf.name_scope('inputs'):\n",
    "        inputs = tf.placeholder(tf.int32, [None, maxSeqLength],name='inputs')\n",
    "        \n",
    "    \n",
    "    with tf.name_scope('labels'):\n",
    "        labels = tf.placeholder(tf.float32, [None, numClasses],name='labels')\n",
    "    \n",
    "\n",
    "    keep_prob = tf.placeholder(tf.float32, name='keep_prob')\n",
    "    \n",
    "    # Create the embeddings\n",
    "    with tf.name_scope(\"embeddings\"):\n",
    "        data = tf.Variable(tf.zeros([batchSize, maxSeqLength, numDimensions]),dtype=tf.float32)\n",
    "        data = tf.nn.embedding_lookup(wordVectors,inputs)\n",
    "\n",
    "    # Build the RNN layers\n",
    "    with tf.name_scope(\"RNN_layers\"):\n",
    "        lstmCell = tf.contrib.rnn.BasicLSTMCell(lstmUnits)\n",
    "        lstmCell = tf.contrib.rnn.DropoutWrapper(cell=lstmCell, output_keep_prob=keep_prob)\n",
    "       \n",
    "    # Set the initial state\n",
    "    with tf.name_scope(\"RNN_init_state\"):\n",
    "        initial_state = lstmCell.zero_state(batchSize, tf.float32)\n",
    "\n",
    "    # Run the data through the RNN layers\n",
    "    with tf.name_scope(\"RNN_forward\"):  \n",
    "        value, final_state = tf.nn.dynamic_rnn(lstmCell, data, initial_state=initial_state)\n",
    "     \n",
    "    # Create the fully connected layers\n",
    "    with tf.name_scope(\"fully_connected\"):\n",
    "        \n",
    "        # Initialize the weights and biases\n",
    "        weight = tf.Variable(tf.truncated_normal([lstmUnits, numClasses]))\n",
    "        bias = tf.Variable(tf.constant(0.1, shape=[numClasses]))\n",
    "        value = tf.transpose(value, [1, 0, 2])\n",
    "        last = tf.gather(value, int(value.get_shape()[0]) - 1)\n",
    "       \n",
    "        \n",
    "    # Make the predictions\n",
    "    with tf.name_scope('prediction'):\n",
    "        prediction = (tf.matmul(last, weight) + bias)\n",
    "        tf.summary.histogram('prediction', prediction)\n",
    "    \n",
    "    # Calculate the cost\n",
    "    with tf.name_scope('cost'):\n",
    "        cost = tf.reduce_mean(tf.nn.softmax_cross_entropy_with_logits_v2(logits=prediction, labels=labels))\n",
    "        tf.summary.scalar('cost', cost)\n",
    "        \n",
    "    \n",
    "    # Train the model\n",
    "    with tf.name_scope('train'):    \n",
    "        optimizer = tf.train.AdamOptimizer(learning_rate=learning_rate).minimize(cost)\n",
    "\n",
    "    # Determine the accuracy\n",
    "    with tf.name_scope(\"accuracy\"):\n",
    "        \n",
    "        correctPred = tf.equal(tf.argmax(prediction,1), tf.argmax(labels,1))\n",
    "        accuracy = tf.reduce_mean(tf.cast(correctPred, tf.float32))       \n",
    "        tf.summary.scalar('accuracy', accuracy)\n",
    "        \n",
    "    \n",
    "    # Merge all of the summaries\n",
    "    merged = tf.summary.merge_all()    \n",
    "\n",
    "    # Export the nodes \n",
    "    export_nodes = ['inputs', 'labels','keep_prob', 'initial_state', 'final_state', 'accuracy',\n",
    "                    'prediction', 'cost', 'optimizer', 'merged']\n",
    "    Graph = namedtuple('Graph', export_nodes)\n",
    "    local_dict = locals()\n",
    "    graph = Graph(*[local_dict[each] for each in export_nodes])\n",
    "    \n",
    "    return graph"
   ]
  },
  {
   "cell_type": "markdown",
   "metadata": {},
   "source": [
    "Trainning && Validation Cycles"
   ]
  },
  {
   "cell_type": "code",
   "execution_count": 24,
   "metadata": {},
   "outputs": [],
   "source": [
    "def train(model, epochs, log_string):\n",
    "    '''Train the RNN'''\n",
    "    saver = tf.train.Saver()\n",
    "    \n",
    "    with tf.Session() as sess:\n",
    "        sess.run(tf.global_variables_initializer())\n",
    "\n",
    "        # Used to determine when to stop the training early\n",
    "        valid_loss_summary = []\n",
    "        \n",
    "        # Metrics Presicion, recall and F1 measure\n",
    "        val_pre = []\n",
    "        val_recall = []\n",
    "        val_f1 = []\n",
    "        \n",
    "        # Keep track of which batch iteration is being trained\n",
    "        iteration = 0\n",
    "\n",
    "        print()\n",
    "        print(\"Training Model: {}\".format(log_string))\n",
    "\n",
    "        train_writer = tf.summary.FileWriter('./logs/3/train/{}'.format(log_string), sess.graph)\n",
    "        valid_writer = tf.summary.FileWriter('./logs/3/valid/{}'.format(log_string))\n",
    "\n",
    "        for e in range(epochs):\n",
    "            state = sess.run(model.initial_state)\n",
    "            \n",
    "            # Record progress with each epoch\n",
    "            train_loss = []\n",
    "            train_acc = []\n",
    "            val_acc = []\n",
    "            val_loss = []\n",
    "            \n",
    "            #Create X groups of (50,6) Labels && (50,maximum) Examples\n",
    "            numEjemplos = 3168  \n",
    "            total_batch = int(numEjemplos/batchSize)\n",
    "            X_batches = np.array_split(X_train, total_batch)\n",
    "            Y_batches = np.array_split(Y_train, total_batch)\n",
    "\n",
    "            #Train Cycle\n",
    "            with tqdm(total=len(X_train)) as pbar: #Barra de progreso !!!\n",
    "                for i in range(total_batch):\n",
    "                    batch_x, batch_y = X_batches[i], Y_batches[i]\n",
    "                    feed = {model.inputs: batch_x,\n",
    "                            model.labels: batch_y,\n",
    "                            model.keep_prob: dropout,\n",
    "                            model.initial_state: state}\n",
    "                    summary, loss, acc, state, _ = sess.run([model.merged, \n",
    "                                                             model.cost, \n",
    "                                                             model.accuracy, \n",
    "                                                             model.final_state, \n",
    "                                                             model.optimizer], \n",
    "                                                            feed_dict=feed)\n",
    "\n",
    "                    # Record the loss and accuracy of each training batch\n",
    "                    train_loss.append(loss)\n",
    "                    train_acc.append(acc)\n",
    "                    \n",
    "                    # Record the progress of training\n",
    "                    train_writer.add_summary(summary, iteration)\n",
    "                    \n",
    "                    iteration += 1\n",
    "                    pbar.update(batchSize)\n",
    "            \n",
    "            # Average the training loss and accuracy of each epoch\n",
    "            avg_train_loss = np.mean(train_loss)\n",
    "            avg_train_acc = np.mean(train_acc) \n",
    "\n",
    "            #Create X train batchs of batchSize\n",
    "            numEjemplos = 792  \n",
    "            total_batch = int(numEjemplos/batchSize)\n",
    "            \n",
    "            X_batches = np.array_split(X_test, total_batch)\n",
    "            Y_batches = np.array_split(Y_test, total_batch)\n",
    "            \n",
    "            if e < 88:\n",
    "            # Print the progress of each epoch\n",
    "                print(\"Epoch: {}/{}\".format(e, epochs),\n",
    "                        \"Train Loss: {:.3f}\".format(avg_train_loss),\n",
    "                        \"Train Acc: {:.3f}\".format(avg_train_acc))\n",
    "\n",
    "                \n",
    "            #Valid Cycle : Solo Valid, en las dos últimas iteraciones\n",
    "            else:\n",
    "                val_state = sess.run(model.initial_state)\n",
    "                with tqdm(total=len(X_test)) as pbar:\n",
    "                    for i in range(total_batch):\n",
    "                        batch_x, batch_y = X_batches[i], Y_batches[i]\n",
    "                        feed = {model.inputs: batch_x,\n",
    "                                model.labels: batch_y,\n",
    "                                model.keep_prob: 1,\n",
    "                                model.initial_state: val_state}\n",
    "                        summary, batch_loss, batch_acc, val_state, batch_pre = sess.run([model.merged, \n",
    "                                                                              model.cost, \n",
    "                                                                              model.accuracy, \n",
    "                                                                              model.final_state,\n",
    "                                                                              model.prediction], \n",
    "                                                                             feed_dict=feed)\n",
    "\n",
    "\n",
    "                        #Converting predictions to np.array \n",
    "                        y_pred = tf.argmax(batch_pre , 1).eval({model.inputs: batch_x, model.labels: batch_y})\n",
    "                        y_true = (tf.argmax(batch_y , 1).eval()) \n",
    "                        precision = precision_score(y_true, y_pred, average=None)\n",
    "                        recall = recall_score(y_true, y_pred, average=None)\n",
    "                        f1 = f1_score(y_true, y_pred, average=None)\n",
    "\n",
    "                        # Record the validation loss and accuracy of each epoch\n",
    "                        val_loss.append(batch_loss)\n",
    "                        val_acc.append(batch_acc)\n",
    "                        val_pre.append(precision)\n",
    "                        val_recall.append(recall)\n",
    "                        val_f1.append(f1)\n",
    "                        pbar.update(batchSize)\n",
    "\n",
    "\n",
    "\n",
    "                # Average the validation loss and accuracy of each epoch\n",
    "                avg_valid_loss = np.mean(val_loss)    \n",
    "                avg_valid_acc = np.mean(val_acc)\n",
    "                valid_loss_summary.append(avg_valid_loss)\n",
    "                avg_pre = np.mean(val_pre)\n",
    "                avg_recall = np.mean(val_recall)\n",
    "                avg_f1 = np.mean(val_f1)\n",
    "\n",
    "                # Record the validation data's progress\n",
    "                valid_writer.add_summary(summary, iteration)\n",
    "\n",
    "\n",
    "                print(\"Epoch: {}/{}\".format(e, epochs),\n",
    "                \"Train Loss: {:.3f}\".format(avg_train_loss),\n",
    "                \"Train Acc: {:.3f}\".format(avg_train_acc),\n",
    "                \"Valid Loss: {:.3f}\".format(avg_valid_loss),\n",
    "                \"Valid Acc: {:.3f}\".format(avg_valid_acc),\n",
    "                \"Valid Pre: {:.3f}\".format(avg_pre),\n",
    "                \"Valid Reca: {:.3f}\".format(avg_recall),\n",
    "                \"Valid F1: {:.3f}\".format(avg_f1))\n",
    "                \n",
    "                class_names = [\"Hapinnes\",\"Sadness\",\"Anger\",\"Fear\"]\n",
    "                print(classification_report(y_true, y_pred, target_names=class_names))\n",
    "                \n",
    "            checkpoint = \"C:/Users/UX310UQ/Desktop/CheckPoints/sentiment_{}.ckpt\".format(log_string)\n",
    "            saver.save(sess, checkpoint)"
   ]
  },
  {
   "cell_type": "markdown",
   "metadata": {},
   "source": [
    "Declarando placeholders para los labels (6 emotions) && data imput"
   ]
  },
  {
   "cell_type": "code",
   "execution_count": 25,
   "metadata": {},
   "outputs": [],
   "source": [
    "# The default parameters of the model\n",
    "numDimensions = 300 \n",
    "batchSize = 88 #Tiene que ser multiplo del NumEjem\n",
    "lstmUnits = 64\n",
    "numClasses = 4\n",
    "dropout = 0.5\n",
    "learning_rate = 0.001\n",
    "epochs = 10"
   ]
  },
  {
   "cell_type": "code",
   "execution_count": null,
   "metadata": {},
   "outputs": [
    {
     "name": "stdout",
     "output_type": "stream",
     "text": [
      "\n",
      "Training Model: ru=7,fcl=10,fcu=96\n"
     ]
    },
    {
     "name": "stderr",
     "output_type": "stream",
     "text": [
      "100%|██████████| 3168/3168 [00:06<00:00, 669.59it/s]\n"
     ]
    },
    {
     "name": "stdout",
     "output_type": "stream",
     "text": [
      "Epoch: 0/10 Train Loss: 1.378 Train Acc: 0.316\n"
     ]
    },
    {
     "name": "stderr",
     "output_type": "stream",
     "text": [
      "100%|██████████| 3168/3168 [00:04<00:00, 788.73it/s]\n"
     ]
    },
    {
     "name": "stdout",
     "output_type": "stream",
     "text": [
      "Epoch: 1/10 Train Loss: 1.378 Train Acc: 0.314\n"
     ]
    },
    {
     "name": "stderr",
     "output_type": "stream",
     "text": [
      "100%|██████████| 3168/3168 [00:04<00:00, 805.09it/s]\n"
     ]
    },
    {
     "name": "stdout",
     "output_type": "stream",
     "text": [
      "Epoch: 2/10 Train Loss: 1.377 Train Acc: 0.317\n"
     ]
    },
    {
     "name": "stderr",
     "output_type": "stream",
     "text": [
      "100%|██████████| 3168/3168 [00:04<00:00, 790.29it/s]\n"
     ]
    },
    {
     "name": "stdout",
     "output_type": "stream",
     "text": [
      "Epoch: 3/10 Train Loss: 1.377 Train Acc: 0.317\n"
     ]
    },
    {
     "name": "stderr",
     "output_type": "stream",
     "text": [
      "100%|██████████| 3168/3168 [00:04<00:00, 683.92it/s]\n"
     ]
    },
    {
     "name": "stdout",
     "output_type": "stream",
     "text": [
      "Epoch: 4/10 Train Loss: 1.377 Train Acc: 0.318\n"
     ]
    },
    {
     "name": "stderr",
     "output_type": "stream",
     "text": [
      "100%|██████████| 3168/3168 [00:04<00:00, 793.04it/s]\n"
     ]
    },
    {
     "name": "stdout",
     "output_type": "stream",
     "text": [
      "Epoch: 5/10 Train Loss: 1.377 Train Acc: 0.318\n"
     ]
    },
    {
     "name": "stderr",
     "output_type": "stream",
     "text": [
      "100%|██████████| 3168/3168 [00:04<00:00, 706.37it/s]\n"
     ]
    },
    {
     "name": "stdout",
     "output_type": "stream",
     "text": [
      "Epoch: 6/10 Train Loss: 1.376 Train Acc: 0.318\n"
     ]
    },
    {
     "name": "stderr",
     "output_type": "stream",
     "text": [
      "100%|██████████| 3168/3168 [00:06<00:00, 731.54it/s]\n"
     ]
    },
    {
     "name": "stdout",
     "output_type": "stream",
     "text": [
      "Epoch: 7/10 Train Loss: 1.377 Train Acc: 0.317\n"
     ]
    },
    {
     "name": "stderr",
     "output_type": "stream",
     "text": [
      " 75%|███████▌  | 2376/3168 [00:03<00:01, 637.26it/s]"
     ]
    }
   ],
   "source": [
    "log_string = 'ru={},fcl={},fcu={}'.format(7,10,96)\n",
    "model = build_rnn(numClasses = numClasses,\n",
    "                              maxSeqLength=maxSeqLength,\n",
    "                              numDimensions=numDimensions,\n",
    "                              batchSize = batchSize,\n",
    "                              lstmUnits = lstmUnits,\n",
    "                              dropout = dropout,\n",
    "                              learning_rate = learning_rate)       \n",
    "train(model, epochs, log_string)"
   ]
  },
  {
   "cell_type": "code",
   "execution_count": null,
   "metadata": {},
   "outputs": [],
   "source": [
    "Hacer ultimo chekpoint . en base a F1 \n",
    "Probar con Stop words y otras mod.\n",
    "Limpiar #poorattention\n",
    "@@ estas haciendo valid con batch pqueño , no con todo el gigante, pero no importan en el test se hace asi\n",
    "pondras "
   ]
  },
  {
   "cell_type": "code",
   "execution_count": 161,
   "metadata": {},
   "outputs": [],
   "source": [
    "batchSize = 3141 #Habra solo 1 batchs de  3141 ejempos"
   ]
  },
  {
   "cell_type": "code",
   "execution_count": 193,
   "metadata": {},
   "outputs": [],
   "source": [
    "def make_predictions(checkpoint):\n",
    "    '''Predict the sentiment of the testing data'''\n",
    "    \n",
    "    # Record all of the predictions\n",
    "    all_preds = []\n",
    "\n",
    "    model = build_rnn(numClasses = numClasses,\n",
    "                                  maxSeqLength=testmaxSeqLength,\n",
    "                                  numDimensions=numDimensions,\n",
    "                                  batchSize = batchSize,\n",
    "                                  lstmUnits = lstmUnits,\n",
    "                                  dropout = dropout,\n",
    "                                  learning_rate = learning_rate)  \n",
    "    \n",
    "    with tf.Session() as sess:\n",
    "        saver = tf.train.Saver()\n",
    "        # Load the model\n",
    "        saver.restore(sess, checkpoint)\n",
    "        test_state = sess.run(model.initial_state)\n",
    "        \n",
    "        #numEjemplos = 3141  \n",
    "        #total_batch = int(numEjemplos/batchSize)\n",
    "            \n",
    "        #X_batches = np.array_split(X_test, total_batch)\n",
    "        #Y_batches = np.array_split(Y_test, total_batch)\n",
    "        '''print(\"Y_train: \",test_Y.shape,\" Num Ejem X # clases\")\n",
    "        print(\"X_train: \",test_X.shape,\" Num Ejem X Maximun Lengh\")\n",
    "        \n",
    "        X_batches = test_X[:88]\n",
    "        Y_batches = test_Y[:88]\n",
    "        \n",
    "        print(\"Y_batches: \",Y_batches.shape,\" Num Ejem X # clases\")\n",
    "        print(\"X_batches: \",X_batches.shape,\" Num Ejem X Maximun Lengh\")\n",
    "        \n",
    "        feed = {model.inputs: X_batches,\n",
    "                    model.keep_prob: 1,\n",
    "                    model.initial_state: test_state}\n",
    "        \n",
    "        predictions = sess.run(model.prediction, feed_dict=feed)\n",
    "        \n",
    "        Y = (tf.argmax(Y_batches , 1).eval()) \n",
    "        \n",
    "        Y_pred = tf.argmax(predictions , 1).eval()\n",
    "        \n",
    "        for p in range (0,len(Y_pred)):\n",
    "            print(Y[p],\" \",Y_pred[p])\n",
    "            all_preds.append((Y_pred))'''\n",
    "        \n",
    "            \n",
    "        '''for i in range(total_batch):\n",
    "            batch_x, batch_y = X_batches[i], Y_batches[i]\n",
    "            feed = {model.inputs: batch_x,\n",
    "                    model.keep_prob: 1,\n",
    "                    model.initial_state: test_state}\n",
    "            predictions = sess.run(model.prediction, feed_dict=feed)\n",
    "            Y = (tf.argmax(batch_y , 1).eval()) \n",
    "            Y_pred = tf.argmax(predictions , 1).eval()\n",
    "            for p in range (0,len(Y_pred)):\n",
    "                print(Y[p],\" \",Y_pred[p])\n",
    "                all_preds.append((Y_pred))'''\n",
    "                \n",
    "                \n",
    "    return all_preds"
   ]
  },
  {
   "cell_type": "code",
   "execution_count": 194,
   "metadata": {},
   "outputs": [],
   "source": [
    "checkpoint1 = \"C:/Users/UX310UQ/Desktop/CheckPoints/sentiment_ru=7,fcl=10,fcu=96.ckpt\""
   ]
  },
  {
   "cell_type": "code",
   "execution_count": 195,
   "metadata": {},
   "outputs": [
    {
     "name": "stdout",
     "output_type": "stream",
     "text": [
      "INFO:tensorflow:Restoring parameters from C:/Users/UX310UQ/Desktop/CheckPoints/sentiment_ru=7,fcl=10,fcu=96.ckpt\n"
     ]
    },
    {
     "ename": "InvalidArgumentError",
     "evalue": "Assign requires shapes of both tensors to match. lhs shape= [3141,83,300] rhs shape= [88,83,300]\n\t [[Node: save/Assign = Assign[T=DT_FLOAT, _class=[\"loc:@embeddings/Variable\"], use_locking=true, validate_shape=true, _device=\"/job:localhost/replica:0/task:0/device:CPU:0\"](embeddings/Variable, save/RestoreV2)]]\n\nCaused by op 'save/Assign', defined at:\n  File \"C:\\Users\\UX310UQ\\Anaconda3\\envs\\IaTopicos\\lib\\runpy.py\", line 193, in _run_module_as_main\n    \"__main__\", mod_spec)\n  File \"C:\\Users\\UX310UQ\\Anaconda3\\envs\\IaTopicos\\lib\\runpy.py\", line 85, in _run_code\n    exec(code, run_globals)\n  File \"C:\\Users\\UX310UQ\\Anaconda3\\envs\\IaTopicos\\lib\\site-packages\\ipykernel_launcher.py\", line 16, in <module>\n    app.launch_new_instance()\n  File \"C:\\Users\\UX310UQ\\Anaconda3\\envs\\IaTopicos\\lib\\site-packages\\traitlets\\config\\application.py\", line 658, in launch_instance\n    app.start()\n  File \"C:\\Users\\UX310UQ\\Anaconda3\\envs\\IaTopicos\\lib\\site-packages\\ipykernel\\kernelapp.py\", line 486, in start\n    self.io_loop.start()\n  File \"C:\\Users\\UX310UQ\\Anaconda3\\envs\\IaTopicos\\lib\\site-packages\\tornado\\platform\\asyncio.py\", line 127, in start\n    self.asyncio_loop.run_forever()\n  File \"C:\\Users\\UX310UQ\\Anaconda3\\envs\\IaTopicos\\lib\\asyncio\\base_events.py\", line 422, in run_forever\n    self._run_once()\n  File \"C:\\Users\\UX310UQ\\Anaconda3\\envs\\IaTopicos\\lib\\asyncio\\base_events.py\", line 1432, in _run_once\n    handle._run()\n  File \"C:\\Users\\UX310UQ\\Anaconda3\\envs\\IaTopicos\\lib\\asyncio\\events.py\", line 145, in _run\n    self._callback(*self._args)\n  File \"C:\\Users\\UX310UQ\\Anaconda3\\envs\\IaTopicos\\lib\\site-packages\\tornado\\platform\\asyncio.py\", line 117, in _handle_events\n    handler_func(fileobj, events)\n  File \"C:\\Users\\UX310UQ\\Anaconda3\\envs\\IaTopicos\\lib\\site-packages\\tornado\\stack_context.py\", line 276, in null_wrapper\n    return fn(*args, **kwargs)\n  File \"C:\\Users\\UX310UQ\\Anaconda3\\envs\\IaTopicos\\lib\\site-packages\\zmq\\eventloop\\zmqstream.py\", line 450, in _handle_events\n    self._handle_recv()\n  File \"C:\\Users\\UX310UQ\\Anaconda3\\envs\\IaTopicos\\lib\\site-packages\\zmq\\eventloop\\zmqstream.py\", line 480, in _handle_recv\n    self._run_callback(callback, msg)\n  File \"C:\\Users\\UX310UQ\\Anaconda3\\envs\\IaTopicos\\lib\\site-packages\\zmq\\eventloop\\zmqstream.py\", line 432, in _run_callback\n    callback(*args, **kwargs)\n  File \"C:\\Users\\UX310UQ\\Anaconda3\\envs\\IaTopicos\\lib\\site-packages\\tornado\\stack_context.py\", line 276, in null_wrapper\n    return fn(*args, **kwargs)\n  File \"C:\\Users\\UX310UQ\\Anaconda3\\envs\\IaTopicos\\lib\\site-packages\\ipykernel\\kernelbase.py\", line 283, in dispatcher\n    return self.dispatch_shell(stream, msg)\n  File \"C:\\Users\\UX310UQ\\Anaconda3\\envs\\IaTopicos\\lib\\site-packages\\ipykernel\\kernelbase.py\", line 233, in dispatch_shell\n    handler(stream, idents, msg)\n  File \"C:\\Users\\UX310UQ\\Anaconda3\\envs\\IaTopicos\\lib\\site-packages\\ipykernel\\kernelbase.py\", line 399, in execute_request\n    user_expressions, allow_stdin)\n  File \"C:\\Users\\UX310UQ\\Anaconda3\\envs\\IaTopicos\\lib\\site-packages\\ipykernel\\ipkernel.py\", line 208, in do_execute\n    res = shell.run_cell(code, store_history=store_history, silent=silent)\n  File \"C:\\Users\\UX310UQ\\Anaconda3\\envs\\IaTopicos\\lib\\site-packages\\ipykernel\\zmqshell.py\", line 537, in run_cell\n    return super(ZMQInteractiveShell, self).run_cell(*args, **kwargs)\n  File \"C:\\Users\\UX310UQ\\Anaconda3\\envs\\IaTopicos\\lib\\site-packages\\IPython\\core\\interactiveshell.py\", line 2662, in run_cell\n    raw_cell, store_history, silent, shell_futures)\n  File \"C:\\Users\\UX310UQ\\Anaconda3\\envs\\IaTopicos\\lib\\site-packages\\IPython\\core\\interactiveshell.py\", line 2785, in _run_cell\n    interactivity=interactivity, compiler=compiler, result=result)\n  File \"C:\\Users\\UX310UQ\\Anaconda3\\envs\\IaTopicos\\lib\\site-packages\\IPython\\core\\interactiveshell.py\", line 2903, in run_ast_nodes\n    if self.run_code(code, result):\n  File \"C:\\Users\\UX310UQ\\Anaconda3\\envs\\IaTopicos\\lib\\site-packages\\IPython\\core\\interactiveshell.py\", line 2963, in run_code\n    exec(code_obj, self.user_global_ns, self.user_ns)\n  File \"<ipython-input-195-5f87938c8171>\", line 2, in <module>\n    predictions1 = make_predictions(checkpoint1)\n  File \"<ipython-input-193-cb3d9b33c9cb>\", line 16, in make_predictions\n    saver = tf.train.Saver()\n  File \"C:\\Users\\UX310UQ\\Anaconda3\\envs\\IaTopicos\\lib\\site-packages\\tensorflow\\python\\training\\saver.py\", line 1338, in __init__\n    self.build()\n  File \"C:\\Users\\UX310UQ\\Anaconda3\\envs\\IaTopicos\\lib\\site-packages\\tensorflow\\python\\training\\saver.py\", line 1347, in build\n    self._build(self._filename, build_save=True, build_restore=True)\n  File \"C:\\Users\\UX310UQ\\Anaconda3\\envs\\IaTopicos\\lib\\site-packages\\tensorflow\\python\\training\\saver.py\", line 1384, in _build\n    build_save=build_save, build_restore=build_restore)\n  File \"C:\\Users\\UX310UQ\\Anaconda3\\envs\\IaTopicos\\lib\\site-packages\\tensorflow\\python\\training\\saver.py\", line 835, in _build_internal\n    restore_sequentially, reshape)\n  File \"C:\\Users\\UX310UQ\\Anaconda3\\envs\\IaTopicos\\lib\\site-packages\\tensorflow\\python\\training\\saver.py\", line 494, in _AddRestoreOps\n    assign_ops.append(saveable.restore(saveable_tensors, shapes))\n  File \"C:\\Users\\UX310UQ\\Anaconda3\\envs\\IaTopicos\\lib\\site-packages\\tensorflow\\python\\training\\saver.py\", line 185, in restore\n    self.op.get_shape().is_fully_defined())\n  File \"C:\\Users\\UX310UQ\\Anaconda3\\envs\\IaTopicos\\lib\\site-packages\\tensorflow\\python\\ops\\state_ops.py\", line 283, in assign\n    validate_shape=validate_shape)\n  File \"C:\\Users\\UX310UQ\\Anaconda3\\envs\\IaTopicos\\lib\\site-packages\\tensorflow\\python\\ops\\gen_state_ops.py\", line 59, in assign\n    use_locking=use_locking, name=name)\n  File \"C:\\Users\\UX310UQ\\Anaconda3\\envs\\IaTopicos\\lib\\site-packages\\tensorflow\\python\\framework\\op_def_library.py\", line 787, in _apply_op_helper\n    op_def=op_def)\n  File \"C:\\Users\\UX310UQ\\Anaconda3\\envs\\IaTopicos\\lib\\site-packages\\tensorflow\\python\\framework\\ops.py\", line 3392, in create_op\n    op_def=op_def)\n  File \"C:\\Users\\UX310UQ\\Anaconda3\\envs\\IaTopicos\\lib\\site-packages\\tensorflow\\python\\framework\\ops.py\", line 1718, in __init__\n    self._traceback = self._graph._extract_stack()  # pylint: disable=protected-access\n\nInvalidArgumentError (see above for traceback): Assign requires shapes of both tensors to match. lhs shape= [3141,83,300] rhs shape= [88,83,300]\n\t [[Node: save/Assign = Assign[T=DT_FLOAT, _class=[\"loc:@embeddings/Variable\"], use_locking=true, validate_shape=true, _device=\"/job:localhost/replica:0/task:0/device:CPU:0\"](embeddings/Variable, save/RestoreV2)]]\n",
     "output_type": "error",
     "traceback": [
      "\u001b[1;31m---------------------------------------------------------------------------\u001b[0m",
      "\u001b[1;31mInvalidArgumentError\u001b[0m                      Traceback (most recent call last)",
      "\u001b[1;32m~\\Anaconda3\\envs\\IaTopicos\\lib\\site-packages\\tensorflow\\python\\client\\session.py\u001b[0m in \u001b[0;36m_do_call\u001b[1;34m(self, fn, *args)\u001b[0m\n\u001b[0;32m   1321\u001b[0m     \u001b[1;32mtry\u001b[0m\u001b[1;33m:\u001b[0m\u001b[1;33m\u001b[0m\u001b[0m\n\u001b[1;32m-> 1322\u001b[1;33m       \u001b[1;32mreturn\u001b[0m \u001b[0mfn\u001b[0m\u001b[1;33m(\u001b[0m\u001b[1;33m*\u001b[0m\u001b[0margs\u001b[0m\u001b[1;33m)\u001b[0m\u001b[1;33m\u001b[0m\u001b[0m\n\u001b[0m\u001b[0;32m   1323\u001b[0m     \u001b[1;32mexcept\u001b[0m \u001b[0merrors\u001b[0m\u001b[1;33m.\u001b[0m\u001b[0mOpError\u001b[0m \u001b[1;32mas\u001b[0m \u001b[0me\u001b[0m\u001b[1;33m:\u001b[0m\u001b[1;33m\u001b[0m\u001b[0m\n",
      "\u001b[1;32m~\\Anaconda3\\envs\\IaTopicos\\lib\\site-packages\\tensorflow\\python\\client\\session.py\u001b[0m in \u001b[0;36m_run_fn\u001b[1;34m(feed_dict, fetch_list, target_list, options, run_metadata)\u001b[0m\n\u001b[0;32m   1306\u001b[0m       return self._call_tf_sessionrun(\n\u001b[1;32m-> 1307\u001b[1;33m           options, feed_dict, fetch_list, target_list, run_metadata)\n\u001b[0m\u001b[0;32m   1308\u001b[0m \u001b[1;33m\u001b[0m\u001b[0m\n",
      "\u001b[1;32m~\\Anaconda3\\envs\\IaTopicos\\lib\\site-packages\\tensorflow\\python\\client\\session.py\u001b[0m in \u001b[0;36m_call_tf_sessionrun\u001b[1;34m(self, options, feed_dict, fetch_list, target_list, run_metadata)\u001b[0m\n\u001b[0;32m   1408\u001b[0m           \u001b[0mself\u001b[0m\u001b[1;33m.\u001b[0m\u001b[0m_session\u001b[0m\u001b[1;33m,\u001b[0m \u001b[0moptions\u001b[0m\u001b[1;33m,\u001b[0m \u001b[0mfeed_dict\u001b[0m\u001b[1;33m,\u001b[0m \u001b[0mfetch_list\u001b[0m\u001b[1;33m,\u001b[0m \u001b[0mtarget_list\u001b[0m\u001b[1;33m,\u001b[0m\u001b[1;33m\u001b[0m\u001b[0m\n\u001b[1;32m-> 1409\u001b[1;33m           run_metadata)\n\u001b[0m\u001b[0;32m   1410\u001b[0m     \u001b[1;32melse\u001b[0m\u001b[1;33m:\u001b[0m\u001b[1;33m\u001b[0m\u001b[0m\n",
      "\u001b[1;31mInvalidArgumentError\u001b[0m: Assign requires shapes of both tensors to match. lhs shape= [3141,83,300] rhs shape= [88,83,300]\n\t [[Node: save/Assign = Assign[T=DT_FLOAT, _class=[\"loc:@embeddings/Variable\"], use_locking=true, validate_shape=true, _device=\"/job:localhost/replica:0/task:0/device:CPU:0\"](embeddings/Variable, save/RestoreV2)]]",
      "\nDuring handling of the above exception, another exception occurred:\n",
      "\u001b[1;31mInvalidArgumentError\u001b[0m                      Traceback (most recent call last)",
      "\u001b[1;32m<ipython-input-195-5f87938c8171>\u001b[0m in \u001b[0;36m<module>\u001b[1;34m()\u001b[0m\n\u001b[0;32m      1\u001b[0m \u001b[1;31m# Make predictions using the best 3 models\u001b[0m\u001b[1;33m\u001b[0m\u001b[1;33m\u001b[0m\u001b[0m\n\u001b[1;32m----> 2\u001b[1;33m \u001b[0mpredictions1\u001b[0m \u001b[1;33m=\u001b[0m \u001b[0mmake_predictions\u001b[0m\u001b[1;33m(\u001b[0m\u001b[0mcheckpoint1\u001b[0m\u001b[1;33m)\u001b[0m\u001b[1;33m\u001b[0m\u001b[0m\n\u001b[0m",
      "\u001b[1;32m<ipython-input-193-cb3d9b33c9cb>\u001b[0m in \u001b[0;36mmake_predictions\u001b[1;34m(checkpoint)\u001b[0m\n\u001b[0;32m     16\u001b[0m         \u001b[0msaver\u001b[0m \u001b[1;33m=\u001b[0m \u001b[0mtf\u001b[0m\u001b[1;33m.\u001b[0m\u001b[0mtrain\u001b[0m\u001b[1;33m.\u001b[0m\u001b[0mSaver\u001b[0m\u001b[1;33m(\u001b[0m\u001b[1;33m)\u001b[0m\u001b[1;33m\u001b[0m\u001b[0m\n\u001b[0;32m     17\u001b[0m         \u001b[1;31m# Load the model\u001b[0m\u001b[1;33m\u001b[0m\u001b[1;33m\u001b[0m\u001b[0m\n\u001b[1;32m---> 18\u001b[1;33m         \u001b[0msaver\u001b[0m\u001b[1;33m.\u001b[0m\u001b[0mrestore\u001b[0m\u001b[1;33m(\u001b[0m\u001b[0msess\u001b[0m\u001b[1;33m,\u001b[0m \u001b[0mcheckpoint\u001b[0m\u001b[1;33m)\u001b[0m\u001b[1;33m\u001b[0m\u001b[0m\n\u001b[0m\u001b[0;32m     19\u001b[0m         \u001b[0mtest_state\u001b[0m \u001b[1;33m=\u001b[0m \u001b[0msess\u001b[0m\u001b[1;33m.\u001b[0m\u001b[0mrun\u001b[0m\u001b[1;33m(\u001b[0m\u001b[0mmodel\u001b[0m\u001b[1;33m.\u001b[0m\u001b[0minitial_state\u001b[0m\u001b[1;33m)\u001b[0m\u001b[1;33m\u001b[0m\u001b[0m\n\u001b[0;32m     20\u001b[0m \u001b[1;33m\u001b[0m\u001b[0m\n",
      "\u001b[1;32m~\\Anaconda3\\envs\\IaTopicos\\lib\\site-packages\\tensorflow\\python\\training\\saver.py\u001b[0m in \u001b[0;36mrestore\u001b[1;34m(self, sess, save_path)\u001b[0m\n\u001b[0;32m   1800\u001b[0m     \u001b[1;32melse\u001b[0m\u001b[1;33m:\u001b[0m\u001b[1;33m\u001b[0m\u001b[0m\n\u001b[0;32m   1801\u001b[0m       sess.run(self.saver_def.restore_op_name,\n\u001b[1;32m-> 1802\u001b[1;33m                {self.saver_def.filename_tensor_name: save_path})\n\u001b[0m\u001b[0;32m   1803\u001b[0m \u001b[1;33m\u001b[0m\u001b[0m\n\u001b[0;32m   1804\u001b[0m   \u001b[1;33m@\u001b[0m\u001b[0mstaticmethod\u001b[0m\u001b[1;33m\u001b[0m\u001b[0m\n",
      "\u001b[1;32m~\\Anaconda3\\envs\\IaTopicos\\lib\\site-packages\\tensorflow\\python\\client\\session.py\u001b[0m in \u001b[0;36mrun\u001b[1;34m(self, fetches, feed_dict, options, run_metadata)\u001b[0m\n\u001b[0;32m    898\u001b[0m     \u001b[1;32mtry\u001b[0m\u001b[1;33m:\u001b[0m\u001b[1;33m\u001b[0m\u001b[0m\n\u001b[0;32m    899\u001b[0m       result = self._run(None, fetches, feed_dict, options_ptr,\n\u001b[1;32m--> 900\u001b[1;33m                          run_metadata_ptr)\n\u001b[0m\u001b[0;32m    901\u001b[0m       \u001b[1;32mif\u001b[0m \u001b[0mrun_metadata\u001b[0m\u001b[1;33m:\u001b[0m\u001b[1;33m\u001b[0m\u001b[0m\n\u001b[0;32m    902\u001b[0m         \u001b[0mproto_data\u001b[0m \u001b[1;33m=\u001b[0m \u001b[0mtf_session\u001b[0m\u001b[1;33m.\u001b[0m\u001b[0mTF_GetBuffer\u001b[0m\u001b[1;33m(\u001b[0m\u001b[0mrun_metadata_ptr\u001b[0m\u001b[1;33m)\u001b[0m\u001b[1;33m\u001b[0m\u001b[0m\n",
      "\u001b[1;32m~\\Anaconda3\\envs\\IaTopicos\\lib\\site-packages\\tensorflow\\python\\client\\session.py\u001b[0m in \u001b[0;36m_run\u001b[1;34m(self, handle, fetches, feed_dict, options, run_metadata)\u001b[0m\n\u001b[0;32m   1133\u001b[0m     \u001b[1;32mif\u001b[0m \u001b[0mfinal_fetches\u001b[0m \u001b[1;32mor\u001b[0m \u001b[0mfinal_targets\u001b[0m \u001b[1;32mor\u001b[0m \u001b[1;33m(\u001b[0m\u001b[0mhandle\u001b[0m \u001b[1;32mand\u001b[0m \u001b[0mfeed_dict_tensor\u001b[0m\u001b[1;33m)\u001b[0m\u001b[1;33m:\u001b[0m\u001b[1;33m\u001b[0m\u001b[0m\n\u001b[0;32m   1134\u001b[0m       results = self._do_run(handle, final_targets, final_fetches,\n\u001b[1;32m-> 1135\u001b[1;33m                              feed_dict_tensor, options, run_metadata)\n\u001b[0m\u001b[0;32m   1136\u001b[0m     \u001b[1;32melse\u001b[0m\u001b[1;33m:\u001b[0m\u001b[1;33m\u001b[0m\u001b[0m\n\u001b[0;32m   1137\u001b[0m       \u001b[0mresults\u001b[0m \u001b[1;33m=\u001b[0m \u001b[1;33m[\u001b[0m\u001b[1;33m]\u001b[0m\u001b[1;33m\u001b[0m\u001b[0m\n",
      "\u001b[1;32m~\\Anaconda3\\envs\\IaTopicos\\lib\\site-packages\\tensorflow\\python\\client\\session.py\u001b[0m in \u001b[0;36m_do_run\u001b[1;34m(self, handle, target_list, fetch_list, feed_dict, options, run_metadata)\u001b[0m\n\u001b[0;32m   1314\u001b[0m     \u001b[1;32mif\u001b[0m \u001b[0mhandle\u001b[0m \u001b[1;32mis\u001b[0m \u001b[1;32mNone\u001b[0m\u001b[1;33m:\u001b[0m\u001b[1;33m\u001b[0m\u001b[0m\n\u001b[0;32m   1315\u001b[0m       return self._do_call(_run_fn, feeds, fetches, targets, options,\n\u001b[1;32m-> 1316\u001b[1;33m                            run_metadata)\n\u001b[0m\u001b[0;32m   1317\u001b[0m     \u001b[1;32melse\u001b[0m\u001b[1;33m:\u001b[0m\u001b[1;33m\u001b[0m\u001b[0m\n\u001b[0;32m   1318\u001b[0m       \u001b[1;32mreturn\u001b[0m \u001b[0mself\u001b[0m\u001b[1;33m.\u001b[0m\u001b[0m_do_call\u001b[0m\u001b[1;33m(\u001b[0m\u001b[0m_prun_fn\u001b[0m\u001b[1;33m,\u001b[0m \u001b[0mhandle\u001b[0m\u001b[1;33m,\u001b[0m \u001b[0mfeeds\u001b[0m\u001b[1;33m,\u001b[0m \u001b[0mfetches\u001b[0m\u001b[1;33m)\u001b[0m\u001b[1;33m\u001b[0m\u001b[0m\n",
      "\u001b[1;32m~\\Anaconda3\\envs\\IaTopicos\\lib\\site-packages\\tensorflow\\python\\client\\session.py\u001b[0m in \u001b[0;36m_do_call\u001b[1;34m(self, fn, *args)\u001b[0m\n\u001b[0;32m   1333\u001b[0m         \u001b[1;32mexcept\u001b[0m \u001b[0mKeyError\u001b[0m\u001b[1;33m:\u001b[0m\u001b[1;33m\u001b[0m\u001b[0m\n\u001b[0;32m   1334\u001b[0m           \u001b[1;32mpass\u001b[0m\u001b[1;33m\u001b[0m\u001b[0m\n\u001b[1;32m-> 1335\u001b[1;33m       \u001b[1;32mraise\u001b[0m \u001b[0mtype\u001b[0m\u001b[1;33m(\u001b[0m\u001b[0me\u001b[0m\u001b[1;33m)\u001b[0m\u001b[1;33m(\u001b[0m\u001b[0mnode_def\u001b[0m\u001b[1;33m,\u001b[0m \u001b[0mop\u001b[0m\u001b[1;33m,\u001b[0m \u001b[0mmessage\u001b[0m\u001b[1;33m)\u001b[0m\u001b[1;33m\u001b[0m\u001b[0m\n\u001b[0m\u001b[0;32m   1336\u001b[0m \u001b[1;33m\u001b[0m\u001b[0m\n\u001b[0;32m   1337\u001b[0m   \u001b[1;32mdef\u001b[0m \u001b[0m_extend_graph\u001b[0m\u001b[1;33m(\u001b[0m\u001b[0mself\u001b[0m\u001b[1;33m)\u001b[0m\u001b[1;33m:\u001b[0m\u001b[1;33m\u001b[0m\u001b[0m\n",
      "\u001b[1;31mInvalidArgumentError\u001b[0m: Assign requires shapes of both tensors to match. lhs shape= [3141,83,300] rhs shape= [88,83,300]\n\t [[Node: save/Assign = Assign[T=DT_FLOAT, _class=[\"loc:@embeddings/Variable\"], use_locking=true, validate_shape=true, _device=\"/job:localhost/replica:0/task:0/device:CPU:0\"](embeddings/Variable, save/RestoreV2)]]\n\nCaused by op 'save/Assign', defined at:\n  File \"C:\\Users\\UX310UQ\\Anaconda3\\envs\\IaTopicos\\lib\\runpy.py\", line 193, in _run_module_as_main\n    \"__main__\", mod_spec)\n  File \"C:\\Users\\UX310UQ\\Anaconda3\\envs\\IaTopicos\\lib\\runpy.py\", line 85, in _run_code\n    exec(code, run_globals)\n  File \"C:\\Users\\UX310UQ\\Anaconda3\\envs\\IaTopicos\\lib\\site-packages\\ipykernel_launcher.py\", line 16, in <module>\n    app.launch_new_instance()\n  File \"C:\\Users\\UX310UQ\\Anaconda3\\envs\\IaTopicos\\lib\\site-packages\\traitlets\\config\\application.py\", line 658, in launch_instance\n    app.start()\n  File \"C:\\Users\\UX310UQ\\Anaconda3\\envs\\IaTopicos\\lib\\site-packages\\ipykernel\\kernelapp.py\", line 486, in start\n    self.io_loop.start()\n  File \"C:\\Users\\UX310UQ\\Anaconda3\\envs\\IaTopicos\\lib\\site-packages\\tornado\\platform\\asyncio.py\", line 127, in start\n    self.asyncio_loop.run_forever()\n  File \"C:\\Users\\UX310UQ\\Anaconda3\\envs\\IaTopicos\\lib\\asyncio\\base_events.py\", line 422, in run_forever\n    self._run_once()\n  File \"C:\\Users\\UX310UQ\\Anaconda3\\envs\\IaTopicos\\lib\\asyncio\\base_events.py\", line 1432, in _run_once\n    handle._run()\n  File \"C:\\Users\\UX310UQ\\Anaconda3\\envs\\IaTopicos\\lib\\asyncio\\events.py\", line 145, in _run\n    self._callback(*self._args)\n  File \"C:\\Users\\UX310UQ\\Anaconda3\\envs\\IaTopicos\\lib\\site-packages\\tornado\\platform\\asyncio.py\", line 117, in _handle_events\n    handler_func(fileobj, events)\n  File \"C:\\Users\\UX310UQ\\Anaconda3\\envs\\IaTopicos\\lib\\site-packages\\tornado\\stack_context.py\", line 276, in null_wrapper\n    return fn(*args, **kwargs)\n  File \"C:\\Users\\UX310UQ\\Anaconda3\\envs\\IaTopicos\\lib\\site-packages\\zmq\\eventloop\\zmqstream.py\", line 450, in _handle_events\n    self._handle_recv()\n  File \"C:\\Users\\UX310UQ\\Anaconda3\\envs\\IaTopicos\\lib\\site-packages\\zmq\\eventloop\\zmqstream.py\", line 480, in _handle_recv\n    self._run_callback(callback, msg)\n  File \"C:\\Users\\UX310UQ\\Anaconda3\\envs\\IaTopicos\\lib\\site-packages\\zmq\\eventloop\\zmqstream.py\", line 432, in _run_callback\n    callback(*args, **kwargs)\n  File \"C:\\Users\\UX310UQ\\Anaconda3\\envs\\IaTopicos\\lib\\site-packages\\tornado\\stack_context.py\", line 276, in null_wrapper\n    return fn(*args, **kwargs)\n  File \"C:\\Users\\UX310UQ\\Anaconda3\\envs\\IaTopicos\\lib\\site-packages\\ipykernel\\kernelbase.py\", line 283, in dispatcher\n    return self.dispatch_shell(stream, msg)\n  File \"C:\\Users\\UX310UQ\\Anaconda3\\envs\\IaTopicos\\lib\\site-packages\\ipykernel\\kernelbase.py\", line 233, in dispatch_shell\n    handler(stream, idents, msg)\n  File \"C:\\Users\\UX310UQ\\Anaconda3\\envs\\IaTopicos\\lib\\site-packages\\ipykernel\\kernelbase.py\", line 399, in execute_request\n    user_expressions, allow_stdin)\n  File \"C:\\Users\\UX310UQ\\Anaconda3\\envs\\IaTopicos\\lib\\site-packages\\ipykernel\\ipkernel.py\", line 208, in do_execute\n    res = shell.run_cell(code, store_history=store_history, silent=silent)\n  File \"C:\\Users\\UX310UQ\\Anaconda3\\envs\\IaTopicos\\lib\\site-packages\\ipykernel\\zmqshell.py\", line 537, in run_cell\n    return super(ZMQInteractiveShell, self).run_cell(*args, **kwargs)\n  File \"C:\\Users\\UX310UQ\\Anaconda3\\envs\\IaTopicos\\lib\\site-packages\\IPython\\core\\interactiveshell.py\", line 2662, in run_cell\n    raw_cell, store_history, silent, shell_futures)\n  File \"C:\\Users\\UX310UQ\\Anaconda3\\envs\\IaTopicos\\lib\\site-packages\\IPython\\core\\interactiveshell.py\", line 2785, in _run_cell\n    interactivity=interactivity, compiler=compiler, result=result)\n  File \"C:\\Users\\UX310UQ\\Anaconda3\\envs\\IaTopicos\\lib\\site-packages\\IPython\\core\\interactiveshell.py\", line 2903, in run_ast_nodes\n    if self.run_code(code, result):\n  File \"C:\\Users\\UX310UQ\\Anaconda3\\envs\\IaTopicos\\lib\\site-packages\\IPython\\core\\interactiveshell.py\", line 2963, in run_code\n    exec(code_obj, self.user_global_ns, self.user_ns)\n  File \"<ipython-input-195-5f87938c8171>\", line 2, in <module>\n    predictions1 = make_predictions(checkpoint1)\n  File \"<ipython-input-193-cb3d9b33c9cb>\", line 16, in make_predictions\n    saver = tf.train.Saver()\n  File \"C:\\Users\\UX310UQ\\Anaconda3\\envs\\IaTopicos\\lib\\site-packages\\tensorflow\\python\\training\\saver.py\", line 1338, in __init__\n    self.build()\n  File \"C:\\Users\\UX310UQ\\Anaconda3\\envs\\IaTopicos\\lib\\site-packages\\tensorflow\\python\\training\\saver.py\", line 1347, in build\n    self._build(self._filename, build_save=True, build_restore=True)\n  File \"C:\\Users\\UX310UQ\\Anaconda3\\envs\\IaTopicos\\lib\\site-packages\\tensorflow\\python\\training\\saver.py\", line 1384, in _build\n    build_save=build_save, build_restore=build_restore)\n  File \"C:\\Users\\UX310UQ\\Anaconda3\\envs\\IaTopicos\\lib\\site-packages\\tensorflow\\python\\training\\saver.py\", line 835, in _build_internal\n    restore_sequentially, reshape)\n  File \"C:\\Users\\UX310UQ\\Anaconda3\\envs\\IaTopicos\\lib\\site-packages\\tensorflow\\python\\training\\saver.py\", line 494, in _AddRestoreOps\n    assign_ops.append(saveable.restore(saveable_tensors, shapes))\n  File \"C:\\Users\\UX310UQ\\Anaconda3\\envs\\IaTopicos\\lib\\site-packages\\tensorflow\\python\\training\\saver.py\", line 185, in restore\n    self.op.get_shape().is_fully_defined())\n  File \"C:\\Users\\UX310UQ\\Anaconda3\\envs\\IaTopicos\\lib\\site-packages\\tensorflow\\python\\ops\\state_ops.py\", line 283, in assign\n    validate_shape=validate_shape)\n  File \"C:\\Users\\UX310UQ\\Anaconda3\\envs\\IaTopicos\\lib\\site-packages\\tensorflow\\python\\ops\\gen_state_ops.py\", line 59, in assign\n    use_locking=use_locking, name=name)\n  File \"C:\\Users\\UX310UQ\\Anaconda3\\envs\\IaTopicos\\lib\\site-packages\\tensorflow\\python\\framework\\op_def_library.py\", line 787, in _apply_op_helper\n    op_def=op_def)\n  File \"C:\\Users\\UX310UQ\\Anaconda3\\envs\\IaTopicos\\lib\\site-packages\\tensorflow\\python\\framework\\ops.py\", line 3392, in create_op\n    op_def=op_def)\n  File \"C:\\Users\\UX310UQ\\Anaconda3\\envs\\IaTopicos\\lib\\site-packages\\tensorflow\\python\\framework\\ops.py\", line 1718, in __init__\n    self._traceback = self._graph._extract_stack()  # pylint: disable=protected-access\n\nInvalidArgumentError (see above for traceback): Assign requires shapes of both tensors to match. lhs shape= [3141,83,300] rhs shape= [88,83,300]\n\t [[Node: save/Assign = Assign[T=DT_FLOAT, _class=[\"loc:@embeddings/Variable\"], use_locking=true, validate_shape=true, _device=\"/job:localhost/replica:0/task:0/device:CPU:0\"](embeddings/Variable, save/RestoreV2)]]\n"
     ]
    }
   ],
   "source": [
    "# Make predictions using the best 3 models\n",
    "predictions1 = make_predictions(checkpoint1)"
   ]
  },
  {
   "cell_type": "code",
   "execution_count": null,
   "metadata": {},
   "outputs": [],
   "source": []
  },
  {
   "cell_type": "code",
   "execution_count": null,
   "metadata": {},
   "outputs": [],
   "source": []
  },
  {
   "cell_type": "code",
   "execution_count": null,
   "metadata": {},
   "outputs": [],
   "source": []
  },
  {
   "cell_type": "markdown",
   "metadata": {},
   "source": [
    "Tensorboar"
   ]
  },
  {
   "cell_type": "code",
   "execution_count": 76,
   "metadata": {},
   "outputs": [],
   "source": [
    "import datetime\n",
    "def board(sess):\n",
    "    tf.summary.scalar('Loss', loss)\n",
    "    tf.summary.scalar('Accuracy', accuracy)\n",
    "    tf.summary.histogram(\"Histogrma/hAccu\", accuracy)\n",
    "    merged = tf.summary.merge_all()\n",
    "    logdir = \"board/\" + datetime.datetime.now().strftime(\"%Y%m%d-%H%M%S\") + \"/\"\n",
    "    writer = tf.summary.FileWriter(logdir, sess.graph)\n",
    "    return merged,writer"
   ]
  },
  {
   "cell_type": "markdown",
   "metadata": {},
   "source": [
    "Confusion Matrix Plot"
   ]
  },
  {
   "cell_type": "code",
   "execution_count": 72,
   "metadata": {},
   "outputs": [],
   "source": [
    "import itertools\n",
    "def plot_confusion_matrix(cm, classes,\n",
    "                          normalize=False,\n",
    "                          title='Confusion matrix',\n",
    "                          cmap=plt.cm.Blues):\n",
    "    \"\"\"\n",
    "    This function prints and plots the confusion matrix.\n",
    "    Normalization can be applied by setting `normalize=True`.\n",
    "    \"\"\"\n",
    "    if normalize:\n",
    "        cm = cm.astype('float') / cm.sum(axis=1)[:, np.newaxis]\n",
    "        print(\"Normalized confusion matrix\")\n",
    "    else:\n",
    "        print('Confusion matrix, without normalization')\n",
    "\n",
    "    print(cm)\n",
    "\n",
    "    plt.imshow(cm, interpolation='nearest', cmap=cmap)\n",
    "    plt.title(title)\n",
    "    plt.colorbar()\n",
    "    tick_marks = np.arange(len(classes))\n",
    "    plt.xticks(tick_marks, classes, rotation=45)\n",
    "    plt.yticks(tick_marks, classes)\n",
    "\n",
    "    fmt = '.2f' if normalize else 'd'\n",
    "    thresh = cm.max() / 2.\n",
    "    for i, j in itertools.product(range(cm.shape[0]), range(cm.shape[1])):\n",
    "        plt.text(j, i, format(cm[i, j], fmt),\n",
    "                 horizontalalignment=\"center\",\n",
    "                 color=\"white\" if cm[i, j] > thresh else \"black\")\n",
    "\n",
    "    plt.ylabel('True label')\n",
    "    plt.xlabel('Predicted label')\n",
    "    plt.tight_layout()"
   ]
  },
  {
   "cell_type": "code",
   "execution_count": null,
   "metadata": {},
   "outputs": [],
   "source": []
  },
  {
   "cell_type": "code",
   "execution_count": null,
   "metadata": {},
   "outputs": [],
   "source": []
  },
  {
   "cell_type": "code",
   "execution_count": 84,
   "metadata": {},
   "outputs": [
    {
     "name": "stdout",
     "output_type": "stream",
     "text": [
      "Balance Counter({4: 1257, 3: 941, 1: 902, 2: 860})\n"
     ]
    }
   ],
   "source": [
    "from collections import Counter\n",
    "from sklearn.datasets import make_classification\n",
    "from imblearn.over_sampling import SMOTE  \n",
    "print('Balance',Counter(emotions))"
   ]
  },
  {
   "cell_type": "code",
   "execution_count": null,
   "metadata": {},
   "outputs": [],
   "source": [
    "from imblearn.over_sampling import SMOTE, ADASYN\n",
    "#Banlancea ADASYN\n",
    "X_balance, Y_balance = ADASYN().fit_sample(X,emotions)\n",
    "print('Balance',Counter(Y_balance))"
   ]
  },
  {
   "cell_type": "code",
   "execution_count": 48,
   "metadata": {},
   "outputs": [
    {
     "name": "stdout",
     "output_type": "stream",
     "text": [
      "(7836, 15)   (7836,)\n",
      "3695   3695\n"
     ]
    }
   ],
   "source": [
    "print(X_balance.shape,\" \",Y_balance.shape)\n",
    "print(len(X),\" \",len(emotion))"
   ]
  },
  {
   "cell_type": "code",
   "execution_count": 49,
   "metadata": {},
   "outputs": [
    {
     "name": "stdout",
     "output_type": "stream",
     "text": [
      "X_train:  6817   Y_train:  6817   X_test:  1019   Y_test:  1019\n"
     ]
    }
   ],
   "source": [
    "X_train_b, X_test_b, Y_train_b, Y_test_b = train_test_split(X_balance, Y_balance, test_size=0.13, random_state=random.randrange(50), stratify=Y_balance)\n",
    "print(\"X_train: \",len(X_train_b),\"  Y_train: \",len(Y_train_b),\"  X_test: \",len(X_test_b),\"  Y_test: \",len(Y_test_b))"
   ]
  },
  {
   "cell_type": "code",
   "execution_count": 50,
   "metadata": {},
   "outputs": [],
   "source": [
    "Y_train_b = toLabels(Y_train_b)\n",
    "Y_test_b = toLabels(Y_test_b)"
   ]
  },
  {
   "cell_type": "markdown",
   "metadata": {},
   "source": [
    "Otro Modelo: Solo balanceamos Trainset"
   ]
  },
  {
   "cell_type": "code",
   "execution_count": null,
   "metadata": {},
   "outputs": [],
   "source": [
    "#Averogua ottros modelos\n",
    "#Cambie el keep_drop\n",
    "#Cambia learning rate\n",
    "#Cambie num unidades 128?\n",
    "#Prueba con tu modelo"
   ]
  },
  {
   "cell_type": "code",
   "execution_count": null,
   "metadata": {},
   "outputs": [],
   "source": []
  },
  {
   "cell_type": "code",
   "execution_count": null,
   "metadata": {},
   "outputs": [],
   "source": [
    "def train(model, epochs, log_string):\n",
    "    '''Train the RNN'''\n",
    "\n",
    "    saver = tf.train.Saver()\n",
    "    \n",
    "    with tf.Session() as sess:\n",
    "        sess.run(tf.global_variables_initializer())\n",
    "\n",
    "        # Used to determine when to stop the training early\n",
    "        valid_loss_summary = []\n",
    "        \n",
    "        # Metrics Presicion, recall and F1 measure\n",
    "        val_pre = []\n",
    "        val_recall = []\n",
    "        val_f1 = []\n",
    "        \n",
    "        # Keep track of which batch iteration is being trained\n",
    "        iteration = 0\n",
    "\n",
    "        print()\n",
    "        print(\"Training Model: {}\".format(log_string))\n",
    "\n",
    "        train_writer = tf.summary.FileWriter('./logs/3/train/{}'.format(log_string), sess.graph)\n",
    "        valid_writer = tf.summary.FileWriter('./logs/3/valid/{}'.format(log_string))\n",
    "\n",
    "        for e in range(epochs):\n",
    "            state = sess.run(model.initial_state)\n",
    "            \n",
    "            # Record progress with each epoch\n",
    "            train_loss = []\n",
    "            train_acc = []\n",
    "            val_acc = []\n",
    "            val_loss = []\n",
    "            \n",
    "            #Create X groups of (50,6) Labels && (50,maximum) Examples\n",
    "            numEjemplos = 3168  \n",
    "            total_batch = int(numEjemplos/batchSize)\n",
    "            X_batches = np.array_split(X_train, total_batch)\n",
    "            Y_batches = np.array_split(Y_train, total_batch)\n",
    "\n",
    "            #Train Cycle\n",
    "            with tqdm(total=len(X_train)) as pbar: #Barra de progreso !!!\n",
    "                for i in range(total_batch):\n",
    "                    batch_x, batch_y = X_batches[i], Y_batches[i]\n",
    "                    feed = {model.inputs: batch_x,\n",
    "                            model.labels: batch_y,\n",
    "                            model.keep_prob: dropout,\n",
    "                            model.initial_state: state}\n",
    "                    summary, loss, acc, state, _ = sess.run([model.merged, \n",
    "                                                             model.cost, \n",
    "                                                             model.accuracy, \n",
    "                                                             model.final_state, \n",
    "                                                             model.optimizer], \n",
    "                                                            feed_dict=feed)\n",
    "\n",
    "                    # Record the loss and accuracy of each training batch\n",
    "                    train_loss.append(loss)\n",
    "                    train_acc.append(acc)\n",
    "                    \n",
    "                    # Record the progress of training\n",
    "                    train_writer.add_summary(summary, iteration)\n",
    "                    \n",
    "                    iteration += 1\n",
    "                    pbar.update(batchSize)\n",
    "            \n",
    "            # Average the training loss and accuracy of each epoch\n",
    "            avg_train_loss = np.mean(train_loss)\n",
    "            avg_train_acc = np.mean(train_acc) \n",
    "\n",
    "            #Create X train batchs of batchSize\n",
    "            numEjemplos = 792  \n",
    "            total_batch = int(numEjemplos/batchSize)\n",
    "            \n",
    "            X_batches = np.array_split(X_test, total_batch)\n",
    "            Y_batches = np.array_split(Y_test, total_batch)\n",
    "                \n",
    "            #Valid Cycle\n",
    "            val_state = sess.run(model.initial_state)\n",
    "            with tqdm(total=len(X_test)) as pbar:\n",
    "                for i in range(total_batch):\n",
    "                    batch_x, batch_y = X_batches[i], Y_batches[i]\n",
    "                    feed = {model.inputs: batch_x,\n",
    "                            model.labels: batch_y,\n",
    "                            model.keep_prob: 1,\n",
    "                            model.initial_state: val_state}\n",
    "                    summary, batch_loss, batch_acc, val_state, batch_pre = sess.run([model.merged, \n",
    "                                                                          model.cost, \n",
    "                                                                          model.accuracy, \n",
    "                                                                          model.final_state,\n",
    "                                                                          model.prediction], \n",
    "                                                                         feed_dict=feed)\n",
    "                    \n",
    "                    \n",
    "                    #Converting predictions to np.array \n",
    "                    y_pred = tf.argmax(batch_pre , 1).eval({model.inputs: batch_x, model.labels: batch_y})\n",
    "                    y_true = (tf.argmax(batch_y , 1).eval()) \n",
    "                    precision = precision_score(y_true, y_pred, average=None)\n",
    "                    recall = recall_score(y_true, y_pred, average=None)\n",
    "                    f1 = f1_score(y_true, y_pred, average=None)\n",
    "                    \n",
    "                    # Record the validation loss and accuracy of each epoch\n",
    "                    val_loss.append(batch_loss)\n",
    "                    val_acc.append(batch_acc)\n",
    "                    val_pre.append(precision)\n",
    "                    val_recall.append(recall)\n",
    "                    val_f1.append(f1)\n",
    "                    pbar.update(batchSize)\n",
    "                    \n",
    "                    \n",
    "            \n",
    "            # Average the validation loss and accuracy of each epoch\n",
    "            avg_valid_loss = np.mean(val_loss)    \n",
    "            avg_valid_acc = np.mean(val_acc)\n",
    "            valid_loss_summary.append(avg_valid_loss)\n",
    "            avg_pre = np.mean(val_pre)\n",
    "            avg_recall = np.mean(val_recall)\n",
    "            avg_f1 = np.mean(val_f1)\n",
    "            \n",
    "            # Record the validation data's progress\n",
    "            valid_writer.add_summary(summary, iteration)\n",
    "\n",
    "            # Print the progress of each epoch\n",
    "            print(\"Epoch: {}/{}\".format(e, epochs),\n",
    "                  \"Train Loss: {:.3f}\".format(avg_train_loss),\n",
    "                  \"Train Acc: {:.3f}\".format(avg_train_acc),\n",
    "                  \"Valid Loss: {:.3f}\".format(avg_valid_loss),\n",
    "                  \"Valid Acc: {:.3f}\".format(avg_valid_acc))\n",
    "\n",
    "            if e > 148:\n",
    "                print(\"Epoch: {}/{}\".format(e, epochs),\n",
    "                \"Train Loss: {:.3f}\".format(avg_train_loss),\n",
    "                \"Train Acc: {:.3f}\".format(avg_train_acc),\n",
    "                \"Valid Loss: {:.3f}\".format(avg_valid_loss),\n",
    "                \"Valid Acc: {:.3f}\".format(avg_valid_acc),\n",
    "                \"Valid Pre: {:.3f}\".format(avg_pre),\n",
    "                \"Valid Reca: {:.3f}\".format(avg_recall),\n",
    "                \"Valid F1: {:.3f}\".format(avg_f1))\n",
    "                \n",
    "                class_names = [\"Hapinnes\",\"Sadness\",\"Anger\",\"Fear\"]\n",
    "                print(classification_report(y_true, y_pred, target_names=class_names))\n",
    "                \n",
    "            # Stop training if the validation loss does not decrease after 3 epochs\n",
    "            if avg_valid_loss > min(valid_loss_summary):\n",
    "                print(\"No Improvement.\")\n",
    "                #-----stop_early += 1\n",
    "                if stop_early == 3:\n",
    "                    break   \n",
    "            \n",
    "            # Reset stop_early if the validation loss finds a new low\n",
    "            # Save a checkpoint of the model\n",
    "            else:\n",
    "                print(\"New Record!\")\n",
    "                stop_early = 0\n",
    "                checkpoint = \"C:/Users/UX310UQ/Desktop/CheckPoints/sentiment_{}.ckpt\".format(log_string)\n",
    "                saver.save(sess, checkpoint)"
   ]
  },
  {
   "cell_type": "code",
   "execution_count": null,
   "metadata": {},
   "outputs": [],
   "source": []
  },
  {
   "cell_type": "code",
   "execution_count": null,
   "metadata": {},
   "outputs": [],
   "source": []
  }
 ],
 "metadata": {
  "kernelspec": {
   "display_name": "Python 3",
   "language": "python",
   "name": "python3"
  },
  "language_info": {
   "codemirror_mode": {
    "name": "ipython",
    "version": 3
   },
   "file_extension": ".py",
   "mimetype": "text/x-python",
   "name": "python",
   "nbconvert_exporter": "python",
   "pygments_lexer": "ipython3",
   "version": "3.6.5"
  }
 },
 "nbformat": 4,
 "nbformat_minor": 2
}
