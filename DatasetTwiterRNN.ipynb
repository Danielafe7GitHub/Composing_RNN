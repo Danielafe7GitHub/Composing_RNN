{
 "cells": [
  {
   "cell_type": "code",
   "execution_count": 209,
   "metadata": {},
   "outputs": [],
   "source": [
    "#!/usr/bin/python\n",
    "import nltk\n",
    "import numpy as np\n",
    "import re\n",
    "import tensorflow as tf\n",
    "from nltk.corpus import stopwords\n",
    "from nltk.tokenize import WordPunctTokenizer\n",
    "from random import randint\n",
    "from sklearn.model_selection import train_test_split\n",
    "import random\n",
    "import pandas as pd\n",
    "import itertools\n",
    "from nltk.stem.wordnet import WordNetLemmatizer \n",
    "from collections import namedtuple\n",
    "from collections import defaultdict\n",
    "from tqdm import tqdm\n",
    "from sklearn.metrics import precision_score\n",
    "from sklearn.metrics import f1_score\n",
    "from sklearn.metrics import recall_score\n",
    "from sklearn.metrics import classification_report\n",
    "from sklearn.metrics import confusion_matrix\n",
    "import math"
   ]
  },
  {
   "cell_type": "markdown",
   "metadata": {},
   "source": [
    "Importing Glove and  40000 words list "
   ]
  },
  {
   "cell_type": "code",
   "execution_count": 2,
   "metadata": {},
   "outputs": [
    {
     "name": "stdout",
     "output_type": "stream",
     "text": [
      "Loaded the word list!\n",
      "Loaded the word vectors!\n",
      "400000\n",
      "(400000, 50)\n",
      "closure\n",
      "[ 0.50653   0.12284  -0.11653  -0.21052  -1.0672   -0.17536   0.16253\n",
      "  0.76781   0.25517  -0.15995   0.025424 -0.65425  -0.44638  -0.19395\n",
      "  0.45319   1.0955    0.050096 -0.36712   0.1729    0.28393   0.85448\n",
      " -0.54932  -1.1816    0.066158 -0.58561  -0.84893   0.1947    0.37832\n",
      "  0.94141   0.62982   2.3869   -0.41035  -0.11599   0.049907 -0.41563\n",
      " -0.056999  1.5044   -0.93772  -0.16045   0.80019  -0.44448  -0.50036\n",
      "  0.065875  0.27778  -0.27505  -0.012317 -0.37458   0.49171  -0.35498\n",
      "  0.035347]\n"
     ]
    }
   ],
   "source": [
    "wordsList = np.load('wordsList.npy')\n",
    "print('Loaded the word list!')\n",
    "wordsList = wordsList.tolist() #Originally loaded as numpy array\n",
    "wordsList = [word.decode('UTF-8') for word in wordsList] #Encode words as UTF-8\n",
    "wordVectors = np.load('wordVectors.npy')\n",
    "print ('Loaded the word vectors!')\n",
    "print(len(wordsList))\n",
    "print(wordVectors.shape)\n",
    "print(wordsList[5066])\n",
    "print(wordVectors[5066][:])"
   ]
  },
  {
   "cell_type": "markdown",
   "metadata": {},
   "source": [
    "Importing the Dataset "
   ]
  },
  {
   "cell_type": "code",
   "execution_count": 27,
   "metadata": {},
   "outputs": [
    {
     "name": "stdout",
     "output_type": "stream",
     "text": [
      "anger   How the fu*k! Who the heck! moved my fridge!... should I knock the landlord door. #angry #mad ##\n",
      "Labels:  7102 Sentences:  7102\n"
     ]
    }
   ],
   "source": [
    "#--------------------Extracting Emotion && sentences from corpus\n",
    "def extract(dataset):\n",
    "    f = open(dataset, 'r+', encoding='utf-8')\n",
    "    linea = f.readline()\n",
    "    emotion = []\n",
    "    sentences = []\n",
    "    neutro = re.compile('^ne')\n",
    "    while linea != \"\":    \n",
    "        #Ignoramos Neutro emotions\n",
    "        if not re.match(neutro, linea):\n",
    "            #print(\"** \",linea)\n",
    "            linea = linea.split(\"**@**\")\n",
    "            #print(len(linea))\n",
    "            #Obtaining the emocion\n",
    "            emotion.append(linea[2])\n",
    "            sentences.append(linea[1])\n",
    "        linea = f.readline()\n",
    "    f.close()\n",
    "    return sentences,emotion\n",
    "\n",
    "dataset = \"TwitterDataset/Train/train_valid_test.txt\"\n",
    "sentences,emotions = extract(dataset)\n",
    "print(emotions[0],\" \",sentences[0])\n",
    "print(\"Labels: \",len(emotions), \"Sentences: \",len(sentences))"
   ]
  },
  {
   "cell_type": "code",
   "execution_count": 28,
   "metadata": {},
   "outputs": [],
   "source": [
    "import csv\n",
    "with open('TwitterDataset/Train/train__test_valid.csv', mode='w', encoding='utf-8') as emo_file:\n",
    "    emo_writer = csv.writer(emo_file, delimiter=',', quotechar='\"', quoting=csv.QUOTE_MINIMAL)\n",
    "    emo_writer.writerow(['Emotions', 'Sentence'])\n",
    "    for i in range(0,len(emotions)):\n",
    "        emo_writer.writerow([emotions[i],sentences[i]])"
   ]
  },
  {
   "cell_type": "code",
   "execution_count": 29,
   "metadata": {},
   "outputs": [
    {
     "data": {
      "text/html": [
       "<div>\n",
       "<style scoped>\n",
       "    .dataframe tbody tr th:only-of-type {\n",
       "        vertical-align: middle;\n",
       "    }\n",
       "\n",
       "    .dataframe tbody tr th {\n",
       "        vertical-align: top;\n",
       "    }\n",
       "\n",
       "    .dataframe thead th {\n",
       "        text-align: right;\n",
       "    }\n",
       "</style>\n",
       "<table border=\"1\" class=\"dataframe\">\n",
       "  <thead>\n",
       "    <tr style=\"text-align: right;\">\n",
       "      <th></th>\n",
       "      <th>Emotions</th>\n",
       "      <th>Sentence</th>\n",
       "    </tr>\n",
       "  </thead>\n",
       "  <tbody>\n",
       "    <tr>\n",
       "      <th>0</th>\n",
       "      <td>anger</td>\n",
       "      <td>How the fu*k! Who the heck! moved my fridge!.....</td>\n",
       "    </tr>\n",
       "    <tr>\n",
       "      <th>1</th>\n",
       "      <td>anger</td>\n",
       "      <td>So my Indian Uber driver just called someone t...</td>\n",
       "    </tr>\n",
       "    <tr>\n",
       "      <th>2</th>\n",
       "      <td>anger</td>\n",
       "      <td>@DPD_UK I asked for my parcel to be delivered ...</td>\n",
       "    </tr>\n",
       "    <tr>\n",
       "      <th>3</th>\n",
       "      <td>anger</td>\n",
       "      <td>so ef whichever butt wipe pulled the fire alar...</td>\n",
       "    </tr>\n",
       "    <tr>\n",
       "      <th>4</th>\n",
       "      <td>anger</td>\n",
       "      <td>Don't join @BTCare they put the phone down on ...</td>\n",
       "    </tr>\n",
       "  </tbody>\n",
       "</table>\n",
       "</div>"
      ],
      "text/plain": [
       "  Emotions                                           Sentence\n",
       "0    anger  How the fu*k! Who the heck! moved my fridge!.....\n",
       "1    anger  So my Indian Uber driver just called someone t...\n",
       "2    anger  @DPD_UK I asked for my parcel to be delivered ...\n",
       "3    anger  so ef whichever butt wipe pulled the fire alar...\n",
       "4    anger  Don't join @BTCare they put the phone down on ..."
      ]
     },
     "execution_count": 29,
     "metadata": {},
     "output_type": "execute_result"
    }
   ],
   "source": [
    "train = pd.read_csv(\"TwitterDataset/Train/train__test_valid.csv\", delimiter=\",\")\n",
    "train.head()"
   ]
  },
  {
   "cell_type": "markdown",
   "metadata": {},
   "source": [
    "Cuánto hay de cada emoción"
   ]
  },
  {
   "cell_type": "code",
   "execution_count": 30,
   "metadata": {},
   "outputs": [
    {
     "data": {
      "image/png": "[encoded data removed]",
      "text/plain": [
       "<Figure size 432x288 with 1 Axes>"
      ]
     },
     "metadata": {
      "needs_background": "light"
     },
     "output_type": "display_data"
    }
   ],
   "source": [
    "import matplotlib.pyplot as plt\n",
    "import collections\n",
    "%matplotlib inline\n",
    "def histograma(emotion):\n",
    "    #print(emotion)\n",
    "    plt.hist(emotion, 50)\n",
    "    plt.xlabel('Emotion')\n",
    "    plt.ylabel('Frequency')\n",
    "    plt.axis([0, 4, 0, 4000])\n",
    "    plt.show()\n",
    "histograma(emotions)"
   ]
  },
  {
   "cell_type": "markdown",
   "metadata": {},
   "source": [
    "Preprocesing of Sentences"
   ]
  },
  {
   "cell_type": "code",
   "execution_count": 31,
   "metadata": {},
   "outputs": [],
   "source": [
    "def decontracted(phrase):\n",
    "    # specific\n",
    "    '''phrase = re.sub(r\"won't\", \"will not\", phrase)\n",
    "    phrase = re.sub(r\"can\\'t\", \"can not\", phrase)'''\n",
    "\n",
    "    if phrase == \"t\":\n",
    "        phrase = \"not\"\n",
    "    elif phrase == \"re\":\n",
    "        phrase = \"are\"\n",
    "    elif phrase == \"s\":\n",
    "        phrase = \"is\"\n",
    "    elif phrase == \"d\":\n",
    "        phrase = \"would\"\n",
    "    elif phrase == \"ve\":\n",
    "        phrase = \"have\"\n",
    "    elif phrase == \"m\":\n",
    "        phrase = \"am\"\n",
    "    elif phrase == \"ca\":\n",
    "        phrase = \"can\"\n",
    "    elif phrase == \"isn\":\n",
    "        phrase = \"is\"\n",
    "    elif phrase == \"aren\":\n",
    "        phrase = \"are\"\n",
    "    elif phrase == \"wouldn\":\n",
    "        phrase = \"would\"\n",
    "    elif phrase == \"don\":\n",
    "        phrase = \"do\"\n",
    "    elif phrase == \"wasn\":\n",
    "        phrase = \"was\"\n",
    "    elif phrase == \"weren\":\n",
    "        phrase = \"were\"\n",
    "\n",
    "    # general\n",
    "    '''phrase = re.sub(r\"n\\'t\", \" not\", phrase)\n",
    "    phrase = re.sub(r\"\\'re\", \" are\", phrase)\n",
    "    phrase = re.sub(r\"\\'s\", \" is\", phrase)\n",
    "    phrase = re.sub(r\"\\'d\", \" would\", phrase)\n",
    "    phrase = re.sub(r\"\\'ll\", \" will\", phrase)\n",
    "    phrase = re.sub(r\"\\'t\", \" not\", phrase)\n",
    "    phrase = re.sub(r\"\\'ve\", \" have\", phrase)\n",
    "    phrase = re.sub(r\"\\'m\", \" am\", phrase)'''\n",
    "    return phrase"
   ]
  },
  {
   "cell_type": "code",
   "execution_count": 32,
   "metadata": {},
   "outputs": [],
   "source": [
    "def translator(user_string):\n",
    "    user_string = user_string.lower()\n",
    "    user_string = WordPunctTokenizer().tokenize(user_string)\n",
    "    j = 0\n",
    "    for _str in user_string:\n",
    "        # File path which consists of Abbreviations.\n",
    "        fileName = \"TwitterDataset/slang.txt\"\n",
    "        # File Access mode [Read Mode]\n",
    "        accessMode = \"r\"\n",
    "        with open(fileName, accessMode) as myCSVfile:\n",
    "            # Reading file as CSV with delimiter as \"=\", so that abbreviation are stored in row[0] and phrases in row[1]\n",
    "            dataFromFile = csv.reader(myCSVfile, delimiter=\"=\")\n",
    "            # Removing Special Characters.\n",
    "            _str = re.sub('[^a-zA-Z0-9-_.]', '', _str)\n",
    "            for row in dataFromFile:\n",
    "                # Check if selected word matches short forms[LHS] in text file.\n",
    "                if _str.upper() == row[0]:\n",
    "                    # If match found replace it with its Abbreviation in text file.\n",
    "                    user_string[j] = row[1].lower()\n",
    "            myCSVfile.close()\n",
    "        j = j + 1\n",
    "    return user_string"
   ]
  },
  {
   "cell_type": "code",
   "execution_count": 33,
   "metadata": {},
   "outputs": [],
   "source": [
    "#----------------Cleanning Sentences--------------\n",
    "lem = WordNetLemmatizer()\n",
    "def clean_text(text, remove_stopwords=False):\n",
    "    '''Clean the text, with the option to remove stopwords'''\n",
    "    #Remove @user or http://...\n",
    "    text = re.sub(r\"(@[A-Za-z0-9_]+)|([^0-9A-Za-z \\t])|(\\w+:\\/\\/\\S+)\",\" \",text) \n",
    "\n",
    "    # Translate OMG to Oh My God\n",
    "    text = translator(text)\n",
    "    #Decontracs\n",
    "    for w in range (0,len(text)):\n",
    "        text[w] = decontracted(text[w])\n",
    "\n",
    "    # Convert words to lower case and split them\n",
    "    #text = text.lower()#.split()\n",
    "\n",
    "    # Optionally, remove stop words\n",
    "    if remove_stopwords:\n",
    "        stops = set(stopwords.words(\"english\"))\n",
    "        text = [w for w in text if not w in stops]\n",
    "    \n",
    "    text = \" \".join(text)\n",
    "\n",
    "    # Clean the text\n",
    "    text = re.sub(r\"<br />\", \" \", text)\n",
    "    text = re.sub(r\"[^a-z]\", \" \", text)\n",
    "    text = re.sub(r\"   \", \" \", text) # Remove any extra spaces\n",
    "    text = re.sub(r\"  \", \" \", text)\n",
    "    \n",
    "    #Lematize && itertools Ejmp: looove to love\n",
    "    text = ''.join(''.join(s)[:2] for _, s in itertools.groupby(text))\n",
    "    text = lem.lemmatize(text, \"v\")\n",
    "    \n",
    "    # Return a list of words\n",
    "    return(text)\n",
    "\n",
    "\n",
    "train_clean = []\n",
    "for sentence in train.Sentence:\n",
    "    train_clean.append(clean_text(sentence))"
   ]
  },
  {
   "cell_type": "code",
   "execution_count": 34,
   "metadata": {},
   "outputs": [
    {
     "name": "stdout",
     "output_type": "stream",
     "text": [
      "How the fu*k! Who the heck! moved my fridge!... should I knock the landlord door. #angry #mad ##\n",
      "how the fu k who the heck moved my fridge should i knock the landlord door angry mad\n",
      "\n",
      "So my Indian Uber driver just called someone the N word. If I wasn't in a moving vehicle I'd have jumped out #disgusted \n",
      "so my indian uber driver just called someone the n word if i was not in a moving vehicle i would have jumped out disgusted\n",
      "\n",
      "@DPD_UK I asked for my parcel to be delivered to a pick up store not my address #fuming #poorcustomerservice\n",
      "i asked for my parcel to be delivered to a pick up store not my address fuming poorcustomerservice\n",
      "\n"
     ]
    }
   ],
   "source": [
    "# Inspect the cleaned reviews\n",
    "for i in range(3):\n",
    "    print(sentences[i])\n",
    "    print(train_clean[i])\n",
    "    print()"
   ]
  },
  {
   "cell_type": "markdown",
   "metadata": {},
   "source": [
    "Les't determine the total and average number of words in each sentencesLes't determine the total and average number of words in each sentences"
   ]
  },
  {
   "cell_type": "code",
   "execution_count": 35,
   "metadata": {},
   "outputs": [
    {
     "name": "stdout",
     "output_type": "stream",
     "text": [
      "Average:  83\n"
     ]
    }
   ],
   "source": [
    "def maximum(sent):\n",
    "    numWords = []\n",
    "    for s in sent:\n",
    "        counter = len(s)\n",
    "        numWords.append(counter) \n",
    "    maxLengh = int(sum(numWords)/len(numWords))\n",
    "    print(\"Average: \", maxLengh)\n",
    "    return numWords,maxLengh\n",
    "numWords,maxSeqLength = maximum(train_clean)"
   ]
  },
  {
   "cell_type": "code",
   "execution_count": 36,
   "metadata": {},
   "outputs": [
    {
     "data": {
      "image/png": "[encoded data removed]",
      "text/plain": [
       "<Figure size 432x288 with 1 Axes>"
      ]
     },
     "metadata": {
      "needs_background": "light"
     },
     "output_type": "display_data"
    }
   ],
   "source": [
    "import matplotlib.pyplot as plt\n",
    "%matplotlib inline\n",
    "def histograma(numWords):\n",
    "    plt.hist(numWords, 50)\n",
    "    plt.xlabel('Sequence Length')\n",
    "    plt.ylabel('Frequency')\n",
    "    plt.axis([0, 110, 0, 500])\n",
    "    plt.show()\n",
    "histograma(numWords)"
   ]
  },
  {
   "cell_type": "markdown",
   "metadata": {},
   "source": [
    "Converting each sentence into a vector and adding it into a matrix of 'ids'"
   ]
  },
  {
   "cell_type": "code",
   "execution_count": 37,
   "metadata": {},
   "outputs": [],
   "source": [
    "def integerSenteces(sent,maximum):\n",
    "    i = 0\n",
    "    embbeding = 0\n",
    "    matrix = np.zeros((len(sent), maximum)) #250 X 45 (numEjem X Maximun)\n",
    "    for s in sent:\n",
    "        vector = np.zeros((maximum), dtype='int32')\n",
    "        s =  s.split()\n",
    "        bound = maximum\n",
    "        if len(s) < maximum:\n",
    "            bound = len(s)    \n",
    "        for token in range(0,bound): #No encuentra macu, porque la corta\n",
    "            if s[token] not in wordsList:\n",
    "                vector[token] = embbeding # ???\n",
    "                #---print(s[token])\n",
    "            else:\n",
    "                vector[token] = (wordsList.index(s[token]))\n",
    "                embbeding = vector[token]\n",
    "        matrix[i] = (vector)\n",
    "        i += 1\n",
    "    return matrix"
   ]
  },
  {
   "cell_type": "code",
   "execution_count": 38,
   "metadata": {},
   "outputs": [
    {
     "name": "stdout",
     "output_type": "stream",
     "text": [
      "Sentences integer representation:  (7102, 83)\n",
      "Sentences:  7102\n",
      "Integer format:  [8.100e+01 4.300e+01 3.320e+02 5.960e+02 1.318e+03 3.800e+01 4.146e+03\n",
      " 8.100e+01 1.170e+02 4.100e+01 1.190e+02 5.000e+00 1.200e+01 1.920e+02\n",
      " 8.350e+02 4.300e+01 3.000e+01 1.920e+02 5.476e+03 0.000e+00 0.000e+00\n",
      " 0.000e+00 0.000e+00 0.000e+00 0.000e+00 0.000e+00 0.000e+00 0.000e+00\n",
      " 0.000e+00 0.000e+00 0.000e+00 0.000e+00 0.000e+00 0.000e+00 0.000e+00\n",
      " 0.000e+00 0.000e+00 0.000e+00 0.000e+00 0.000e+00 0.000e+00 0.000e+00\n",
      " 0.000e+00 0.000e+00 0.000e+00 0.000e+00 0.000e+00 0.000e+00 0.000e+00\n",
      " 0.000e+00 0.000e+00 0.000e+00 0.000e+00 0.000e+00 0.000e+00 0.000e+00\n",
      " 0.000e+00 0.000e+00 0.000e+00 0.000e+00 0.000e+00 0.000e+00 0.000e+00\n",
      " 0.000e+00 0.000e+00 0.000e+00 0.000e+00 0.000e+00 0.000e+00 0.000e+00\n",
      " 0.000e+00 0.000e+00 0.000e+00 0.000e+00 0.000e+00 0.000e+00 0.000e+00\n",
      " 0.000e+00 0.000e+00 0.000e+00 0.000e+00 0.000e+00 0.000e+00]\n",
      "Normal format:  you will never find someone who loved you like i did and that my love will be my revenge\n"
     ]
    }
   ],
   "source": [
    "X = integerSenteces(train_clean,maxSeqLength) \n",
    "print(\"Sentences integer representation: \",(X.shape))\n",
    "print(\"Sentences: \",len(train_clean))\n",
    "print(\"Integer format: \",X[249])\n",
    "print(\"Normal format: \",train_clean[249])"
   ]
  },
  {
   "cell_type": "code",
   "execution_count": 39,
   "metadata": {},
   "outputs": [
    {
     "name": "stdout",
     "output_type": "stream",
     "text": [
      "3   How the fu*k! Who the heck! moved my fridge!... should I knock the landlord door. #angry #mad ##\n"
     ]
    }
   ],
   "source": [
    "def toClasses(emo):\n",
    "    id_emo = []\n",
    "    for e in emo:\n",
    "        e = e.split()\n",
    "        e = e[0]\n",
    "        if e == 'joy':\n",
    "            e = 1\n",
    "        elif e == 'sadness':\n",
    "            e = 2\n",
    "        elif e == 'anger':\n",
    "            e = 3\n",
    "        elif e == 'fear':\n",
    "            e = 4\n",
    "            \n",
    "        id_emo.append(e)\n",
    "    return id_emo\n",
    "emotions = toClasses(emotions)\n",
    "print(emotions[0],\" \",sentences[0])"
   ]
  },
  {
   "cell_type": "markdown",
   "metadata": {},
   "source": [
    "Split the Data (stratify) into : Train && Test Sets"
   ]
  },
  {
   "cell_type": "code",
   "execution_count": 187,
   "metadata": {},
   "outputs": [
    {
     "name": "stdout",
     "output_type": "stream",
     "text": [
      "Sentences:  7102   Labels:  7102\n",
      "X_train:  5681   Y_train:  5681   X_test:  1421   Y_test:  1421\n"
     ]
    }
   ],
   "source": [
    "print(\"Sentences: \",len(X),\"  Labels: \",len(emotions))\n",
    "X_train, X_test, Y_train, Y_test = train_test_split(X, emotions, test_size=0.20, random_state=random.randrange(50), stratify=emotions)\n",
    "print(\"X_train: \",len(X_train),\"  Y_train: \",len(Y_train),\"  X_test: \",len(X_test),\"  Y_test: \",len(Y_test))"
   ]
  },
  {
   "cell_type": "code",
   "execution_count": 188,
   "metadata": {},
   "outputs": [
    {
     "data": {
      "image/png": "[encoded data removed]",
      "text/plain": [
       "<Figure size 432x288 with 1 Axes>"
      ]
     },
     "metadata": {
      "needs_background": "light"
     },
     "output_type": "display_data"
    },
    {
     "name": "stdout",
     "output_type": "stream",
     "text": [
      "*****************\n"
     ]
    },
    {
     "data": {
      "image/png": "[encoded data removed]",
      "text/plain": [
       "<Figure size 432x288 with 1 Axes>"
      ]
     },
     "metadata": {
      "needs_background": "light"
     },
     "output_type": "display_data"
    }
   ],
   "source": [
    "import matplotlib.pyplot as plt\n",
    "import collections\n",
    "%matplotlib inline\n",
    "def histograma(emotion):\n",
    "    #print(emotion)\n",
    "    plt.hist(emotion, 50)\n",
    "    plt.xlabel('Emotion')\n",
    "    plt.ylabel('Frequency')\n",
    "    plt.axis([0, 4, 0, 2000])\n",
    "    plt.show()\n",
    "histograma(Y_train)\n",
    "print(\"*****************\")\n",
    "histograma(Y_test)\n",
    "#for i in range (0,len(X_train)):\n",
    " #   print(Y_train[i],\"  \",X_train[i])"
   ]
  },
  {
   "cell_type": "markdown",
   "metadata": {},
   "source": [
    "Converting the Labels into Onehot Vectors"
   ]
  },
  {
   "cell_type": "code",
   "execution_count": 189,
   "metadata": {},
   "outputs": [],
   "source": [
    "def toLabels(emo):\n",
    "    classes = 4\n",
    "    Y = np.zeros((len(emo), classes)) #Num Ejemplos X 4 emociones\n",
    "    for e in range(0,len(emo)):\n",
    "        vector = np.zeros((classes))\n",
    "        vector[(emo[e] % (classes + 1)) - 1] = 1 \n",
    "        Y[e] = vector\n",
    "        #print(emo[e],\"---\",vector)\n",
    "    return Y\n",
    " \n",
    "Y_train = toLabels(Y_train)\n",
    "Y_test = toLabels(Y_test)"
   ]
  },
  {
   "cell_type": "code",
   "execution_count": 190,
   "metadata": {},
   "outputs": [
    {
     "name": "stdout",
     "output_type": "stream",
     "text": [
      "Y_train:  (5681, 4)  Num Ejem X # clases\n",
      "X_train:  (5681, 83)  Num Ejem X Maximun Lengh\n",
      "Y_test:  (1421, 4)  Num Ejem X # clases\n",
      "X_test:  (1421, 83)  Num Ejem X Maximun Lengh\n"
     ]
    }
   ],
   "source": [
    "print(\"Y_train: \",Y_train.shape,\" Num Ejem X # clases\")\n",
    "print(\"X_train: \",X_train.shape,\" Num Ejem X Maximun Lengh\")\n",
    "print(\"Y_test: \",Y_test.shape,\" Num Ejem X # clases\")\n",
    "print(\"X_test: \",X_test.shape,\" Num Ejem X Maximun Lengh\")"
   ]
  },
  {
   "cell_type": "markdown",
   "metadata": {},
   "source": [
    "Test Dataset"
   ]
  },
  {
   "cell_type": "code",
   "execution_count": null,
   "metadata": {},
   "outputs": [],
   "source": []
  },
  {
   "cell_type": "code",
   "execution_count": null,
   "metadata": {},
   "outputs": [],
   "source": []
  },
  {
   "cell_type": "code",
   "execution_count": null,
   "metadata": {},
   "outputs": [],
   "source": []
  },
  {
   "cell_type": "markdown",
   "metadata": {},
   "source": [
    "RNN Model"
   ]
  },
  {
   "cell_type": "code",
   "execution_count": 254,
   "metadata": {},
   "outputs": [],
   "source": [
    "def build_rnn(numClasses, maxSeqLength, numDimensions, batchSize, lstmUnits, dropout, learning_rate):\n",
    "    '''Build the Recurrent Neural Network'''\n",
    "\n",
    "    tf.reset_default_graph()\n",
    "\n",
    "    # Declare placeholders we'll feed into the graph\n",
    "    with tf.name_scope('inputs'):\n",
    "        inputs = tf.placeholder(tf.int32, [None, maxSeqLength],name='inputs')\n",
    "        \n",
    "    \n",
    "    with tf.name_scope('labels'):\n",
    "        labels = tf.placeholder(tf.float32, [None, numClasses],name='labels')\n",
    "    \n",
    "\n",
    "    keep_prob = tf.placeholder(tf.float32, name='keep_prob')\n",
    "    \n",
    "    # Create the embeddings\n",
    "    with tf.name_scope(\"embeddings\"):\n",
    "        data = tf.Variable(tf.zeros([batchSize, maxSeqLength, numDimensions]),dtype=tf.float32)\n",
    "        data = tf.nn.embedding_lookup(wordVectors,inputs)\n",
    "\n",
    "    # Build the RNN layers\n",
    "    with tf.name_scope(\"RNN_layers\"):\n",
    "        lstmCell = tf.contrib.rnn.BasicLSTMCell(lstmUnits)\n",
    "        lstmCell = tf.contrib.rnn.DropoutWrapper(cell=lstmCell, output_keep_prob=keep_prob)\n",
    "       \n",
    "    # Set the initial state\n",
    "    with tf.name_scope(\"RNN_init_state\"):\n",
    "        initial_state = lstmCell.zero_state(batchSize, tf.float32)\n",
    "\n",
    "    # Run the data through the RNN layers\n",
    "    with tf.name_scope(\"RNN_forward\"):  \n",
    "        value, final_state = tf.nn.dynamic_rnn(lstmCell, data, initial_state=initial_state)\n",
    "     \n",
    "    # Create the fully connected layers\n",
    "    with tf.name_scope(\"fully_connected\"):\n",
    "        \n",
    "        # Initialize the weights and biases\n",
    "        weight = tf.Variable(tf.truncated_normal([lstmUnits, numClasses]))\n",
    "        bias = tf.Variable(tf.constant(0.1, shape=[numClasses]))\n",
    "        value = tf.transpose(value, [1, 0, 2])\n",
    "        last = tf.gather(value, int(value.get_shape()[0]) - 1)\n",
    "       \n",
    "        \n",
    "    # Make the predictions\n",
    "    with tf.name_scope('prediction'):\n",
    "        prediction = (tf.matmul(last, weight) + bias)\n",
    "        tf.summary.histogram('prediction', prediction)\n",
    "    \n",
    "    # Calculate the cost\n",
    "    with tf.name_scope('cost'):\n",
    "        cost = tf.reduce_mean(tf.nn.softmax_cross_entropy_with_logits_v2(logits=prediction, labels=labels))\n",
    "        tf.summary.scalar('cost', cost)\n",
    "        \n",
    "    \n",
    "    # Train the model\n",
    "    with tf.name_scope('train'):    \n",
    "        optimizer = tf.train.AdamOptimizer(learning_rate=learning_rate).minimize(cost)\n",
    "\n",
    "    # Determine the accuracy\n",
    "    with tf.name_scope(\"accuracy\"):\n",
    "        \n",
    "        correctPred = tf.equal(tf.argmax(prediction,1), tf.argmax(labels,1))\n",
    "        accuracy = tf.reduce_mean(tf.cast(correctPred, tf.float32))       \n",
    "        tf.summary.scalar('accuracy', accuracy)\n",
    "        \n",
    "    \n",
    "    # Merge all of the summaries\n",
    "    merged = tf.summary.merge_all()    \n",
    "\n",
    "    # Export the nodes \n",
    "    export_nodes = ['inputs', 'labels','keep_prob', 'initial_state', 'final_state', 'accuracy',\n",
    "                    'prediction', 'cost', 'optimizer', 'merged']\n",
    "    Graph = namedtuple('Graph', export_nodes)\n",
    "    local_dict = locals()\n",
    "    graph = Graph(*[local_dict[each] for each in export_nodes])\n",
    "    \n",
    "    return graph"
   ]
  },
  {
   "cell_type": "markdown",
   "metadata": {},
   "source": [
    "Trainning && Validation Cycles"
   ]
  },
  {
   "cell_type": "code",
   "execution_count": 255,
   "metadata": {},
   "outputs": [],
   "source": [
    "def train(model, epochs, log_string):\n",
    "    '''Train the RNN'''\n",
    "    saver = tf.train.Saver()\n",
    "    \n",
    "    with tf.Session() as sess:\n",
    "        sess.run(tf.global_variables_initializer())\n",
    "\n",
    "        # Used to determine when to stop the training early\n",
    "        valid_loss_summary = []\n",
    "        \n",
    "        # Metrics Presicion, recall and F1 measure\n",
    "        val_pre = []\n",
    "        val_recall = []\n",
    "        val_f1 = []\n",
    "        \n",
    "        # Keep track of which batch iteration is being trained\n",
    "        iteration = 0\n",
    "\n",
    "        print()\n",
    "        print(\"Training Model: {}\".format(log_string))\n",
    "\n",
    "        train_writer = tf.summary.FileWriter('./logs/3/train/{}'.format(log_string), sess.graph)\n",
    "        valid_writer = tf.summary.FileWriter('./logs/3/valid/{}'.format(log_string))\n",
    "\n",
    "        for e in range(epochs):\n",
    "            state = sess.run(model.initial_state)\n",
    "            \n",
    "            # Record progress with each epoch\n",
    "            train_loss = []\n",
    "            train_acc = []\n",
    "            val_acc = []\n",
    "            val_loss = []\n",
    "            \n",
    "            #Create X groups of (50,6) Labels && (50,maximum) Examples\n",
    "            numEjemplos = 5681   \n",
    "            total_batch = int(numEjemplos/batchSize)\n",
    "            X_batches = np.array_split(X_train, total_batch)\n",
    "            Y_batches = np.array_split(Y_train, total_batch)\n",
    "\n",
    "            #Train Cycle\n",
    "            with tqdm(total=len(X_train)) as pbar: #Barra de progreso !!!\n",
    "                for i in range(total_batch):\n",
    "                    batch_x, batch_y = X_batches[i], Y_batches[i]\n",
    "                    feed = {model.inputs: batch_x,\n",
    "                            model.labels: batch_y,\n",
    "                            model.keep_prob: dropout,\n",
    "                            model.initial_state: state}\n",
    "                    summary, loss, acc, state, _ = sess.run([model.merged, \n",
    "                                                             model.cost, \n",
    "                                                             model.accuracy, \n",
    "                                                             model.final_state, \n",
    "                                                             model.optimizer], \n",
    "                                                            feed_dict=feed)\n",
    "\n",
    "                    # Record the loss and accuracy of each training batch\n",
    "                    train_loss.append(loss)\n",
    "                    train_acc.append(acc)\n",
    "                    \n",
    "                    # Record the progress of training\n",
    "                    train_writer.add_summary(summary, iteration)\n",
    "                    \n",
    "                    iteration += 1\n",
    "                    pbar.update(batchSize)\n",
    "            \n",
    "            # Average the training loss and accuracy of each epoch\n",
    "            avg_train_loss = np.mean(train_loss)\n",
    "            avg_train_acc = np.mean(train_acc) \n",
    "\n",
    "            #Create X train batchs of batchSize\n",
    "            numEjemplos = 1421 \n",
    "            total_batch = int(numEjemplos/batchSize)\n",
    "            \n",
    "            X_batches = np.array_split(X_test, total_batch)\n",
    "            Y_batches = np.array_split(Y_test, total_batch)\n",
    "            \n",
    "            if e < epochs - 1:\n",
    "            # Print the progress of each epoch\n",
    "                print(\"Epoch: {}/{}\".format(e, epochs),\n",
    "                        \"Train Loss: {:.3f}\".format(avg_train_loss),\n",
    "                        \"Train Acc: {:.3f}\".format(avg_train_acc))\n",
    "\n",
    "                \n",
    "            #Valid Cycle : Solo Valid, en la últimas iteraciones\n",
    "            else:\n",
    "                val_state = sess.run(model.initial_state)\n",
    "                with tqdm(total=len(X_test)) as pbar:\n",
    "                    for i in range(total_batch):\n",
    "                        batch_x, batch_y = X_batches[i], Y_batches[i]\n",
    "                        batch_x = batch_x[:batchSize]\n",
    "                        batch_y = batch_y[:batchSize]\n",
    "                        \n",
    "                        feed = {model.inputs: batch_x,\n",
    "                                model.labels: batch_y,\n",
    "                                model.keep_prob: 1,\n",
    "                                model.initial_state: val_state}\n",
    "                        summary, batch_loss, batch_acc, val_state, batch_pre = sess.run([model.merged, \n",
    "                                                                              model.cost, \n",
    "                                                                              model.accuracy, \n",
    "                                                                              model.final_state,\n",
    "                                                                              model.prediction], \n",
    "                                                                             feed_dict=feed)\n",
    "\n",
    "\n",
    "                        #Converting predictions to np.array \n",
    "                        y_pred = tf.argmax(batch_pre , 1).eval({model.inputs: batch_x, model.labels: batch_y})\n",
    "                        y_true = (tf.argmax(batch_y , 1).eval()) \n",
    "                        precision = precision_score(y_true, y_pred, average=None)\n",
    "                        recall = recall_score(y_true, y_pred, average=None)\n",
    "                        f1 = f1_score(y_true, y_pred, average=None)\n",
    "\n",
    "                        # Record the validation loss and accuracy of each epoch\n",
    "                        val_loss.append(batch_loss)\n",
    "                        val_acc.append(batch_acc)\n",
    "                        val_pre.append(precision)\n",
    "                        val_recall.append(recall)\n",
    "                        val_f1.append(f1)\n",
    "                        pbar.update(batchSize)\n",
    "\n",
    "\n",
    "\n",
    "                # Average the validation loss and accuracy of each epoch\n",
    "                avg_valid_loss = np.mean(val_loss)    \n",
    "                avg_valid_acc = np.mean(val_acc)\n",
    "                valid_loss_summary.append(avg_valid_loss)\n",
    "                avg_pre = np.mean(val_pre)\n",
    "                avg_recall = np.mean(val_recall)\n",
    "                avg_f1 = np.mean(val_f1)\n",
    "\n",
    "                # Record the validation data's progress\n",
    "                valid_writer.add_summary(summary, iteration)\n",
    "\n",
    "\n",
    "                print(\"Epoch: {}/{}\".format(e, epochs),\n",
    "                \"Train Loss: {:.3f}\".format(avg_train_loss),\n",
    "                \"Train Acc: {:.3f}\".format(avg_train_acc),\n",
    "                \"Valid Loss: {:.3f}\".format(avg_valid_loss),\n",
    "                \"Valid Acc: {:.3f}\".format(avg_valid_acc),\n",
    "                \"Valid Pre: {:.3f}\".format(avg_pre),\n",
    "                \"Valid Reca: {:.3f}\".format(avg_recall),\n",
    "                \"Valid F1: {:.3f}\".format(avg_f1))\n",
    "                \n",
    "                class_names = [\"Hapinnes\",\"Sadness\",\"Anger\",\"Fear\"]\n",
    "                print(classification_report(y_true, y_pred, target_names=class_names))\n",
    "                \n",
    "                \n",
    "                # Compute confusion matrix\n",
    "                cnf_matrix = confusion_matrix(y_true, y_pred)\n",
    "                np.set_printoptions(precision=2)\n",
    "\n",
    "                # Plot non-normalized confusion matrix\n",
    "                plt.figure()\n",
    "                plot_confusion_matrix(cnf_matrix, classes=class_names,\n",
    "                                      title='Confusion matrix, without normalization')\n",
    "\n",
    "                # Plot normalized confusion matrix\n",
    "                plt.figure()\n",
    "                plot_confusion_matrix(cnf_matrix, classes=class_names, normalize=True,\n",
    "                                      title='Normalized confusion matrix')\n",
    "\n",
    "                plt.show()\n",
    "    \n",
    "            checkpoint = \"C:/Users/danie/Desktop/Checkpoints/sentiment_{}.ckpt\".format(log_string)\n",
    "            saver.save(sess, checkpoint)"
   ]
  },
  {
   "cell_type": "markdown",
   "metadata": {},
   "source": [
    "Declarando placeholders para los labels (6 emotions) && data imput"
   ]
  },
  {
   "cell_type": "code",
   "execution_count": 261,
   "metadata": {},
   "outputs": [],
   "source": [
    "# The default parameters of the model\n",
    "numDimensions = 300 \n",
    "batchSize = 437 #Tiene que ser multiplo del NumEjem\n",
    "lstmUnits = 64\n",
    "numClasses = 4\n",
    "dropout = 0.5\n",
    "learning_rate = 0.001\n",
    "epochs = 150\n",
    "bachTam = batchSize"
   ]
  },
  {
   "cell_type": "code",
   "execution_count": 262,
   "metadata": {},
   "outputs": [
    {
     "name": "stdout",
     "output_type": "stream",
     "text": [
      "\n",
      "Training Model: ru=6,fcl=10,fcu=96\n"
     ]
    },
    {
     "name": "stderr",
     "output_type": "stream",
     "text": [
      "100%|██████████| 5681/5681 [00:05<00:00, 1247.26it/s]\n"
     ]
    },
    {
     "name": "stdout",
     "output_type": "stream",
     "text": [
      "Epoch: 0/150 Train Loss: 1.379 Train Acc: 0.311\n"
     ]
    },
    {
     "name": "stderr",
     "output_type": "stream",
     "text": [
      "100%|██████████| 5681/5681 [00:04<00:00, 1285.73it/s]\n"
     ]
    },
    {
     "name": "stdout",
     "output_type": "stream",
     "text": [
      "Epoch: 1/150 Train Loss: 1.375 Train Acc: 0.317\n"
     ]
    },
    {
     "name": "stderr",
     "output_type": "stream",
     "text": [
      "100%|██████████| 5681/5681 [00:05<00:00, 1194.51it/s]\n"
     ]
    },
    {
     "name": "stdout",
     "output_type": "stream",
     "text": [
      "Epoch: 2/150 Train Loss: 1.367 Train Acc: 0.326\n"
     ]
    },
    {
     "name": "stderr",
     "output_type": "stream",
     "text": [
      "100%|██████████| 5681/5681 [00:04<00:00, 1300.37it/s]\n"
     ]
    },
    {
     "name": "stdout",
     "output_type": "stream",
     "text": [
      "Epoch: 3/150 Train Loss: 1.329 Train Acc: 0.374\n"
     ]
    },
    {
     "name": "stderr",
     "output_type": "stream",
     "text": [
      "100%|██████████| 5681/5681 [00:04<00:00, 1297.95it/s]\n"
     ]
    },
    {
     "name": "stdout",
     "output_type": "stream",
     "text": [
      "Epoch: 4/150 Train Loss: 1.289 Train Acc: 0.404\n"
     ]
    },
    {
     "name": "stderr",
     "output_type": "stream",
     "text": [
      "100%|██████████| 5681/5681 [00:04<00:00, 1271.15it/s]\n"
     ]
    },
    {
     "name": "stdout",
     "output_type": "stream",
     "text": [
      "Epoch: 5/150 Train Loss: 1.260 Train Acc: 0.413\n"
     ]
    },
    {
     "name": "stderr",
     "output_type": "stream",
     "text": [
      "100%|██████████| 5681/5681 [00:04<00:00, 1319.95it/s]\n"
     ]
    },
    {
     "name": "stdout",
     "output_type": "stream",
     "text": [
      "Epoch: 6/150 Train Loss: 1.255 Train Acc: 0.416\n"
     ]
    },
    {
     "name": "stderr",
     "output_type": "stream",
     "text": [
      "100%|██████████| 5681/5681 [00:04<00:00, 1301.54it/s]\n"
     ]
    },
    {
     "name": "stdout",
     "output_type": "stream",
     "text": [
      "Epoch: 7/150 Train Loss: 1.239 Train Acc: 0.425\n"
     ]
    },
    {
     "name": "stderr",
     "output_type": "stream",
     "text": [
      "100%|██████████| 5681/5681 [00:04<00:00, 1298.17it/s]\n"
     ]
    },
    {
     "name": "stdout",
     "output_type": "stream",
     "text": [
      "Epoch: 8/150 Train Loss: 1.224 Train Acc: 0.428\n"
     ]
    },
    {
     "name": "stderr",
     "output_type": "stream",
     "text": [
      "100%|██████████| 5681/5681 [00:04<00:00, 1318.14it/s]\n"
     ]
    },
    {
     "name": "stdout",
     "output_type": "stream",
     "text": [
      "Epoch: 9/150 Train Loss: 1.201 Train Acc: 0.440\n"
     ]
    },
    {
     "name": "stderr",
     "output_type": "stream",
     "text": [
      "100%|██████████| 5681/5681 [00:04<00:00, 1307.81it/s]\n"
     ]
    },
    {
     "name": "stdout",
     "output_type": "stream",
     "text": [
      "Epoch: 10/150 Train Loss: 1.191 Train Acc: 0.442\n"
     ]
    },
    {
     "name": "stderr",
     "output_type": "stream",
     "text": [
      "100%|██████████| 5681/5681 [00:04<00:00, 1292.16it/s]\n"
     ]
    },
    {
     "name": "stdout",
     "output_type": "stream",
     "text": [
      "Epoch: 11/150 Train Loss: 1.180 Train Acc: 0.442\n"
     ]
    },
    {
     "name": "stderr",
     "output_type": "stream",
     "text": [
      "100%|██████████| 5681/5681 [00:04<00:00, 1314.24it/s]\n"
     ]
    },
    {
     "name": "stdout",
     "output_type": "stream",
     "text": [
      "Epoch: 12/150 Train Loss: 1.161 Train Acc: 0.451\n"
     ]
    },
    {
     "name": "stderr",
     "output_type": "stream",
     "text": [
      "100%|██████████| 5681/5681 [00:04<00:00, 1318.56it/s]\n"
     ]
    },
    {
     "name": "stdout",
     "output_type": "stream",
     "text": [
      "Epoch: 13/150 Train Loss: 1.155 Train Acc: 0.456\n"
     ]
    },
    {
     "name": "stderr",
     "output_type": "stream",
     "text": [
      "100%|██████████| 5681/5681 [00:04<00:00, 1265.59it/s]\n"
     ]
    },
    {
     "name": "stdout",
     "output_type": "stream",
     "text": [
      "Epoch: 14/150 Train Loss: 1.147 Train Acc: 0.456\n"
     ]
    },
    {
     "name": "stderr",
     "output_type": "stream",
     "text": [
      "100%|██████████| 5681/5681 [00:04<00:00, 1305.43it/s]\n"
     ]
    },
    {
     "name": "stdout",
     "output_type": "stream",
     "text": [
      "Epoch: 15/150 Train Loss: 1.123 Train Acc: 0.462\n"
     ]
    },
    {
     "name": "stderr",
     "output_type": "stream",
     "text": [
      "100%|██████████| 5681/5681 [00:04<00:00, 1325.93it/s]\n"
     ]
    },
    {
     "name": "stdout",
     "output_type": "stream",
     "text": [
      "Epoch: 16/150 Train Loss: 1.101 Train Acc: 0.467\n"
     ]
    },
    {
     "name": "stderr",
     "output_type": "stream",
     "text": [
      "100%|██████████| 5681/5681 [00:04<00:00, 1291.49it/s]\n"
     ]
    },
    {
     "name": "stdout",
     "output_type": "stream",
     "text": [
      "Epoch: 17/150 Train Loss: 1.086 Train Acc: 0.476\n"
     ]
    },
    {
     "name": "stderr",
     "output_type": "stream",
     "text": [
      "100%|██████████| 5681/5681 [00:04<00:00, 1308.27it/s]\n"
     ]
    },
    {
     "name": "stdout",
     "output_type": "stream",
     "text": [
      "Epoch: 18/150 Train Loss: 1.078 Train Acc: 0.480\n"
     ]
    },
    {
     "name": "stderr",
     "output_type": "stream",
     "text": [
      "100%|██████████| 5681/5681 [00:04<00:00, 1297.55it/s]\n"
     ]
    },
    {
     "name": "stdout",
     "output_type": "stream",
     "text": [
      "Epoch: 19/150 Train Loss: 1.082 Train Acc: 0.480\n"
     ]
    },
    {
     "name": "stderr",
     "output_type": "stream",
     "text": [
      "100%|██████████| 5681/5681 [00:04<00:00, 1323.88it/s]\n"
     ]
    },
    {
     "name": "stdout",
     "output_type": "stream",
     "text": [
      "Epoch: 20/150 Train Loss: 1.072 Train Acc: 0.499\n"
     ]
    },
    {
     "name": "stderr",
     "output_type": "stream",
     "text": [
      "100%|██████████| 5681/5681 [00:04<00:00, 1250.10it/s]\n"
     ]
    },
    {
     "name": "stdout",
     "output_type": "stream",
     "text": [
      "Epoch: 21/150 Train Loss: 1.068 Train Acc: 0.499\n"
     ]
    },
    {
     "name": "stderr",
     "output_type": "stream",
     "text": [
      "100%|██████████| 5681/5681 [00:04<00:00, 1322.58it/s]\n"
     ]
    },
    {
     "name": "stdout",
     "output_type": "stream",
     "text": [
      "Epoch: 22/150 Train Loss: 1.054 Train Acc: 0.503\n"
     ]
    },
    {
     "name": "stderr",
     "output_type": "stream",
     "text": [
      "100%|██████████| 5681/5681 [00:04<00:00, 1333.56it/s]\n"
     ]
    },
    {
     "name": "stdout",
     "output_type": "stream",
     "text": [
      "Epoch: 23/150 Train Loss: 1.029 Train Acc: 0.511\n"
     ]
    },
    {
     "name": "stderr",
     "output_type": "stream",
     "text": [
      "100%|██████████| 5681/5681 [00:04<00:00, 1324.63it/s]\n"
     ]
    },
    {
     "name": "stdout",
     "output_type": "stream",
     "text": [
      "Epoch: 24/150 Train Loss: 1.012 Train Acc: 0.523\n"
     ]
    },
    {
     "name": "stderr",
     "output_type": "stream",
     "text": [
      "100%|██████████| 5681/5681 [00:04<00:00, 1320.47it/s]\n"
     ]
    },
    {
     "name": "stdout",
     "output_type": "stream",
     "text": [
      "Epoch: 25/150 Train Loss: 0.993 Train Acc: 0.526\n"
     ]
    },
    {
     "name": "stderr",
     "output_type": "stream",
     "text": [
      "100%|██████████| 5681/5681 [00:04<00:00, 1304.47it/s]\n"
     ]
    },
    {
     "name": "stdout",
     "output_type": "stream",
     "text": [
      "Epoch: 26/150 Train Loss: 0.972 Train Acc: 0.534\n"
     ]
    },
    {
     "name": "stderr",
     "output_type": "stream",
     "text": [
      "100%|██████████| 5681/5681 [00:04<00:00, 1319.05it/s]\n"
     ]
    },
    {
     "name": "stdout",
     "output_type": "stream",
     "text": [
      "Epoch: 27/150 Train Loss: 0.970 Train Acc: 0.532\n"
     ]
    },
    {
     "name": "stderr",
     "output_type": "stream",
     "text": [
      "100%|██████████| 5681/5681 [00:04<00:00, 1273.53it/s]\n"
     ]
    },
    {
     "name": "stdout",
     "output_type": "stream",
     "text": [
      "Epoch: 28/150 Train Loss: 0.955 Train Acc: 0.545\n"
     ]
    },
    {
     "name": "stderr",
     "output_type": "stream",
     "text": [
      "100%|██████████| 5681/5681 [00:04<00:00, 1296.30it/s]\n"
     ]
    },
    {
     "name": "stdout",
     "output_type": "stream",
     "text": [
      "Epoch: 29/150 Train Loss: 0.941 Train Acc: 0.547\n"
     ]
    },
    {
     "name": "stderr",
     "output_type": "stream",
     "text": [
      "100%|██████████| 5681/5681 [00:04<00:00, 1317.97it/s]\n"
     ]
    },
    {
     "name": "stdout",
     "output_type": "stream",
     "text": [
      "Epoch: 30/150 Train Loss: 0.952 Train Acc: 0.542\n"
     ]
    },
    {
     "name": "stderr",
     "output_type": "stream",
     "text": [
      "100%|██████████| 5681/5681 [00:04<00:00, 1304.68it/s]\n"
     ]
    },
    {
     "name": "stdout",
     "output_type": "stream",
     "text": [
      "Epoch: 31/150 Train Loss: 0.927 Train Acc: 0.547\n"
     ]
    },
    {
     "name": "stderr",
     "output_type": "stream",
     "text": [
      "100%|██████████| 5681/5681 [00:04<00:00, 1309.78it/s]\n"
     ]
    },
    {
     "name": "stdout",
     "output_type": "stream",
     "text": [
      "Epoch: 32/150 Train Loss: 0.906 Train Acc: 0.555\n"
     ]
    },
    {
     "name": "stderr",
     "output_type": "stream",
     "text": [
      "100%|██████████| 5681/5681 [00:04<00:00, 1264.43it/s]\n"
     ]
    },
    {
     "name": "stdout",
     "output_type": "stream",
     "text": [
      "Epoch: 33/150 Train Loss: 0.921 Train Acc: 0.556\n"
     ]
    },
    {
     "name": "stderr",
     "output_type": "stream",
     "text": [
      "100%|██████████| 5681/5681 [00:04<00:00, 1283.04it/s]\n"
     ]
    },
    {
     "name": "stdout",
     "output_type": "stream",
     "text": [
      "Epoch: 34/150 Train Loss: 0.919 Train Acc: 0.557\n"
     ]
    },
    {
     "name": "stderr",
     "output_type": "stream",
     "text": [
      "100%|██████████| 5681/5681 [00:04<00:00, 1306.63it/s]\n"
     ]
    },
    {
     "name": "stdout",
     "output_type": "stream",
     "text": [
      "Epoch: 35/150 Train Loss: 0.917 Train Acc: 0.559\n"
     ]
    },
    {
     "name": "stderr",
     "output_type": "stream",
     "text": [
      "100%|██████████| 5681/5681 [00:04<00:00, 1272.26it/s]\n"
     ]
    },
    {
     "name": "stdout",
     "output_type": "stream",
     "text": [
      "Epoch: 36/150 Train Loss: 0.893 Train Acc: 0.575\n"
     ]
    },
    {
     "name": "stderr",
     "output_type": "stream",
     "text": [
      "100%|██████████| 5681/5681 [00:04<00:00, 1230.32it/s]\n"
     ]
    },
    {
     "name": "stdout",
     "output_type": "stream",
     "text": [
      "Epoch: 37/150 Train Loss: 0.886 Train Acc: 0.578\n"
     ]
    },
    {
     "name": "stderr",
     "output_type": "stream",
     "text": [
      "100%|██████████| 5681/5681 [00:04<00:00, 1307.76it/s]\n"
     ]
    },
    {
     "name": "stdout",
     "output_type": "stream",
     "text": [
      "Epoch: 38/150 Train Loss: 0.876 Train Acc: 0.581\n"
     ]
    },
    {
     "name": "stderr",
     "output_type": "stream",
     "text": [
      "100%|██████████| 5681/5681 [00:04<00:00, 1293.92it/s]\n"
     ]
    },
    {
     "name": "stdout",
     "output_type": "stream",
     "text": [
      "Epoch: 39/150 Train Loss: 0.877 Train Acc: 0.583\n"
     ]
    },
    {
     "name": "stderr",
     "output_type": "stream",
     "text": [
      "100%|██████████| 5681/5681 [00:04<00:00, 1277.98it/s]\n"
     ]
    },
    {
     "name": "stdout",
     "output_type": "stream",
     "text": [
      "Epoch: 40/150 Train Loss: 0.900 Train Acc: 0.568\n"
     ]
    },
    {
     "name": "stderr",
     "output_type": "stream",
     "text": [
      "100%|██████████| 5681/5681 [00:04<00:00, 1289.20it/s]\n"
     ]
    },
    {
     "name": "stdout",
     "output_type": "stream",
     "text": [
      "Epoch: 41/150 Train Loss: 0.867 Train Acc: 0.581\n"
     ]
    },
    {
     "name": "stderr",
     "output_type": "stream",
     "text": [
      "100%|██████████| 5681/5681 [00:04<00:00, 1286.69it/s]\n"
     ]
    },
    {
     "name": "stdout",
     "output_type": "stream",
     "text": [
      "Epoch: 42/150 Train Loss: 0.844 Train Acc: 0.598\n"
     ]
    },
    {
     "name": "stderr",
     "output_type": "stream",
     "text": [
      "100%|██████████| 5681/5681 [00:04<00:00, 1291.94it/s]\n"
     ]
    },
    {
     "name": "stdout",
     "output_type": "stream",
     "text": [
      "Epoch: 43/150 Train Loss: 0.825 Train Acc: 0.598\n"
     ]
    },
    {
     "name": "stderr",
     "output_type": "stream",
     "text": [
      "100%|██████████| 5681/5681 [00:04<00:00, 1222.05it/s]\n"
     ]
    },
    {
     "name": "stdout",
     "output_type": "stream",
     "text": [
      "Epoch: 44/150 Train Loss: 0.795 Train Acc: 0.616\n"
     ]
    },
    {
     "name": "stderr",
     "output_type": "stream",
     "text": [
      "100%|██████████| 5681/5681 [00:04<00:00, 1301.51it/s]\n"
     ]
    },
    {
     "name": "stdout",
     "output_type": "stream",
     "text": [
      "Epoch: 45/150 Train Loss: 0.794 Train Acc: 0.616\n"
     ]
    },
    {
     "name": "stderr",
     "output_type": "stream",
     "text": [
      "100%|██████████| 5681/5681 [00:04<00:00, 1329.44it/s]\n"
     ]
    },
    {
     "name": "stdout",
     "output_type": "stream",
     "text": [
      "Epoch: 46/150 Train Loss: 0.799 Train Acc: 0.612\n"
     ]
    },
    {
     "name": "stderr",
     "output_type": "stream",
     "text": [
      "100%|██████████| 5681/5681 [00:04<00:00, 1326.23it/s]\n"
     ]
    },
    {
     "name": "stdout",
     "output_type": "stream",
     "text": [
      "Epoch: 47/150 Train Loss: 0.812 Train Acc: 0.608\n"
     ]
    },
    {
     "name": "stderr",
     "output_type": "stream",
     "text": [
      "100%|██████████| 5681/5681 [00:04<00:00, 1328.22it/s]\n"
     ]
    },
    {
     "name": "stdout",
     "output_type": "stream",
     "text": [
      "Epoch: 48/150 Train Loss: 0.806 Train Acc: 0.617\n"
     ]
    },
    {
     "name": "stderr",
     "output_type": "stream",
     "text": [
      "100%|██████████| 5681/5681 [00:04<00:00, 1329.18it/s]\n"
     ]
    },
    {
     "name": "stdout",
     "output_type": "stream",
     "text": [
      "Epoch: 49/150 Train Loss: 0.823 Train Acc: 0.613\n"
     ]
    },
    {
     "name": "stderr",
     "output_type": "stream",
     "text": [
      "100%|██████████| 5681/5681 [00:04<00:00, 1324.40it/s]\n"
     ]
    },
    {
     "name": "stdout",
     "output_type": "stream",
     "text": [
      "Epoch: 50/150 Train Loss: 0.797 Train Acc: 0.613\n"
     ]
    },
    {
     "name": "stderr",
     "output_type": "stream",
     "text": [
      "100%|██████████| 5681/5681 [00:04<00:00, 1316.81it/s]\n"
     ]
    },
    {
     "name": "stdout",
     "output_type": "stream",
     "text": [
      "Epoch: 51/150 Train Loss: 0.800 Train Acc: 0.616\n"
     ]
    },
    {
     "name": "stderr",
     "output_type": "stream",
     "text": [
      "100%|██████████| 5681/5681 [00:04<00:00, 1306.41it/s]\n"
     ]
    },
    {
     "name": "stdout",
     "output_type": "stream",
     "text": [
      "Epoch: 52/150 Train Loss: 0.787 Train Acc: 0.620\n"
     ]
    },
    {
     "name": "stderr",
     "output_type": "stream",
     "text": [
      "100%|██████████| 5681/5681 [00:04<00:00, 1276.68it/s]\n"
     ]
    },
    {
     "name": "stdout",
     "output_type": "stream",
     "text": [
      "Epoch: 53/150 Train Loss: 0.762 Train Acc: 0.635\n"
     ]
    },
    {
     "name": "stderr",
     "output_type": "stream",
     "text": [
      "100%|██████████| 5681/5681 [00:04<00:00, 1328.16it/s]\n"
     ]
    },
    {
     "name": "stdout",
     "output_type": "stream",
     "text": [
      "Epoch: 54/150 Train Loss: 0.746 Train Acc: 0.639\n"
     ]
    },
    {
     "name": "stderr",
     "output_type": "stream",
     "text": [
      "100%|██████████| 5681/5681 [00:04<00:00, 1318.96it/s]\n"
     ]
    },
    {
     "name": "stdout",
     "output_type": "stream",
     "text": [
      "Epoch: 55/150 Train Loss: 0.757 Train Acc: 0.634\n"
     ]
    },
    {
     "name": "stderr",
     "output_type": "stream",
     "text": [
      "100%|██████████| 5681/5681 [00:04<00:00, 1257.87it/s]\n"
     ]
    },
    {
     "name": "stdout",
     "output_type": "stream",
     "text": [
      "Epoch: 56/150 Train Loss: 0.795 Train Acc: 0.626\n"
     ]
    },
    {
     "name": "stderr",
     "output_type": "stream",
     "text": [
      "100%|██████████| 5681/5681 [00:04<00:00, 1327.42it/s]\n"
     ]
    },
    {
     "name": "stdout",
     "output_type": "stream",
     "text": [
      "Epoch: 57/150 Train Loss: 0.799 Train Acc: 0.612\n"
     ]
    },
    {
     "name": "stderr",
     "output_type": "stream",
     "text": [
      "100%|██████████| 5681/5681 [00:04<00:00, 1323.88it/s]\n"
     ]
    },
    {
     "name": "stdout",
     "output_type": "stream",
     "text": [
      "Epoch: 58/150 Train Loss: 0.785 Train Acc: 0.628\n"
     ]
    },
    {
     "name": "stderr",
     "output_type": "stream",
     "text": [
      "100%|██████████| 5681/5681 [00:04<00:00, 1322.30it/s]\n"
     ]
    },
    {
     "name": "stdout",
     "output_type": "stream",
     "text": [
      "Epoch: 59/150 Train Loss: 0.759 Train Acc: 0.637\n"
     ]
    },
    {
     "name": "stderr",
     "output_type": "stream",
     "text": [
      "100%|██████████| 5681/5681 [00:04<00:00, 1249.42it/s]\n"
     ]
    },
    {
     "name": "stdout",
     "output_type": "stream",
     "text": [
      "Epoch: 60/150 Train Loss: 0.732 Train Acc: 0.652\n"
     ]
    },
    {
     "name": "stderr",
     "output_type": "stream",
     "text": [
      "100%|██████████| 5681/5681 [00:04<00:00, 1323.47it/s]\n"
     ]
    },
    {
     "name": "stdout",
     "output_type": "stream",
     "text": [
      "Epoch: 61/150 Train Loss: 0.730 Train Acc: 0.654\n"
     ]
    },
    {
     "name": "stderr",
     "output_type": "stream",
     "text": [
      "100%|██████████| 5681/5681 [00:04<00:00, 1335.41it/s]\n"
     ]
    },
    {
     "name": "stdout",
     "output_type": "stream",
     "text": [
      "Epoch: 62/150 Train Loss: 0.734 Train Acc: 0.653\n"
     ]
    },
    {
     "name": "stderr",
     "output_type": "stream",
     "text": [
      "100%|██████████| 5681/5681 [00:04<00:00, 1333.12it/s]\n"
     ]
    },
    {
     "name": "stdout",
     "output_type": "stream",
     "text": [
      "Epoch: 63/150 Train Loss: 0.725 Train Acc: 0.664\n"
     ]
    },
    {
     "name": "stderr",
     "output_type": "stream",
     "text": [
      "100%|██████████| 5681/5681 [00:04<00:00, 1339.44it/s]\n"
     ]
    },
    {
     "name": "stdout",
     "output_type": "stream",
     "text": [
      "Epoch: 64/150 Train Loss: 0.779 Train Acc: 0.627\n"
     ]
    },
    {
     "name": "stderr",
     "output_type": "stream",
     "text": [
      "100%|██████████| 5681/5681 [00:04<00:00, 1336.02it/s]\n"
     ]
    },
    {
     "name": "stdout",
     "output_type": "stream",
     "text": [
      "Epoch: 65/150 Train Loss: 0.861 Train Acc: 0.601\n"
     ]
    },
    {
     "name": "stderr",
     "output_type": "stream",
     "text": [
      "100%|██████████| 5681/5681 [00:04<00:00, 1320.41it/s]\n"
     ]
    },
    {
     "name": "stdout",
     "output_type": "stream",
     "text": [
      "Epoch: 66/150 Train Loss: 0.757 Train Acc: 0.645\n"
     ]
    },
    {
     "name": "stderr",
     "output_type": "stream",
     "text": [
      "100%|██████████| 5681/5681 [00:04<00:00, 1253.13it/s]\n"
     ]
    },
    {
     "name": "stdout",
     "output_type": "stream",
     "text": [
      "Epoch: 67/150 Train Loss: 0.709 Train Acc: 0.667\n"
     ]
    },
    {
     "name": "stderr",
     "output_type": "stream",
     "text": [
      "100%|██████████| 5681/5681 [00:04<00:00, 1327.47it/s]\n"
     ]
    },
    {
     "name": "stdout",
     "output_type": "stream",
     "text": [
      "Epoch: 68/150 Train Loss: 0.747 Train Acc: 0.649\n"
     ]
    },
    {
     "name": "stderr",
     "output_type": "stream",
     "text": [
      "100%|██████████| 5681/5681 [00:04<00:00, 1299.44it/s]\n"
     ]
    },
    {
     "name": "stdout",
     "output_type": "stream",
     "text": [
      "Epoch: 69/150 Train Loss: 0.730 Train Acc: 0.666\n"
     ]
    },
    {
     "name": "stderr",
     "output_type": "stream",
     "text": [
      "100%|██████████| 5681/5681 [00:04<00:00, 1318.38it/s]\n"
     ]
    },
    {
     "name": "stdout",
     "output_type": "stream",
     "text": [
      "Epoch: 70/150 Train Loss: 0.691 Train Acc: 0.696\n"
     ]
    },
    {
     "name": "stderr",
     "output_type": "stream",
     "text": [
      "100%|██████████| 5681/5681 [00:04<00:00, 1320.93it/s]\n"
     ]
    },
    {
     "name": "stdout",
     "output_type": "stream",
     "text": [
      "Epoch: 71/150 Train Loss: 0.652 Train Acc: 0.706\n"
     ]
    },
    {
     "name": "stderr",
     "output_type": "stream",
     "text": [
      "100%|██████████| 5681/5681 [00:04<00:00, 1306.90it/s]\n"
     ]
    },
    {
     "name": "stdout",
     "output_type": "stream",
     "text": [
      "Epoch: 72/150 Train Loss: 0.645 Train Acc: 0.712\n"
     ]
    },
    {
     "name": "stderr",
     "output_type": "stream",
     "text": [
      "100%|██████████| 5681/5681 [00:04<00:00, 1327.89it/s]\n"
     ]
    },
    {
     "name": "stdout",
     "output_type": "stream",
     "text": [
      "Epoch: 73/150 Train Loss: 0.635 Train Acc: 0.710\n"
     ]
    },
    {
     "name": "stderr",
     "output_type": "stream",
     "text": [
      "100%|██████████| 5681/5681 [00:04<00:00, 1259.24it/s]\n"
     ]
    },
    {
     "name": "stdout",
     "output_type": "stream",
     "text": [
      "Epoch: 74/150 Train Loss: 0.629 Train Acc: 0.721\n"
     ]
    },
    {
     "name": "stderr",
     "output_type": "stream",
     "text": [
      "100%|██████████| 5681/5681 [00:04<00:00, 1322.94it/s]\n"
     ]
    },
    {
     "name": "stdout",
     "output_type": "stream",
     "text": [
      "Epoch: 75/150 Train Loss: 0.626 Train Acc: 0.727\n"
     ]
    },
    {
     "name": "stderr",
     "output_type": "stream",
     "text": [
      "100%|██████████| 5681/5681 [00:04<00:00, 1298.08it/s]\n"
     ]
    },
    {
     "name": "stdout",
     "output_type": "stream",
     "text": [
      "Epoch: 76/150 Train Loss: 0.624 Train Acc: 0.725\n"
     ]
    },
    {
     "name": "stderr",
     "output_type": "stream",
     "text": [
      "100%|██████████| 5681/5681 [00:04<00:00, 1310.13it/s]\n"
     ]
    },
    {
     "name": "stdout",
     "output_type": "stream",
     "text": [
      "Epoch: 77/150 Train Loss: 0.642 Train Acc: 0.720\n"
     ]
    },
    {
     "name": "stderr",
     "output_type": "stream",
     "text": [
      "100%|██████████| 5681/5681 [00:04<00:00, 1318.97it/s]\n"
     ]
    },
    {
     "name": "stdout",
     "output_type": "stream",
     "text": [
      "Epoch: 78/150 Train Loss: 0.633 Train Acc: 0.718\n"
     ]
    },
    {
     "name": "stderr",
     "output_type": "stream",
     "text": [
      "100%|██████████| 5681/5681 [00:04<00:00, 1301.93it/s]\n"
     ]
    },
    {
     "name": "stdout",
     "output_type": "stream",
     "text": [
      "Epoch: 79/150 Train Loss: 0.658 Train Acc: 0.713\n"
     ]
    },
    {
     "name": "stderr",
     "output_type": "stream",
     "text": [
      "100%|██████████| 5681/5681 [00:04<00:00, 1326.11it/s]\n"
     ]
    },
    {
     "name": "stdout",
     "output_type": "stream",
     "text": [
      "Epoch: 80/150 Train Loss: 0.672 Train Acc: 0.711\n"
     ]
    },
    {
     "name": "stderr",
     "output_type": "stream",
     "text": [
      "100%|██████████| 5681/5681 [00:04<00:00, 1256.52it/s]\n"
     ]
    },
    {
     "name": "stdout",
     "output_type": "stream",
     "text": [
      "Epoch: 81/150 Train Loss: 0.668 Train Acc: 0.722\n"
     ]
    },
    {
     "name": "stderr",
     "output_type": "stream",
     "text": [
      "100%|██████████| 5681/5681 [00:04<00:00, 1304.24it/s]\n"
     ]
    },
    {
     "name": "stdout",
     "output_type": "stream",
     "text": [
      "Epoch: 82/150 Train Loss: 0.604 Train Acc: 0.748\n"
     ]
    },
    {
     "name": "stderr",
     "output_type": "stream",
     "text": [
      "100%|██████████| 5681/5681 [00:04<00:00, 1294.18it/s]\n"
     ]
    },
    {
     "name": "stdout",
     "output_type": "stream",
     "text": [
      "Epoch: 83/150 Train Loss: 0.569 Train Acc: 0.768\n"
     ]
    },
    {
     "name": "stderr",
     "output_type": "stream",
     "text": [
      "100%|██████████| 5681/5681 [00:04<00:00, 1299.48it/s]\n"
     ]
    },
    {
     "name": "stdout",
     "output_type": "stream",
     "text": [
      "Epoch: 84/150 Train Loss: 0.553 Train Acc: 0.774\n"
     ]
    },
    {
     "name": "stderr",
     "output_type": "stream",
     "text": [
      "100%|██████████| 5681/5681 [00:04<00:00, 1304.48it/s]\n"
     ]
    },
    {
     "name": "stdout",
     "output_type": "stream",
     "text": [
      "Epoch: 85/150 Train Loss: 0.539 Train Acc: 0.788\n"
     ]
    },
    {
     "name": "stderr",
     "output_type": "stream",
     "text": [
      "100%|██████████| 5681/5681 [00:04<00:00, 1264.33it/s]\n"
     ]
    },
    {
     "name": "stdout",
     "output_type": "stream",
     "text": [
      "Epoch: 86/150 Train Loss: 0.522 Train Acc: 0.796\n"
     ]
    },
    {
     "name": "stderr",
     "output_type": "stream",
     "text": [
      "100%|██████████| 5681/5681 [00:04<00:00, 1255.19it/s]\n"
     ]
    },
    {
     "name": "stdout",
     "output_type": "stream",
     "text": [
      "Epoch: 87/150 Train Loss: 0.519 Train Acc: 0.800\n"
     ]
    },
    {
     "name": "stderr",
     "output_type": "stream",
     "text": [
      "100%|██████████| 5681/5681 [00:04<00:00, 1219.64it/s]\n"
     ]
    },
    {
     "name": "stdout",
     "output_type": "stream",
     "text": [
      "Epoch: 88/150 Train Loss: 0.503 Train Acc: 0.808\n"
     ]
    },
    {
     "name": "stderr",
     "output_type": "stream",
     "text": [
      "100%|██████████| 5681/5681 [00:04<00:00, 1296.06it/s]\n"
     ]
    },
    {
     "name": "stdout",
     "output_type": "stream",
     "text": [
      "Epoch: 89/150 Train Loss: 0.510 Train Acc: 0.805\n"
     ]
    },
    {
     "name": "stderr",
     "output_type": "stream",
     "text": [
      "100%|██████████| 5681/5681 [00:04<00:00, 1293.60it/s]\n"
     ]
    },
    {
     "name": "stdout",
     "output_type": "stream",
     "text": [
      "Epoch: 90/150 Train Loss: 0.527 Train Acc: 0.797\n"
     ]
    },
    {
     "name": "stderr",
     "output_type": "stream",
     "text": [
      "100%|██████████| 5681/5681 [00:04<00:00, 1286.79it/s]\n"
     ]
    },
    {
     "name": "stdout",
     "output_type": "stream",
     "text": [
      "Epoch: 91/150 Train Loss: 0.508 Train Acc: 0.809\n"
     ]
    },
    {
     "name": "stderr",
     "output_type": "stream",
     "text": [
      "100%|██████████| 5681/5681 [00:04<00:00, 1307.41it/s]\n"
     ]
    },
    {
     "name": "stdout",
     "output_type": "stream",
     "text": [
      "Epoch: 92/150 Train Loss: 0.504 Train Acc: 0.808\n"
     ]
    },
    {
     "name": "stderr",
     "output_type": "stream",
     "text": [
      "100%|██████████| 5681/5681 [00:04<00:00, 1307.17it/s]\n"
     ]
    },
    {
     "name": "stdout",
     "output_type": "stream",
     "text": [
      "Epoch: 93/150 Train Loss: 0.488 Train Acc: 0.820\n"
     ]
    },
    {
     "name": "stderr",
     "output_type": "stream",
     "text": [
      "100%|██████████| 5681/5681 [00:04<00:00, 1327.50it/s]\n"
     ]
    },
    {
     "name": "stdout",
     "output_type": "stream",
     "text": [
      "Epoch: 94/150 Train Loss: 0.491 Train Acc: 0.813\n"
     ]
    },
    {
     "name": "stderr",
     "output_type": "stream",
     "text": [
      "100%|██████████| 5681/5681 [00:04<00:00, 1299.65it/s]\n"
     ]
    },
    {
     "name": "stdout",
     "output_type": "stream",
     "text": [
      "Epoch: 95/150 Train Loss: 0.477 Train Acc: 0.825\n"
     ]
    },
    {
     "name": "stderr",
     "output_type": "stream",
     "text": [
      "100%|██████████| 5681/5681 [00:04<00:00, 1320.52it/s]\n"
     ]
    },
    {
     "name": "stdout",
     "output_type": "stream",
     "text": [
      "Epoch: 96/150 Train Loss: 0.485 Train Acc: 0.812\n"
     ]
    },
    {
     "name": "stderr",
     "output_type": "stream",
     "text": [
      "100%|██████████| 5681/5681 [00:04<00:00, 1333.53it/s]\n"
     ]
    },
    {
     "name": "stdout",
     "output_type": "stream",
     "text": [
      "Epoch: 97/150 Train Loss: 0.479 Train Acc: 0.822\n"
     ]
    },
    {
     "name": "stderr",
     "output_type": "stream",
     "text": [
      "100%|██████████| 5681/5681 [00:04<00:00, 1341.29it/s]\n"
     ]
    },
    {
     "name": "stdout",
     "output_type": "stream",
     "text": [
      "Epoch: 98/150 Train Loss: 0.464 Train Acc: 0.832\n"
     ]
    },
    {
     "name": "stderr",
     "output_type": "stream",
     "text": [
      "100%|██████████| 5681/5681 [00:04<00:00, 1328.56it/s]\n"
     ]
    },
    {
     "name": "stdout",
     "output_type": "stream",
     "text": [
      "Epoch: 99/150 Train Loss: 0.468 Train Acc: 0.829\n"
     ]
    },
    {
     "name": "stderr",
     "output_type": "stream",
     "text": [
      "100%|██████████| 5681/5681 [00:04<00:00, 1297.82it/s]\n"
     ]
    },
    {
     "name": "stdout",
     "output_type": "stream",
     "text": [
      "Epoch: 100/150 Train Loss: 0.485 Train Acc: 0.824\n"
     ]
    },
    {
     "name": "stderr",
     "output_type": "stream",
     "text": [
      "100%|██████████| 5681/5681 [00:04<00:00, 1332.29it/s]\n"
     ]
    },
    {
     "name": "stdout",
     "output_type": "stream",
     "text": [
      "Epoch: 101/150 Train Loss: 0.443 Train Acc: 0.839\n"
     ]
    },
    {
     "name": "stderr",
     "output_type": "stream",
     "text": [
      "100%|██████████| 5681/5681 [00:04<00:00, 1267.03it/s]\n"
     ]
    },
    {
     "name": "stdout",
     "output_type": "stream",
     "text": [
      "Epoch: 102/150 Train Loss: 0.431 Train Acc: 0.848\n"
     ]
    },
    {
     "name": "stderr",
     "output_type": "stream",
     "text": [
      "100%|██████████| 5681/5681 [00:04<00:00, 1331.69it/s]\n"
     ]
    },
    {
     "name": "stdout",
     "output_type": "stream",
     "text": [
      "Epoch: 103/150 Train Loss: 0.413 Train Acc: 0.854\n"
     ]
    },
    {
     "name": "stderr",
     "output_type": "stream",
     "text": [
      "100%|██████████| 5681/5681 [00:04<00:00, 1287.07it/s]\n"
     ]
    },
    {
     "name": "stdout",
     "output_type": "stream",
     "text": [
      "Epoch: 104/150 Train Loss: 0.425 Train Acc: 0.852\n"
     ]
    },
    {
     "name": "stderr",
     "output_type": "stream",
     "text": [
      "100%|██████████| 5681/5681 [00:04<00:00, 1332.28it/s]\n"
     ]
    },
    {
     "name": "stdout",
     "output_type": "stream",
     "text": [
      "Epoch: 105/150 Train Loss: 0.411 Train Acc: 0.853\n"
     ]
    },
    {
     "name": "stderr",
     "output_type": "stream",
     "text": [
      "100%|██████████| 5681/5681 [00:04<00:00, 1327.16it/s]\n"
     ]
    },
    {
     "name": "stdout",
     "output_type": "stream",
     "text": [
      "Epoch: 106/150 Train Loss: 0.427 Train Acc: 0.850\n"
     ]
    },
    {
     "name": "stderr",
     "output_type": "stream",
     "text": [
      "100%|██████████| 5681/5681 [00:04<00:00, 1308.84it/s]\n"
     ]
    },
    {
     "name": "stdout",
     "output_type": "stream",
     "text": [
      "Epoch: 107/150 Train Loss: 0.423 Train Acc: 0.852\n"
     ]
    },
    {
     "name": "stderr",
     "output_type": "stream",
     "text": [
      "100%|██████████| 5681/5681 [00:04<00:00, 1327.32it/s]\n"
     ]
    },
    {
     "name": "stdout",
     "output_type": "stream",
     "text": [
      "Epoch: 108/150 Train Loss: 0.450 Train Acc: 0.833\n"
     ]
    },
    {
     "name": "stderr",
     "output_type": "stream",
     "text": [
      "100%|██████████| 5681/5681 [00:04<00:00, 1295.13it/s]\n"
     ]
    },
    {
     "name": "stdout",
     "output_type": "stream",
     "text": [
      "Epoch: 109/150 Train Loss: 0.456 Train Acc: 0.836\n"
     ]
    },
    {
     "name": "stderr",
     "output_type": "stream",
     "text": [
      "100%|██████████| 5681/5681 [00:04<00:00, 1323.05it/s]\n"
     ]
    },
    {
     "name": "stdout",
     "output_type": "stream",
     "text": [
      "Epoch: 110/150 Train Loss: 0.442 Train Acc: 0.842\n"
     ]
    },
    {
     "name": "stderr",
     "output_type": "stream",
     "text": [
      "100%|██████████| 5681/5681 [00:04<00:00, 1320.97it/s]\n"
     ]
    },
    {
     "name": "stdout",
     "output_type": "stream",
     "text": [
      "Epoch: 111/150 Train Loss: 0.466 Train Acc: 0.831\n"
     ]
    },
    {
     "name": "stderr",
     "output_type": "stream",
     "text": [
      "100%|██████████| 5681/5681 [00:04<00:00, 1336.13it/s]\n"
     ]
    },
    {
     "name": "stdout",
     "output_type": "stream",
     "text": [
      "Epoch: 112/150 Train Loss: 0.513 Train Acc: 0.805\n"
     ]
    },
    {
     "name": "stderr",
     "output_type": "stream",
     "text": [
      "100%|██████████| 5681/5681 [00:04<00:00, 1328.14it/s]\n"
     ]
    },
    {
     "name": "stdout",
     "output_type": "stream",
     "text": [
      "Epoch: 113/150 Train Loss: 0.534 Train Acc: 0.795\n"
     ]
    },
    {
     "name": "stderr",
     "output_type": "stream",
     "text": [
      "100%|██████████| 5681/5681 [00:04<00:00, 1305.79it/s]\n"
     ]
    },
    {
     "name": "stdout",
     "output_type": "stream",
     "text": [
      "Epoch: 114/150 Train Loss: 0.520 Train Acc: 0.811\n"
     ]
    },
    {
     "name": "stderr",
     "output_type": "stream",
     "text": [
      "100%|██████████| 5681/5681 [00:04<00:00, 1316.68it/s]\n"
     ]
    },
    {
     "name": "stdout",
     "output_type": "stream",
     "text": [
      "Epoch: 115/150 Train Loss: 0.414 Train Acc: 0.855\n"
     ]
    },
    {
     "name": "stderr",
     "output_type": "stream",
     "text": [
      "100%|██████████| 5681/5681 [00:04<00:00, 1282.79it/s]\n"
     ]
    },
    {
     "name": "stdout",
     "output_type": "stream",
     "text": [
      "Epoch: 116/150 Train Loss: 0.425 Train Acc: 0.847\n"
     ]
    },
    {
     "name": "stderr",
     "output_type": "stream",
     "text": [
      "100%|██████████| 5681/5681 [00:04<00:00, 1323.46it/s]\n"
     ]
    },
    {
     "name": "stdout",
     "output_type": "stream",
     "text": [
      "Epoch: 117/150 Train Loss: 0.397 Train Acc: 0.862\n"
     ]
    },
    {
     "name": "stderr",
     "output_type": "stream",
     "text": [
      "100%|██████████| 5681/5681 [00:04<00:00, 1341.57it/s]\n"
     ]
    },
    {
     "name": "stdout",
     "output_type": "stream",
     "text": [
      "Epoch: 118/150 Train Loss: 0.355 Train Acc: 0.877\n"
     ]
    },
    {
     "name": "stderr",
     "output_type": "stream",
     "text": [
      "100%|██████████| 5681/5681 [00:04<00:00, 1340.37it/s]\n"
     ]
    },
    {
     "name": "stdout",
     "output_type": "stream",
     "text": [
      "Epoch: 119/150 Train Loss: 0.353 Train Acc: 0.882\n"
     ]
    },
    {
     "name": "stderr",
     "output_type": "stream",
     "text": [
      "100%|██████████| 5681/5681 [00:04<00:00, 1327.88it/s]\n"
     ]
    },
    {
     "name": "stdout",
     "output_type": "stream",
     "text": [
      "Epoch: 120/150 Train Loss: 0.349 Train Acc: 0.889\n"
     ]
    },
    {
     "name": "stderr",
     "output_type": "stream",
     "text": [
      "100%|██████████| 5681/5681 [00:04<00:00, 1192.62it/s]\n"
     ]
    },
    {
     "name": "stdout",
     "output_type": "stream",
     "text": [
      "Epoch: 121/150 Train Loss: 0.336 Train Acc: 0.884\n"
     ]
    },
    {
     "name": "stderr",
     "output_type": "stream",
     "text": [
      "100%|██████████| 5681/5681 [00:04<00:00, 1323.57it/s]\n"
     ]
    },
    {
     "name": "stdout",
     "output_type": "stream",
     "text": [
      "Epoch: 122/150 Train Loss: 0.332 Train Acc: 0.886\n"
     ]
    },
    {
     "name": "stderr",
     "output_type": "stream",
     "text": [
      "100%|██████████| 5681/5681 [00:04<00:00, 1252.09it/s]\n"
     ]
    },
    {
     "name": "stdout",
     "output_type": "stream",
     "text": [
      "Epoch: 123/150 Train Loss: 0.357 Train Acc: 0.883\n"
     ]
    },
    {
     "name": "stderr",
     "output_type": "stream",
     "text": [
      "100%|██████████| 5681/5681 [00:04<00:00, 1310.46it/s]\n"
     ]
    },
    {
     "name": "stdout",
     "output_type": "stream",
     "text": [
      "Epoch: 124/150 Train Loss: 0.342 Train Acc: 0.888\n"
     ]
    },
    {
     "name": "stderr",
     "output_type": "stream",
     "text": [
      "100%|██████████| 5681/5681 [00:04<00:00, 1312.54it/s]\n"
     ]
    },
    {
     "name": "stdout",
     "output_type": "stream",
     "text": [
      "Epoch: 125/150 Train Loss: 0.337 Train Acc: 0.888\n"
     ]
    },
    {
     "name": "stderr",
     "output_type": "stream",
     "text": [
      "100%|██████████| 5681/5681 [00:04<00:00, 1342.95it/s]\n"
     ]
    },
    {
     "name": "stdout",
     "output_type": "stream",
     "text": [
      "Epoch: 126/150 Train Loss: 0.336 Train Acc: 0.884\n"
     ]
    },
    {
     "name": "stderr",
     "output_type": "stream",
     "text": [
      "100%|██████████| 5681/5681 [00:04<00:00, 1313.09it/s]\n"
     ]
    },
    {
     "name": "stdout",
     "output_type": "stream",
     "text": [
      "Epoch: 127/150 Train Loss: 0.340 Train Acc: 0.888\n"
     ]
    },
    {
     "name": "stderr",
     "output_type": "stream",
     "text": [
      "100%|██████████| 5681/5681 [00:04<00:00, 1297.54it/s]\n"
     ]
    },
    {
     "name": "stdout",
     "output_type": "stream",
     "text": [
      "Epoch: 128/150 Train Loss: 0.374 Train Acc: 0.872\n"
     ]
    },
    {
     "name": "stderr",
     "output_type": "stream",
     "text": [
      "100%|██████████| 5681/5681 [00:04<00:00, 1318.03it/s]\n"
     ]
    },
    {
     "name": "stdout",
     "output_type": "stream",
     "text": [
      "Epoch: 129/150 Train Loss: 0.347 Train Acc: 0.884\n"
     ]
    },
    {
     "name": "stderr",
     "output_type": "stream",
     "text": [
      "100%|██████████| 5681/5681 [00:04<00:00, 1240.74it/s]\n"
     ]
    },
    {
     "name": "stdout",
     "output_type": "stream",
     "text": [
      "Epoch: 130/150 Train Loss: 0.331 Train Acc: 0.892\n"
     ]
    },
    {
     "name": "stderr",
     "output_type": "stream",
     "text": [
      "100%|██████████| 5681/5681 [00:04<00:00, 1299.41it/s]\n"
     ]
    },
    {
     "name": "stdout",
     "output_type": "stream",
     "text": [
      "Epoch: 131/150 Train Loss: 0.296 Train Acc: 0.902\n"
     ]
    },
    {
     "name": "stderr",
     "output_type": "stream",
     "text": [
      "100%|██████████| 5681/5681 [00:04<00:00, 1297.08it/s]\n"
     ]
    },
    {
     "name": "stdout",
     "output_type": "stream",
     "text": [
      "Epoch: 132/150 Train Loss: 0.281 Train Acc: 0.912\n"
     ]
    },
    {
     "name": "stderr",
     "output_type": "stream",
     "text": [
      "100%|██████████| 5681/5681 [00:04<00:00, 1302.07it/s]\n"
     ]
    },
    {
     "name": "stdout",
     "output_type": "stream",
     "text": [
      "Epoch: 133/150 Train Loss: 0.266 Train Acc: 0.918\n"
     ]
    },
    {
     "name": "stderr",
     "output_type": "stream",
     "text": [
      "100%|██████████| 5681/5681 [00:04<00:00, 1295.62it/s]\n"
     ]
    },
    {
     "name": "stdout",
     "output_type": "stream",
     "text": [
      "Epoch: 134/150 Train Loss: 0.255 Train Acc: 0.922\n"
     ]
    },
    {
     "name": "stderr",
     "output_type": "stream",
     "text": [
      "100%|██████████| 5681/5681 [00:04<00:00, 1280.52it/s]\n"
     ]
    },
    {
     "name": "stdout",
     "output_type": "stream",
     "text": [
      "Epoch: 135/150 Train Loss: 0.254 Train Acc: 0.922\n"
     ]
    },
    {
     "name": "stderr",
     "output_type": "stream",
     "text": [
      "100%|██████████| 5681/5681 [00:04<00:00, 1290.16it/s]\n"
     ]
    },
    {
     "name": "stdout",
     "output_type": "stream",
     "text": [
      "Epoch: 136/150 Train Loss: 0.292 Train Acc: 0.902\n"
     ]
    },
    {
     "name": "stderr",
     "output_type": "stream",
     "text": [
      "100%|██████████| 5681/5681 [00:04<00:00, 1248.83it/s]\n"
     ]
    },
    {
     "name": "stdout",
     "output_type": "stream",
     "text": [
      "Epoch: 137/150 Train Loss: 0.324 Train Acc: 0.894\n"
     ]
    },
    {
     "name": "stderr",
     "output_type": "stream",
     "text": [
      "100%|██████████| 5681/5681 [00:04<00:00, 1310.06it/s]\n"
     ]
    },
    {
     "name": "stdout",
     "output_type": "stream",
     "text": [
      "Epoch: 138/150 Train Loss: 0.258 Train Acc: 0.916\n"
     ]
    },
    {
     "name": "stderr",
     "output_type": "stream",
     "text": [
      "100%|██████████| 5681/5681 [00:04<00:00, 1271.58it/s]\n"
     ]
    },
    {
     "name": "stdout",
     "output_type": "stream",
     "text": [
      "Epoch: 139/150 Train Loss: 0.283 Train Acc: 0.907\n"
     ]
    },
    {
     "name": "stderr",
     "output_type": "stream",
     "text": [
      "100%|██████████| 5681/5681 [00:04<00:00, 1325.32it/s]\n"
     ]
    },
    {
     "name": "stdout",
     "output_type": "stream",
     "text": [
      "Epoch: 140/150 Train Loss: 0.259 Train Acc: 0.919\n"
     ]
    },
    {
     "name": "stderr",
     "output_type": "stream",
     "text": [
      "100%|██████████| 5681/5681 [00:04<00:00, 1327.40it/s]\n"
     ]
    },
    {
     "name": "stdout",
     "output_type": "stream",
     "text": [
      "Epoch: 141/150 Train Loss: 0.296 Train Acc: 0.897\n"
     ]
    },
    {
     "name": "stderr",
     "output_type": "stream",
     "text": [
      "100%|██████████| 5681/5681 [00:04<00:00, 1331.74it/s]\n"
     ]
    },
    {
     "name": "stdout",
     "output_type": "stream",
     "text": [
      "Epoch: 142/150 Train Loss: 0.287 Train Acc: 0.904\n"
     ]
    },
    {
     "name": "stderr",
     "output_type": "stream",
     "text": [
      "100%|██████████| 5681/5681 [00:04<00:00, 1341.65it/s]\n"
     ]
    },
    {
     "name": "stdout",
     "output_type": "stream",
     "text": [
      "Epoch: 143/150 Train Loss: 0.311 Train Acc: 0.893\n"
     ]
    },
    {
     "name": "stderr",
     "output_type": "stream",
     "text": [
      "100%|██████████| 5681/5681 [00:04<00:00, 1273.85it/s]\n"
     ]
    },
    {
     "name": "stdout",
     "output_type": "stream",
     "text": [
      "Epoch: 144/150 Train Loss: 0.292 Train Acc: 0.904\n"
     ]
    },
    {
     "name": "stderr",
     "output_type": "stream",
     "text": [
      "100%|██████████| 5681/5681 [00:04<00:00, 1331.95it/s]\n"
     ]
    },
    {
     "name": "stdout",
     "output_type": "stream",
     "text": [
      "Epoch: 145/150 Train Loss: 0.338 Train Acc: 0.879\n"
     ]
    },
    {
     "name": "stderr",
     "output_type": "stream",
     "text": [
      "100%|██████████| 5681/5681 [00:04<00:00, 1331.67it/s]\n"
     ]
    },
    {
     "name": "stdout",
     "output_type": "stream",
     "text": [
      "Epoch: 146/150 Train Loss: 0.385 Train Acc: 0.858\n"
     ]
    },
    {
     "name": "stderr",
     "output_type": "stream",
     "text": [
      "100%|██████████| 5681/5681 [00:04<00:00, 1330.31it/s]\n"
     ]
    },
    {
     "name": "stdout",
     "output_type": "stream",
     "text": [
      "Epoch: 147/150 Train Loss: 0.428 Train Acc: 0.853\n"
     ]
    },
    {
     "name": "stderr",
     "output_type": "stream",
     "text": [
      "100%|██████████| 5681/5681 [00:04<00:00, 1343.90it/s]\n"
     ]
    },
    {
     "name": "stdout",
     "output_type": "stream",
     "text": [
      "Epoch: 148/150 Train Loss: 0.414 Train Acc: 0.861\n"
     ]
    },
    {
     "name": "stderr",
     "output_type": "stream",
     "text": [
      "100%|██████████| 5681/5681 [00:04<00:00, 1330.52it/s]\n",
      " 92%|█████████▏| 1311/1421 [00:02<00:00, 535.83it/s]\n"
     ]
    },
    {
     "name": "stdout",
     "output_type": "stream",
     "text": [
      "Epoch: 149/150 Train Loss: 0.319 Train Acc: 0.893 Valid Loss: 1.239 Valid Acc: 0.678 Valid Pre: 0.698 Valid Reca: 0.671 Valid F1: 0.679\n",
      "             precision    recall  f1-score   support\n",
      "\n",
      "   Hapinnes       0.78      0.75      0.76        95\n",
      "    Sadness       0.65      0.58      0.61        97\n",
      "      Anger       0.77      0.62      0.68       104\n",
      "       Fear       0.58      0.72      0.64       141\n",
      "\n",
      "avg / total       0.68      0.67      0.67       437\n",
      "\n",
      "Confusion matrix, without normalization\n",
      "[[ 71   7   3  14]\n",
      " [  6  56   1  34]\n",
      " [  6   7  64  27]\n",
      " [  8  16  15 102]]\n",
      "Normalized confusion matrix\n",
      "[[0.75 0.07 0.03 0.15]\n",
      " [0.06 0.58 0.01 0.35]\n",
      " [0.06 0.07 0.62 0.26]\n",
      " [0.06 0.11 0.11 0.72]]\n"
     ]
    },
    {
     "data": {
      "image/png": "[encoded data removed]",
      "text/plain": [
       "<Figure size 432x288 with 2 Axes>"
      ]
     },
     "metadata": {
      "needs_background": "light"
     },
     "output_type": "display_data"
    },
    {
     "data": {
      "image/png": "[encoded data removed]",
      "text/plain": [
       "<Figure size 432x288 with 2 Axes>"
      ]
     },
     "metadata": {
      "needs_background": "light"
     },
     "output_type": "display_data"
    }
   ],
   "source": [
    "log_string = 'ru={},fcl={},fcu={}'.format(6,10,96)\n",
    "model = build_rnn(numClasses = numClasses,\n",
    "                              maxSeqLength=maxSeqLength,\n",
    "                              numDimensions=numDimensions,\n",
    "                              batchSize = batchSize,\n",
    "                              lstmUnits = lstmUnits,\n",
    "                              dropout = dropout,\n",
    "                              learning_rate = learning_rate)       \n",
    "train(model, epochs, log_string)"
   ]
  },
  {
   "cell_type": "code",
   "execution_count": null,
   "metadata": {},
   "outputs": [],
   "source": [
    "Hacer ultimo chekpoint . en base a F1\n",
    "\n",
    "\n",
    "Probar con Stop words y otras mod.\n",
    "Limpiar #poorattention\n",
    "@@ estas haciendo valid con batch pqueño , no con todo el gigante, pero no importan en el test se hace asi\n",
    "pondras "
   ]
  },
  {
   "cell_type": "code",
   "execution_count": 161,
   "metadata": {},
   "outputs": [],
   "source": []
  },
  {
   "cell_type": "code",
   "execution_count": 193,
   "metadata": {},
   "outputs": [],
   "source": []
  },
  {
   "cell_type": "code",
   "execution_count": 194,
   "metadata": {},
   "outputs": [],
   "source": []
  },
  {
   "cell_type": "code",
   "execution_count": null,
   "metadata": {},
   "outputs": [],
   "source": []
  },
  {
   "cell_type": "code",
   "execution_count": null,
   "metadata": {},
   "outputs": [],
   "source": []
  },
  {
   "cell_type": "code",
   "execution_count": null,
   "metadata": {},
   "outputs": [],
   "source": []
  },
  {
   "cell_type": "code",
   "execution_count": null,
   "metadata": {},
   "outputs": [],
   "source": []
  },
  {
   "cell_type": "markdown",
   "metadata": {},
   "source": [
    "Tensorboar"
   ]
  },
  {
   "cell_type": "code",
   "execution_count": 207,
   "metadata": {},
   "outputs": [],
   "source": [
    "import datetime\n",
    "def board(sess):\n",
    "    tf.summary.scalar('Loss', loss)\n",
    "    tf.summary.scalar('Accuracy', accuracy)\n",
    "    tf.summary.histogram(\"Histogrma/hAccu\", accuracy)\n",
    "    merged = tf.summary.merge_all()\n",
    "    logdir = \"board/\" + datetime.datetime.now().strftime(\"%Y%m%d-%H%M%S\") + \"/\"\n",
    "    writer = tf.summary.FileWriter(logdir, sess.graph)\n",
    "    return merged,writer"
   ]
  },
  {
   "cell_type": "markdown",
   "metadata": {},
   "source": [
    "Confusion Matrix Plot"
   ]
  },
  {
   "cell_type": "code",
   "execution_count": 208,
   "metadata": {},
   "outputs": [],
   "source": [
    "import itertools\n",
    "def plot_confusion_matrix(cm, classes,\n",
    "                          normalize=False,\n",
    "                          title='Confusion matrix',\n",
    "                          cmap=plt.cm.Blues):\n",
    "    \"\"\"\n",
    "    This function prints and plots the confusion matrix.\n",
    "    Normalization can be applied by setting `normalize=True`.\n",
    "    \"\"\"\n",
    "    if normalize:\n",
    "        cm = cm.astype('float') / cm.sum(axis=1)[:, np.newaxis]\n",
    "        print(\"Normalized confusion matrix\")\n",
    "    else:\n",
    "        print('Confusion matrix, without normalization')\n",
    "\n",
    "    print(cm)\n",
    "\n",
    "    plt.imshow(cm, interpolation='nearest', cmap=cmap)\n",
    "    plt.title(title)\n",
    "    plt.colorbar()\n",
    "    tick_marks = np.arange(len(classes))\n",
    "    plt.xticks(tick_marks, classes, rotation=45)\n",
    "    plt.yticks(tick_marks, classes)\n",
    "\n",
    "    fmt = '.2f' if normalize else 'd'\n",
    "    thresh = cm.max() / 2.\n",
    "    for i, j in itertools.product(range(cm.shape[0]), range(cm.shape[1])):\n",
    "        plt.text(j, i, format(cm[i, j], fmt),\n",
    "                 horizontalalignment=\"center\",\n",
    "                 color=\"white\" if cm[i, j] > thresh else \"black\")\n",
    "\n",
    "    plt.ylabel('True label')\n",
    "    plt.xlabel('Predicted label')\n",
    "    plt.tight_layout()"
   ]
  },
  {
   "cell_type": "code",
   "execution_count": null,
   "metadata": {},
   "outputs": [],
   "source": []
  },
  {
   "cell_type": "code",
   "execution_count": null,
   "metadata": {},
   "outputs": [],
   "source": []
  },
  {
   "cell_type": "code",
   "execution_count": 84,
   "metadata": {},
   "outputs": [
    {
     "name": "stdout",
     "output_type": "stream",
     "text": [
      "Balance Counter({4: 1257, 3: 941, 1: 902, 2: 860})\n"
     ]
    }
   ],
   "source": [
    "from collections import Counter\n",
    "from sklearn.datasets import make_classification\n",
    "from imblearn.over_sampling import SMOTE  \n",
    "print('Balance',Counter(emotions))"
   ]
  },
  {
   "cell_type": "code",
   "execution_count": null,
   "metadata": {},
   "outputs": [],
   "source": [
    "from imblearn.over_sampling import SMOTE, ADASYN\n",
    "#Banlancea ADASYN\n",
    "X_balance, Y_balance = ADASYN().fit_sample(X,emotions)\n",
    "print('Balance',Counter(Y_balance))"
   ]
  },
  {
   "cell_type": "code",
   "execution_count": 48,
   "metadata": {},
   "outputs": [
    {
     "name": "stdout",
     "output_type": "stream",
     "text": [
      "(7836, 15)   (7836,)\n",
      "3695   3695\n"
     ]
    }
   ],
   "source": [
    "print(X_balance.shape,\" \",Y_balance.shape)\n",
    "print(len(X),\" \",len(emotion))"
   ]
  },
  {
   "cell_type": "code",
   "execution_count": 49,
   "metadata": {},
   "outputs": [
    {
     "name": "stdout",
     "output_type": "stream",
     "text": [
      "X_train:  6817   Y_train:  6817   X_test:  1019   Y_test:  1019\n"
     ]
    }
   ],
   "source": [
    "X_train_b, X_test_b, Y_train_b, Y_test_b = train_test_split(X_balance, Y_balance, test_size=0.13, random_state=random.randrange(50), stratify=Y_balance)\n",
    "print(\"X_train: \",len(X_train_b),\"  Y_train: \",len(Y_train_b),\"  X_test: \",len(X_test_b),\"  Y_test: \",len(Y_test_b))"
   ]
  },
  {
   "cell_type": "code",
   "execution_count": 50,
   "metadata": {},
   "outputs": [],
   "source": [
    "Y_train_b = toLabels(Y_train_b)\n",
    "Y_test_b = toLabels(Y_test_b)"
   ]
  },
  {
   "cell_type": "markdown",
   "metadata": {},
   "source": [
    "Otro Modelo: Solo balanceamos Trainset"
   ]
  },
  {
   "cell_type": "code",
   "execution_count": null,
   "metadata": {},
   "outputs": [],
   "source": [
    "#Averogua ottros modelos\n",
    "#Cambie el keep_drop\n",
    "#Cambia learning rate\n",
    "#Cambie num unidades 128?\n",
    "#Prueba con tu modelo"
   ]
  },
  {
   "cell_type": "code",
   "execution_count": null,
   "metadata": {},
   "outputs": [],
   "source": []
  },
  {
   "cell_type": "code",
   "execution_count": 110,
   "metadata": {},
   "outputs": [],
   "source": [
    "def train(model, epochs, log_string):\n",
    "    '''Train the RNN'''\n",
    "\n",
    "    saver = tf.train.Saver()\n",
    "    \n",
    "    with tf.Session() as sess:\n",
    "        sess.run(tf.global_variables_initializer())\n",
    "\n",
    "        # Used to determine when to stop the training early\n",
    "        valid_loss_summary = []\n",
    "        \n",
    "        # Metrics Presicion, recall and F1 measure\n",
    "        val_pre = []\n",
    "        val_recall = []\n",
    "        val_f1 = []\n",
    "        \n",
    "        # Keep track of which batch iteration is being trained\n",
    "        iteration = 0\n",
    "\n",
    "        print()\n",
    "        print(\"Training Model: {}\".format(log_string))\n",
    "\n",
    "        train_writer = tf.summary.FileWriter('./logs/3/train/{}'.format(log_string), sess.graph)\n",
    "        valid_writer = tf.summary.FileWriter('./logs/3/valid/{}'.format(log_string))\n",
    "\n",
    "        for e in range(epochs):\n",
    "            state = sess.run(model.initial_state)\n",
    "            \n",
    "            # Record progress with each epoch\n",
    "            train_loss = []\n",
    "            train_acc = []\n",
    "            val_acc = []\n",
    "            val_loss = []\n",
    "            \n",
    "            #Create X groups of (50,6) Labels && (50,maximum) Examples\n",
    "            numEjemplos = 3168  \n",
    "            total_batch = int(numEjemplos/batchSize)\n",
    "            X_batches = np.array_split(X_train, total_batch)\n",
    "            Y_batches = np.array_split(Y_train, total_batch)\n",
    "\n",
    "            #Train Cycle\n",
    "            with tqdm(total=len(X_train)) as pbar: #Barra de progreso !!!\n",
    "                for i in range(total_batch):\n",
    "                    batch_x, batch_y = X_batches[i], Y_batches[i]\n",
    "                    feed = {model.inputs: batch_x,\n",
    "                            model.labels: batch_y,\n",
    "                            model.keep_prob: dropout,\n",
    "                            model.initial_state: state}\n",
    "                    summary, loss, acc, state, _ = sess.run([model.merged, \n",
    "                                                             model.cost, \n",
    "                                                             model.accuracy, \n",
    "                                                             model.final_state, \n",
    "                                                             model.optimizer], \n",
    "                                                            feed_dict=feed)\n",
    "\n",
    "                    # Record the loss and accuracy of each training batch\n",
    "                    train_loss.append(loss)\n",
    "                    train_acc.append(acc)\n",
    "                    \n",
    "                    # Record the progress of training\n",
    "                    train_writer.add_summary(summary, iteration)\n",
    "                    \n",
    "                    iteration += 1\n",
    "                    pbar.update(batchSize)\n",
    "            \n",
    "            # Average the training loss and accuracy of each epoch\n",
    "            avg_train_loss = np.mean(train_loss)\n",
    "            avg_train_acc = np.mean(train_acc) \n",
    "\n",
    "            #Create X train batchs of batchSize\n",
    "            numEjemplos = 792  \n",
    "            total_batch =  math.floor(numEjemplos/batchSize)\n",
    "            \n",
    "            X_batches = np.array_split(X_test, total_batch)\n",
    "            Y_batches = np.array_split(Y_test, total_batch)\n",
    "                \n",
    "            #Valid Cycle\n",
    "            val_state = sess.run(model.initial_state)\n",
    "            with tqdm(total=len(X_test)) as pbar:\n",
    "                for i in range(total_batch):\n",
    "                    batch_x, batch_y = X_batches[i], Y_batches[i]\n",
    "                    feed = {model.inputs: batch_x,\n",
    "                            model.labels: batch_y,\n",
    "                            model.keep_prob: 1,\n",
    "                            model.initial_state: val_state}\n",
    "                    summary, batch_loss, batch_acc, val_state, batch_pre = sess.run([model.merged, \n",
    "                                                                          model.cost, \n",
    "                                                                          model.accuracy, \n",
    "                                                                          model.final_state,\n",
    "                                                                          model.prediction], \n",
    "                                                                         feed_dict=feed)\n",
    "                    \n",
    "                    \n",
    "                    #Converting predictions to np.array \n",
    "                    y_pred = tf.argmax(batch_pre , 1).eval({model.inputs: batch_x, model.labels: batch_y})\n",
    "                    y_true = (tf.argmax(batch_y , 1).eval()) \n",
    "                    precision = precision_score(y_true, y_pred, average=None)\n",
    "                    recall = recall_score(y_true, y_pred, average=None)\n",
    "                    f1 = f1_score(y_true, y_pred, average=None)\n",
    "                    \n",
    "                    # Record the validation loss and accuracy of each epoch\n",
    "                    val_loss.append(batch_loss)\n",
    "                    val_acc.append(batch_acc)\n",
    "                    val_pre.append(precision)\n",
    "                    val_recall.append(recall)\n",
    "                    val_f1.append(f1)\n",
    "                    pbar.update(batchSize)\n",
    "                    \n",
    "                    \n",
    "            \n",
    "            # Average the validation loss and accuracy of each epoch\n",
    "            avg_valid_loss = np.mean(val_loss)    \n",
    "            avg_valid_acc = np.mean(val_acc)\n",
    "            valid_loss_summary.append(avg_valid_loss)\n",
    "            avg_pre = np.mean(val_pre)\n",
    "            avg_recall = np.mean(val_recall)\n",
    "            avg_f1 = np.mean(val_f1)\n",
    "            \n",
    "            # Record the validation data's progress\n",
    "            valid_writer.add_summary(summary, iteration)\n",
    "\n",
    "            # Print the progress of each epoch\n",
    "            print(\"Epoch: {}/{}\".format(e, epochs),\n",
    "                  \"Train Loss: {:.3f}\".format(avg_train_loss),\n",
    "                  \"Train Acc: {:.3f}\".format(avg_train_acc),\n",
    "                  \"Valid Loss: {:.3f}\".format(avg_valid_loss),\n",
    "                  \"Valid Acc: {:.3f}\".format(avg_valid_acc))\n",
    "\n",
    "            if e > 148:\n",
    "                print(\"Epoch: {}/{}\".format(e, epochs),\n",
    "                \"Train Loss: {:.3f}\".format(avg_train_loss),\n",
    "                \"Train Acc: {:.3f}\".format(avg_train_acc),\n",
    "                \"Valid Loss: {:.3f}\".format(avg_valid_loss),\n",
    "                \"Valid Acc: {:.3f}\".format(avg_valid_acc),\n",
    "                \"Valid Pre: {:.3f}\".format(avg_pre),\n",
    "                \"Valid Reca: {:.3f}\".format(avg_recall),\n",
    "                \"Valid F1: {:.3f}\".format(avg_f1))\n",
    "                \n",
    "                class_names = [\"Hapinnes\",\"Sadness\",\"Anger\",\"Fear\"]\n",
    "                print(classification_report(y_true, y_pred, target_names=class_names))\n",
    "                \n",
    "            # Stop training if the validation loss does not decrease after 3 epochs\n",
    "            if avg_valid_loss > min(valid_loss_summary):\n",
    "                print(\"No Improvement.\")\n",
    "                #-----stop_early += 1\n",
    "                if stop_early == 3:\n",
    "                    break   \n",
    "            \n",
    "            # Reset stop_early if the validation loss finds a new low\n",
    "            # Save a checkpoint of the model\n",
    "            else:\n",
    "                print(\"New Record!\")\n",
    "                stop_early = 0\n",
    "                checkpoint = \"C:/Users/UX310UQ/Desktop/CheckPoints/sentiment_{}.ckpt\".format(log_string)\n",
    "                saver.save(sess, checkpoint)"
   ]
  },
  {
   "cell_type": "code",
   "execution_count": null,
   "metadata": {},
   "outputs": [],
   "source": []
  },
  {
   "cell_type": "code",
   "execution_count": null,
   "metadata": {},
   "outputs": [],
   "source": []
  },
  {
   "cell_type": "code",
   "execution_count": null,
   "metadata": {},
   "outputs": [],
   "source": []
  },
  {
   "cell_type": "code",
   "execution_count": null,
   "metadata": {},
   "outputs": [],
   "source": []
  }
 ],
 "metadata": {
  "kernelspec": {
   "display_name": "Python 3",
   "language": "python",
   "name": "python3"
  },
  "language_info": {
   "codemirror_mode": {
    "name": "ipython",
    "version": 3
   },
   "file_extension": ".py",
   "mimetype": "text/x-python",
   "name": "python",
   "nbconvert_exporter": "python",
   "pygments_lexer": "ipython3",
   "version": "3.6.6"
  }
 },
 "nbformat": 4,
 "nbformat_minor": 2
}
