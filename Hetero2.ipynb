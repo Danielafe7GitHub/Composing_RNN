{
 "cells": [
  {
   "cell_type": "markdown",
   "metadata": {},
   "source": [
    "Importando Paquetes"
   ]
  },
  {
   "cell_type": "code",
   "execution_count": 2,
   "metadata": {},
   "outputs": [
    {
     "name": "stderr",
     "output_type": "stream",
     "text": [
      "Using TensorFlow backend.\n"
     ]
    }
   ],
   "source": [
    "import pandas as pd\n",
    "import numpy as np\n",
    "import tensorflow as tf\n",
    "import nltk, re, time\n",
    "from nltk.corpus import stopwords\n",
    "from collections import defaultdict\n",
    "from tqdm import tqdm\n",
    "from sklearn.model_selection import train_test_split\n",
    "from keras.preprocessing.text import Tokenizer\n",
    "from keras.preprocessing.sequence import pad_sequences\n",
    "from collections import namedtuple"
   ]
  },
  {
   "cell_type": "markdown",
   "metadata": {},
   "source": [
    "Importando el Dataset"
   ]
  },
  {
   "cell_type": "code",
   "execution_count": 3,
   "metadata": {},
   "outputs": [
    {
     "name": "stdout",
     "output_type": "stream",
     "text": [
      "2   Mortar assault leaves at least 18 dead\n",
      "\n",
      "Labels:  3695 Sentences:  3695\n"
     ]
    }
   ],
   "source": [
    "#--------------------Extracting Emotion && sentences from corpus\n",
    "def extract(dataset):\n",
    "    f = open(dataset, 'r+')\n",
    "    linea = f.readline()\n",
    "    emotion = []\n",
    "    sentences = []\n",
    "    neutro = re.compile('^ne')\n",
    "    while linea != \"\":    \n",
    "        #Ignoramos Neutro emotions\n",
    "        if not re.match(neutro, linea):\n",
    "            #print(\"** \",linea)\n",
    "            linea = linea.split(\"#\")\n",
    "            #Obtaining the emocion\n",
    "            emotion.append(int(linea[0]))\n",
    "            sentences.append(linea[1])\n",
    "        linea = f.readline()\n",
    "    f.close()\n",
    "    return sentences,emotion\n",
    "\n",
    "dataset = \"Heterogenious_Dataset/dataset.txt\"\n",
    "sentences,emotion = extract(dataset)\n",
    "print(emotion[0],\" \",sentences[0])\n",
    "print(\"Labels: \",len(emotion), \"Sentences: \",len(sentences))"
   ]
  },
  {
   "cell_type": "code",
   "execution_count": 5,
   "metadata": {},
   "outputs": [],
   "source": [
    "def clean_text(text, remove_stopwords=True):\n",
    "    '''Clean the text, with the option to remove stopwords'''\n",
    "    \n",
    "    # Convert words to lower case and split them\n",
    "    text = text.lower().split()\n",
    "\n",
    "    # Optionally, remove stop words\n",
    "    if remove_stopwords:\n",
    "        stops = set(stopwords.words(\"english\"))\n",
    "        text = [w for w in text if not w in stops]\n",
    "    \n",
    "    text = \" \".join(text)\n",
    "\n",
    "    # Clean the text\n",
    "    text = re.sub(r\"<br />\", \" \", text)\n",
    "    text = re.sub(r\"[^a-z]\", \" \", text)\n",
    "    text = re.sub(r\"   \", \" \", text) # Remove any extra spaces\n",
    "    text = re.sub(r\"  \", \" \", text)\n",
    "    \n",
    "    # Return a list of words\n",
    "    return(text)"
   ]
  },
  {
   "cell_type": "code",
   "execution_count": 9,
   "metadata": {},
   "outputs": [],
   "source": [
    "data_clean = []\n",
    "for sentence in sentences:\n",
    "    data_clean.append(clean_text(sentence))\n"
   ]
  },
  {
   "cell_type": "code",
   "execution_count": 10,
   "metadata": {},
   "outputs": [
    {
     "name": "stdout",
     "output_type": "stream",
     "text": [
      "mortar assault leaves least dead\n",
      "\n",
      "goal delight sheva\n",
      "\n",
      "nigeria hostage feared dead freed\n",
      "\n"
     ]
    }
   ],
   "source": [
    "# Inspect the cleaned reviews\n",
    "for i in range(3):\n",
    "    print(data_clean[i])\n",
    "    print()"
   ]
  },
  {
   "cell_type": "code",
   "execution_count": 11,
   "metadata": {},
   "outputs": [
    {
     "name": "stdout",
     "output_type": "stream",
     "text": [
      "Fitting is complete.\n",
      "data_seq is complete.\n"
     ]
    }
   ],
   "source": [
    "# Tokenize the reviews\n",
    "tokenizer = Tokenizer()\n",
    "tokenizer.fit_on_texts(data_clean)\n",
    "print(\"Fitting is complete.\")\n",
    "\n",
    "data_seq = tokenizer.texts_to_sequences(data_clean)\n",
    "print(\"data_seq is complete.\")\n"
   ]
  },
  {
   "cell_type": "code",
   "execution_count": 12,
   "metadata": {},
   "outputs": [
    {
     "name": "stdout",
     "output_type": "stream",
     "text": [
      "Words in index: 7705\n"
     ]
    }
   ],
   "source": [
    "# Find the number of unique tokens\n",
    "word_index = tokenizer.word_index\n",
    "print(\"Words in index: %d\" % len(word_index))"
   ]
  },
  {
   "cell_type": "code",
   "execution_count": 13,
   "metadata": {},
   "outputs": [
    {
     "name": "stdout",
     "output_type": "stream",
     "text": [
      "[3513, 2298, 413, 497, 112]\n",
      "\n",
      "[1358, 1108, 3514]\n",
      "\n",
      "[1109, 3515, 1681, 112, 1110]\n",
      "\n"
     ]
    }
   ],
   "source": [
    "# Inspect the reviews after they have been tokenized\n",
    "for i in range(3):\n",
    "    print(data_seq[i])\n",
    "    print()"
   ]
  },
  {
   "cell_type": "code",
   "execution_count": 14,
   "metadata": {},
   "outputs": [],
   "source": [
    "# Find the length of reviews\n",
    "lengths = []\n",
    "for sentence in data_seq:\n",
    "    lengths.append(len(sentence))\n",
    "\n",
    "# Create a dataframe so that the values can be inspected\n",
    "lengths = pd.DataFrame(lengths, columns=['counts'])"
   ]
  },
  {
   "cell_type": "code",
   "execution_count": 15,
   "metadata": {},
   "outputs": [
    {
     "data": {
      "text/plain": [
       "count    3695.000000\n",
       "mean        8.333965\n",
       "std         5.971913\n",
       "min         1.000000\n",
       "25%         5.000000\n",
       "50%         6.000000\n",
       "75%        11.000000\n",
       "max        51.000000\n",
       "Name: counts, dtype: float64"
      ]
     },
     "execution_count": 15,
     "metadata": {},
     "output_type": "execute_result"
    }
   ],
   "source": [
    "lengths.counts.describe()"
   ]
  },
  {
   "cell_type": "code",
   "execution_count": 30,
   "metadata": {},
   "outputs": [
    {
     "name": "stdout",
     "output_type": "stream",
     "text": [
      "12.0\n",
      "14.0\n",
      "16.0\n",
      "20.0\n"
     ]
    }
   ],
   "source": [
    "print(np.percentile(lengths.counts, 80))\n",
    "print(np.percentile(lengths.counts, 85))\n",
    "print(np.percentile(lengths.counts, 90))\n",
    "print(np.percentile(lengths.counts, 95))"
   ]
  },
  {
   "cell_type": "markdown",
   "metadata": {},
   "source": [
    "I'm going to use 200 as the maximum length of a review. Although longer would be better, I want to limit the training time, and this value will still provide the full text to more than 80% of the reviews."
   ]
  },
  {
   "cell_type": "code",
   "execution_count": 31,
   "metadata": {},
   "outputs": [
    {
     "name": "stdout",
     "output_type": "stream",
     "text": [
      "data_pad is complete.\n"
     ]
    }
   ],
   "source": [
    "# Pad and truncate the questions so that they all have the same length.\n",
    "max_review_length = 20\n",
    "\n",
    "data_pad = pad_sequences(data_seq, maxlen = max_review_length)\n",
    "print(\"data_pad is complete.\")\n"
   ]
  },
  {
   "cell_type": "code",
   "execution_count": 32,
   "metadata": {},
   "outputs": [
    {
     "name": "stdout",
     "output_type": "stream",
     "text": [
      "[   0    0    0    0    0    0    0    0    0    0    0    0    0    0\n",
      "    0 3513 2298  413  497  112]\n",
      "\n",
      "[   0    0    0    0    0    0    0    0    0    0    0    0    0    0\n",
      "    0    0    0 1358 1108 3514]\n",
      "\n",
      "[   0    0    0    0    0    0    0    0    0    0    0    0    0    0\n",
      "    0 1109 3515 1681  112 1110]\n",
      "\n"
     ]
    }
   ],
   "source": [
    "# Inspect the reviews after padding has been completed. \n",
    "for i in range(3):\n",
    "    print(data_pad[i])\n",
    "    print()"
   ]
  },
  {
   "cell_type": "code",
   "execution_count": 33,
   "metadata": {},
   "outputs": [
    {
     "name": "stdout",
     "output_type": "stream",
     "text": [
      "3695\n"
     ]
    }
   ],
   "source": [
    "print(len(emotion))"
   ]
  },
  {
   "cell_type": "code",
   "execution_count": 129,
   "metadata": {},
   "outputs": [],
   "source": [
    "# Creating the training and validation sets\n",
    "#x_train, x_test, y_train, y_test = train_test_split(data_pad, emotion,test_size = 0.15, random_state = 2)\n",
    "#x_train, x_valid, y_train, y_valid = train_test_split(x_train, y_train,test_size = 0.15, random_state = 2)\n",
    "x_train, x_valid, y_train, y_valid = train_test_split(data_pad, emotion,test_size = 0.15, random_state = 2)"
   ]
  },
  {
   "cell_type": "code",
   "execution_count": 131,
   "metadata": {},
   "outputs": [
    {
     "name": "stdout",
     "output_type": "stream",
     "text": [
      "(3140, 20)\n",
      "(555, 20)\n"
     ]
    }
   ],
   "source": [
    "# Inspect the shape of the data\n",
    "print(x_train.shape)\n",
    "print(x_valid.shape)\n",
    "#print(x_test.shape)"
   ]
  },
  {
   "cell_type": "code",
   "execution_count": 132,
   "metadata": {},
   "outputs": [],
   "source": [
    "def toLabels(emo):\n",
    "    classes = 6\n",
    "    Y = np.zeros((len(emo), classes)) #Num Ejemplos X 6 emociones\n",
    "    for e in range(0,len(emo)):\n",
    "        vector = np.zeros((classes))\n",
    "        vector[(emo[e] % (classes + 1)) - 1] = 1 \n",
    "        Y[e] = vector\n",
    "        #print(emo[e],\"---\",vector)\n",
    "    return Y\n",
    " \n",
    "y_train = toLabels(y_train)\n",
    "#y_test = toLabels(y_test)\n",
    "y_valid = toLabels(y_valid)"
   ]
  },
  {
   "cell_type": "code",
   "execution_count": 133,
   "metadata": {},
   "outputs": [
    {
     "name": "stdout",
     "output_type": "stream",
     "text": [
      "Y_train:  (3140, 6)  Num Ejem X # clases\n",
      "X_train:  (3140, 20)  Num Ejem X Maximun Lengh\n",
      "Y_valid:  (555, 6)  Num Ejem X # clases\n",
      "X_valid:  (555, 20)  Num Ejem X Maximun Lengh\n"
     ]
    }
   ],
   "source": [
    "print(\"Y_train: \",y_train.shape,\" Num Ejem X # clases\")\n",
    "print(\"X_train: \",x_train.shape,\" Num Ejem X Maximun Lengh\")\n",
    "#print(\"Y_test: \",y_test.shape,\" Num Ejem X # clases\")\n",
    "#print(\"X_test: \",x_test.shape,\" Num Ejem X Maximun Lengh\")\n",
    "print(\"Y_valid: \",y_valid.shape,\" Num Ejem X # clases\")\n",
    "print(\"X_valid: \",x_valid.shape,\" Num Ejem X Maximun Lengh\")"
   ]
  },
  {
   "cell_type": "markdown",
   "metadata": {},
   "source": [
    "Build and Train the Model"
   ]
  },
  {
   "cell_type": "code",
   "execution_count": 38,
   "metadata": {},
   "outputs": [],
   "source": [
    "def get_batches(x, y, batch_size):\n",
    "    '''Create the batches for the training and validation data'''\n",
    "    n_batches = len(x)//batch_size\n",
    "    x, y = x[:n_batches*batch_size], y[:n_batches*batch_size]\n",
    "    for ii in range(0, len(x), batch_size):\n",
    "        yield x[ii:ii+batch_size], y[ii:ii+batch_size]"
   ]
  },
  {
   "cell_type": "code",
   "execution_count": 39,
   "metadata": {},
   "outputs": [],
   "source": [
    "def get_test_batches(x, batch_size):\n",
    "    '''Create the batches for the testing data'''\n",
    "    n_batches = len(x)//batch_size\n",
    "    x = x[:n_batches*batch_size]\n",
    "    for ii in range(0, len(x), batch_size):\n",
    "        yield x[ii:ii+batch_size]"
   ]
  },
  {
   "cell_type": "code",
   "execution_count": 205,
   "metadata": {},
   "outputs": [],
   "source": [
    "def build_rnn(n_words, embed_size, batch_size, lstm_size, num_layers, \n",
    "              dropout, learning_rate, multiple_fc, fc_units):\n",
    "    '''Build the Recurrent Neural Network'''\n",
    "\n",
    "    tf.reset_default_graph()\n",
    "\n",
    "    # Declare placeholders we'll feed into the graph\n",
    "    with tf.name_scope('inputs'):\n",
    "        inputs = tf.placeholder(tf.int32, [None, None], name='inputs')\n",
    "\n",
    "    with tf.name_scope('labels'):\n",
    "        labels = tf.placeholder(tf.int32, [None, None], name='labels')\n",
    "\n",
    "    keep_prob = tf.placeholder(tf.float32, name='keep_prob')\n",
    "\n",
    "    # Create the embeddings\n",
    "    with tf.name_scope(\"embeddings\"):\n",
    "        embedding = tf.Variable(tf.random_uniform((n_words, embed_size), -1, 1))\n",
    "        embed = tf.nn.embedding_lookup(embedding, inputs)\n",
    "        \n",
    "        #data = tf.Variable(tf.zeros([batchSize, maxSeqLength, numDimensions]),dtype=tf.float32)\n",
    "        #data = tf.nn.embedding_lookup(wordVectors,input_data)\n",
    "\n",
    "    # Build the RNN layers\n",
    "    with tf.name_scope(\"RNN_layers\"):\n",
    "        lstm = tf.contrib.rnn.BasicLSTMCell(lstm_size)\n",
    "        drop = tf.contrib.rnn.DropoutWrapper(lstm, output_keep_prob=keep_prob)\n",
    "        cell = tf.contrib.rnn.MultiRNNCell([drop] * num_layers)\n",
    "    \n",
    "    # Set the initial state\n",
    "    with tf.name_scope(\"RNN_init_state\"):\n",
    "        initial_state = cell.zero_state(batch_size, tf.float32)\n",
    "\n",
    "    # Run the data through the RNN layers\n",
    "    with tf.name_scope(\"RNN_forward\"):\n",
    "        outputs, final_state = tf.nn.dynamic_rnn(cell, embed,\n",
    "                                                 initial_state=initial_state)    \n",
    "    \n",
    "    # Create the fully connected layers\n",
    "    with tf.name_scope(\"fully_connected\"):\n",
    "        \n",
    "        # Initialize the weights and biases\n",
    "        weights = tf.truncated_normal_initializer(stddev=0.1)\n",
    "        biases = tf.zeros_initializer()\n",
    "        \n",
    "        dense = tf.contrib.layers.fully_connected(outputs[:, -1],\n",
    "                                                  num_outputs = fc_units,\n",
    "                                                  activation_fn = tf.sigmoid,\n",
    "                                                  weights_initializer = weights,\n",
    "                                                  biases_initializer = biases)\n",
    "        dense = tf.contrib.layers.dropout(dense, keep_prob)\n",
    "        \n",
    "        # Depending on the iteration, use a second fully connected layer\n",
    "        if multiple_fc == True:\n",
    "            dense = tf.contrib.layers.fully_connected(dense,\n",
    "                                                      num_outputs = fc_units,\n",
    "                                                      activation_fn = tf.sigmoid,\n",
    "                                                      weights_initializer = weights,\n",
    "                                                      biases_initializer = biases)\n",
    "            dense = tf.contrib.layers.dropout(dense, keep_prob)\n",
    "    \n",
    "    # Make the predictions\n",
    "    with tf.name_scope('predictions'):\n",
    "        predictions = tf.contrib.layers.fully_connected(dense, \n",
    "                                                        num_outputs = 6, \n",
    "                                                        activation_fn=tf.sigmoid,\n",
    "                                                        weights_initializer = weights,\n",
    "                                                        biases_initializer = biases)\n",
    "        tf.summary.histogram('predictions', predictions)\n",
    "    \n",
    "    # Calculate the cost\n",
    "    with tf.name_scope('cost'):\n",
    "        cost = tf.losses.mean_squared_error(labels, predictions)\n",
    "        tf.summary.scalar('cost', cost)\n",
    "    \n",
    "    # Train the model\n",
    "    with tf.name_scope('train'):    \n",
    "        optimizer = tf.train.AdamOptimizer(learning_rate).minimize(cost)\n",
    "\n",
    "    # Determine the accuracy\n",
    "    with tf.name_scope(\"accuracy\"):\n",
    "        correct_pred = tf.equal(tf.cast(tf.round(predictions), tf.int32), labels)\n",
    "        accuracy = tf.reduce_mean(tf.cast(correct_pred, tf.float32))\n",
    "        tf.summary.scalar('accuracy', accuracy)\n",
    "   \n",
    "    # Merge all of the summaries\n",
    "    merged = tf.summary.merge_all()    \n",
    "\n",
    "    # Export the nodes \n",
    "    export_nodes = ['inputs', 'labels', 'keep_prob', 'initial_state', 'final_state','accuracy',\n",
    "                    'predictions', 'cost', 'optimizer', 'merged']\n",
    "    Graph = namedtuple('Graph', export_nodes)\n",
    "    local_dict = locals()\n",
    "    graph = Graph(*[local_dict[each] for each in export_nodes])\n",
    "    \n",
    "    return graph"
   ]
  },
  {
   "cell_type": "code",
   "execution_count": 223,
   "metadata": {},
   "outputs": [],
   "source": [
    "from sklearn.metrics import precision_score\n",
    "from sklearn.metrics import f1_score\n",
    "from sklearn.metrics import recall_score\n",
    "\n",
    "def train(model, epochs, log_string):\n",
    "    '''Train the RNN'''\n",
    "\n",
    "    saver = tf.train.Saver()\n",
    "    \n",
    "    with tf.Session() as sess:\n",
    "        sess.run(tf.global_variables_initializer())\n",
    "\n",
    "        # Used to determine when to stop the training early\n",
    "        valid_loss_summary = []\n",
    "        \n",
    "        # Keep track of which batch iteration is being trained\n",
    "        iteration = 0\n",
    "\n",
    "        print()\n",
    "        print(\"Training Model: {}\".format(log_string))\n",
    "\n",
    "        train_writer = tf.summary.FileWriter('./logs/3/train/{}'.format(log_string), sess.graph)\n",
    "        valid_writer = tf.summary.FileWriter('./logs/3/valid/{}'.format(log_string))\n",
    "\n",
    "        for e in range(epochs):\n",
    "            state = sess.run(model.initial_state)\n",
    "            \n",
    "            # Record progress with each epoch\n",
    "            train_loss = []\n",
    "            train_acc = []\n",
    "            val_acc = []\n",
    "            val_loss = []\n",
    "            \n",
    "            #\n",
    "            val_pre = []\n",
    "            val_recall = []\n",
    "            val_f1 = []\n",
    "\n",
    "            with tqdm(total=len(x_train)) as pbar:\n",
    "                #total_batch = int(2669/batch_size)\n",
    "                #X_batches = np.array_split(x_train, batch_size)\n",
    "                #Y_batches = np.array_split(y_train, batch_size)\n",
    "                \n",
    "                #for i in range(total_batch):\n",
    "                 #   x, y = X_batches[i], Y_batches[i]     \n",
    "                for _, (x, y) in enumerate(get_batches(x_train, y_train, batch_size), 1):\n",
    "                    feed = {model.inputs: x,\n",
    "                            model.labels: y,\n",
    "                            model.keep_prob: dropout,\n",
    "                            model.initial_state: state}\n",
    "                    summary, loss, acc, state, _ = sess.run([model.merged, \n",
    "                                                             model.cost, \n",
    "                                                             model.accuracy, \n",
    "                                                             model.final_state, \n",
    "                                                             model.optimizer], \n",
    "                                                            feed_dict=feed)                \n",
    "                    \n",
    "                    # Record the loss and accuracy of each training batch\n",
    "                    train_loss.append(loss)\n",
    "                    train_acc.append(acc)\n",
    "                    \n",
    "                    # Record the progress of training\n",
    "                    train_writer.add_summary(summary, iteration)\n",
    "                    \n",
    "                    iteration += 1\n",
    "                    pbar.update(batch_size)\n",
    "            \n",
    "            # Average the training loss and accuracy of each epoch\n",
    "            avg_train_loss = np.mean(train_loss)\n",
    "            avg_train_acc = np.mean(train_acc) \n",
    "\n",
    "            val_state = sess.run(model.initial_state)\n",
    "            with tqdm(total=len(x_valid)) as pbar:\n",
    "                #total_batch = int(471/batch_size)\n",
    "                #X_batches = np.array_split(x_valid, batch_size)\n",
    "                #Y_batches = np.array_split(y_valid, batch_size)\n",
    "      \n",
    "                #for i in range(total_batch):\n",
    "                 #   x, y = X_batches[i], Y_batches[i] \n",
    "                for x, y in get_batches(x_valid, y_valid, batch_size):\n",
    "                    feed = {model.inputs: x,\n",
    "                            model.labels: y,\n",
    "                            model.keep_prob: 1,\n",
    "                            model.initial_state: val_state}\n",
    "                    summary, batch_loss, batch_acc, val_state, batch_pre = sess.run([model.merged, \n",
    "                                                                          model.cost, \n",
    "                                                                          model.accuracy, \n",
    "                                                                          model.final_state,\n",
    "                                                                          model.predictions], \n",
    "                                                                         feed_dict=feed)\n",
    "                    \n",
    "                    # Record the validation loss and accuracy of each epoch\n",
    "                    val_loss.append(batch_loss)\n",
    "                    val_acc.append(batch_acc)\n",
    "                    pbar.update(batch_size)\n",
    "                    \n",
    "                    result = tf.argmax(batch_pre , 1).eval()\n",
    "                    test = (tf.argmax(y_valid , 1).eval()) \n",
    "                    y_true = test[:55]\n",
    "                    y_pred = result\n",
    "                    precision = precision_score(y_true, y_pred, average=None)\n",
    "                    recall = recall_score(y_true, y_pred, average=None)\n",
    "                    f1 = f1_score(y_true, y_pred, average=None)\n",
    "                    val_pre.append(precision)\n",
    "                    val_recall.append(recall)\n",
    "                    val_f1.append(f1)\n",
    "                    \n",
    "\n",
    "                    #print(\"Predicc tensor: \",batch_pre.shape) #Preddciones del Batch\n",
    "                    #print(\"Labels: \",y_valid.shape)\n",
    "                    \n",
    "                    \n",
    "            \n",
    "            # Average the validation loss and accuracy of each epoch\n",
    "            avg_valid_loss = np.mean(val_loss)    \n",
    "            avg_valid_acc = np.mean(val_acc)\n",
    "            avg_pre = np.mean(val_pre)\n",
    "            avg_recall = np.mean(val_recall)\n",
    "            avg_f1 = np.mean(val_f1)\n",
    "            valid_loss_summary.append(avg_valid_loss)\n",
    "            \n",
    "            #for i in range(0,55):\n",
    "             #           print(y_true[i],\" \",y_pred[i])\n",
    "            \n",
    "            # Record the validation data's progress\n",
    "            valid_writer.add_summary(summary, iteration)\n",
    "\n",
    "            # Print the progress of each epoch\n",
    "            print(\"Epoch: {}/{}\".format(e, epochs),\n",
    "                  \"Train Loss: {:.3f}\".format(avg_train_loss),\n",
    "                  \"Train Acc: {:.3f}\".format(avg_train_acc),\n",
    "                  \"Valid Loss: {:.3f}\".format(avg_valid_loss),\n",
    "                  \"Valid Acc: {:.3f}\".format(avg_valid_acc),\n",
    "                  \"Valid Pre: {:.3f}\".format(avg_pre),\n",
    "                  \"Valid Reca: {:.3f}\".format(avg_recall),\n",
    "                  \"Valid F1: {:.3f}\".format(avg_f1))\n",
    "\n",
    "            ########################### Start eport ##########################\n",
    "            '''result = tf.argmax(batch_pre , 1).eval({model.inputs: x, model.labels: y})\n",
    "            test = (tf.argmax(y_valid , 1).eval()) #Convierte de [0,0,1,0,0] a [2] y lo hace np.array\n",
    "\n",
    "            #print(\"Test: \",test.shape)\n",
    "            #print(\"Result: \",result.shape)\n",
    "                    \n",
    "            y_true = test[:55]\n",
    "            y_pred = result\n",
    "            #print(confusion_matrix(y_true, y_pred))\n",
    "            class_names = [\"Hapinnes\",\"Sadness\",\"Anger\",\"Disust\",\"Surprise\",\"Fear\"]\n",
    "            from sklearn.metrics import classification_report\n",
    "            print(classification_report(y_true, y_pred, target_names=class_names))\n",
    "            '''\n",
    "            ########################### End Report ##########################\n",
    "\n",
    "            \n",
    "            \n",
    "            #checkpoint = \"C:/Users/danie/Desktop/Checkpoints/sentiment_{}.ckpt\".format(log_string)\n",
    "            #saver.save(sess, checkpoint)\n",
    "            # Stop training if the validation loss does not decrease after 3 epochs\n",
    "            if avg_valid_loss > min(valid_loss_summary):\n",
    "                print(\"No Improvement.\")\n",
    "                #stop_early += 1\n",
    "                #if stop_early == 3:\n",
    "                #    break   \n",
    "            \n",
    "            # Reset stop_early if the validation loss finds a new low\n",
    "            # Save a checkpoint of the model\n",
    "            else:\n",
    "                print(\"New Record!\")\n",
    "                stop_early = 0\n",
    "                checkpoint = \"C:/Users/danie/Desktop/Checkpoints/sentiment_{}.ckpt\".format(log_string)\n",
    "                saver.save(sess, checkpoint)"
   ]
  },
  {
   "cell_type": "code",
   "execution_count": 230,
   "metadata": {},
   "outputs": [],
   "source": [
    "# The default parameters of the model\n",
    "n_words = len(word_index)\n",
    "embed_size = 300\n",
    "batch_size = 55 #250\n",
    "lstm_size = 128\n",
    "num_layers = 1\n",
    "dropout = 0.5\n",
    "learning_rate = 0.01\n",
    "epochs = 1000\n",
    "multiple_fc = False\n",
    "fc_units = 256"
   ]
  },
  {
   "cell_type": "code",
   "execution_count": 231,
   "metadata": {},
   "outputs": [
    {
     "name": "stdout",
     "output_type": "stream",
     "text": [
      "\n",
      "Training Model: ru=128,fcl=False,fcu=256\n"
     ]
    },
    {
     "name": "stderr",
     "output_type": "stream",
     "text": [
      "100%|█████████▉| 3135/3140 [00:06<00:00, 511.71it/s]\n",
      "  0%|          | 0/555 [00:00<?, ?it/s]C:\\Users\\danie\\Anaconda3\\envs\\Compositor\\lib\\site-packages\\sklearn\\metrics\\classification.py:1135: UndefinedMetricWarning: Precision is ill-defined and being set to 0.0 in labels with no predicted samples.\n",
      "  'precision', 'predicted', average, warn_for)\n",
      "C:\\Users\\danie\\Anaconda3\\envs\\Compositor\\lib\\site-packages\\sklearn\\metrics\\classification.py:1135: UndefinedMetricWarning: F-score is ill-defined and being set to 0.0 in labels with no predicted samples.\n",
      "  'precision', 'predicted', average, warn_for)\n",
      " 99%|█████████▉| 550/555 [00:01<00:00, 485.04it/s]\n"
     ]
    },
    {
     "name": "stdout",
     "output_type": "stream",
     "text": [
      "Epoch: 0/1000 Train Loss: 0.146 Train Acc: 0.822 Valid Loss: 0.129 Valid Acc: 0.841 Valid Pre: 0.089 Valid Reca: 0.173 Valid F1: 0.091\n",
      "New Record!\n"
     ]
    },
    {
     "name": "stderr",
     "output_type": "stream",
     "text": [
      "100%|█████████▉| 3135/3140 [00:06<00:00, 507.17it/s]\n",
      " 99%|█████████▉| 550/555 [00:01<00:00, 478.96it/s]\n"
     ]
    },
    {
     "name": "stdout",
     "output_type": "stream",
     "text": [
      "Epoch: 1/1000 Train Loss: 0.115 Train Acc: 0.860 Valid Loss: 0.127 Valid Acc: 0.848 Valid Pre: 0.123 Valid Reca: 0.174 Valid F1: 0.132\n",
      "New Record!\n"
     ]
    },
    {
     "name": "stderr",
     "output_type": "stream",
     "text": [
      "100%|█████████▉| 3135/3140 [00:06<00:00, 497.35it/s]\n",
      " 99%|█████████▉| 550/555 [00:01<00:00, 412.33it/s]\n"
     ]
    },
    {
     "name": "stdout",
     "output_type": "stream",
     "text": [
      "Epoch: 2/1000 Train Loss: 0.093 Train Acc: 0.884 Valid Loss: 0.129 Valid Acc: 0.842 Valid Pre: 0.194 Valid Reca: 0.192 Valid F1: 0.172\n",
      "No Improvement.\n"
     ]
    },
    {
     "name": "stderr",
     "output_type": "stream",
     "text": [
      "100%|█████████▉| 3135/3140 [00:06<00:00, 502.08it/s]\n",
      " 99%|█████████▉| 550/555 [00:01<00:00, 440.26it/s]\n"
     ]
    },
    {
     "name": "stdout",
     "output_type": "stream",
     "text": [
      "Epoch: 3/1000 Train Loss: 0.074 Train Acc: 0.903 Valid Loss: 0.133 Valid Acc: 0.841 Valid Pre: 0.174 Valid Reca: 0.184 Valid F1: 0.168\n",
      "No Improvement.\n"
     ]
    },
    {
     "name": "stderr",
     "output_type": "stream",
     "text": [
      "100%|█████████▉| 3135/3140 [00:06<00:00, 509.16it/s]\n",
      " 99%|█████████▉| 550/555 [00:01<00:00, 406.98it/s]\n"
     ]
    },
    {
     "name": "stdout",
     "output_type": "stream",
     "text": [
      "Epoch: 4/1000 Train Loss: 0.055 Train Acc: 0.928 Valid Loss: 0.140 Valid Acc: 0.828 Valid Pre: 0.202 Valid Reca: 0.210 Valid F1: 0.196\n",
      "No Improvement.\n"
     ]
    },
    {
     "name": "stderr",
     "output_type": "stream",
     "text": [
      "100%|█████████▉| 3135/3140 [00:06<00:00, 510.10it/s]\n",
      " 99%|█████████▉| 550/555 [00:01<00:00, 410.91it/s]\n"
     ]
    },
    {
     "name": "stdout",
     "output_type": "stream",
     "text": [
      "Epoch: 5/1000 Train Loss: 0.038 Train Acc: 0.950 Valid Loss: 0.144 Valid Acc: 0.830 Valid Pre: 0.228 Valid Reca: 0.217 Valid F1: 0.202\n",
      "No Improvement.\n"
     ]
    },
    {
     "name": "stderr",
     "output_type": "stream",
     "text": [
      "100%|█████████▉| 3135/3140 [00:06<00:00, 508.22it/s]\n",
      " 99%|█████████▉| 550/555 [00:01<00:00, 381.83it/s]\n"
     ]
    },
    {
     "name": "stdout",
     "output_type": "stream",
     "text": [
      "Epoch: 6/1000 Train Loss: 0.029 Train Acc: 0.964 Valid Loss: 0.149 Valid Acc: 0.825 Valid Pre: 0.222 Valid Reca: 0.207 Valid F1: 0.196\n",
      "No Improvement.\n"
     ]
    },
    {
     "name": "stderr",
     "output_type": "stream",
     "text": [
      "100%|█████████▉| 3135/3140 [00:06<00:00, 478.63it/s]\n",
      " 99%|█████████▉| 550/555 [00:01<00:00, 376.12it/s]\n"
     ]
    },
    {
     "name": "stdout",
     "output_type": "stream",
     "text": [
      "Epoch: 7/1000 Train Loss: 0.020 Train Acc: 0.975 Valid Loss: 0.153 Valid Acc: 0.823 Valid Pre: 0.209 Valid Reca: 0.198 Valid F1: 0.184\n",
      "No Improvement.\n"
     ]
    },
    {
     "name": "stderr",
     "output_type": "stream",
     "text": [
      "100%|█████████▉| 3135/3140 [00:06<00:00, 506.79it/s]\n",
      " 99%|█████████▉| 550/555 [00:01<00:00, 344.12it/s]\n"
     ]
    },
    {
     "name": "stdout",
     "output_type": "stream",
     "text": [
      "Epoch: 8/1000 Train Loss: 0.014 Train Acc: 0.983 Valid Loss: 0.155 Valid Acc: 0.822 Valid Pre: 0.215 Valid Reca: 0.202 Valid F1: 0.192\n",
      "No Improvement.\n"
     ]
    },
    {
     "name": "stderr",
     "output_type": "stream",
     "text": [
      "100%|█████████▉| 3135/3140 [00:06<00:00, 507.24it/s]\n",
      " 99%|█████████▉| 550/555 [00:01<00:00, 358.66it/s]\n"
     ]
    },
    {
     "name": "stdout",
     "output_type": "stream",
     "text": [
      "Epoch: 9/1000 Train Loss: 0.010 Train Acc: 0.988 Valid Loss: 0.158 Valid Acc: 0.822 Valid Pre: 0.217 Valid Reca: 0.214 Valid F1: 0.190\n",
      "No Improvement.\n"
     ]
    },
    {
     "name": "stderr",
     "output_type": "stream",
     "text": [
      "100%|█████████▉| 3135/3140 [00:06<00:00, 510.94it/s]\n",
      " 99%|█████████▉| 550/555 [00:01<00:00, 337.05it/s]\n"
     ]
    },
    {
     "name": "stdout",
     "output_type": "stream",
     "text": [
      "Epoch: 10/1000 Train Loss: 0.008 Train Acc: 0.991 Valid Loss: 0.160 Valid Acc: 0.821 Valid Pre: 0.222 Valid Reca: 0.204 Valid F1: 0.192\n",
      "No Improvement.\n"
     ]
    },
    {
     "name": "stderr",
     "output_type": "stream",
     "text": [
      "100%|█████████▉| 3135/3140 [00:06<00:00, 511.78it/s]\n",
      " 99%|█████████▉| 550/555 [00:01<00:00, 334.17it/s]\n"
     ]
    },
    {
     "name": "stdout",
     "output_type": "stream",
     "text": [
      "Epoch: 11/1000 Train Loss: 0.008 Train Acc: 0.990 Valid Loss: 0.158 Valid Acc: 0.825 Valid Pre: 0.211 Valid Reca: 0.206 Valid F1: 0.192\n",
      "No Improvement.\n"
     ]
    },
    {
     "name": "stderr",
     "output_type": "stream",
     "text": [
      "100%|█████████▉| 3135/3140 [00:06<00:00, 492.68it/s]\n",
      " 99%|█████████▉| 550/555 [00:01<00:00, 318.30it/s]\n"
     ]
    },
    {
     "name": "stdout",
     "output_type": "stream",
     "text": [
      "Epoch: 12/1000 Train Loss: 0.007 Train Acc: 0.992 Valid Loss: 0.159 Valid Acc: 0.825 Valid Pre: 0.228 Valid Reca: 0.206 Valid F1: 0.196\n",
      "No Improvement.\n"
     ]
    },
    {
     "name": "stderr",
     "output_type": "stream",
     "text": [
      "100%|█████████▉| 3135/3140 [00:06<00:00, 443.83it/s]\n",
      " 99%|█████████▉| 550/555 [00:01<00:00, 298.24it/s]\n"
     ]
    },
    {
     "name": "stdout",
     "output_type": "stream",
     "text": [
      "Epoch: 13/1000 Train Loss: 0.006 Train Acc: 0.993 Valid Loss: 0.159 Valid Acc: 0.824 Valid Pre: 0.240 Valid Reca: 0.212 Valid F1: 0.206\n",
      "No Improvement.\n"
     ]
    },
    {
     "name": "stderr",
     "output_type": "stream",
     "text": [
      "100%|█████████▉| 3135/3140 [00:06<00:00, 470.90it/s]\n",
      " 99%|█████████▉| 550/555 [00:01<00:00, 304.60it/s]\n"
     ]
    },
    {
     "name": "stdout",
     "output_type": "stream",
     "text": [
      "Epoch: 14/1000 Train Loss: 0.006 Train Acc: 0.993 Valid Loss: 0.157 Valid Acc: 0.826 Valid Pre: 0.231 Valid Reca: 0.218 Valid F1: 0.211\n",
      "No Improvement.\n"
     ]
    },
    {
     "name": "stderr",
     "output_type": "stream",
     "text": [
      "100%|█████████▉| 3135/3140 [00:06<00:00, 491.29it/s]\n",
      " 99%|█████████▉| 550/555 [00:01<00:00, 300.31it/s]\n"
     ]
    },
    {
     "name": "stdout",
     "output_type": "stream",
     "text": [
      "Epoch: 15/1000 Train Loss: 0.006 Train Acc: 0.993 Valid Loss: 0.163 Valid Acc: 0.817 Valid Pre: 0.214 Valid Reca: 0.205 Valid F1: 0.191\n",
      "No Improvement.\n"
     ]
    },
    {
     "name": "stderr",
     "output_type": "stream",
     "text": [
      "100%|█████████▉| 3135/3140 [00:06<00:00, 451.37it/s]\n",
      " 99%|█████████▉| 550/555 [00:01<00:00, 290.32it/s]\n"
     ]
    },
    {
     "name": "stdout",
     "output_type": "stream",
     "text": [
      "Epoch: 16/1000 Train Loss: 0.005 Train Acc: 0.994 Valid Loss: 0.161 Valid Acc: 0.819 Valid Pre: 0.223 Valid Reca: 0.210 Valid F1: 0.200\n",
      "No Improvement.\n"
     ]
    },
    {
     "name": "stderr",
     "output_type": "stream",
     "text": [
      "100%|█████████▉| 3135/3140 [00:06<00:00, 484.29it/s]\n",
      " 99%|█████████▉| 550/555 [00:01<00:00, 274.68it/s]\n"
     ]
    },
    {
     "name": "stdout",
     "output_type": "stream",
     "text": [
      "Epoch: 17/1000 Train Loss: 0.005 Train Acc: 0.994 Valid Loss: 0.161 Valid Acc: 0.823 Valid Pre: 0.240 Valid Reca: 0.236 Valid F1: 0.218\n",
      "No Improvement.\n"
     ]
    },
    {
     "name": "stderr",
     "output_type": "stream",
     "text": [
      "100%|█████████▉| 3135/3140 [00:06<00:00, 466.27it/s]\n",
      " 99%|█████████▉| 550/555 [00:01<00:00, 271.62it/s]\n"
     ]
    },
    {
     "name": "stdout",
     "output_type": "stream",
     "text": [
      "Epoch: 18/1000 Train Loss: 0.005 Train Acc: 0.995 Valid Loss: 0.161 Valid Acc: 0.826 Valid Pre: 0.224 Valid Reca: 0.211 Valid F1: 0.204\n",
      "No Improvement.\n"
     ]
    },
    {
     "name": "stderr",
     "output_type": "stream",
     "text": [
      "100%|█████████▉| 3135/3140 [00:06<00:00, 447.89it/s]\n",
      " 99%|█████████▉| 550/555 [00:02<00:00, 252.70it/s]\n"
     ]
    },
    {
     "name": "stdout",
     "output_type": "stream",
     "text": [
      "Epoch: 19/1000 Train Loss: 0.005 Train Acc: 0.994 Valid Loss: 0.161 Valid Acc: 0.821 Valid Pre: 0.227 Valid Reca: 0.216 Valid F1: 0.205\n",
      "No Improvement.\n"
     ]
    },
    {
     "name": "stderr",
     "output_type": "stream",
     "text": [
      "100%|█████████▉| 3135/3140 [00:06<00:00, 476.02it/s]\n",
      " 99%|█████████▉| 550/555 [00:01<00:00, 255.61it/s]\n"
     ]
    },
    {
     "name": "stdout",
     "output_type": "stream",
     "text": [
      "Epoch: 20/1000 Train Loss: 0.005 Train Acc: 0.993 Valid Loss: 0.161 Valid Acc: 0.824 Valid Pre: 0.206 Valid Reca: 0.204 Valid F1: 0.187\n",
      "No Improvement.\n"
     ]
    },
    {
     "name": "stderr",
     "output_type": "stream",
     "text": [
      "100%|█████████▉| 3135/3140 [00:06<00:00, 479.74it/s]\n",
      " 99%|█████████▉| 550/555 [00:02<00:00, 253.88it/s]\n"
     ]
    },
    {
     "name": "stdout",
     "output_type": "stream",
     "text": [
      "Epoch: 21/1000 Train Loss: 0.005 Train Acc: 0.995 Valid Loss: 0.159 Valid Acc: 0.825 Valid Pre: 0.209 Valid Reca: 0.197 Valid F1: 0.183\n",
      "No Improvement.\n"
     ]
    },
    {
     "name": "stderr",
     "output_type": "stream",
     "text": [
      "100%|█████████▉| 3135/3140 [00:06<00:00, 474.76it/s]\n",
      " 99%|█████████▉| 550/555 [00:02<00:00, 247.41it/s]\n"
     ]
    },
    {
     "name": "stdout",
     "output_type": "stream",
     "text": [
      "Epoch: 22/1000 Train Loss: 0.004 Train Acc: 0.995 Valid Loss: 0.161 Valid Acc: 0.825 Valid Pre: 0.239 Valid Reca: 0.224 Valid F1: 0.215\n",
      "No Improvement.\n"
     ]
    },
    {
     "name": "stderr",
     "output_type": "stream",
     "text": [
      "100%|█████████▉| 3135/3140 [00:06<00:00, 444.78it/s]\n",
      " 99%|█████████▉| 550/555 [00:02<00:00, 241.18it/s]\n"
     ]
    },
    {
     "name": "stdout",
     "output_type": "stream",
     "text": [
      "Epoch: 23/1000 Train Loss: 0.003 Train Acc: 0.996 Valid Loss: 0.158 Valid Acc: 0.828 Valid Pre: 0.225 Valid Reca: 0.225 Valid F1: 0.204\n",
      "No Improvement.\n"
     ]
    },
    {
     "name": "stderr",
     "output_type": "stream",
     "text": [
      "100%|█████████▉| 3135/3140 [00:06<00:00, 482.76it/s]\n",
      " 99%|█████████▉| 550/555 [00:02<00:00, 238.63it/s]\n"
     ]
    },
    {
     "name": "stdout",
     "output_type": "stream",
     "text": [
      "Epoch: 24/1000 Train Loss: 0.003 Train Acc: 0.997 Valid Loss: 0.163 Valid Acc: 0.819 Valid Pre: 0.214 Valid Reca: 0.223 Valid F1: 0.203\n",
      "No Improvement.\n"
     ]
    },
    {
     "name": "stderr",
     "output_type": "stream",
     "text": [
      "100%|█████████▉| 3135/3140 [00:06<00:00, 450.16it/s]\n",
      " 99%|█████████▉| 550/555 [00:02<00:00, 230.62it/s]\n"
     ]
    },
    {
     "name": "stdout",
     "output_type": "stream",
     "text": [
      "Epoch: 25/1000 Train Loss: 0.004 Train Acc: 0.995 Valid Loss: 0.159 Valid Acc: 0.826 Valid Pre: 0.209 Valid Reca: 0.212 Valid F1: 0.194\n",
      "No Improvement.\n"
     ]
    },
    {
     "name": "stderr",
     "output_type": "stream",
     "text": [
      "100%|█████████▉| 3135/3140 [00:06<00:00, 478.39it/s]\n",
      " 99%|█████████▉| 550/555 [00:02<00:00, 227.45it/s]\n"
     ]
    },
    {
     "name": "stdout",
     "output_type": "stream",
     "text": [
      "Epoch: 26/1000 Train Loss: 0.003 Train Acc: 0.996 Valid Loss: 0.166 Valid Acc: 0.821 Valid Pre: 0.201 Valid Reca: 0.194 Valid F1: 0.177\n",
      "No Improvement.\n"
     ]
    },
    {
     "name": "stderr",
     "output_type": "stream",
     "text": [
      "100%|█████████▉| 3135/3140 [00:06<00:00, 427.89it/s]\n",
      " 99%|█████████▉| 550/555 [00:02<00:00, 223.02it/s]\n"
     ]
    },
    {
     "name": "stdout",
     "output_type": "stream",
     "text": [
      "Epoch: 27/1000 Train Loss: 0.003 Train Acc: 0.996 Valid Loss: 0.164 Valid Acc: 0.819 Valid Pre: 0.207 Valid Reca: 0.210 Valid F1: 0.189\n",
      "No Improvement.\n"
     ]
    },
    {
     "name": "stderr",
     "output_type": "stream",
     "text": [
      "100%|█████████▉| 3135/3140 [00:06<00:00, 477.08it/s]\n",
      " 99%|█████████▉| 550/555 [00:02<00:00, 216.66it/s]\n"
     ]
    },
    {
     "name": "stdout",
     "output_type": "stream",
     "text": [
      "Epoch: 28/1000 Train Loss: 0.003 Train Acc: 0.996 Valid Loss: 0.165 Valid Acc: 0.820 Valid Pre: 0.215 Valid Reca: 0.214 Valid F1: 0.193\n",
      "No Improvement.\n"
     ]
    },
    {
     "name": "stderr",
     "output_type": "stream",
     "text": [
      "100%|█████████▉| 3135/3140 [00:06<00:00, 472.88it/s]\n",
      " 99%|█████████▉| 550/555 [00:02<00:00, 212.55it/s]\n"
     ]
    },
    {
     "name": "stdout",
     "output_type": "stream",
     "text": [
      "Epoch: 29/1000 Train Loss: 0.004 Train Acc: 0.996 Valid Loss: 0.162 Valid Acc: 0.822 Valid Pre: 0.204 Valid Reca: 0.206 Valid F1: 0.192\n",
      "No Improvement.\n"
     ]
    },
    {
     "name": "stderr",
     "output_type": "stream",
     "text": [
      "100%|█████████▉| 3135/3140 [00:06<00:00, 465.88it/s]\n",
      " 99%|█████████▉| 550/555 [00:02<00:00, 209.43it/s]\n"
     ]
    },
    {
     "name": "stdout",
     "output_type": "stream",
     "text": [
      "Epoch: 30/1000 Train Loss: 0.003 Train Acc: 0.996 Valid Loss: 0.163 Valid Acc: 0.825 Valid Pre: 0.207 Valid Reca: 0.207 Valid F1: 0.195\n",
      "No Improvement.\n"
     ]
    },
    {
     "name": "stderr",
     "output_type": "stream",
     "text": [
      "100%|█████████▉| 3135/3140 [00:06<00:00, 477.34it/s]\n",
      " 99%|█████████▉| 550/555 [00:02<00:00, 205.33it/s]\n"
     ]
    },
    {
     "name": "stdout",
     "output_type": "stream",
     "text": [
      "Epoch: 31/1000 Train Loss: 0.004 Train Acc: 0.995 Valid Loss: 0.161 Valid Acc: 0.825 Valid Pre: 0.216 Valid Reca: 0.218 Valid F1: 0.199\n",
      "No Improvement.\n"
     ]
    },
    {
     "name": "stderr",
     "output_type": "stream",
     "text": [
      "100%|█████████▉| 3135/3140 [00:06<00:00, 469.82it/s]\n",
      " 99%|█████████▉| 550/555 [00:02<00:00, 203.12it/s]\n"
     ]
    },
    {
     "name": "stdout",
     "output_type": "stream",
     "text": [
      "Epoch: 32/1000 Train Loss: 0.003 Train Acc: 0.996 Valid Loss: 0.168 Valid Acc: 0.814 Valid Pre: 0.205 Valid Reca: 0.211 Valid F1: 0.189\n",
      "No Improvement.\n"
     ]
    },
    {
     "name": "stderr",
     "output_type": "stream",
     "text": [
      "100%|█████████▉| 3135/3140 [00:06<00:00, 469.49it/s]\n",
      " 99%|█████████▉| 550/555 [00:02<00:00, 200.01it/s]\n"
     ]
    },
    {
     "name": "stdout",
     "output_type": "stream",
     "text": [
      "Epoch: 33/1000 Train Loss: 0.004 Train Acc: 0.995 Valid Loss: 0.168 Valid Acc: 0.816 Valid Pre: 0.207 Valid Reca: 0.216 Valid F1: 0.187\n",
      "No Improvement.\n"
     ]
    },
    {
     "name": "stderr",
     "output_type": "stream",
     "text": [
      "100%|█████████▉| 3135/3140 [00:06<00:00, 456.75it/s]\n",
      " 99%|█████████▉| 550/555 [00:02<00:00, 190.39it/s]\n"
     ]
    },
    {
     "name": "stdout",
     "output_type": "stream",
     "text": [
      "Epoch: 34/1000 Train Loss: 0.005 Train Acc: 0.994 Valid Loss: 0.165 Valid Acc: 0.823 Valid Pre: 0.211 Valid Reca: 0.206 Valid F1: 0.191\n",
      "No Improvement.\n"
     ]
    },
    {
     "name": "stderr",
     "output_type": "stream",
     "text": [
      "100%|█████████▉| 3135/3140 [00:06<00:00, 446.13it/s]\n",
      " 99%|█████████▉| 550/555 [00:02<00:00, 188.22it/s]\n"
     ]
    },
    {
     "name": "stdout",
     "output_type": "stream",
     "text": [
      "Epoch: 35/1000 Train Loss: 0.004 Train Acc: 0.995 Valid Loss: 0.167 Valid Acc: 0.818 Valid Pre: 0.217 Valid Reca: 0.225 Valid F1: 0.204\n",
      "No Improvement.\n"
     ]
    },
    {
     "name": "stderr",
     "output_type": "stream",
     "text": [
      "100%|█████████▉| 3135/3140 [00:06<00:00, 435.16it/s]\n",
      " 99%|█████████▉| 550/555 [00:02<00:00, 186.97it/s]\n"
     ]
    },
    {
     "name": "stdout",
     "output_type": "stream",
     "text": [
      "Epoch: 36/1000 Train Loss: 0.005 Train Acc: 0.994 Valid Loss: 0.167 Valid Acc: 0.818 Valid Pre: 0.198 Valid Reca: 0.199 Valid F1: 0.182\n",
      "No Improvement.\n"
     ]
    },
    {
     "name": "stderr",
     "output_type": "stream",
     "text": [
      "100%|█████████▉| 3135/3140 [00:07<00:00, 460.86it/s]\n",
      " 99%|█████████▉| 550/555 [00:02<00:00, 183.73it/s]\n"
     ]
    },
    {
     "name": "stdout",
     "output_type": "stream",
     "text": [
      "Epoch: 37/1000 Train Loss: 0.004 Train Acc: 0.995 Valid Loss: 0.165 Valid Acc: 0.821 Valid Pre: 0.182 Valid Reca: 0.191 Valid F1: 0.172\n",
      "No Improvement.\n"
     ]
    },
    {
     "name": "stderr",
     "output_type": "stream",
     "text": [
      "100%|█████████▉| 3135/3140 [00:06<00:00, 459.24it/s]\n",
      " 99%|█████████▉| 550/555 [00:02<00:00, 176.72it/s]\n"
     ]
    },
    {
     "name": "stdout",
     "output_type": "stream",
     "text": [
      "Epoch: 38/1000 Train Loss: 0.004 Train Acc: 0.995 Valid Loss: 0.164 Valid Acc: 0.822 Valid Pre: 0.200 Valid Reca: 0.206 Valid F1: 0.187\n",
      "No Improvement.\n"
     ]
    },
    {
     "name": "stderr",
     "output_type": "stream",
     "text": [
      "100%|█████████▉| 3135/3140 [00:07<00:00, 449.80it/s]\n",
      " 99%|█████████▉| 550/555 [00:02<00:00, 177.68it/s]\n"
     ]
    },
    {
     "name": "stdout",
     "output_type": "stream",
     "text": [
      "Epoch: 39/1000 Train Loss: 0.005 Train Acc: 0.994 Valid Loss: 0.164 Valid Acc: 0.819 Valid Pre: 0.197 Valid Reca: 0.207 Valid F1: 0.187\n",
      "No Improvement.\n"
     ]
    },
    {
     "name": "stderr",
     "output_type": "stream",
     "text": [
      "100%|█████████▉| 3135/3140 [00:07<00:00, 445.52it/s]\n",
      " 99%|█████████▉| 550/555 [00:02<00:00, 173.86it/s]\n"
     ]
    },
    {
     "name": "stdout",
     "output_type": "stream",
     "text": [
      "Epoch: 40/1000 Train Loss: 0.005 Train Acc: 0.994 Valid Loss: 0.161 Valid Acc: 0.828 Valid Pre: 0.226 Valid Reca: 0.231 Valid F1: 0.210\n",
      "No Improvement.\n"
     ]
    },
    {
     "name": "stderr",
     "output_type": "stream",
     "text": [
      "100%|█████████▉| 3135/3140 [00:06<00:00, 450.19it/s]\n",
      " 99%|█████████▉| 550/555 [00:03<00:00, 171.42it/s]\n"
     ]
    },
    {
     "name": "stdout",
     "output_type": "stream",
     "text": [
      "Epoch: 41/1000 Train Loss: 0.005 Train Acc: 0.993 Valid Loss: 0.165 Valid Acc: 0.821 Valid Pre: 0.210 Valid Reca: 0.215 Valid F1: 0.200\n",
      "No Improvement.\n"
     ]
    },
    {
     "name": "stderr",
     "output_type": "stream",
     "text": [
      "100%|█████████▉| 3135/3140 [00:07<00:00, 443.76it/s]\n",
      " 99%|█████████▉| 550/555 [00:03<00:00, 167.46it/s]\n"
     ]
    },
    {
     "name": "stdout",
     "output_type": "stream",
     "text": [
      "Epoch: 42/1000 Train Loss: 0.005 Train Acc: 0.993 Valid Loss: 0.164 Valid Acc: 0.825 Valid Pre: 0.232 Valid Reca: 0.223 Valid F1: 0.213\n",
      "No Improvement.\n"
     ]
    },
    {
     "name": "stderr",
     "output_type": "stream",
     "text": [
      "100%|█████████▉| 3135/3140 [00:07<00:00, 421.28it/s]\n",
      " 99%|█████████▉| 550/555 [00:03<00:00, 164.40it/s]\n"
     ]
    },
    {
     "name": "stdout",
     "output_type": "stream",
     "text": [
      "Epoch: 43/1000 Train Loss: 0.006 Train Acc: 0.992 Valid Loss: 0.165 Valid Acc: 0.822 Valid Pre: 0.203 Valid Reca: 0.216 Valid F1: 0.194\n",
      "No Improvement.\n"
     ]
    },
    {
     "name": "stderr",
     "output_type": "stream",
     "text": [
      "100%|█████████▉| 3135/3140 [00:07<00:00, 447.73it/s]\n",
      " 99%|█████████▉| 550/555 [00:03<00:00, 160.18it/s]\n"
     ]
    },
    {
     "name": "stdout",
     "output_type": "stream",
     "text": [
      "Epoch: 44/1000 Train Loss: 0.005 Train Acc: 0.993 Valid Loss: 0.166 Valid Acc: 0.820 Valid Pre: 0.218 Valid Reca: 0.225 Valid F1: 0.203\n",
      "No Improvement.\n"
     ]
    },
    {
     "name": "stderr",
     "output_type": "stream",
     "text": [
      "100%|█████████▉| 3135/3140 [00:07<00:00, 443.92it/s]\n",
      " 99%|█████████▉| 550/555 [00:03<00:00, 158.57it/s]\n"
     ]
    },
    {
     "name": "stdout",
     "output_type": "stream",
     "text": [
      "Epoch: 45/1000 Train Loss: 0.005 Train Acc: 0.994 Valid Loss: 0.168 Valid Acc: 0.818 Valid Pre: 0.215 Valid Reca: 0.206 Valid F1: 0.193\n",
      "No Improvement.\n"
     ]
    },
    {
     "name": "stderr",
     "output_type": "stream",
     "text": [
      "100%|█████████▉| 3135/3140 [00:07<00:00, 405.66it/s]\n",
      " 99%|█████████▉| 550/555 [00:03<00:00, 154.80it/s]\n"
     ]
    },
    {
     "name": "stdout",
     "output_type": "stream",
     "text": [
      "Epoch: 46/1000 Train Loss: 0.005 Train Acc: 0.994 Valid Loss: 0.170 Valid Acc: 0.816 Valid Pre: 0.222 Valid Reca: 0.204 Valid F1: 0.192\n",
      "No Improvement.\n"
     ]
    },
    {
     "name": "stderr",
     "output_type": "stream",
     "text": [
      "100%|█████████▉| 3135/3140 [00:07<00:00, 411.04it/s]\n",
      " 99%|█████████▉| 550/555 [00:03<00:00, 149.71it/s]\n"
     ]
    },
    {
     "name": "stdout",
     "output_type": "stream",
     "text": [
      "Epoch: 47/1000 Train Loss: 0.005 Train Acc: 0.994 Valid Loss: 0.173 Valid Acc: 0.815 Valid Pre: 0.229 Valid Reca: 0.219 Valid F1: 0.209\n",
      "No Improvement.\n"
     ]
    },
    {
     "name": "stderr",
     "output_type": "stream",
     "text": [
      "100%|█████████▉| 3135/3140 [00:07<00:00, 437.35it/s]\n",
      " 99%|█████████▉| 550/555 [00:03<00:00, 127.94it/s]\n"
     ]
    },
    {
     "name": "stdout",
     "output_type": "stream",
     "text": [
      "Epoch: 48/1000 Train Loss: 0.004 Train Acc: 0.995 Valid Loss: 0.169 Valid Acc: 0.819 Valid Pre: 0.219 Valid Reca: 0.225 Valid F1: 0.206\n",
      "No Improvement.\n"
     ]
    },
    {
     "name": "stderr",
     "output_type": "stream",
     "text": [
      "100%|█████████▉| 3135/3140 [00:07<00:00, 424.55it/s]\n",
      " 99%|█████████▉| 550/555 [00:03<00:00, 137.37it/s]\n"
     ]
    },
    {
     "name": "stdout",
     "output_type": "stream",
     "text": [
      "Epoch: 49/1000 Train Loss: 0.004 Train Acc: 0.995 Valid Loss: 0.168 Valid Acc: 0.818 Valid Pre: 0.221 Valid Reca: 0.226 Valid F1: 0.209\n",
      "No Improvement.\n"
     ]
    },
    {
     "name": "stderr",
     "output_type": "stream",
     "text": [
      "100%|█████████▉| 3135/3140 [00:07<00:00, 438.07it/s]\n",
      " 99%|█████████▉| 550/555 [00:03<00:00, 143.61it/s]\n"
     ]
    },
    {
     "name": "stdout",
     "output_type": "stream",
     "text": [
      "Epoch: 50/1000 Train Loss: 0.004 Train Acc: 0.995 Valid Loss: 0.169 Valid Acc: 0.819 Valid Pre: 0.226 Valid Reca: 0.218 Valid F1: 0.201\n",
      "No Improvement.\n"
     ]
    },
    {
     "name": "stderr",
     "output_type": "stream",
     "text": [
      "100%|█████████▉| 3135/3140 [00:07<00:00, 436.70it/s]\n",
      " 99%|█████████▉| 550/555 [00:03<00:00, 141.07it/s]\n"
     ]
    },
    {
     "name": "stdout",
     "output_type": "stream",
     "text": [
      "Epoch: 51/1000 Train Loss: 0.004 Train Acc: 0.995 Valid Loss: 0.172 Valid Acc: 0.816 Valid Pre: 0.211 Valid Reca: 0.210 Valid F1: 0.199\n",
      "No Improvement.\n"
     ]
    },
    {
     "name": "stderr",
     "output_type": "stream",
     "text": [
      "100%|█████████▉| 3135/3140 [00:07<00:00, 404.26it/s]\n",
      " 99%|█████████▉| 550/555 [00:03<00:00, 140.81it/s]\n"
     ]
    },
    {
     "name": "stdout",
     "output_type": "stream",
     "text": [
      "Epoch: 52/1000 Train Loss: 0.005 Train Acc: 0.994 Valid Loss: 0.170 Valid Acc: 0.818 Valid Pre: 0.214 Valid Reca: 0.207 Valid F1: 0.195\n",
      "No Improvement.\n"
     ]
    },
    {
     "name": "stderr",
     "output_type": "stream",
     "text": [
      "100%|█████████▉| 3135/3140 [00:07<00:00, 410.10it/s]\n",
      " 99%|█████████▉| 550/555 [00:03<00:00, 138.57it/s]\n"
     ]
    },
    {
     "name": "stdout",
     "output_type": "stream",
     "text": [
      "Epoch: 53/1000 Train Loss: 0.005 Train Acc: 0.995 Valid Loss: 0.168 Valid Acc: 0.820 Valid Pre: 0.230 Valid Reca: 0.215 Valid F1: 0.207\n",
      "No Improvement.\n"
     ]
    },
    {
     "name": "stderr",
     "output_type": "stream",
     "text": [
      "100%|█████████▉| 3135/3140 [00:07<00:00, 403.09it/s]\n",
      " 99%|█████████▉| 550/555 [00:03<00:00, 133.68it/s]\n"
     ]
    },
    {
     "name": "stdout",
     "output_type": "stream",
     "text": [
      "Epoch: 54/1000 Train Loss: 0.004 Train Acc: 0.995 Valid Loss: 0.171 Valid Acc: 0.816 Valid Pre: 0.233 Valid Reca: 0.219 Valid F1: 0.212\n",
      "No Improvement.\n"
     ]
    },
    {
     "name": "stderr",
     "output_type": "stream",
     "text": [
      "100%|█████████▉| 3135/3140 [00:07<00:00, 423.79it/s]\n",
      " 99%|█████████▉| 550/555 [00:03<00:00, 132.68it/s]\n"
     ]
    },
    {
     "name": "stdout",
     "output_type": "stream",
     "text": [
      "Epoch: 55/1000 Train Loss: 0.004 Train Acc: 0.995 Valid Loss: 0.168 Valid Acc: 0.823 Valid Pre: 0.224 Valid Reca: 0.214 Valid F1: 0.203\n",
      "No Improvement.\n"
     ]
    },
    {
     "name": "stderr",
     "output_type": "stream",
     "text": [
      "100%|█████████▉| 3135/3140 [00:07<00:00, 436.28it/s]\n",
      " 99%|█████████▉| 550/555 [00:03<00:00, 129.66it/s]\n"
     ]
    },
    {
     "name": "stdout",
     "output_type": "stream",
     "text": [
      "Epoch: 56/1000 Train Loss: 0.004 Train Acc: 0.995 Valid Loss: 0.170 Valid Acc: 0.816 Valid Pre: 0.222 Valid Reca: 0.216 Valid F1: 0.204\n",
      "No Improvement.\n"
     ]
    },
    {
     "name": "stderr",
     "output_type": "stream",
     "text": [
      "100%|█████████▉| 3135/3140 [00:07<00:00, 404.96it/s]\n",
      " 99%|█████████▉| 550/555 [00:03<00:00, 128.66it/s]\n"
     ]
    },
    {
     "name": "stdout",
     "output_type": "stream",
     "text": [
      "Epoch: 57/1000 Train Loss: 0.004 Train Acc: 0.995 Valid Loss: 0.166 Valid Acc: 0.823 Valid Pre: 0.219 Valid Reca: 0.212 Valid F1: 0.198\n",
      "No Improvement.\n"
     ]
    },
    {
     "name": "stderr",
     "output_type": "stream",
     "text": [
      "100%|█████████▉| 3135/3140 [00:07<00:00, 426.23it/s]\n",
      " 99%|█████████▉| 550/555 [00:04<00:00, 124.09it/s]\n"
     ]
    },
    {
     "name": "stdout",
     "output_type": "stream",
     "text": [
      "Epoch: 58/1000 Train Loss: 0.004 Train Acc: 0.995 Valid Loss: 0.166 Valid Acc: 0.824 Valid Pre: 0.233 Valid Reca: 0.220 Valid F1: 0.208\n",
      "No Improvement.\n"
     ]
    },
    {
     "name": "stderr",
     "output_type": "stream",
     "text": [
      "100%|█████████▉| 3135/3140 [00:07<00:00, 427.77it/s]\n",
      " 99%|█████████▉| 550/555 [00:04<00:00, 123.72it/s]\n"
     ]
    },
    {
     "name": "stdout",
     "output_type": "stream",
     "text": [
      "Epoch: 59/1000 Train Loss: 0.004 Train Acc: 0.995 Valid Loss: 0.165 Valid Acc: 0.825 Valid Pre: 0.210 Valid Reca: 0.210 Valid F1: 0.195\n",
      "No Improvement.\n"
     ]
    },
    {
     "name": "stderr",
     "output_type": "stream",
     "text": [
      "100%|█████████▉| 3135/3140 [00:07<00:00, 398.37it/s]\n",
      " 99%|█████████▉| 550/555 [00:04<00:00, 122.66it/s]\n"
     ]
    },
    {
     "name": "stdout",
     "output_type": "stream",
     "text": [
      "Epoch: 60/1000 Train Loss: 0.004 Train Acc: 0.996 Valid Loss: 0.165 Valid Acc: 0.822 Valid Pre: 0.211 Valid Reca: 0.209 Valid F1: 0.195\n",
      "No Improvement.\n"
     ]
    },
    {
     "name": "stderr",
     "output_type": "stream",
     "text": [
      "100%|█████████▉| 3135/3140 [00:07<00:00, 391.68it/s]\n",
      " 99%|█████████▉| 550/555 [00:04<00:00, 121.17it/s]\n"
     ]
    },
    {
     "name": "stdout",
     "output_type": "stream",
     "text": [
      "Epoch: 61/1000 Train Loss: 0.004 Train Acc: 0.995 Valid Loss: 0.165 Valid Acc: 0.825 Valid Pre: 0.224 Valid Reca: 0.220 Valid F1: 0.206\n",
      "No Improvement.\n"
     ]
    },
    {
     "name": "stderr",
     "output_type": "stream",
     "text": [
      "100%|█████████▉| 3135/3140 [00:07<00:00, 417.64it/s]\n",
      " 99%|█████████▉| 550/555 [00:04<00:00, 117.81it/s]\n"
     ]
    },
    {
     "name": "stdout",
     "output_type": "stream",
     "text": [
      "Epoch: 62/1000 Train Loss: 0.004 Train Acc: 0.996 Valid Loss: 0.170 Valid Acc: 0.819 Valid Pre: 0.217 Valid Reca: 0.214 Valid F1: 0.200\n",
      "No Improvement.\n"
     ]
    },
    {
     "name": "stderr",
     "output_type": "stream",
     "text": [
      "100%|█████████▉| 3135/3140 [00:07<00:00, 416.15it/s]\n",
      " 99%|█████████▉| 550/555 [00:04<00:00, 116.58it/s]\n"
     ]
    },
    {
     "name": "stdout",
     "output_type": "stream",
     "text": [
      "Epoch: 63/1000 Train Loss: 0.004 Train Acc: 0.996 Valid Loss: 0.170 Valid Acc: 0.819 Valid Pre: 0.217 Valid Reca: 0.207 Valid F1: 0.197\n",
      "No Improvement.\n"
     ]
    },
    {
     "name": "stderr",
     "output_type": "stream",
     "text": [
      "100%|█████████▉| 3135/3140 [00:07<00:00, 422.49it/s]\n",
      " 99%|█████████▉| 550/555 [00:04<00:00, 114.06it/s]\n"
     ]
    },
    {
     "name": "stdout",
     "output_type": "stream",
     "text": [
      "Epoch: 64/1000 Train Loss: 0.004 Train Acc: 0.996 Valid Loss: 0.165 Valid Acc: 0.825 Valid Pre: 0.226 Valid Reca: 0.220 Valid F1: 0.206\n",
      "No Improvement.\n"
     ]
    },
    {
     "name": "stderr",
     "output_type": "stream",
     "text": [
      "100%|█████████▉| 3135/3140 [00:07<00:00, 412.21it/s]\n",
      " 99%|█████████▉| 550/555 [00:04<00:00, 114.26it/s]\n"
     ]
    },
    {
     "name": "stdout",
     "output_type": "stream",
     "text": [
      "Epoch: 65/1000 Train Loss: 0.005 Train Acc: 0.994 Valid Loss: 0.164 Valid Acc: 0.825 Valid Pre: 0.203 Valid Reca: 0.190 Valid F1: 0.177\n",
      "No Improvement.\n"
     ]
    },
    {
     "name": "stderr",
     "output_type": "stream",
     "text": [
      "100%|█████████▉| 3135/3140 [00:07<00:00, 393.33it/s]\n",
      " 99%|█████████▉| 550/555 [00:04<00:00, 110.43it/s]\n"
     ]
    },
    {
     "name": "stdout",
     "output_type": "stream",
     "text": [
      "Epoch: 66/1000 Train Loss: 0.004 Train Acc: 0.995 Valid Loss: 0.169 Valid Acc: 0.822 Valid Pre: 0.208 Valid Reca: 0.210 Valid F1: 0.194\n",
      "No Improvement.\n"
     ]
    },
    {
     "name": "stderr",
     "output_type": "stream",
     "text": [
      "100%|█████████▉| 3135/3140 [00:07<00:00, 414.41it/s]\n",
      " 99%|█████████▉| 550/555 [00:04<00:00, 109.04it/s]\n"
     ]
    },
    {
     "name": "stdout",
     "output_type": "stream",
     "text": [
      "Epoch: 67/1000 Train Loss: 0.004 Train Acc: 0.995 Valid Loss: 0.165 Valid Acc: 0.826 Valid Pre: 0.205 Valid Reca: 0.205 Valid F1: 0.189\n",
      "No Improvement.\n"
     ]
    },
    {
     "name": "stderr",
     "output_type": "stream",
     "text": [
      "100%|█████████▉| 3135/3140 [00:07<00:00, 411.71it/s]\n",
      " 99%|█████████▉| 550/555 [00:04<00:00, 106.61it/s]\n"
     ]
    },
    {
     "name": "stdout",
     "output_type": "stream",
     "text": [
      "Epoch: 68/1000 Train Loss: 0.004 Train Acc: 0.995 Valid Loss: 0.171 Valid Acc: 0.817 Valid Pre: 0.202 Valid Reca: 0.196 Valid F1: 0.184\n",
      "No Improvement.\n"
     ]
    },
    {
     "name": "stderr",
     "output_type": "stream",
     "text": [
      "100%|█████████▉| 3135/3140 [00:07<00:00, 409.81it/s]\n",
      " 99%|█████████▉| 550/555 [00:04<00:00, 106.87it/s]\n"
     ]
    },
    {
     "name": "stdout",
     "output_type": "stream",
     "text": [
      "Epoch: 69/1000 Train Loss: 0.005 Train Acc: 0.994 Valid Loss: 0.168 Valid Acc: 0.822 Valid Pre: 0.196 Valid Reca: 0.197 Valid F1: 0.181\n",
      "No Improvement.\n"
     ]
    },
    {
     "name": "stderr",
     "output_type": "stream",
     "text": [
      "100%|█████████▉| 3135/3140 [00:07<00:00, 406.70it/s]\n",
      " 99%|█████████▉| 550/555 [00:04<00:00, 106.14it/s]\n"
     ]
    },
    {
     "name": "stdout",
     "output_type": "stream",
     "text": [
      "Epoch: 70/1000 Train Loss: 0.004 Train Acc: 0.996 Valid Loss: 0.167 Valid Acc: 0.822 Valid Pre: 0.210 Valid Reca: 0.206 Valid F1: 0.186\n",
      "No Improvement.\n"
     ]
    },
    {
     "name": "stderr",
     "output_type": "stream",
     "text": [
      "100%|█████████▉| 3135/3140 [00:08<00:00, 381.22it/s]\n",
      " 99%|█████████▉| 550/555 [00:04<00:00, 103.53it/s]\n"
     ]
    },
    {
     "name": "stdout",
     "output_type": "stream",
     "text": [
      "Epoch: 71/1000 Train Loss: 0.004 Train Acc: 0.995 Valid Loss: 0.166 Valid Acc: 0.822 Valid Pre: 0.208 Valid Reca: 0.204 Valid F1: 0.188\n",
      "No Improvement.\n"
     ]
    },
    {
     "name": "stderr",
     "output_type": "stream",
     "text": [
      "100%|█████████▉| 3135/3140 [00:07<00:00, 402.69it/s]\n",
      " 99%|█████████▉| 550/555 [00:04<00:00, 103.09it/s]\n"
     ]
    },
    {
     "name": "stdout",
     "output_type": "stream",
     "text": [
      "Epoch: 72/1000 Train Loss: 0.004 Train Acc: 0.996 Valid Loss: 0.170 Valid Acc: 0.819 Valid Pre: 0.200 Valid Reca: 0.194 Valid F1: 0.178\n",
      "No Improvement.\n"
     ]
    },
    {
     "name": "stderr",
     "output_type": "stream",
     "text": [
      "100%|█████████▉| 3135/3140 [00:07<00:00, 386.28it/s]\n",
      " 99%|█████████▉| 550/555 [00:05<00:00, 100.07it/s]\n"
     ]
    },
    {
     "name": "stdout",
     "output_type": "stream",
     "text": [
      "Epoch: 73/1000 Train Loss: 0.004 Train Acc: 0.996 Valid Loss: 0.173 Valid Acc: 0.817 Valid Pre: 0.203 Valid Reca: 0.208 Valid F1: 0.185\n",
      "No Improvement.\n"
     ]
    },
    {
     "name": "stderr",
     "output_type": "stream",
     "text": [
      "100%|█████████▉| 3135/3140 [00:07<00:00, 409.15it/s]\n",
      " 99%|█████████▉| 550/555 [00:05<00:00, 99.03it/s] \n"
     ]
    },
    {
     "name": "stdout",
     "output_type": "stream",
     "text": [
      "Epoch: 74/1000 Train Loss: 0.003 Train Acc: 0.996 Valid Loss: 0.170 Valid Acc: 0.820 Valid Pre: 0.206 Valid Reca: 0.198 Valid F1: 0.180\n",
      "No Improvement.\n"
     ]
    },
    {
     "name": "stderr",
     "output_type": "stream",
     "text": [
      "100%|█████████▉| 3135/3140 [00:08<00:00, 377.67it/s]\n",
      " 99%|█████████▉| 550/555 [00:05<00:00, 98.92it/s] \n"
     ]
    },
    {
     "name": "stdout",
     "output_type": "stream",
     "text": [
      "Epoch: 75/1000 Train Loss: 0.004 Train Acc: 0.995 Valid Loss: 0.167 Valid Acc: 0.821 Valid Pre: 0.222 Valid Reca: 0.212 Valid F1: 0.195\n",
      "No Improvement.\n"
     ]
    },
    {
     "name": "stderr",
     "output_type": "stream",
     "text": [
      "100%|█████████▉| 3135/3140 [00:08<00:00, 382.03it/s]\n",
      " 99%|█████████▉| 550/555 [00:05<00:00, 97.04it/s] \n"
     ]
    },
    {
     "name": "stdout",
     "output_type": "stream",
     "text": [
      "Epoch: 76/1000 Train Loss: 0.004 Train Acc: 0.995 Valid Loss: 0.166 Valid Acc: 0.823 Valid Pre: 0.217 Valid Reca: 0.200 Valid F1: 0.184\n",
      "No Improvement.\n"
     ]
    },
    {
     "name": "stderr",
     "output_type": "stream",
     "text": [
      "100%|█████████▉| 3135/3140 [00:07<00:00, 400.61it/s]\n",
      " 99%|█████████▉| 550/555 [00:05<00:00, 95.15it/s] \n"
     ]
    },
    {
     "name": "stdout",
     "output_type": "stream",
     "text": [
      "Epoch: 77/1000 Train Loss: 0.003 Train Acc: 0.996 Valid Loss: 0.165 Valid Acc: 0.823 Valid Pre: 0.221 Valid Reca: 0.202 Valid F1: 0.191\n",
      "No Improvement.\n"
     ]
    },
    {
     "name": "stderr",
     "output_type": "stream",
     "text": [
      "100%|█████████▉| 3135/3140 [00:07<00:00, 369.15it/s]\n",
      " 99%|█████████▉| 550/555 [00:05<00:00, 94.57it/s] \n"
     ]
    },
    {
     "name": "stdout",
     "output_type": "stream",
     "text": [
      "Epoch: 78/1000 Train Loss: 0.004 Train Acc: 0.996 Valid Loss: 0.168 Valid Acc: 0.821 Valid Pre: 0.221 Valid Reca: 0.204 Valid F1: 0.190\n",
      "No Improvement.\n"
     ]
    },
    {
     "name": "stderr",
     "output_type": "stream",
     "text": [
      "100%|█████████▉| 3135/3140 [00:07<00:00, 385.91it/s]\n",
      " 99%|█████████▉| 550/555 [00:05<00:00, 92.57it/s] \n"
     ]
    },
    {
     "name": "stdout",
     "output_type": "stream",
     "text": [
      "Epoch: 79/1000 Train Loss: 0.003 Train Acc: 0.996 Valid Loss: 0.169 Valid Acc: 0.820 Valid Pre: 0.204 Valid Reca: 0.198 Valid F1: 0.181\n",
      "No Improvement.\n"
     ]
    },
    {
     "name": "stderr",
     "output_type": "stream",
     "text": [
      "100%|█████████▉| 3135/3140 [00:07<00:00, 403.13it/s]\n",
      " 99%|█████████▉| 550/555 [00:05<00:00, 91.96it/s] \n"
     ]
    },
    {
     "name": "stdout",
     "output_type": "stream",
     "text": [
      "Epoch: 80/1000 Train Loss: 0.003 Train Acc: 0.997 Valid Loss: 0.168 Valid Acc: 0.821 Valid Pre: 0.221 Valid Reca: 0.208 Valid F1: 0.193\n",
      "No Improvement.\n"
     ]
    },
    {
     "name": "stderr",
     "output_type": "stream",
     "text": [
      "100%|█████████▉| 3135/3140 [00:07<00:00, 398.73it/s]\n",
      " 99%|█████████▉| 550/555 [00:05<00:00, 90.90it/s] \n"
     ]
    },
    {
     "name": "stdout",
     "output_type": "stream",
     "text": [
      "Epoch: 81/1000 Train Loss: 0.004 Train Acc: 0.996 Valid Loss: 0.169 Valid Acc: 0.821 Valid Pre: 0.208 Valid Reca: 0.201 Valid F1: 0.182\n",
      "No Improvement.\n"
     ]
    },
    {
     "name": "stderr",
     "output_type": "stream",
     "text": [
      "100%|█████████▉| 3135/3140 [00:07<00:00, 408.79it/s]\n",
      " 99%|█████████▉| 550/555 [00:05<00:00, 88.94it/s] \n"
     ]
    },
    {
     "name": "stdout",
     "output_type": "stream",
     "text": [
      "Epoch: 82/1000 Train Loss: 0.003 Train Acc: 0.996 Valid Loss: 0.172 Valid Acc: 0.818 Valid Pre: 0.212 Valid Reca: 0.196 Valid F1: 0.181\n",
      "No Improvement.\n"
     ]
    },
    {
     "name": "stderr",
     "output_type": "stream",
     "text": [
      "100%|█████████▉| 3135/3140 [00:08<00:00, 400.25it/s]\n",
      " 99%|█████████▉| 550/555 [00:05<00:00, 88.02it/s] \n"
     ]
    },
    {
     "name": "stdout",
     "output_type": "stream",
     "text": [
      "Epoch: 83/1000 Train Loss: 0.004 Train Acc: 0.996 Valid Loss: 0.171 Valid Acc: 0.820 Valid Pre: 0.216 Valid Reca: 0.206 Valid F1: 0.194\n",
      "No Improvement.\n"
     ]
    },
    {
     "name": "stderr",
     "output_type": "stream",
     "text": [
      "100%|█████████▉| 3135/3140 [00:08<00:00, 403.58it/s]\n",
      " 99%|█████████▉| 550/555 [00:05<00:00, 87.80it/s] \n"
     ]
    },
    {
     "name": "stdout",
     "output_type": "stream",
     "text": [
      "Epoch: 84/1000 Train Loss: 0.004 Train Acc: 0.996 Valid Loss: 0.171 Valid Acc: 0.819 Valid Pre: 0.208 Valid Reca: 0.209 Valid F1: 0.196\n",
      "No Improvement.\n"
     ]
    },
    {
     "name": "stderr",
     "output_type": "stream",
     "text": [
      "100%|█████████▉| 3135/3140 [00:08<00:00, 392.75it/s]\n",
      " 99%|█████████▉| 550/555 [00:05<00:00, 86.51it/s] \n"
     ]
    },
    {
     "name": "stdout",
     "output_type": "stream",
     "text": [
      "Epoch: 85/1000 Train Loss: 0.003 Train Acc: 0.996 Valid Loss: 0.171 Valid Acc: 0.819 Valid Pre: 0.198 Valid Reca: 0.197 Valid F1: 0.184\n",
      "No Improvement.\n"
     ]
    },
    {
     "name": "stderr",
     "output_type": "stream",
     "text": [
      "100%|█████████▉| 3135/3140 [00:07<00:00, 396.73it/s]\n",
      " 99%|█████████▉| 550/555 [00:05<00:00, 85.64it/s] \n"
     ]
    },
    {
     "name": "stdout",
     "output_type": "stream",
     "text": [
      "Epoch: 86/1000 Train Loss: 0.005 Train Acc: 0.994 Valid Loss: 0.170 Valid Acc: 0.821 Valid Pre: 0.205 Valid Reca: 0.202 Valid F1: 0.188\n",
      "No Improvement.\n"
     ]
    },
    {
     "name": "stderr",
     "output_type": "stream",
     "text": [
      "100%|█████████▉| 3135/3140 [00:08<00:00, 377.94it/s]\n",
      " 99%|█████████▉| 550/555 [00:06<00:00, 83.57it/s] \n"
     ]
    },
    {
     "name": "stdout",
     "output_type": "stream",
     "text": [
      "Epoch: 87/1000 Train Loss: 0.003 Train Acc: 0.996 Valid Loss: 0.171 Valid Acc: 0.820 Valid Pre: 0.220 Valid Reca: 0.215 Valid F1: 0.195\n",
      "No Improvement.\n"
     ]
    },
    {
     "name": "stderr",
     "output_type": "stream",
     "text": [
      "100%|█████████▉| 3135/3140 [00:08<00:00, 376.71it/s]\n",
      " 99%|█████████▉| 550/555 [00:06<00:00, 82.64it/s] \n"
     ]
    },
    {
     "name": "stdout",
     "output_type": "stream",
     "text": [
      "Epoch: 88/1000 Train Loss: 0.004 Train Acc: 0.995 Valid Loss: 0.169 Valid Acc: 0.819 Valid Pre: 0.207 Valid Reca: 0.206 Valid F1: 0.191\n",
      "No Improvement.\n"
     ]
    },
    {
     "name": "stderr",
     "output_type": "stream",
     "text": [
      "100%|█████████▉| 3135/3140 [00:07<00:00, 403.37it/s]\n",
      " 99%|█████████▉| 550/555 [00:06<00:00, 82.86it/s] \n"
     ]
    },
    {
     "name": "stdout",
     "output_type": "stream",
     "text": [
      "Epoch: 89/1000 Train Loss: 0.004 Train Acc: 0.996 Valid Loss: 0.167 Valid Acc: 0.823 Valid Pre: 0.209 Valid Reca: 0.204 Valid F1: 0.191\n",
      "No Improvement.\n"
     ]
    },
    {
     "name": "stderr",
     "output_type": "stream",
     "text": [
      "100%|█████████▉| 3135/3140 [00:08<00:00, 401.84it/s]\n",
      " 99%|█████████▉| 550/555 [00:06<00:00, 79.91it/s] \n"
     ]
    },
    {
     "name": "stdout",
     "output_type": "stream",
     "text": [
      "Epoch: 90/1000 Train Loss: 0.003 Train Acc: 0.996 Valid Loss: 0.167 Valid Acc: 0.824 Valid Pre: 0.194 Valid Reca: 0.192 Valid F1: 0.177\n",
      "No Improvement.\n"
     ]
    },
    {
     "name": "stderr",
     "output_type": "stream",
     "text": [
      "100%|█████████▉| 3135/3140 [00:08<00:00, 374.49it/s]\n",
      " 99%|█████████▉| 550/555 [00:06<00:00, 76.81it/s] \n"
     ]
    },
    {
     "name": "stdout",
     "output_type": "stream",
     "text": [
      "Epoch: 91/1000 Train Loss: 0.004 Train Acc: 0.996 Valid Loss: 0.174 Valid Acc: 0.816 Valid Pre: 0.214 Valid Reca: 0.204 Valid F1: 0.192\n",
      "No Improvement.\n"
     ]
    },
    {
     "name": "stderr",
     "output_type": "stream",
     "text": [
      "100%|█████████▉| 3135/3140 [00:08<00:00, 321.11it/s]\n",
      " 99%|█████████▉| 550/555 [00:06<00:00, 78.66it/s] \n"
     ]
    },
    {
     "name": "stdout",
     "output_type": "stream",
     "text": [
      "Epoch: 92/1000 Train Loss: 0.003 Train Acc: 0.996 Valid Loss: 0.173 Valid Acc: 0.818 Valid Pre: 0.225 Valid Reca: 0.215 Valid F1: 0.197\n",
      "No Improvement.\n"
     ]
    },
    {
     "name": "stderr",
     "output_type": "stream",
     "text": [
      "100%|█████████▉| 3135/3140 [00:08<00:00, 351.80it/s]\n",
      " 99%|█████████▉| 550/555 [00:06<00:00, 77.04it/s] \n"
     ]
    },
    {
     "name": "stdout",
     "output_type": "stream",
     "text": [
      "Epoch: 93/1000 Train Loss: 0.003 Train Acc: 0.996 Valid Loss: 0.174 Valid Acc: 0.818 Valid Pre: 0.190 Valid Reca: 0.190 Valid F1: 0.177\n",
      "No Improvement.\n"
     ]
    },
    {
     "name": "stderr",
     "output_type": "stream",
     "text": [
      "100%|█████████▉| 3135/3140 [00:07<00:00, 393.83it/s]\n",
      " 99%|█████████▉| 550/555 [00:06<00:00, 77.90it/s] \n"
     ]
    },
    {
     "name": "stdout",
     "output_type": "stream",
     "text": [
      "Epoch: 94/1000 Train Loss: 0.004 Train Acc: 0.995 Valid Loss: 0.172 Valid Acc: 0.818 Valid Pre: 0.200 Valid Reca: 0.203 Valid F1: 0.184\n",
      "No Improvement.\n"
     ]
    },
    {
     "name": "stderr",
     "output_type": "stream",
     "text": [
      "100%|█████████▉| 3135/3140 [00:07<00:00, 398.13it/s]\n",
      " 99%|█████████▉| 550/555 [00:06<00:00, 76.28it/s] \n"
     ]
    },
    {
     "name": "stdout",
     "output_type": "stream",
     "text": [
      "Epoch: 95/1000 Train Loss: 0.003 Train Acc: 0.996 Valid Loss: 0.169 Valid Acc: 0.823 Valid Pre: 0.221 Valid Reca: 0.219 Valid F1: 0.203\n",
      "No Improvement.\n"
     ]
    },
    {
     "name": "stderr",
     "output_type": "stream",
     "text": [
      "100%|█████████▉| 3135/3140 [00:08<00:00, 398.34it/s]\n",
      " 99%|█████████▉| 550/555 [00:06<00:00, 74.91it/s] \n"
     ]
    },
    {
     "name": "stdout",
     "output_type": "stream",
     "text": [
      "Epoch: 96/1000 Train Loss: 0.004 Train Acc: 0.995 Valid Loss: 0.169 Valid Acc: 0.824 Valid Pre: 0.209 Valid Reca: 0.229 Valid F1: 0.199\n",
      "No Improvement.\n"
     ]
    },
    {
     "name": "stderr",
     "output_type": "stream",
     "text": [
      "100%|█████████▉| 3135/3140 [00:08<00:00, 381.87it/s]\n",
      " 99%|█████████▉| 550/555 [00:06<00:00, 74.38it/s] \n"
     ]
    },
    {
     "name": "stdout",
     "output_type": "stream",
     "text": [
      "Epoch: 97/1000 Train Loss: 0.004 Train Acc: 0.995 Valid Loss: 0.168 Valid Acc: 0.823 Valid Pre: 0.203 Valid Reca: 0.210 Valid F1: 0.187\n",
      "No Improvement.\n"
     ]
    },
    {
     "name": "stderr",
     "output_type": "stream",
     "text": [
      "100%|█████████▉| 3135/3140 [00:08<00:00, 395.50it/s]\n",
      " 99%|█████████▉| 550/555 [00:06<00:00, 73.89it/s] \n"
     ]
    },
    {
     "name": "stdout",
     "output_type": "stream",
     "text": [
      "Epoch: 98/1000 Train Loss: 0.005 Train Acc: 0.995 Valid Loss: 0.170 Valid Acc: 0.824 Valid Pre: 0.193 Valid Reca: 0.193 Valid F1: 0.180\n",
      "No Improvement.\n"
     ]
    },
    {
     "name": "stderr",
     "output_type": "stream",
     "text": [
      "100%|█████████▉| 3135/3140 [00:08<00:00, 394.68it/s]\n",
      " 99%|█████████▉| 550/555 [00:07<00:00, 71.97it/s] \n"
     ]
    },
    {
     "name": "stdout",
     "output_type": "stream",
     "text": [
      "Epoch: 99/1000 Train Loss: 0.004 Train Acc: 0.996 Valid Loss: 0.172 Valid Acc: 0.821 Valid Pre: 0.198 Valid Reca: 0.199 Valid F1: 0.186\n",
      "No Improvement.\n"
     ]
    },
    {
     "name": "stderr",
     "output_type": "stream",
     "text": [
      "100%|█████████▉| 3135/3140 [00:08<00:00, 364.31it/s]\n",
      " 99%|█████████▉| 550/555 [00:07<00:00, 72.35it/s] \n"
     ]
    },
    {
     "name": "stdout",
     "output_type": "stream",
     "text": [
      "Epoch: 100/1000 Train Loss: 0.004 Train Acc: 0.995 Valid Loss: 0.167 Valid Acc: 0.826 Valid Pre: 0.195 Valid Reca: 0.200 Valid F1: 0.181\n",
      "No Improvement.\n"
     ]
    },
    {
     "name": "stderr",
     "output_type": "stream",
     "text": [
      "100%|█████████▉| 3135/3140 [00:08<00:00, 390.22it/s]\n",
      " 99%|█████████▉| 550/555 [00:07<00:00, 70.50it/s] \n"
     ]
    },
    {
     "name": "stdout",
     "output_type": "stream",
     "text": [
      "Epoch: 101/1000 Train Loss: 0.003 Train Acc: 0.996 Valid Loss: 0.166 Valid Acc: 0.825 Valid Pre: 0.179 Valid Reca: 0.203 Valid F1: 0.176\n",
      "No Improvement.\n"
     ]
    },
    {
     "name": "stderr",
     "output_type": "stream",
     "text": [
      "100%|█████████▉| 3135/3140 [00:08<00:00, 391.63it/s]\n",
      " 99%|█████████▉| 550/555 [00:07<00:00, 70.23it/s] \n"
     ]
    },
    {
     "name": "stdout",
     "output_type": "stream",
     "text": [
      "Epoch: 102/1000 Train Loss: 0.004 Train Acc: 0.995 Valid Loss: 0.167 Valid Acc: 0.825 Valid Pre: 0.212 Valid Reca: 0.212 Valid F1: 0.196\n",
      "No Improvement.\n"
     ]
    },
    {
     "name": "stderr",
     "output_type": "stream",
     "text": [
      "100%|█████████▉| 3135/3140 [00:08<00:00, 390.24it/s]\n",
      " 99%|█████████▉| 550/555 [00:07<00:00, 68.98it/s] \n"
     ]
    },
    {
     "name": "stdout",
     "output_type": "stream",
     "text": [
      "Epoch: 103/1000 Train Loss: 0.004 Train Acc: 0.996 Valid Loss: 0.172 Valid Acc: 0.818 Valid Pre: 0.205 Valid Reca: 0.197 Valid F1: 0.187\n",
      "No Improvement.\n"
     ]
    },
    {
     "name": "stderr",
     "output_type": "stream",
     "text": [
      "100%|█████████▉| 3135/3140 [00:08<00:00, 391.59it/s]\n",
      " 99%|█████████▉| 550/555 [00:07<00:00, 69.30it/s] \n"
     ]
    },
    {
     "name": "stdout",
     "output_type": "stream",
     "text": [
      "Epoch: 104/1000 Train Loss: 0.004 Train Acc: 0.996 Valid Loss: 0.170 Valid Acc: 0.822 Valid Pre: 0.200 Valid Reca: 0.202 Valid F1: 0.187\n",
      "No Improvement.\n"
     ]
    },
    {
     "name": "stderr",
     "output_type": "stream",
     "text": [
      "100%|█████████▉| 3135/3140 [00:08<00:00, 393.61it/s]\n",
      " 99%|█████████▉| 550/555 [00:07<00:00, 68.02it/s] \n"
     ]
    },
    {
     "name": "stdout",
     "output_type": "stream",
     "text": [
      "Epoch: 105/1000 Train Loss: 0.004 Train Acc: 0.995 Valid Loss: 0.170 Valid Acc: 0.821 Valid Pre: 0.211 Valid Reca: 0.207 Valid F1: 0.194\n",
      "No Improvement.\n"
     ]
    },
    {
     "name": "stderr",
     "output_type": "stream",
     "text": [
      "100%|█████████▉| 3135/3140 [00:08<00:00, 390.52it/s]\n",
      " 99%|█████████▉| 550/555 [00:07<00:00, 67.58it/s] \n"
     ]
    },
    {
     "name": "stdout",
     "output_type": "stream",
     "text": [
      "Epoch: 106/1000 Train Loss: 0.004 Train Acc: 0.995 Valid Loss: 0.172 Valid Acc: 0.819 Valid Pre: 0.202 Valid Reca: 0.202 Valid F1: 0.187\n",
      "No Improvement.\n"
     ]
    },
    {
     "name": "stderr",
     "output_type": "stream",
     "text": [
      "100%|█████████▉| 3135/3140 [00:08<00:00, 391.12it/s]\n",
      " 99%|█████████▉| 550/555 [00:07<00:00, 66.26it/s] \n"
     ]
    },
    {
     "name": "stdout",
     "output_type": "stream",
     "text": [
      "Epoch: 107/1000 Train Loss: 0.005 Train Acc: 0.994 Valid Loss: 0.167 Valid Acc: 0.825 Valid Pre: 0.206 Valid Reca: 0.200 Valid F1: 0.191\n",
      "No Improvement.\n"
     ]
    },
    {
     "name": "stderr",
     "output_type": "stream",
     "text": [
      "100%|█████████▉| 3135/3140 [00:08<00:00, 388.65it/s]\n",
      " 99%|█████████▉| 550/555 [00:07<00:00, 65.81it/s] \n"
     ]
    },
    {
     "name": "stdout",
     "output_type": "stream",
     "text": [
      "Epoch: 108/1000 Train Loss: 0.005 Train Acc: 0.995 Valid Loss: 0.171 Valid Acc: 0.819 Valid Pre: 0.206 Valid Reca: 0.206 Valid F1: 0.193\n",
      "No Improvement.\n"
     ]
    },
    {
     "name": "stderr",
     "output_type": "stream",
     "text": [
      "100%|█████████▉| 3135/3140 [00:08<00:00, 393.34it/s]\n",
      " 99%|█████████▉| 550/555 [00:07<00:00, 65.04it/s] \n"
     ]
    },
    {
     "name": "stdout",
     "output_type": "stream",
     "text": [
      "Epoch: 109/1000 Train Loss: 0.004 Train Acc: 0.995 Valid Loss: 0.173 Valid Acc: 0.820 Valid Pre: 0.199 Valid Reca: 0.209 Valid F1: 0.186\n",
      "No Improvement.\n"
     ]
    },
    {
     "name": "stderr",
     "output_type": "stream",
     "text": [
      "100%|█████████▉| 3135/3140 [00:08<00:00, 385.12it/s]\n",
      " 99%|█████████▉| 550/555 [00:07<00:00, 64.98it/s] \n"
     ]
    },
    {
     "name": "stdout",
     "output_type": "stream",
     "text": [
      "Epoch: 110/1000 Train Loss: 0.005 Train Acc: 0.995 Valid Loss: 0.173 Valid Acc: 0.818 Valid Pre: 0.196 Valid Reca: 0.202 Valid F1: 0.186\n",
      "No Improvement.\n"
     ]
    },
    {
     "name": "stderr",
     "output_type": "stream",
     "text": [
      "100%|█████████▉| 3135/3140 [00:08<00:00, 388.16it/s]\n",
      " 99%|█████████▉| 550/555 [00:08<00:00, 63.64it/s] \n"
     ]
    },
    {
     "name": "stdout",
     "output_type": "stream",
     "text": [
      "Epoch: 111/1000 Train Loss: 0.004 Train Acc: 0.995 Valid Loss: 0.174 Valid Acc: 0.818 Valid Pre: 0.197 Valid Reca: 0.195 Valid F1: 0.185\n",
      "No Improvement.\n"
     ]
    },
    {
     "name": "stderr",
     "output_type": "stream",
     "text": [
      "100%|█████████▉| 3135/3140 [00:08<00:00, 371.20it/s]\n",
      " 99%|█████████▉| 550/555 [00:08<00:00, 63.38it/s] \n"
     ]
    },
    {
     "name": "stdout",
     "output_type": "stream",
     "text": [
      "Epoch: 112/1000 Train Loss: 0.004 Train Acc: 0.995 Valid Loss: 0.176 Valid Acc: 0.814 Valid Pre: 0.202 Valid Reca: 0.197 Valid F1: 0.185\n",
      "No Improvement.\n"
     ]
    },
    {
     "name": "stderr",
     "output_type": "stream",
     "text": [
      "100%|█████████▉| 3135/3140 [00:08<00:00, 365.40it/s]\n",
      " 99%|█████████▉| 550/555 [00:08<00:00, 61.88it/s] \n"
     ]
    },
    {
     "name": "stdout",
     "output_type": "stream",
     "text": [
      "Epoch: 113/1000 Train Loss: 0.004 Train Acc: 0.995 Valid Loss: 0.174 Valid Acc: 0.818 Valid Pre: 0.207 Valid Reca: 0.207 Valid F1: 0.193\n",
      "No Improvement.\n"
     ]
    },
    {
     "name": "stderr",
     "output_type": "stream",
     "text": [
      "100%|█████████▉| 3135/3140 [00:08<00:00, 385.80it/s]\n",
      " 99%|█████████▉| 550/555 [00:08<00:00, 62.17it/s] \n"
     ]
    },
    {
     "name": "stdout",
     "output_type": "stream",
     "text": [
      "Epoch: 114/1000 Train Loss: 0.004 Train Acc: 0.995 Valid Loss: 0.176 Valid Acc: 0.815 Valid Pre: 0.217 Valid Reca: 0.224 Valid F1: 0.203\n",
      "No Improvement.\n"
     ]
    },
    {
     "name": "stderr",
     "output_type": "stream",
     "text": [
      "100%|█████████▉| 3135/3140 [00:08<00:00, 333.63it/s]\n",
      " 99%|█████████▉| 550/555 [00:08<00:00, 60.61it/s] \n"
     ]
    },
    {
     "name": "stdout",
     "output_type": "stream",
     "text": [
      "Epoch: 115/1000 Train Loss: 0.005 Train Acc: 0.995 Valid Loss: 0.172 Valid Acc: 0.818 Valid Pre: 0.216 Valid Reca: 0.219 Valid F1: 0.199\n",
      "No Improvement.\n"
     ]
    },
    {
     "name": "stderr",
     "output_type": "stream",
     "text": [
      "100%|█████████▉| 3135/3140 [00:08<00:00, 380.70it/s]\n",
      " 99%|█████████▉| 550/555 [00:08<00:00, 59.93it/s] \n"
     ]
    },
    {
     "name": "stdout",
     "output_type": "stream",
     "text": [
      "Epoch: 116/1000 Train Loss: 0.005 Train Acc: 0.994 Valid Loss: 0.176 Valid Acc: 0.814 Valid Pre: 0.203 Valid Reca: 0.201 Valid F1: 0.186\n",
      "No Improvement.\n"
     ]
    },
    {
     "name": "stderr",
     "output_type": "stream",
     "text": [
      "100%|█████████▉| 3135/3140 [00:09<00:00, 315.21it/s]\n",
      " 99%|█████████▉| 550/555 [00:08<00:00, 59.33it/s] \n"
     ]
    },
    {
     "name": "stdout",
     "output_type": "stream",
     "text": [
      "Epoch: 117/1000 Train Loss: 0.004 Train Acc: 0.995 Valid Loss: 0.173 Valid Acc: 0.821 Valid Pre: 0.202 Valid Reca: 0.198 Valid F1: 0.187\n",
      "No Improvement.\n"
     ]
    },
    {
     "name": "stderr",
     "output_type": "stream",
     "text": [
      "100%|█████████▉| 3135/3140 [00:08<00:00, 367.90it/s]\n",
      " 99%|█████████▉| 550/555 [00:08<00:00, 58.64it/s] \n"
     ]
    },
    {
     "name": "stdout",
     "output_type": "stream",
     "text": [
      "Epoch: 118/1000 Train Loss: 0.004 Train Acc: 0.995 Valid Loss: 0.178 Valid Acc: 0.815 Valid Pre: 0.192 Valid Reca: 0.198 Valid F1: 0.180\n",
      "No Improvement.\n"
     ]
    },
    {
     "name": "stderr",
     "output_type": "stream",
     "text": [
      "100%|█████████▉| 3135/3140 [00:08<00:00, 374.13it/s]\n",
      " 99%|█████████▉| 550/555 [00:08<00:00, 57.80it/s] \n"
     ]
    },
    {
     "name": "stdout",
     "output_type": "stream",
     "text": [
      "Epoch: 119/1000 Train Loss: 0.004 Train Acc: 0.995 Valid Loss: 0.179 Valid Acc: 0.812 Valid Pre: 0.193 Valid Reca: 0.200 Valid F1: 0.184\n",
      "No Improvement.\n"
     ]
    },
    {
     "name": "stderr",
     "output_type": "stream",
     "text": [
      "100%|█████████▉| 3135/3140 [00:08<00:00, 347.73it/s]\n",
      " 99%|█████████▉| 550/555 [00:08<00:00, 56.96it/s] \n"
     ]
    },
    {
     "name": "stdout",
     "output_type": "stream",
     "text": [
      "Epoch: 120/1000 Train Loss: 0.005 Train Acc: 0.994 Valid Loss: 0.177 Valid Acc: 0.814 Valid Pre: 0.199 Valid Reca: 0.200 Valid F1: 0.186\n",
      "No Improvement.\n"
     ]
    },
    {
     "name": "stderr",
     "output_type": "stream",
     "text": [
      "100%|█████████▉| 3135/3140 [00:08<00:00, 369.88it/s]\n",
      " 99%|█████████▉| 550/555 [00:09<00:00, 56.59it/s] \n"
     ]
    },
    {
     "name": "stdout",
     "output_type": "stream",
     "text": [
      "Epoch: 121/1000 Train Loss: 0.005 Train Acc: 0.995 Valid Loss: 0.178 Valid Acc: 0.814 Valid Pre: 0.209 Valid Reca: 0.216 Valid F1: 0.196\n",
      "No Improvement.\n"
     ]
    },
    {
     "name": "stderr",
     "output_type": "stream",
     "text": [
      "100%|█████████▉| 3135/3140 [00:08<00:00, 370.57it/s]\n",
      " 99%|█████████▉| 550/555 [00:09<00:00, 56.64it/s] \n"
     ]
    },
    {
     "name": "stdout",
     "output_type": "stream",
     "text": [
      "Epoch: 122/1000 Train Loss: 0.005 Train Acc: 0.994 Valid Loss: 0.175 Valid Acc: 0.817 Valid Pre: 0.202 Valid Reca: 0.208 Valid F1: 0.190\n",
      "No Improvement.\n"
     ]
    },
    {
     "name": "stderr",
     "output_type": "stream",
     "text": [
      "100%|█████████▉| 3135/3140 [00:08<00:00, 326.09it/s]\n",
      " 99%|█████████▉| 550/555 [00:09<00:00, 55.98it/s]\n"
     ]
    },
    {
     "name": "stdout",
     "output_type": "stream",
     "text": [
      "Epoch: 123/1000 Train Loss: 0.005 Train Acc: 0.994 Valid Loss: 0.173 Valid Acc: 0.818 Valid Pre: 0.210 Valid Reca: 0.207 Valid F1: 0.186\n",
      "No Improvement.\n"
     ]
    },
    {
     "name": "stderr",
     "output_type": "stream",
     "text": [
      "100%|█████████▉| 3135/3140 [00:08<00:00, 366.99it/s]\n",
      " 99%|█████████▉| 550/555 [00:09<00:00, 55.50it/s] \n"
     ]
    },
    {
     "name": "stdout",
     "output_type": "stream",
     "text": [
      "Epoch: 124/1000 Train Loss: 0.005 Train Acc: 0.995 Valid Loss: 0.176 Valid Acc: 0.817 Valid Pre: 0.196 Valid Reca: 0.204 Valid F1: 0.184\n",
      "No Improvement.\n"
     ]
    },
    {
     "name": "stderr",
     "output_type": "stream",
     "text": [
      "100%|█████████▉| 3135/3140 [00:08<00:00, 368.11it/s]\n",
      " 99%|█████████▉| 550/555 [00:09<00:00, 54.64it/s] \n"
     ]
    },
    {
     "name": "stdout",
     "output_type": "stream",
     "text": [
      "Epoch: 125/1000 Train Loss: 0.005 Train Acc: 0.994 Valid Loss: 0.173 Valid Acc: 0.819 Valid Pre: 0.202 Valid Reca: 0.201 Valid F1: 0.180\n",
      "No Improvement.\n"
     ]
    },
    {
     "name": "stderr",
     "output_type": "stream",
     "text": [
      "100%|█████████▉| 3135/3140 [00:08<00:00, 345.88it/s]\n",
      " 99%|█████████▉| 550/555 [00:09<00:00, 53.25it/s]\n"
     ]
    },
    {
     "name": "stdout",
     "output_type": "stream",
     "text": [
      "Epoch: 126/1000 Train Loss: 0.006 Train Acc: 0.993 Valid Loss: 0.180 Valid Acc: 0.813 Valid Pre: 0.191 Valid Reca: 0.190 Valid F1: 0.175\n",
      "No Improvement.\n"
     ]
    },
    {
     "name": "stderr",
     "output_type": "stream",
     "text": [
      "100%|█████████▉| 3135/3140 [00:08<00:00, 369.15it/s]\n",
      " 99%|█████████▉| 550/555 [00:09<00:00, 52.96it/s]\n"
     ]
    },
    {
     "name": "stdout",
     "output_type": "stream",
     "text": [
      "Epoch: 127/1000 Train Loss: 0.005 Train Acc: 0.994 Valid Loss: 0.181 Valid Acc: 0.813 Valid Pre: 0.186 Valid Reca: 0.181 Valid F1: 0.168\n",
      "No Improvement.\n"
     ]
    },
    {
     "name": "stderr",
     "output_type": "stream",
     "text": [
      "100%|█████████▉| 3135/3140 [00:08<00:00, 363.65it/s]\n",
      " 99%|█████████▉| 550/555 [00:09<00:00, 52.57it/s]\n"
     ]
    },
    {
     "name": "stdout",
     "output_type": "stream",
     "text": [
      "Epoch: 128/1000 Train Loss: 0.006 Train Acc: 0.993 Valid Loss: 0.180 Valid Acc: 0.812 Valid Pre: 0.192 Valid Reca: 0.188 Valid F1: 0.172\n",
      "No Improvement.\n"
     ]
    },
    {
     "name": "stderr",
     "output_type": "stream",
     "text": [
      "100%|█████████▉| 3135/3140 [00:08<00:00, 357.61it/s]\n",
      " 99%|█████████▉| 550/555 [00:09<00:00, 52.49it/s]\n"
     ]
    },
    {
     "name": "stdout",
     "output_type": "stream",
     "text": [
      "Epoch: 129/1000 Train Loss: 0.005 Train Acc: 0.994 Valid Loss: 0.178 Valid Acc: 0.815 Valid Pre: 0.195 Valid Reca: 0.198 Valid F1: 0.184\n",
      "No Improvement.\n"
     ]
    },
    {
     "name": "stderr",
     "output_type": "stream",
     "text": [
      "100%|█████████▉| 3135/3140 [00:08<00:00, 342.07it/s]\n",
      " 99%|█████████▉| 550/555 [00:09<00:00, 51.86it/s]\n"
     ]
    },
    {
     "name": "stdout",
     "output_type": "stream",
     "text": [
      "Epoch: 130/1000 Train Loss: 0.005 Train Acc: 0.995 Valid Loss: 0.182 Valid Acc: 0.811 Valid Pre: 0.197 Valid Reca: 0.196 Valid F1: 0.185\n",
      "No Improvement.\n"
     ]
    },
    {
     "name": "stderr",
     "output_type": "stream",
     "text": [
      "100%|█████████▉| 3135/3140 [00:08<00:00, 360.06it/s]\n",
      " 99%|█████████▉| 550/555 [00:09<00:00, 51.30it/s]\n"
     ]
    },
    {
     "name": "stdout",
     "output_type": "stream",
     "text": [
      "Epoch: 131/1000 Train Loss: 0.005 Train Acc: 0.994 Valid Loss: 0.179 Valid Acc: 0.813 Valid Pre: 0.190 Valid Reca: 0.204 Valid F1: 0.183\n",
      "No Improvement.\n"
     ]
    },
    {
     "name": "stderr",
     "output_type": "stream",
     "text": [
      "100%|█████████▉| 3135/3140 [00:08<00:00, 360.25it/s]\n",
      " 99%|█████████▉| 550/555 [00:10<00:00, 49.45it/s]\n"
     ]
    },
    {
     "name": "stdout",
     "output_type": "stream",
     "text": [
      "Epoch: 132/1000 Train Loss: 0.005 Train Acc: 0.994 Valid Loss: 0.177 Valid Acc: 0.815 Valid Pre: 0.195 Valid Reca: 0.186 Valid F1: 0.176\n",
      "No Improvement.\n"
     ]
    },
    {
     "name": "stderr",
     "output_type": "stream",
     "text": [
      "100%|█████████▉| 3135/3140 [00:08<00:00, 358.99it/s]\n",
      " 99%|█████████▉| 550/555 [00:10<00:00, 50.02it/s]\n"
     ]
    },
    {
     "name": "stdout",
     "output_type": "stream",
     "text": [
      "Epoch: 133/1000 Train Loss: 0.006 Train Acc: 0.994 Valid Loss: 0.177 Valid Acc: 0.816 Valid Pre: 0.202 Valid Reca: 0.196 Valid F1: 0.184\n",
      "No Improvement.\n"
     ]
    },
    {
     "name": "stderr",
     "output_type": "stream",
     "text": [
      "100%|█████████▉| 3135/3140 [00:08<00:00, 338.20it/s]\n",
      " 99%|█████████▉| 550/555 [00:10<00:00, 49.06it/s]\n"
     ]
    },
    {
     "name": "stdout",
     "output_type": "stream",
     "text": [
      "Epoch: 134/1000 Train Loss: 0.005 Train Acc: 0.994 Valid Loss: 0.179 Valid Acc: 0.814 Valid Pre: 0.184 Valid Reca: 0.184 Valid F1: 0.168\n",
      "No Improvement.\n"
     ]
    },
    {
     "name": "stderr",
     "output_type": "stream",
     "text": [
      "100%|█████████▉| 3135/3140 [00:09<00:00, 354.67it/s]\n",
      " 99%|█████████▉| 550/555 [00:10<00:00, 48.78it/s]\n"
     ]
    },
    {
     "name": "stdout",
     "output_type": "stream",
     "text": [
      "Epoch: 135/1000 Train Loss: 0.006 Train Acc: 0.993 Valid Loss: 0.177 Valid Acc: 0.815 Valid Pre: 0.212 Valid Reca: 0.210 Valid F1: 0.191\n",
      "No Improvement.\n"
     ]
    },
    {
     "name": "stderr",
     "output_type": "stream",
     "text": [
      "100%|█████████▉| 3135/3140 [00:08<00:00, 354.00it/s]\n",
      " 99%|█████████▉| 550/555 [00:10<00:00, 48.48it/s]\n"
     ]
    },
    {
     "name": "stdout",
     "output_type": "stream",
     "text": [
      "Epoch: 136/1000 Train Loss: 0.006 Train Acc: 0.993 Valid Loss: 0.180 Valid Acc: 0.813 Valid Pre: 0.194 Valid Reca: 0.184 Valid F1: 0.171\n",
      "No Improvement.\n"
     ]
    },
    {
     "name": "stderr",
     "output_type": "stream",
     "text": [
      "100%|█████████▉| 3135/3140 [00:09<00:00, 354.23it/s]\n",
      " 99%|█████████▉| 550/555 [00:10<00:00, 47.35it/s]\n"
     ]
    },
    {
     "name": "stdout",
     "output_type": "stream",
     "text": [
      "Epoch: 137/1000 Train Loss: 0.007 Train Acc: 0.992 Valid Loss: 0.175 Valid Acc: 0.818 Valid Pre: 0.193 Valid Reca: 0.201 Valid F1: 0.178\n",
      "No Improvement.\n"
     ]
    },
    {
     "name": "stderr",
     "output_type": "stream",
     "text": [
      "100%|█████████▉| 3135/3140 [00:09<00:00, 324.58it/s]\n",
      " 99%|█████████▉| 550/555 [00:10<00:00, 47.21it/s]\n"
     ]
    },
    {
     "name": "stdout",
     "output_type": "stream",
     "text": [
      "Epoch: 138/1000 Train Loss: 0.006 Train Acc: 0.993 Valid Loss: 0.178 Valid Acc: 0.816 Valid Pre: 0.210 Valid Reca: 0.200 Valid F1: 0.191\n",
      "No Improvement.\n"
     ]
    },
    {
     "name": "stderr",
     "output_type": "stream",
     "text": [
      "100%|█████████▉| 3135/3140 [00:09<00:00, 349.76it/s]\n",
      " 99%|█████████▉| 550/555 [00:10<00:00, 46.71it/s]\n"
     ]
    },
    {
     "name": "stdout",
     "output_type": "stream",
     "text": [
      "Epoch: 139/1000 Train Loss: 0.007 Train Acc: 0.992 Valid Loss: 0.173 Valid Acc: 0.819 Valid Pre: 0.207 Valid Reca: 0.200 Valid F1: 0.192\n",
      "No Improvement.\n"
     ]
    },
    {
     "name": "stderr",
     "output_type": "stream",
     "text": [
      "100%|█████████▉| 3135/3140 [00:09<00:00, 350.26it/s]\n",
      " 99%|█████████▉| 550/555 [00:10<00:00, 46.38it/s]\n"
     ]
    },
    {
     "name": "stdout",
     "output_type": "stream",
     "text": [
      "Epoch: 140/1000 Train Loss: 0.007 Train Acc: 0.992 Valid Loss: 0.175 Valid Acc: 0.817 Valid Pre: 0.215 Valid Reca: 0.201 Valid F1: 0.197\n",
      "No Improvement.\n"
     ]
    },
    {
     "name": "stderr",
     "output_type": "stream",
     "text": [
      "100%|█████████▉| 3135/3140 [00:09<00:00, 346.86it/s]\n",
      " 99%|█████████▉| 550/555 [00:11<00:00, 46.02it/s]\n"
     ]
    },
    {
     "name": "stdout",
     "output_type": "stream",
     "text": [
      "Epoch: 141/1000 Train Loss: 0.008 Train Acc: 0.992 Valid Loss: 0.177 Valid Acc: 0.815 Valid Pre: 0.185 Valid Reca: 0.187 Valid F1: 0.173\n",
      "No Improvement.\n"
     ]
    },
    {
     "name": "stderr",
     "output_type": "stream",
     "text": [
      "100%|█████████▉| 3135/3140 [00:09<00:00, 349.44it/s]\n",
      " 99%|█████████▉| 550/555 [00:11<00:00, 43.94it/s]\n"
     ]
    },
    {
     "name": "stdout",
     "output_type": "stream",
     "text": [
      "Epoch: 142/1000 Train Loss: 0.006 Train Acc: 0.993 Valid Loss: 0.177 Valid Acc: 0.816 Valid Pre: 0.191 Valid Reca: 0.188 Valid F1: 0.177\n",
      "No Improvement.\n"
     ]
    },
    {
     "name": "stderr",
     "output_type": "stream",
     "text": [
      "100%|█████████▉| 3135/3140 [00:09<00:00, 348.53it/s]\n",
      " 99%|█████████▉| 550/555 [00:11<00:00, 45.24it/s]\n"
     ]
    },
    {
     "name": "stdout",
     "output_type": "stream",
     "text": [
      "Epoch: 143/1000 Train Loss: 0.006 Train Acc: 0.993 Valid Loss: 0.178 Valid Acc: 0.816 Valid Pre: 0.185 Valid Reca: 0.186 Valid F1: 0.173\n",
      "No Improvement.\n"
     ]
    },
    {
     "name": "stderr",
     "output_type": "stream",
     "text": [
      "100%|█████████▉| 3135/3140 [00:09<00:00, 350.28it/s]\n",
      " 99%|█████████▉| 550/555 [00:11<00:00, 44.45it/s]\n"
     ]
    },
    {
     "name": "stdout",
     "output_type": "stream",
     "text": [
      "Epoch: 144/1000 Train Loss: 0.007 Train Acc: 0.992 Valid Loss: 0.174 Valid Acc: 0.820 Valid Pre: 0.194 Valid Reca: 0.209 Valid F1: 0.186\n",
      "No Improvement.\n"
     ]
    },
    {
     "name": "stderr",
     "output_type": "stream",
     "text": [
      "100%|█████████▉| 3135/3140 [00:09<00:00, 346.60it/s]\n",
      " 99%|█████████▉| 550/555 [00:11<00:00, 44.73it/s]\n"
     ]
    },
    {
     "name": "stdout",
     "output_type": "stream",
     "text": [
      "Epoch: 145/1000 Train Loss: 0.005 Train Acc: 0.994 Valid Loss: 0.171 Valid Acc: 0.821 Valid Pre: 0.199 Valid Reca: 0.215 Valid F1: 0.185\n",
      "No Improvement.\n"
     ]
    },
    {
     "name": "stderr",
     "output_type": "stream",
     "text": [
      "100%|█████████▉| 3135/3140 [00:09<00:00, 338.30it/s]\n",
      " 99%|█████████▉| 550/555 [00:11<00:00, 43.96it/s]\n"
     ]
    },
    {
     "name": "stdout",
     "output_type": "stream",
     "text": [
      "Epoch: 146/1000 Train Loss: 0.006 Train Acc: 0.993 Valid Loss: 0.172 Valid Acc: 0.821 Valid Pre: 0.212 Valid Reca: 0.213 Valid F1: 0.196\n",
      "No Improvement.\n"
     ]
    },
    {
     "name": "stderr",
     "output_type": "stream",
     "text": [
      "100%|█████████▉| 3135/3140 [00:09<00:00, 331.79it/s]\n",
      " 99%|█████████▉| 550/555 [00:11<00:00, 43.90it/s]\n"
     ]
    },
    {
     "name": "stdout",
     "output_type": "stream",
     "text": [
      "Epoch: 147/1000 Train Loss: 0.005 Train Acc: 0.994 Valid Loss: 0.177 Valid Acc: 0.815 Valid Pre: 0.221 Valid Reca: 0.220 Valid F1: 0.204\n",
      "No Improvement.\n"
     ]
    },
    {
     "name": "stderr",
     "output_type": "stream",
     "text": [
      "100%|█████████▉| 3135/3140 [00:09<00:00, 331.54it/s]\n",
      " 99%|█████████▉| 550/555 [00:11<00:00, 43.49it/s]\n"
     ]
    },
    {
     "name": "stdout",
     "output_type": "stream",
     "text": [
      "Epoch: 148/1000 Train Loss: 0.005 Train Acc: 0.994 Valid Loss: 0.178 Valid Acc: 0.814 Valid Pre: 0.201 Valid Reca: 0.209 Valid F1: 0.188\n",
      "No Improvement.\n"
     ]
    },
    {
     "name": "stderr",
     "output_type": "stream",
     "text": [
      "100%|█████████▉| 3135/3140 [00:09<00:00, 341.80it/s]\n",
      " 99%|█████████▉| 550/555 [00:11<00:00, 43.06it/s]\n"
     ]
    },
    {
     "name": "stdout",
     "output_type": "stream",
     "text": [
      "Epoch: 149/1000 Train Loss: 0.006 Train Acc: 0.994 Valid Loss: 0.182 Valid Acc: 0.809 Valid Pre: 0.210 Valid Reca: 0.222 Valid F1: 0.199\n",
      "No Improvement.\n"
     ]
    },
    {
     "name": "stderr",
     "output_type": "stream",
     "text": [
      "100%|█████████▉| 3135/3140 [00:09<00:00, 341.87it/s]\n",
      " 99%|█████████▉| 550/555 [00:12<00:00, 42.40it/s]\n"
     ]
    },
    {
     "name": "stdout",
     "output_type": "stream",
     "text": [
      "Epoch: 150/1000 Train Loss: 0.006 Train Acc: 0.993 Valid Loss: 0.182 Valid Acc: 0.811 Valid Pre: 0.200 Valid Reca: 0.204 Valid F1: 0.187\n",
      "No Improvement.\n"
     ]
    },
    {
     "name": "stderr",
     "output_type": "stream",
     "text": [
      "100%|█████████▉| 3135/3140 [00:09<00:00, 300.39it/s]\n",
      " 99%|█████████▉| 550/555 [00:12<00:00, 41.86it/s]\n"
     ]
    },
    {
     "name": "stdout",
     "output_type": "stream",
     "text": [
      "Epoch: 151/1000 Train Loss: 0.007 Train Acc: 0.993 Valid Loss: 0.179 Valid Acc: 0.814 Valid Pre: 0.216 Valid Reca: 0.217 Valid F1: 0.202\n",
      "No Improvement.\n"
     ]
    },
    {
     "name": "stderr",
     "output_type": "stream",
     "text": [
      "100%|█████████▉| 3135/3140 [00:09<00:00, 337.82it/s]\n",
      " 99%|█████████▉| 550/555 [00:12<00:00, 41.65it/s]\n"
     ]
    },
    {
     "name": "stdout",
     "output_type": "stream",
     "text": [
      "Epoch: 152/1000 Train Loss: 0.006 Train Acc: 0.993 Valid Loss: 0.179 Valid Acc: 0.814 Valid Pre: 0.229 Valid Reca: 0.232 Valid F1: 0.208\n",
      "No Improvement.\n"
     ]
    },
    {
     "name": "stderr",
     "output_type": "stream",
     "text": [
      "100%|█████████▉| 3135/3140 [00:09<00:00, 340.27it/s]\n",
      " 99%|█████████▉| 550/555 [00:12<00:00, 40.93it/s]\n"
     ]
    },
    {
     "name": "stdout",
     "output_type": "stream",
     "text": [
      "Epoch: 153/1000 Train Loss: 0.006 Train Acc: 0.993 Valid Loss: 0.177 Valid Acc: 0.815 Valid Pre: 0.220 Valid Reca: 0.235 Valid F1: 0.209\n",
      "No Improvement.\n"
     ]
    },
    {
     "name": "stderr",
     "output_type": "stream",
     "text": [
      "100%|█████████▉| 3135/3140 [00:09<00:00, 326.36it/s]\n",
      " 99%|█████████▉| 550/555 [00:12<00:00, 40.26it/s]\n"
     ]
    },
    {
     "name": "stdout",
     "output_type": "stream",
     "text": [
      "Epoch: 154/1000 Train Loss: 0.005 Train Acc: 0.994 Valid Loss: 0.177 Valid Acc: 0.816 Valid Pre: 0.216 Valid Reca: 0.223 Valid F1: 0.205\n",
      "No Improvement.\n"
     ]
    },
    {
     "name": "stderr",
     "output_type": "stream",
     "text": [
      "100%|█████████▉| 3135/3140 [00:09<00:00, 334.71it/s]\n",
      " 99%|█████████▉| 550/555 [00:12<00:00, 40.62it/s]\n"
     ]
    },
    {
     "name": "stdout",
     "output_type": "stream",
     "text": [
      "Epoch: 155/1000 Train Loss: 0.006 Train Acc: 0.994 Valid Loss: 0.179 Valid Acc: 0.813 Valid Pre: 0.225 Valid Reca: 0.231 Valid F1: 0.210\n",
      "No Improvement.\n"
     ]
    },
    {
     "name": "stderr",
     "output_type": "stream",
     "text": [
      "100%|█████████▉| 3135/3140 [00:09<00:00, 336.13it/s]\n",
      " 99%|█████████▉| 550/555 [00:12<00:00, 39.66it/s]\n"
     ]
    },
    {
     "name": "stdout",
     "output_type": "stream",
     "text": [
      "Epoch: 156/1000 Train Loss: 0.006 Train Acc: 0.993 Valid Loss: 0.179 Valid Acc: 0.816 Valid Pre: 0.200 Valid Reca: 0.212 Valid F1: 0.185\n",
      "No Improvement.\n"
     ]
    },
    {
     "name": "stderr",
     "output_type": "stream",
     "text": [
      "100%|█████████▉| 3135/3140 [00:09<00:00, 332.27it/s]\n",
      " 99%|█████████▉| 550/555 [00:12<00:00, 40.02it/s]\n"
     ]
    },
    {
     "name": "stdout",
     "output_type": "stream",
     "text": [
      "Epoch: 157/1000 Train Loss: 0.006 Train Acc: 0.993 Valid Loss: 0.180 Valid Acc: 0.812 Valid Pre: 0.213 Valid Reca: 0.227 Valid F1: 0.201\n",
      "No Improvement.\n"
     ]
    },
    {
     "name": "stderr",
     "output_type": "stream",
     "text": [
      "100%|█████████▉| 3135/3140 [00:09<00:00, 332.48it/s]\n",
      " 99%|█████████▉| 550/555 [00:12<00:00, 39.53it/s]\n"
     ]
    },
    {
     "name": "stdout",
     "output_type": "stream",
     "text": [
      "Epoch: 158/1000 Train Loss: 0.005 Train Acc: 0.994 Valid Loss: 0.179 Valid Acc: 0.813 Valid Pre: 0.221 Valid Reca: 0.229 Valid F1: 0.203\n",
      "No Improvement.\n"
     ]
    },
    {
     "name": "stderr",
     "output_type": "stream",
     "text": [
      "100%|█████████▉| 3135/3140 [00:09<00:00, 333.92it/s]\n",
      " 99%|█████████▉| 550/555 [00:13<00:00, 38.30it/s]\n"
     ]
    },
    {
     "name": "stdout",
     "output_type": "stream",
     "text": [
      "Epoch: 159/1000 Train Loss: 0.005 Train Acc: 0.995 Valid Loss: 0.181 Valid Acc: 0.813 Valid Pre: 0.219 Valid Reca: 0.212 Valid F1: 0.196\n",
      "No Improvement.\n"
     ]
    },
    {
     "name": "stderr",
     "output_type": "stream",
     "text": [
      "100%|█████████▉| 3135/3140 [00:09<00:00, 331.95it/s]\n",
      " 99%|█████████▉| 550/555 [00:13<00:00, 37.97it/s]\n"
     ]
    },
    {
     "name": "stdout",
     "output_type": "stream",
     "text": [
      "Epoch: 160/1000 Train Loss: 0.005 Train Acc: 0.994 Valid Loss: 0.180 Valid Acc: 0.814 Valid Pre: 0.220 Valid Reca: 0.217 Valid F1: 0.203\n",
      "No Improvement.\n"
     ]
    },
    {
     "name": "stderr",
     "output_type": "stream",
     "text": [
      "100%|█████████▉| 3135/3140 [00:09<00:00, 334.85it/s]\n",
      " 99%|█████████▉| 550/555 [00:13<00:00, 38.23it/s]\n"
     ]
    },
    {
     "name": "stdout",
     "output_type": "stream",
     "text": [
      "Epoch: 161/1000 Train Loss: 0.006 Train Acc: 0.993 Valid Loss: 0.181 Valid Acc: 0.812 Valid Pre: 0.221 Valid Reca: 0.223 Valid F1: 0.204\n",
      "No Improvement.\n"
     ]
    },
    {
     "name": "stderr",
     "output_type": "stream",
     "text": [
      "100%|█████████▉| 3135/3140 [00:09<00:00, 331.20it/s]\n",
      " 99%|█████████▉| 550/555 [00:13<00:00, 37.97it/s]\n"
     ]
    },
    {
     "name": "stdout",
     "output_type": "stream",
     "text": [
      "Epoch: 162/1000 Train Loss: 0.006 Train Acc: 0.993 Valid Loss: 0.177 Valid Acc: 0.818 Valid Pre: 0.220 Valid Reca: 0.227 Valid F1: 0.209\n",
      "No Improvement.\n"
     ]
    },
    {
     "name": "stderr",
     "output_type": "stream",
     "text": [
      "100%|█████████▉| 3135/3140 [00:09<00:00, 331.44it/s]\n",
      " 99%|█████████▉| 550/555 [00:13<00:00, 37.46it/s]\n"
     ]
    },
    {
     "name": "stdout",
     "output_type": "stream",
     "text": [
      "Epoch: 163/1000 Train Loss: 0.006 Train Acc: 0.994 Valid Loss: 0.177 Valid Acc: 0.817 Valid Pre: 0.208 Valid Reca: 0.218 Valid F1: 0.198\n",
      "No Improvement.\n"
     ]
    },
    {
     "name": "stderr",
     "output_type": "stream",
     "text": [
      "100%|█████████▉| 3135/3140 [00:09<00:00, 323.14it/s]\n",
      " 99%|█████████▉| 550/555 [00:13<00:00, 37.26it/s]\n"
     ]
    },
    {
     "name": "stdout",
     "output_type": "stream",
     "text": [
      "Epoch: 164/1000 Train Loss: 0.005 Train Acc: 0.995 Valid Loss: 0.178 Valid Acc: 0.816 Valid Pre: 0.217 Valid Reca: 0.233 Valid F1: 0.209\n",
      "No Improvement.\n"
     ]
    },
    {
     "name": "stderr",
     "output_type": "stream",
     "text": [
      "100%|█████████▉| 3135/3140 [00:09<00:00, 311.78it/s]\n",
      " 99%|█████████▉| 550/555 [00:13<00:00, 37.02it/s]\n"
     ]
    },
    {
     "name": "stdout",
     "output_type": "stream",
     "text": [
      "Epoch: 165/1000 Train Loss: 0.005 Train Acc: 0.994 Valid Loss: 0.183 Valid Acc: 0.811 Valid Pre: 0.211 Valid Reca: 0.218 Valid F1: 0.198\n",
      "No Improvement.\n"
     ]
    },
    {
     "name": "stderr",
     "output_type": "stream",
     "text": [
      "100%|█████████▉| 3135/3140 [00:09<00:00, 329.97it/s]\n",
      " 99%|█████████▉| 550/555 [00:14<00:00, 36.16it/s]\n"
     ]
    },
    {
     "name": "stdout",
     "output_type": "stream",
     "text": [
      "Epoch: 166/1000 Train Loss: 0.006 Train Acc: 0.993 Valid Loss: 0.185 Valid Acc: 0.809 Valid Pre: 0.209 Valid Reca: 0.223 Valid F1: 0.199\n",
      "No Improvement.\n"
     ]
    },
    {
     "name": "stderr",
     "output_type": "stream",
     "text": [
      "100%|█████████▉| 3135/3140 [00:09<00:00, 327.47it/s]\n",
      " 99%|█████████▉| 550/555 [00:14<00:00, 36.31it/s]\n"
     ]
    },
    {
     "name": "stdout",
     "output_type": "stream",
     "text": [
      "Epoch: 167/1000 Train Loss: 0.006 Train Acc: 0.994 Valid Loss: 0.182 Valid Acc: 0.811 Valid Pre: 0.223 Valid Reca: 0.224 Valid F1: 0.205\n",
      "No Improvement.\n"
     ]
    },
    {
     "name": "stderr",
     "output_type": "stream",
     "text": [
      "100%|█████████▉| 3135/3140 [00:09<00:00, 327.20it/s]\n",
      " 99%|█████████▉| 550/555 [00:14<00:00, 36.01it/s]\n"
     ]
    },
    {
     "name": "stdout",
     "output_type": "stream",
     "text": [
      "Epoch: 168/1000 Train Loss: 0.006 Train Acc: 0.993 Valid Loss: 0.181 Valid Acc: 0.813 Valid Pre: 0.213 Valid Reca: 0.212 Valid F1: 0.190\n",
      "No Improvement.\n"
     ]
    },
    {
     "name": "stderr",
     "output_type": "stream",
     "text": [
      "100%|█████████▉| 3135/3140 [00:09<00:00, 321.88it/s]\n",
      " 99%|█████████▉| 550/555 [00:14<00:00, 35.64it/s]\n"
     ]
    },
    {
     "name": "stdout",
     "output_type": "stream",
     "text": [
      "Epoch: 169/1000 Train Loss: 0.006 Train Acc: 0.993 Valid Loss: 0.181 Valid Acc: 0.813 Valid Pre: 0.213 Valid Reca: 0.210 Valid F1: 0.196\n",
      "No Improvement.\n"
     ]
    },
    {
     "name": "stderr",
     "output_type": "stream",
     "text": [
      "100%|█████████▉| 3135/3140 [00:09<00:00, 324.98it/s]\n",
      " 99%|█████████▉| 550/555 [00:14<00:00, 35.25it/s]\n"
     ]
    },
    {
     "name": "stdout",
     "output_type": "stream",
     "text": [
      "Epoch: 170/1000 Train Loss: 0.008 Train Acc: 0.991 Valid Loss: 0.181 Valid Acc: 0.814 Valid Pre: 0.226 Valid Reca: 0.231 Valid F1: 0.210\n",
      "No Improvement.\n"
     ]
    },
    {
     "name": "stderr",
     "output_type": "stream",
     "text": [
      "100%|█████████▉| 3135/3140 [00:09<00:00, 323.30it/s]\n",
      " 99%|█████████▉| 550/555 [00:14<00:00, 34.91it/s]\n"
     ]
    },
    {
     "name": "stdout",
     "output_type": "stream",
     "text": [
      "Epoch: 171/1000 Train Loss: 0.007 Train Acc: 0.993 Valid Loss: 0.179 Valid Acc: 0.813 Valid Pre: 0.224 Valid Reca: 0.224 Valid F1: 0.207\n",
      "No Improvement.\n"
     ]
    },
    {
     "name": "stderr",
     "output_type": "stream",
     "text": [
      "100%|█████████▉| 3135/3140 [00:09<00:00, 324.21it/s]\n",
      " 99%|█████████▉| 550/555 [00:14<00:00, 34.64it/s]\n"
     ]
    },
    {
     "name": "stdout",
     "output_type": "stream",
     "text": [
      "Epoch: 172/1000 Train Loss: 0.007 Train Acc: 0.993 Valid Loss: 0.174 Valid Acc: 0.820 Valid Pre: 0.236 Valid Reca: 0.226 Valid F1: 0.215\n",
      "No Improvement.\n"
     ]
    },
    {
     "name": "stderr",
     "output_type": "stream",
     "text": [
      "100%|█████████▉| 3135/3140 [00:09<00:00, 320.74it/s]\n",
      " 99%|█████████▉| 550/555 [00:14<00:00, 33.95it/s]\n"
     ]
    },
    {
     "name": "stdout",
     "output_type": "stream",
     "text": [
      "Epoch: 173/1000 Train Loss: 0.006 Train Acc: 0.993 Valid Loss: 0.173 Valid Acc: 0.821 Valid Pre: 0.243 Valid Reca: 0.241 Valid F1: 0.221\n",
      "No Improvement.\n"
     ]
    },
    {
     "name": "stderr",
     "output_type": "stream",
     "text": [
      "100%|█████████▉| 3135/3140 [00:09<00:00, 320.87it/s]\n",
      " 99%|█████████▉| 550/555 [00:15<00:00, 33.68it/s]\n"
     ]
    },
    {
     "name": "stdout",
     "output_type": "stream",
     "text": [
      "Epoch: 174/1000 Train Loss: 0.008 Train Acc: 0.992 Valid Loss: 0.177 Valid Acc: 0.818 Valid Pre: 0.246 Valid Reca: 0.252 Valid F1: 0.228\n",
      "No Improvement.\n"
     ]
    },
    {
     "name": "stderr",
     "output_type": "stream",
     "text": [
      "100%|█████████▉| 3135/3140 [00:09<00:00, 320.62it/s]\n",
      " 99%|█████████▉| 550/555 [00:15<00:00, 33.25it/s]\n"
     ]
    },
    {
     "name": "stdout",
     "output_type": "stream",
     "text": [
      "Epoch: 175/1000 Train Loss: 0.006 Train Acc: 0.993 Valid Loss: 0.179 Valid Acc: 0.816 Valid Pre: 0.238 Valid Reca: 0.236 Valid F1: 0.214\n",
      "No Improvement.\n"
     ]
    },
    {
     "name": "stderr",
     "output_type": "stream",
     "text": [
      "100%|█████████▉| 3135/3140 [00:09<00:00, 323.97it/s]\n",
      " 99%|█████████▉| 550/555 [00:15<00:00, 33.04it/s]\n"
     ]
    },
    {
     "name": "stdout",
     "output_type": "stream",
     "text": [
      "Epoch: 176/1000 Train Loss: 0.007 Train Acc: 0.992 Valid Loss: 0.176 Valid Acc: 0.817 Valid Pre: 0.236 Valid Reca: 0.227 Valid F1: 0.207\n",
      "No Improvement.\n"
     ]
    },
    {
     "name": "stderr",
     "output_type": "stream",
     "text": [
      "100%|█████████▉| 3135/3140 [00:10<00:00, 313.54it/s]\n",
      " 99%|█████████▉| 550/555 [00:15<00:00, 32.91it/s]\n"
     ]
    },
    {
     "name": "stdout",
     "output_type": "stream",
     "text": [
      "Epoch: 177/1000 Train Loss: 0.006 Train Acc: 0.993 Valid Loss: 0.179 Valid Acc: 0.815 Valid Pre: 0.212 Valid Reca: 0.211 Valid F1: 0.193\n",
      "No Improvement.\n"
     ]
    },
    {
     "name": "stderr",
     "output_type": "stream",
     "text": [
      "100%|█████████▉| 3135/3140 [00:10<00:00, 317.54it/s]\n",
      " 99%|█████████▉| 550/555 [00:15<00:00, 33.03it/s]\n"
     ]
    },
    {
     "name": "stdout",
     "output_type": "stream",
     "text": [
      "Epoch: 178/1000 Train Loss: 0.007 Train Acc: 0.992 Valid Loss: 0.182 Valid Acc: 0.812 Valid Pre: 0.221 Valid Reca: 0.221 Valid F1: 0.200\n",
      "No Improvement.\n"
     ]
    },
    {
     "name": "stderr",
     "output_type": "stream",
     "text": [
      "100%|█████████▉| 3135/3140 [00:10<00:00, 301.93it/s]\n",
      " 99%|█████████▉| 550/555 [00:15<00:00, 32.33it/s]\n"
     ]
    },
    {
     "name": "stdout",
     "output_type": "stream",
     "text": [
      "Epoch: 179/1000 Train Loss: 0.006 Train Acc: 0.993 Valid Loss: 0.181 Valid Acc: 0.813 Valid Pre: 0.207 Valid Reca: 0.204 Valid F1: 0.188\n",
      "No Improvement.\n"
     ]
    },
    {
     "name": "stderr",
     "output_type": "stream",
     "text": [
      "100%|█████████▉| 3135/3140 [00:09<00:00, 314.66it/s]\n",
      " 99%|█████████▉| 550/555 [00:15<00:00, 32.08it/s]\n"
     ]
    },
    {
     "name": "stdout",
     "output_type": "stream",
     "text": [
      "Epoch: 180/1000 Train Loss: 0.006 Train Acc: 0.993 Valid Loss: 0.181 Valid Acc: 0.812 Valid Pre: 0.219 Valid Reca: 0.224 Valid F1: 0.199\n",
      "No Improvement.\n"
     ]
    },
    {
     "name": "stderr",
     "output_type": "stream",
     "text": [
      "100%|█████████▉| 3135/3140 [00:10<00:00, 310.47it/s]\n",
      " 99%|█████████▉| 550/555 [00:15<00:00, 32.19it/s]\n"
     ]
    },
    {
     "name": "stdout",
     "output_type": "stream",
     "text": [
      "Epoch: 181/1000 Train Loss: 0.007 Train Acc: 0.993 Valid Loss: 0.181 Valid Acc: 0.815 Valid Pre: 0.227 Valid Reca: 0.225 Valid F1: 0.205\n",
      "No Improvement.\n"
     ]
    },
    {
     "name": "stderr",
     "output_type": "stream",
     "text": [
      "100%|█████████▉| 3135/3140 [00:10<00:00, 310.39it/s]\n",
      " 99%|█████████▉| 550/555 [00:16<00:00, 31.47it/s]\n"
     ]
    },
    {
     "name": "stdout",
     "output_type": "stream",
     "text": [
      "Epoch: 182/1000 Train Loss: 0.006 Train Acc: 0.993 Valid Loss: 0.182 Valid Acc: 0.813 Valid Pre: 0.242 Valid Reca: 0.243 Valid F1: 0.221\n",
      "No Improvement.\n"
     ]
    },
    {
     "name": "stderr",
     "output_type": "stream",
     "text": [
      "100%|█████████▉| 3135/3140 [00:10<00:00, 298.45it/s]\n",
      " 99%|█████████▉| 550/555 [00:16<00:00, 31.29it/s]\n"
     ]
    },
    {
     "name": "stdout",
     "output_type": "stream",
     "text": [
      "Epoch: 183/1000 Train Loss: 0.007 Train Acc: 0.992 Valid Loss: 0.177 Valid Acc: 0.816 Valid Pre: 0.234 Valid Reca: 0.228 Valid F1: 0.213\n",
      "No Improvement.\n"
     ]
    },
    {
     "name": "stderr",
     "output_type": "stream",
     "text": [
      "100%|█████████▉| 3135/3140 [00:10<00:00, 310.49it/s]\n",
      " 99%|█████████▉| 550/555 [00:16<00:00, 31.22it/s]\n"
     ]
    },
    {
     "name": "stdout",
     "output_type": "stream",
     "text": [
      "Epoch: 184/1000 Train Loss: 0.006 Train Acc: 0.993 Valid Loss: 0.173 Valid Acc: 0.822 Valid Pre: 0.225 Valid Reca: 0.219 Valid F1: 0.200\n",
      "No Improvement.\n"
     ]
    },
    {
     "name": "stderr",
     "output_type": "stream",
     "text": [
      "100%|█████████▉| 3135/3140 [00:10<00:00, 289.63it/s]\n",
      " 99%|█████████▉| 550/555 [00:16<00:00, 30.97it/s]\n"
     ]
    },
    {
     "name": "stdout",
     "output_type": "stream",
     "text": [
      "Epoch: 185/1000 Train Loss: 0.006 Train Acc: 0.994 Valid Loss: 0.173 Valid Acc: 0.821 Valid Pre: 0.231 Valid Reca: 0.236 Valid F1: 0.213\n",
      "No Improvement.\n"
     ]
    },
    {
     "name": "stderr",
     "output_type": "stream",
     "text": [
      "100%|█████████▉| 3135/3140 [00:10<00:00, 310.49it/s]\n",
      " 99%|█████████▉| 550/555 [00:16<00:00, 30.37it/s]\n"
     ]
    },
    {
     "name": "stdout",
     "output_type": "stream",
     "text": [
      "Epoch: 186/1000 Train Loss: 0.007 Train Acc: 0.993 Valid Loss: 0.179 Valid Acc: 0.814 Valid Pre: 0.223 Valid Reca: 0.223 Valid F1: 0.199\n",
      "No Improvement.\n"
     ]
    },
    {
     "name": "stderr",
     "output_type": "stream",
     "text": [
      "100%|█████████▉| 3135/3140 [00:10<00:00, 296.80it/s]\n",
      " 99%|█████████▉| 550/555 [00:16<00:00, 30.73it/s]\n"
     ]
    },
    {
     "name": "stdout",
     "output_type": "stream",
     "text": [
      "Epoch: 187/1000 Train Loss: 0.007 Train Acc: 0.992 Valid Loss: 0.175 Valid Acc: 0.820 Valid Pre: 0.222 Valid Reca: 0.216 Valid F1: 0.199\n",
      "No Improvement.\n"
     ]
    },
    {
     "name": "stderr",
     "output_type": "stream",
     "text": [
      "100%|█████████▉| 3135/3140 [00:10<00:00, 309.23it/s]\n",
      " 99%|█████████▉| 550/555 [00:16<00:00, 30.05it/s]\n"
     ]
    },
    {
     "name": "stdout",
     "output_type": "stream",
     "text": [
      "Epoch: 188/1000 Train Loss: 0.005 Train Acc: 0.994 Valid Loss: 0.174 Valid Acc: 0.821 Valid Pre: 0.233 Valid Reca: 0.237 Valid F1: 0.213\n",
      "No Improvement.\n"
     ]
    },
    {
     "name": "stderr",
     "output_type": "stream",
     "text": [
      "100%|█████████▉| 3135/3140 [00:10<00:00, 308.83it/s]\n",
      " 99%|█████████▉| 550/555 [00:17<00:00, 29.70it/s]\n"
     ]
    },
    {
     "name": "stdout",
     "output_type": "stream",
     "text": [
      "Epoch: 189/1000 Train Loss: 0.006 Train Acc: 0.994 Valid Loss: 0.177 Valid Acc: 0.819 Valid Pre: 0.237 Valid Reca: 0.236 Valid F1: 0.211\n",
      "No Improvement.\n"
     ]
    },
    {
     "name": "stderr",
     "output_type": "stream",
     "text": [
      "100%|█████████▉| 3135/3140 [00:10<00:00, 308.52it/s]\n",
      " 99%|█████████▉| 550/555 [00:17<00:00, 29.55it/s]\n"
     ]
    },
    {
     "name": "stdout",
     "output_type": "stream",
     "text": [
      "Epoch: 190/1000 Train Loss: 0.006 Train Acc: 0.993 Valid Loss: 0.180 Valid Acc: 0.815 Valid Pre: 0.245 Valid Reca: 0.235 Valid F1: 0.216\n",
      "No Improvement.\n"
     ]
    },
    {
     "name": "stderr",
     "output_type": "stream",
     "text": [
      "100%|█████████▉| 3135/3140 [00:10<00:00, 299.69it/s]\n",
      " 99%|█████████▉| 550/555 [00:17<00:00, 29.63it/s]\n"
     ]
    },
    {
     "name": "stdout",
     "output_type": "stream",
     "text": [
      "Epoch: 191/1000 Train Loss: 0.007 Train Acc: 0.993 Valid Loss: 0.179 Valid Acc: 0.814 Valid Pre: 0.234 Valid Reca: 0.230 Valid F1: 0.213\n",
      "No Improvement.\n"
     ]
    },
    {
     "name": "stderr",
     "output_type": "stream",
     "text": [
      "100%|█████████▉| 3135/3140 [00:10<00:00, 301.90it/s]\n",
      " 99%|█████████▉| 550/555 [00:17<00:00, 29.14it/s]\n"
     ]
    },
    {
     "name": "stdout",
     "output_type": "stream",
     "text": [
      "Epoch: 192/1000 Train Loss: 0.006 Train Acc: 0.993 Valid Loss: 0.179 Valid Acc: 0.817 Valid Pre: 0.245 Valid Reca: 0.228 Valid F1: 0.212\n",
      "No Improvement.\n"
     ]
    },
    {
     "name": "stderr",
     "output_type": "stream",
     "text": [
      "100%|█████████▉| 3135/3140 [00:10<00:00, 301.65it/s]\n",
      " 99%|█████████▉| 550/555 [00:17<00:00, 28.91it/s]\n"
     ]
    },
    {
     "name": "stdout",
     "output_type": "stream",
     "text": [
      "Epoch: 193/1000 Train Loss: 0.005 Train Acc: 0.994 Valid Loss: 0.176 Valid Acc: 0.819 Valid Pre: 0.243 Valid Reca: 0.238 Valid F1: 0.220\n",
      "No Improvement.\n"
     ]
    },
    {
     "name": "stderr",
     "output_type": "stream",
     "text": [
      "100%|█████████▉| 3135/3140 [00:10<00:00, 289.25it/s]\n",
      " 99%|█████████▉| 550/555 [00:17<00:00, 28.52it/s]\n"
     ]
    },
    {
     "name": "stdout",
     "output_type": "stream",
     "text": [
      "Epoch: 194/1000 Train Loss: 0.006 Train Acc: 0.994 Valid Loss: 0.181 Valid Acc: 0.814 Valid Pre: 0.230 Valid Reca: 0.233 Valid F1: 0.213\n",
      "No Improvement.\n"
     ]
    },
    {
     "name": "stderr",
     "output_type": "stream",
     "text": [
      "100%|█████████▉| 3135/3140 [00:10<00:00, 299.89it/s]\n",
      " 99%|█████████▉| 550/555 [00:17<00:00, 28.43it/s]\n"
     ]
    },
    {
     "name": "stdout",
     "output_type": "stream",
     "text": [
      "Epoch: 195/1000 Train Loss: 0.006 Train Acc: 0.994 Valid Loss: 0.180 Valid Acc: 0.815 Valid Pre: 0.241 Valid Reca: 0.228 Valid F1: 0.211\n",
      "No Improvement.\n"
     ]
    },
    {
     "name": "stderr",
     "output_type": "stream",
     "text": [
      "100%|█████████▉| 3135/3140 [00:10<00:00, 300.37it/s]\n",
      " 99%|█████████▉| 550/555 [00:18<00:00, 28.21it/s]\n"
     ]
    },
    {
     "name": "stdout",
     "output_type": "stream",
     "text": [
      "Epoch: 196/1000 Train Loss: 0.007 Train Acc: 0.993 Valid Loss: 0.179 Valid Acc: 0.813 Valid Pre: 0.229 Valid Reca: 0.214 Valid F1: 0.202\n",
      "No Improvement.\n"
     ]
    },
    {
     "name": "stderr",
     "output_type": "stream",
     "text": [
      "100%|█████████▉| 3135/3140 [00:10<00:00, 301.31it/s]\n",
      " 99%|█████████▉| 550/555 [00:18<00:00, 27.77it/s]\n"
     ]
    },
    {
     "name": "stdout",
     "output_type": "stream",
     "text": [
      "Epoch: 197/1000 Train Loss: 0.007 Train Acc: 0.993 Valid Loss: 0.189 Valid Acc: 0.806 Valid Pre: 0.215 Valid Reca: 0.210 Valid F1: 0.195\n",
      "No Improvement.\n"
     ]
    },
    {
     "name": "stderr",
     "output_type": "stream",
     "text": [
      "100%|█████████▉| 3135/3140 [00:10<00:00, 299.87it/s]\n",
      " 99%|█████████▉| 550/555 [00:18<00:00, 27.46it/s]\n"
     ]
    },
    {
     "name": "stdout",
     "output_type": "stream",
     "text": [
      "Epoch: 198/1000 Train Loss: 0.006 Train Acc: 0.993 Valid Loss: 0.184 Valid Acc: 0.812 Valid Pre: 0.216 Valid Reca: 0.214 Valid F1: 0.196\n",
      "No Improvement.\n"
     ]
    },
    {
     "name": "stderr",
     "output_type": "stream",
     "text": [
      "100%|█████████▉| 3135/3140 [00:10<00:00, 296.96it/s]\n",
      " 99%|█████████▉| 550/555 [00:18<00:00, 26.99it/s]\n"
     ]
    },
    {
     "name": "stdout",
     "output_type": "stream",
     "text": [
      "Epoch: 199/1000 Train Loss: 0.006 Train Acc: 0.993 Valid Loss: 0.185 Valid Acc: 0.810 Valid Pre: 0.222 Valid Reca: 0.221 Valid F1: 0.202\n",
      "No Improvement.\n"
     ]
    },
    {
     "name": "stderr",
     "output_type": "stream",
     "text": [
      "100%|█████████▉| 3135/3140 [00:10<00:00, 295.72it/s]\n",
      " 99%|█████████▉| 550/555 [00:18<00:00, 27.12it/s]\n"
     ]
    },
    {
     "name": "stdout",
     "output_type": "stream",
     "text": [
      "Epoch: 200/1000 Train Loss: 0.006 Train Acc: 0.993 Valid Loss: 0.185 Valid Acc: 0.812 Valid Pre: 0.234 Valid Reca: 0.215 Valid F1: 0.205\n",
      "No Improvement.\n"
     ]
    },
    {
     "name": "stderr",
     "output_type": "stream",
     "text": [
      "100%|█████████▉| 3135/3140 [00:10<00:00, 296.87it/s]\n",
      " 99%|█████████▉| 550/555 [00:18<00:00, 27.74it/s]\n"
     ]
    },
    {
     "name": "stdout",
     "output_type": "stream",
     "text": [
      "Epoch: 201/1000 Train Loss: 0.006 Train Acc: 0.993 Valid Loss: 0.186 Valid Acc: 0.809 Valid Pre: 0.248 Valid Reca: 0.228 Valid F1: 0.218\n",
      "No Improvement.\n"
     ]
    },
    {
     "name": "stderr",
     "output_type": "stream",
     "text": [
      "100%|█████████▉| 3135/3140 [00:10<00:00, 296.35it/s]\n",
      " 99%|█████████▉| 550/555 [00:19<00:00, 26.82it/s]\n"
     ]
    },
    {
     "name": "stdout",
     "output_type": "stream",
     "text": [
      "Epoch: 202/1000 Train Loss: 0.006 Train Acc: 0.993 Valid Loss: 0.181 Valid Acc: 0.814 Valid Pre: 0.247 Valid Reca: 0.227 Valid F1: 0.214\n",
      "No Improvement.\n"
     ]
    },
    {
     "name": "stderr",
     "output_type": "stream",
     "text": [
      "100%|█████████▉| 3135/3140 [00:10<00:00, 295.11it/s]\n",
      " 99%|█████████▉| 550/555 [00:18<00:00, 26.94it/s]\n"
     ]
    },
    {
     "name": "stdout",
     "output_type": "stream",
     "text": [
      "Epoch: 203/1000 Train Loss: 0.007 Train Acc: 0.992 Valid Loss: 0.182 Valid Acc: 0.812 Valid Pre: 0.232 Valid Reca: 0.220 Valid F1: 0.207\n",
      "No Improvement.\n"
     ]
    },
    {
     "name": "stderr",
     "output_type": "stream",
     "text": [
      "100%|█████████▉| 3135/3140 [00:11<00:00, 293.00it/s]\n",
      " 99%|█████████▉| 550/555 [00:19<00:00, 26.81it/s]\n"
     ]
    },
    {
     "name": "stdout",
     "output_type": "stream",
     "text": [
      "Epoch: 204/1000 Train Loss: 0.007 Train Acc: 0.993 Valid Loss: 0.185 Valid Acc: 0.810 Valid Pre: 0.225 Valid Reca: 0.212 Valid F1: 0.201\n",
      "No Improvement.\n"
     ]
    },
    {
     "name": "stderr",
     "output_type": "stream",
     "text": [
      "100%|█████████▉| 3135/3140 [00:10<00:00, 293.15it/s]\n",
      " 99%|█████████▉| 550/555 [00:19<00:00, 26.53it/s]\n"
     ]
    },
    {
     "name": "stdout",
     "output_type": "stream",
     "text": [
      "Epoch: 205/1000 Train Loss: 0.006 Train Acc: 0.994 Valid Loss: 0.184 Valid Acc: 0.811 Valid Pre: 0.227 Valid Reca: 0.219 Valid F1: 0.206\n",
      "No Improvement.\n"
     ]
    },
    {
     "name": "stderr",
     "output_type": "stream",
     "text": [
      "100%|█████████▉| 3135/3140 [00:10<00:00, 291.27it/s]\n",
      " 99%|█████████▉| 550/555 [00:19<00:00, 26.21it/s]\n"
     ]
    },
    {
     "name": "stdout",
     "output_type": "stream",
     "text": [
      "Epoch: 206/1000 Train Loss: 0.007 Train Acc: 0.993 Valid Loss: 0.181 Valid Acc: 0.815 Valid Pre: 0.228 Valid Reca: 0.222 Valid F1: 0.209\n",
      "No Improvement.\n"
     ]
    },
    {
     "name": "stderr",
     "output_type": "stream",
     "text": [
      "100%|█████████▉| 3135/3140 [00:11<00:00, 291.10it/s]\n",
      " 99%|█████████▉| 550/555 [00:19<00:00, 25.90it/s]\n"
     ]
    },
    {
     "name": "stdout",
     "output_type": "stream",
     "text": [
      "Epoch: 207/1000 Train Loss: 0.006 Train Acc: 0.993 Valid Loss: 0.179 Valid Acc: 0.815 Valid Pre: 0.220 Valid Reca: 0.214 Valid F1: 0.204\n",
      "No Improvement.\n"
     ]
    },
    {
     "name": "stderr",
     "output_type": "stream",
     "text": [
      "100%|█████████▉| 3135/3140 [00:10<00:00, 288.82it/s]\n",
      " 99%|█████████▉| 550/555 [00:19<00:00, 25.86it/s]\n"
     ]
    },
    {
     "name": "stdout",
     "output_type": "stream",
     "text": [
      "Epoch: 208/1000 Train Loss: 0.006 Train Acc: 0.993 Valid Loss: 0.179 Valid Acc: 0.815 Valid Pre: 0.233 Valid Reca: 0.222 Valid F1: 0.208\n",
      "No Improvement.\n"
     ]
    },
    {
     "name": "stderr",
     "output_type": "stream",
     "text": [
      "100%|█████████▉| 3135/3140 [00:11<00:00, 285.74it/s]\n",
      " 99%|█████████▉| 550/555 [00:19<00:00, 25.79it/s]\n"
     ]
    },
    {
     "name": "stdout",
     "output_type": "stream",
     "text": [
      "Epoch: 209/1000 Train Loss: 0.007 Train Acc: 0.992 Valid Loss: 0.180 Valid Acc: 0.815 Valid Pre: 0.231 Valid Reca: 0.222 Valid F1: 0.210\n",
      "No Improvement.\n"
     ]
    },
    {
     "name": "stderr",
     "output_type": "stream",
     "text": [
      "100%|█████████▉| 3135/3140 [00:11<00:00, 283.26it/s]\n",
      " 99%|█████████▉| 550/555 [00:19<00:00, 25.75it/s]\n"
     ]
    },
    {
     "name": "stdout",
     "output_type": "stream",
     "text": [
      "Epoch: 210/1000 Train Loss: 0.006 Train Acc: 0.993 Valid Loss: 0.181 Valid Acc: 0.813 Valid Pre: 0.229 Valid Reca: 0.218 Valid F1: 0.205\n",
      "No Improvement.\n"
     ]
    },
    {
     "name": "stderr",
     "output_type": "stream",
     "text": [
      "100%|█████████▉| 3135/3140 [00:11<00:00, 287.01it/s]\n",
      " 99%|█████████▉| 550/555 [00:20<00:00, 25.14it/s]\n"
     ]
    },
    {
     "name": "stdout",
     "output_type": "stream",
     "text": [
      "Epoch: 211/1000 Train Loss: 0.006 Train Acc: 0.994 Valid Loss: 0.180 Valid Acc: 0.815 Valid Pre: 0.233 Valid Reca: 0.221 Valid F1: 0.212\n",
      "No Improvement.\n"
     ]
    },
    {
     "name": "stderr",
     "output_type": "stream",
     "text": [
      "100%|█████████▉| 3135/3140 [00:11<00:00, 287.66it/s]\n",
      " 99%|█████████▉| 550/555 [00:20<00:00, 25.11it/s]\n"
     ]
    },
    {
     "name": "stdout",
     "output_type": "stream",
     "text": [
      "Epoch: 212/1000 Train Loss: 0.006 Train Acc: 0.993 Valid Loss: 0.179 Valid Acc: 0.814 Valid Pre: 0.224 Valid Reca: 0.215 Valid F1: 0.207\n",
      "No Improvement.\n"
     ]
    },
    {
     "name": "stderr",
     "output_type": "stream",
     "text": [
      "100%|█████████▉| 3135/3140 [00:11<00:00, 270.24it/s]\n",
      " 99%|█████████▉| 550/555 [00:20<00:00, 24.89it/s]\n"
     ]
    },
    {
     "name": "stdout",
     "output_type": "stream",
     "text": [
      "Epoch: 213/1000 Train Loss: 0.006 Train Acc: 0.993 Valid Loss: 0.178 Valid Acc: 0.816 Valid Pre: 0.239 Valid Reca: 0.230 Valid F1: 0.217\n",
      "No Improvement.\n"
     ]
    },
    {
     "name": "stderr",
     "output_type": "stream",
     "text": [
      "100%|█████████▉| 3135/3140 [00:11<00:00, 281.84it/s]\n",
      " 99%|█████████▉| 550/555 [00:20<00:00, 24.87it/s]\n"
     ]
    },
    {
     "name": "stdout",
     "output_type": "stream",
     "text": [
      "Epoch: 214/1000 Train Loss: 0.007 Train Acc: 0.993 Valid Loss: 0.182 Valid Acc: 0.812 Valid Pre: 0.226 Valid Reca: 0.211 Valid F1: 0.204\n",
      "No Improvement.\n"
     ]
    },
    {
     "name": "stderr",
     "output_type": "stream",
     "text": [
      "100%|█████████▉| 3135/3140 [00:11<00:00, 285.05it/s]\n",
      " 99%|█████████▉| 550/555 [00:20<00:00, 24.27it/s]\n"
     ]
    },
    {
     "name": "stdout",
     "output_type": "stream",
     "text": [
      "Epoch: 215/1000 Train Loss: 0.005 Train Acc: 0.994 Valid Loss: 0.182 Valid Acc: 0.813 Valid Pre: 0.229 Valid Reca: 0.213 Valid F1: 0.206\n",
      "No Improvement.\n"
     ]
    },
    {
     "name": "stderr",
     "output_type": "stream",
     "text": [
      "100%|█████████▉| 3135/3140 [00:11<00:00, 283.39it/s]\n",
      " 99%|█████████▉| 550/555 [00:20<00:00, 24.47it/s]\n"
     ]
    },
    {
     "name": "stdout",
     "output_type": "stream",
     "text": [
      "Epoch: 216/1000 Train Loss: 0.006 Train Acc: 0.993 Valid Loss: 0.180 Valid Acc: 0.815 Valid Pre: 0.233 Valid Reca: 0.221 Valid F1: 0.209\n",
      "No Improvement.\n"
     ]
    },
    {
     "name": "stderr",
     "output_type": "stream",
     "text": [
      "100%|█████████▉| 3135/3140 [00:11<00:00, 277.42it/s]\n",
      " 99%|█████████▉| 550/555 [00:21<00:00, 24.14it/s]\n"
     ]
    },
    {
     "name": "stdout",
     "output_type": "stream",
     "text": [
      "Epoch: 217/1000 Train Loss: 0.007 Train Acc: 0.992 Valid Loss: 0.178 Valid Acc: 0.817 Valid Pre: 0.224 Valid Reca: 0.231 Valid F1: 0.206\n",
      "No Improvement.\n"
     ]
    },
    {
     "name": "stderr",
     "output_type": "stream",
     "text": [
      "100%|█████████▉| 3135/3140 [00:11<00:00, 281.50it/s]\n",
      " 99%|█████████▉| 550/555 [00:21<00:00, 24.20it/s]\n"
     ]
    },
    {
     "name": "stdout",
     "output_type": "stream",
     "text": [
      "Epoch: 218/1000 Train Loss: 0.007 Train Acc: 0.993 Valid Loss: 0.182 Valid Acc: 0.812 Valid Pre: 0.215 Valid Reca: 0.218 Valid F1: 0.198\n",
      "No Improvement.\n"
     ]
    },
    {
     "name": "stderr",
     "output_type": "stream",
     "text": [
      "100%|█████████▉| 3135/3140 [00:11<00:00, 257.58it/s]\n",
      " 99%|█████████▉| 550/555 [00:21<00:00, 23.69it/s]\n"
     ]
    },
    {
     "name": "stdout",
     "output_type": "stream",
     "text": [
      "Epoch: 219/1000 Train Loss: 0.006 Train Acc: 0.993 Valid Loss: 0.182 Valid Acc: 0.813 Valid Pre: 0.221 Valid Reca: 0.221 Valid F1: 0.202\n",
      "No Improvement.\n"
     ]
    },
    {
     "name": "stderr",
     "output_type": "stream",
     "text": [
      "100%|█████████▉| 3135/3140 [00:11<00:00, 277.09it/s]\n",
      " 99%|█████████▉| 550/555 [00:21<00:00, 23.81it/s]\n"
     ]
    },
    {
     "name": "stdout",
     "output_type": "stream",
     "text": [
      "Epoch: 220/1000 Train Loss: 0.005 Train Acc: 0.995 Valid Loss: 0.181 Valid Acc: 0.815 Valid Pre: 0.219 Valid Reca: 0.224 Valid F1: 0.205\n",
      "No Improvement.\n"
     ]
    },
    {
     "name": "stderr",
     "output_type": "stream",
     "text": [
      "100%|█████████▉| 3135/3140 [00:11<00:00, 280.17it/s]\n",
      " 99%|█████████▉| 550/555 [00:21<00:00, 23.35it/s]\n"
     ]
    },
    {
     "name": "stdout",
     "output_type": "stream",
     "text": [
      "Epoch: 221/1000 Train Loss: 0.006 Train Acc: 0.993 Valid Loss: 0.182 Valid Acc: 0.811 Valid Pre: 0.218 Valid Reca: 0.218 Valid F1: 0.200\n",
      "No Improvement.\n"
     ]
    },
    {
     "name": "stderr",
     "output_type": "stream",
     "text": [
      "100%|█████████▉| 3135/3140 [00:11<00:00, 281.51it/s]\n",
      " 99%|█████████▉| 550/555 [00:21<00:00, 23.34it/s]\n"
     ]
    },
    {
     "name": "stdout",
     "output_type": "stream",
     "text": [
      "Epoch: 222/1000 Train Loss: 0.006 Train Acc: 0.993 Valid Loss: 0.184 Valid Acc: 0.811 Valid Pre: 0.213 Valid Reca: 0.213 Valid F1: 0.192\n",
      "No Improvement.\n"
     ]
    },
    {
     "name": "stderr",
     "output_type": "stream",
     "text": [
      "100%|█████████▉| 3135/3140 [00:11<00:00, 280.01it/s]\n",
      " 99%|█████████▉| 550/555 [00:22<00:00, 23.22it/s]\n"
     ]
    },
    {
     "name": "stdout",
     "output_type": "stream",
     "text": [
      "Epoch: 223/1000 Train Loss: 0.007 Train Acc: 0.993 Valid Loss: 0.185 Valid Acc: 0.808 Valid Pre: 0.208 Valid Reca: 0.210 Valid F1: 0.192\n",
      "No Improvement.\n"
     ]
    },
    {
     "name": "stderr",
     "output_type": "stream",
     "text": [
      "100%|█████████▉| 3135/3140 [00:11<00:00, 276.56it/s]\n",
      " 99%|█████████▉| 550/555 [00:22<00:00, 22.91it/s]\n"
     ]
    },
    {
     "name": "stdout",
     "output_type": "stream",
     "text": [
      "Epoch: 224/1000 Train Loss: 0.006 Train Acc: 0.993 Valid Loss: 0.185 Valid Acc: 0.811 Valid Pre: 0.218 Valid Reca: 0.217 Valid F1: 0.198\n",
      "No Improvement.\n"
     ]
    },
    {
     "name": "stderr",
     "output_type": "stream",
     "text": [
      "100%|█████████▉| 3135/3140 [00:11<00:00, 281.11it/s]\n",
      " 99%|█████████▉| 550/555 [00:22<00:00, 22.86it/s]\n"
     ]
    },
    {
     "name": "stdout",
     "output_type": "stream",
     "text": [
      "Epoch: 225/1000 Train Loss: 0.007 Train Acc: 0.993 Valid Loss: 0.180 Valid Acc: 0.816 Valid Pre: 0.224 Valid Reca: 0.225 Valid F1: 0.205\n",
      "No Improvement.\n"
     ]
    },
    {
     "name": "stderr",
     "output_type": "stream",
     "text": [
      "100%|█████████▉| 3135/3140 [00:11<00:00, 281.96it/s]\n",
      " 99%|█████████▉| 550/555 [00:22<00:00, 22.65it/s]\n"
     ]
    },
    {
     "name": "stdout",
     "output_type": "stream",
     "text": [
      "Epoch: 226/1000 Train Loss: 0.007 Train Acc: 0.993 Valid Loss: 0.182 Valid Acc: 0.813 Valid Pre: 0.213 Valid Reca: 0.207 Valid F1: 0.193\n",
      "No Improvement.\n"
     ]
    },
    {
     "name": "stderr",
     "output_type": "stream",
     "text": [
      "100%|█████████▉| 3135/3140 [00:11<00:00, 276.39it/s]\n",
      " 99%|█████████▉| 550/555 [00:22<00:00, 22.74it/s]\n"
     ]
    },
    {
     "name": "stdout",
     "output_type": "stream",
     "text": [
      "Epoch: 227/1000 Train Loss: 0.007 Train Acc: 0.993 Valid Loss: 0.183 Valid Acc: 0.812 Valid Pre: 0.222 Valid Reca: 0.228 Valid F1: 0.207\n",
      "No Improvement.\n"
     ]
    },
    {
     "name": "stderr",
     "output_type": "stream",
     "text": [
      "100%|█████████▉| 3135/3140 [00:11<00:00, 276.42it/s]\n",
      " 99%|█████████▉| 550/555 [00:22<00:00, 22.71it/s]\n"
     ]
    },
    {
     "name": "stdout",
     "output_type": "stream",
     "text": [
      "Epoch: 228/1000 Train Loss: 0.006 Train Acc: 0.993 Valid Loss: 0.181 Valid Acc: 0.813 Valid Pre: 0.233 Valid Reca: 0.225 Valid F1: 0.209\n",
      "No Improvement.\n"
     ]
    },
    {
     "name": "stderr",
     "output_type": "stream",
     "text": [
      "100%|█████████▉| 3135/3140 [00:11<00:00, 274.96it/s]\n",
      " 99%|█████████▉| 550/555 [00:22<00:00, 22.56it/s]\n"
     ]
    },
    {
     "name": "stdout",
     "output_type": "stream",
     "text": [
      "Epoch: 229/1000 Train Loss: 0.006 Train Acc: 0.993 Valid Loss: 0.186 Valid Acc: 0.805 Valid Pre: 0.237 Valid Reca: 0.231 Valid F1: 0.219\n",
      "No Improvement.\n"
     ]
    },
    {
     "name": "stderr",
     "output_type": "stream",
     "text": [
      "100%|█████████▉| 3135/3140 [00:11<00:00, 278.58it/s]\n",
      " 99%|█████████▉| 550/555 [00:23<00:00, 21.85it/s]\n"
     ]
    },
    {
     "name": "stdout",
     "output_type": "stream",
     "text": [
      "Epoch: 230/1000 Train Loss: 0.006 Train Acc: 0.993 Valid Loss: 0.185 Valid Acc: 0.809 Valid Pre: 0.227 Valid Reca: 0.230 Valid F1: 0.212\n",
      "No Improvement.\n"
     ]
    },
    {
     "name": "stderr",
     "output_type": "stream",
     "text": [
      "100%|█████████▉| 3135/3140 [00:11<00:00, 272.36it/s]\n",
      " 99%|█████████▉| 550/555 [00:23<00:00, 22.03it/s]\n"
     ]
    },
    {
     "name": "stdout",
     "output_type": "stream",
     "text": [
      "Epoch: 231/1000 Train Loss: 0.005 Train Acc: 0.994 Valid Loss: 0.181 Valid Acc: 0.814 Valid Pre: 0.220 Valid Reca: 0.219 Valid F1: 0.202\n",
      "No Improvement.\n"
     ]
    },
    {
     "name": "stderr",
     "output_type": "stream",
     "text": [
      "100%|█████████▉| 3135/3140 [00:12<00:00, 249.50it/s]\n",
      " 99%|█████████▉| 550/555 [00:23<00:00, 21.20it/s]\n"
     ]
    },
    {
     "name": "stdout",
     "output_type": "stream",
     "text": [
      "Epoch: 232/1000 Train Loss: 0.007 Train Acc: 0.992 Valid Loss: 0.184 Valid Acc: 0.811 Valid Pre: 0.218 Valid Reca: 0.225 Valid F1: 0.203\n",
      "No Improvement.\n"
     ]
    },
    {
     "name": "stderr",
     "output_type": "stream",
     "text": [
      "100%|█████████▉| 3135/3140 [00:13<00:00, 204.87it/s]\n",
      " 99%|█████████▉| 550/555 [00:25<00:00, 20.73it/s]\n"
     ]
    },
    {
     "name": "stdout",
     "output_type": "stream",
     "text": [
      "Epoch: 233/1000 Train Loss: 0.006 Train Acc: 0.994 Valid Loss: 0.184 Valid Acc: 0.811 Valid Pre: 0.227 Valid Reca: 0.222 Valid F1: 0.205\n",
      "No Improvement.\n"
     ]
    },
    {
     "name": "stderr",
     "output_type": "stream",
     "text": [
      "100%|█████████▉| 3135/3140 [00:13<00:00, 234.99it/s]\n",
      " 99%|█████████▉| 550/555 [00:25<00:00, 20.32it/s]\n"
     ]
    },
    {
     "name": "stdout",
     "output_type": "stream",
     "text": [
      "Epoch: 234/1000 Train Loss: 0.006 Train Acc: 0.993 Valid Loss: 0.185 Valid Acc: 0.809 Valid Pre: 0.219 Valid Reca: 0.214 Valid F1: 0.201\n",
      "No Improvement.\n"
     ]
    },
    {
     "name": "stderr",
     "output_type": "stream",
     "text": [
      "100%|█████████▉| 3135/3140 [00:12<00:00, 257.52it/s]\n",
      " 99%|█████████▉| 550/555 [00:24<00:00, 20.72it/s]\n"
     ]
    },
    {
     "name": "stdout",
     "output_type": "stream",
     "text": [
      "Epoch: 235/1000 Train Loss: 0.008 Train Acc: 0.991 Valid Loss: 0.185 Valid Acc: 0.809 Valid Pre: 0.201 Valid Reca: 0.200 Valid F1: 0.186\n",
      "No Improvement.\n"
     ]
    },
    {
     "name": "stderr",
     "output_type": "stream",
     "text": [
      "100%|█████████▉| 3135/3140 [00:12<00:00, 251.27it/s]\n",
      " 99%|█████████▉| 550/555 [00:24<00:00, 20.83it/s]\n"
     ]
    },
    {
     "name": "stdout",
     "output_type": "stream",
     "text": [
      "Epoch: 236/1000 Train Loss: 0.007 Train Acc: 0.993 Valid Loss: 0.184 Valid Acc: 0.811 Valid Pre: 0.224 Valid Reca: 0.230 Valid F1: 0.211\n",
      "No Improvement.\n"
     ]
    },
    {
     "name": "stderr",
     "output_type": "stream",
     "text": [
      "100%|█████████▉| 3135/3140 [00:12<00:00, 264.31it/s]\n",
      " 99%|█████████▉| 550/555 [00:24<00:00, 20.55it/s]\n"
     ]
    },
    {
     "name": "stdout",
     "output_type": "stream",
     "text": [
      "Epoch: 237/1000 Train Loss: 0.006 Train Acc: 0.993 Valid Loss: 0.183 Valid Acc: 0.812 Valid Pre: 0.218 Valid Reca: 0.220 Valid F1: 0.202\n",
      "No Improvement.\n"
     ]
    },
    {
     "name": "stderr",
     "output_type": "stream",
     "text": [
      "100%|█████████▉| 3135/3140 [00:11<00:00, 268.98it/s]\n",
      " 99%|█████████▉| 550/555 [00:24<00:00, 20.37it/s]\n"
     ]
    },
    {
     "name": "stdout",
     "output_type": "stream",
     "text": [
      "Epoch: 238/1000 Train Loss: 0.008 Train Acc: 0.991 Valid Loss: 0.185 Valid Acc: 0.808 Valid Pre: 0.232 Valid Reca: 0.224 Valid F1: 0.206\n",
      "No Improvement.\n"
     ]
    },
    {
     "name": "stderr",
     "output_type": "stream",
     "text": [
      "100%|█████████▉| 3135/3140 [00:11<00:00, 246.35it/s]\n",
      " 99%|█████████▉| 550/555 [00:25<00:00, 20.30it/s]\n"
     ]
    },
    {
     "name": "stdout",
     "output_type": "stream",
     "text": [
      "Epoch: 239/1000 Train Loss: 0.006 Train Acc: 0.993 Valid Loss: 0.187 Valid Acc: 0.807 Valid Pre: 0.215 Valid Reca: 0.227 Valid F1: 0.205\n",
      "No Improvement.\n"
     ]
    },
    {
     "name": "stderr",
     "output_type": "stream",
     "text": [
      "100%|█████████▉| 3135/3140 [00:12<00:00, 254.75it/s]\n",
      " 99%|█████████▉| 550/555 [00:25<00:00, 20.23it/s]\n"
     ]
    },
    {
     "name": "stdout",
     "output_type": "stream",
     "text": [
      "Epoch: 240/1000 Train Loss: 0.007 Train Acc: 0.992 Valid Loss: 0.186 Valid Acc: 0.809 Valid Pre: 0.220 Valid Reca: 0.221 Valid F1: 0.201\n",
      "No Improvement.\n"
     ]
    },
    {
     "name": "stderr",
     "output_type": "stream",
     "text": [
      "100%|█████████▉| 3135/3140 [00:12<00:00, 257.91it/s]\n",
      " 99%|█████████▉| 550/555 [00:25<00:00, 19.94it/s]\n"
     ]
    },
    {
     "name": "stdout",
     "output_type": "stream",
     "text": [
      "Epoch: 241/1000 Train Loss: 0.008 Train Acc: 0.992 Valid Loss: 0.182 Valid Acc: 0.812 Valid Pre: 0.212 Valid Reca: 0.214 Valid F1: 0.199\n",
      "No Improvement.\n"
     ]
    },
    {
     "name": "stderr",
     "output_type": "stream",
     "text": [
      "100%|█████████▉| 3135/3140 [00:12<00:00, 242.32it/s]\n",
      " 99%|█████████▉| 550/555 [00:25<00:00, 19.54it/s]\n"
     ]
    },
    {
     "name": "stdout",
     "output_type": "stream",
     "text": [
      "Epoch: 242/1000 Train Loss: 0.007 Train Acc: 0.992 Valid Loss: 0.188 Valid Acc: 0.807 Valid Pre: 0.214 Valid Reca: 0.216 Valid F1: 0.201\n",
      "No Improvement.\n"
     ]
    },
    {
     "name": "stderr",
     "output_type": "stream",
     "text": [
      "100%|█████████▉| 3135/3140 [00:12<00:00, 267.20it/s]\n",
      " 99%|█████████▉| 550/555 [00:25<00:00, 19.98it/s]\n"
     ]
    },
    {
     "name": "stdout",
     "output_type": "stream",
     "text": [
      "Epoch: 243/1000 Train Loss: 0.008 Train Acc: 0.992 Valid Loss: 0.184 Valid Acc: 0.811 Valid Pre: 0.223 Valid Reca: 0.223 Valid F1: 0.210\n",
      "No Improvement.\n"
     ]
    },
    {
     "name": "stderr",
     "output_type": "stream",
     "text": [
      "100%|█████████▉| 3135/3140 [00:12<00:00, 255.31it/s]\n",
      " 99%|█████████▉| 550/555 [00:25<00:00, 20.00it/s]\n"
     ]
    },
    {
     "name": "stdout",
     "output_type": "stream",
     "text": [
      "Epoch: 244/1000 Train Loss: 0.007 Train Acc: 0.993 Valid Loss: 0.184 Valid Acc: 0.810 Valid Pre: 0.235 Valid Reca: 0.234 Valid F1: 0.219\n",
      "No Improvement.\n"
     ]
    },
    {
     "name": "stderr",
     "output_type": "stream",
     "text": [
      "100%|█████████▉| 3135/3140 [00:12<00:00, 252.76it/s]\n",
      " 99%|█████████▉| 550/555 [00:26<00:00, 19.39it/s]\n"
     ]
    },
    {
     "name": "stdout",
     "output_type": "stream",
     "text": [
      "Epoch: 245/1000 Train Loss: 0.007 Train Acc: 0.992 Valid Loss: 0.181 Valid Acc: 0.814 Valid Pre: 0.221 Valid Reca: 0.230 Valid F1: 0.210\n",
      "No Improvement.\n"
     ]
    },
    {
     "name": "stderr",
     "output_type": "stream",
     "text": [
      "100%|█████████▉| 3135/3140 [00:12<00:00, 250.26it/s]\n",
      " 99%|█████████▉| 550/555 [00:26<00:00, 19.36it/s]\n"
     ]
    },
    {
     "name": "stdout",
     "output_type": "stream",
     "text": [
      "Epoch: 246/1000 Train Loss: 0.007 Train Acc: 0.992 Valid Loss: 0.184 Valid Acc: 0.809 Valid Pre: 0.225 Valid Reca: 0.217 Valid F1: 0.204\n",
      "No Improvement.\n"
     ]
    },
    {
     "name": "stderr",
     "output_type": "stream",
     "text": [
      "100%|█████████▉| 3135/3140 [00:12<00:00, 248.09it/s]\n",
      " 99%|█████████▉| 550/555 [00:26<00:00, 19.20it/s]\n"
     ]
    },
    {
     "name": "stdout",
     "output_type": "stream",
     "text": [
      "Epoch: 247/1000 Train Loss: 0.010 Train Acc: 0.989 Valid Loss: 0.182 Valid Acc: 0.811 Valid Pre: 0.217 Valid Reca: 0.230 Valid F1: 0.207\n",
      "No Improvement.\n"
     ]
    },
    {
     "name": "stderr",
     "output_type": "stream",
     "text": [
      "100%|█████████▉| 3135/3140 [00:12<00:00, 251.65it/s]\n",
      " 99%|█████████▉| 550/555 [00:26<00:00, 19.17it/s]\n"
     ]
    },
    {
     "name": "stdout",
     "output_type": "stream",
     "text": [
      "Epoch: 248/1000 Train Loss: 0.008 Train Acc: 0.991 Valid Loss: 0.179 Valid Acc: 0.814 Valid Pre: 0.239 Valid Reca: 0.244 Valid F1: 0.221\n",
      "No Improvement.\n"
     ]
    },
    {
     "name": "stderr",
     "output_type": "stream",
     "text": [
      "100%|█████████▉| 3135/3140 [00:13<00:00, 241.91it/s]\n",
      " 99%|█████████▉| 550/555 [00:26<00:00, 19.08it/s]\n"
     ]
    },
    {
     "name": "stdout",
     "output_type": "stream",
     "text": [
      "Epoch: 249/1000 Train Loss: 0.009 Train Acc: 0.990 Valid Loss: 0.182 Valid Acc: 0.812 Valid Pre: 0.235 Valid Reca: 0.228 Valid F1: 0.210\n",
      "No Improvement.\n"
     ]
    },
    {
     "name": "stderr",
     "output_type": "stream",
     "text": [
      "100%|█████████▉| 3135/3140 [00:12<00:00, 244.59it/s]\n",
      " 99%|█████████▉| 550/555 [00:27<00:00, 18.94it/s]\n"
     ]
    },
    {
     "name": "stdout",
     "output_type": "stream",
     "text": [
      "Epoch: 250/1000 Train Loss: 0.009 Train Acc: 0.990 Valid Loss: 0.183 Valid Acc: 0.812 Valid Pre: 0.220 Valid Reca: 0.226 Valid F1: 0.210\n",
      "No Improvement.\n"
     ]
    },
    {
     "name": "stderr",
     "output_type": "stream",
     "text": [
      "100%|█████████▉| 3135/3140 [00:13<00:00, 243.76it/s]\n",
      " 99%|█████████▉| 550/555 [00:27<00:00, 18.79it/s]\n"
     ]
    },
    {
     "name": "stdout",
     "output_type": "stream",
     "text": [
      "Epoch: 251/1000 Train Loss: 0.009 Train Acc: 0.990 Valid Loss: 0.185 Valid Acc: 0.810 Valid Pre: 0.220 Valid Reca: 0.223 Valid F1: 0.203\n",
      "No Improvement.\n"
     ]
    },
    {
     "name": "stderr",
     "output_type": "stream",
     "text": [
      "100%|█████████▉| 3135/3140 [00:13<00:00, 227.76it/s]\n",
      " 99%|█████████▉| 550/555 [00:27<00:00, 18.78it/s]\n"
     ]
    },
    {
     "name": "stdout",
     "output_type": "stream",
     "text": [
      "Epoch: 252/1000 Train Loss: 0.009 Train Acc: 0.991 Valid Loss: 0.185 Valid Acc: 0.810 Valid Pre: 0.234 Valid Reca: 0.235 Valid F1: 0.219\n",
      "No Improvement.\n"
     ]
    },
    {
     "name": "stderr",
     "output_type": "stream",
     "text": [
      "100%|█████████▉| 3135/3140 [00:12<00:00, 253.36it/s]\n",
      " 99%|█████████▉| 550/555 [00:27<00:00, 18.59it/s]\n"
     ]
    },
    {
     "name": "stdout",
     "output_type": "stream",
     "text": [
      "Epoch: 253/1000 Train Loss: 0.007 Train Acc: 0.991 Valid Loss: 0.184 Valid Acc: 0.811 Valid Pre: 0.233 Valid Reca: 0.234 Valid F1: 0.220\n",
      "No Improvement.\n"
     ]
    },
    {
     "name": "stderr",
     "output_type": "stream",
     "text": [
      "100%|█████████▉| 3135/3140 [00:12<00:00, 248.40it/s]\n",
      " 99%|█████████▉| 550/555 [00:27<00:00, 18.33it/s]\n"
     ]
    },
    {
     "name": "stdout",
     "output_type": "stream",
     "text": [
      "Epoch: 254/1000 Train Loss: 0.008 Train Acc: 0.992 Valid Loss: 0.184 Valid Acc: 0.812 Valid Pre: 0.223 Valid Reca: 0.220 Valid F1: 0.208\n",
      "No Improvement.\n"
     ]
    },
    {
     "name": "stderr",
     "output_type": "stream",
     "text": [
      "100%|█████████▉| 3135/3140 [00:13<00:00, 252.33it/s]\n",
      " 99%|█████████▉| 550/555 [00:28<00:00, 18.13it/s]\n"
     ]
    },
    {
     "name": "stdout",
     "output_type": "stream",
     "text": [
      "Epoch: 255/1000 Train Loss: 0.007 Train Acc: 0.992 Valid Loss: 0.187 Valid Acc: 0.806 Valid Pre: 0.223 Valid Reca: 0.230 Valid F1: 0.210\n",
      "No Improvement.\n"
     ]
    },
    {
     "name": "stderr",
     "output_type": "stream",
     "text": [
      "100%|█████████▉| 3135/3140 [00:13<00:00, 239.00it/s]\n",
      " 99%|█████████▉| 550/555 [00:28<00:00, 18.12it/s]\n"
     ]
    },
    {
     "name": "stdout",
     "output_type": "stream",
     "text": [
      "Epoch: 256/1000 Train Loss: 0.007 Train Acc: 0.992 Valid Loss: 0.183 Valid Acc: 0.812 Valid Pre: 0.244 Valid Reca: 0.235 Valid F1: 0.220\n",
      "No Improvement.\n"
     ]
    },
    {
     "name": "stderr",
     "output_type": "stream",
     "text": [
      "100%|█████████▉| 3135/3140 [00:12<00:00, 242.77it/s]\n",
      " 99%|█████████▉| 550/555 [00:28<00:00, 18.00it/s]\n"
     ]
    },
    {
     "name": "stdout",
     "output_type": "stream",
     "text": [
      "Epoch: 257/1000 Train Loss: 0.009 Train Acc: 0.990 Valid Loss: 0.182 Valid Acc: 0.813 Valid Pre: 0.237 Valid Reca: 0.237 Valid F1: 0.215\n",
      "No Improvement.\n"
     ]
    },
    {
     "name": "stderr",
     "output_type": "stream",
     "text": [
      "100%|█████████▉| 3135/3140 [00:12<00:00, 248.88it/s]\n",
      " 99%|█████████▉| 550/555 [00:28<00:00, 18.10it/s]\n"
     ]
    },
    {
     "name": "stdout",
     "output_type": "stream",
     "text": [
      "Epoch: 258/1000 Train Loss: 0.008 Train Acc: 0.991 Valid Loss: 0.187 Valid Acc: 0.808 Valid Pre: 0.243 Valid Reca: 0.237 Valid F1: 0.223\n",
      "No Improvement.\n"
     ]
    },
    {
     "name": "stderr",
     "output_type": "stream",
     "text": [
      "100%|█████████▉| 3135/3140 [00:12<00:00, 254.15it/s]\n",
      " 99%|█████████▉| 550/555 [00:28<00:00, 17.72it/s]\n"
     ]
    },
    {
     "name": "stdout",
     "output_type": "stream",
     "text": [
      "Epoch: 259/1000 Train Loss: 0.010 Train Acc: 0.990 Valid Loss: 0.188 Valid Acc: 0.808 Valid Pre: 0.224 Valid Reca: 0.230 Valid F1: 0.215\n",
      "No Improvement.\n"
     ]
    },
    {
     "name": "stderr",
     "output_type": "stream",
     "text": [
      "100%|█████████▉| 3135/3140 [00:12<00:00, 227.80it/s]\n",
      " 99%|█████████▉| 550/555 [00:28<00:00, 17.65it/s]\n"
     ]
    },
    {
     "name": "stdout",
     "output_type": "stream",
     "text": [
      "Epoch: 260/1000 Train Loss: 0.009 Train Acc: 0.990 Valid Loss: 0.188 Valid Acc: 0.806 Valid Pre: 0.216 Valid Reca: 0.212 Valid F1: 0.200\n",
      "No Improvement.\n"
     ]
    },
    {
     "name": "stderr",
     "output_type": "stream",
     "text": [
      "100%|█████████▉| 3135/3140 [00:12<00:00, 246.40it/s]\n",
      " 99%|█████████▉| 550/555 [00:29<00:00, 17.54it/s]\n"
     ]
    },
    {
     "name": "stdout",
     "output_type": "stream",
     "text": [
      "Epoch: 261/1000 Train Loss: 0.008 Train Acc: 0.991 Valid Loss: 0.188 Valid Acc: 0.808 Valid Pre: 0.224 Valid Reca: 0.221 Valid F1: 0.209\n",
      "No Improvement.\n"
     ]
    },
    {
     "name": "stderr",
     "output_type": "stream",
     "text": [
      "100%|█████████▉| 3135/3140 [00:12<00:00, 245.54it/s]\n",
      " 99%|█████████▉| 550/555 [00:29<00:00, 17.51it/s]\n"
     ]
    },
    {
     "name": "stdout",
     "output_type": "stream",
     "text": [
      "Epoch: 262/1000 Train Loss: 0.010 Train Acc: 0.989 Valid Loss: 0.185 Valid Acc: 0.808 Valid Pre: 0.216 Valid Reca: 0.227 Valid F1: 0.204\n",
      "No Improvement.\n"
     ]
    },
    {
     "name": "stderr",
     "output_type": "stream",
     "text": [
      "100%|█████████▉| 3135/3140 [00:12<00:00, 243.02it/s]\n",
      " 99%|█████████▉| 550/555 [00:29<00:00, 17.17it/s]\n"
     ]
    },
    {
     "name": "stdout",
     "output_type": "stream",
     "text": [
      "Epoch: 263/1000 Train Loss: 0.008 Train Acc: 0.992 Valid Loss: 0.188 Valid Acc: 0.808 Valid Pre: 0.218 Valid Reca: 0.209 Valid F1: 0.200\n",
      "No Improvement.\n"
     ]
    },
    {
     "name": "stderr",
     "output_type": "stream",
     "text": [
      "100%|█████████▉| 3135/3140 [00:12<00:00, 255.71it/s]\n",
      " 99%|█████████▉| 550/555 [00:29<00:00, 17.24it/s]\n"
     ]
    },
    {
     "name": "stdout",
     "output_type": "stream",
     "text": [
      "Epoch: 264/1000 Train Loss: 0.009 Train Acc: 0.990 Valid Loss: 0.186 Valid Acc: 0.808 Valid Pre: 0.223 Valid Reca: 0.218 Valid F1: 0.206\n",
      "No Improvement.\n"
     ]
    },
    {
     "name": "stderr",
     "output_type": "stream",
     "text": [
      "100%|█████████▉| 3135/3140 [00:12<00:00, 254.02it/s]\n",
      " 99%|█████████▉| 550/555 [00:29<00:00, 17.28it/s]\n"
     ]
    },
    {
     "name": "stdout",
     "output_type": "stream",
     "text": [
      "Epoch: 265/1000 Train Loss: 0.009 Train Acc: 0.990 Valid Loss: 0.188 Valid Acc: 0.806 Valid Pre: 0.225 Valid Reca: 0.217 Valid F1: 0.203\n",
      "No Improvement.\n"
     ]
    },
    {
     "name": "stderr",
     "output_type": "stream",
     "text": [
      "100%|█████████▉| 3135/3140 [00:13<00:00, 246.82it/s]\n",
      " 99%|█████████▉| 550/555 [00:30<00:00, 16.80it/s]\n"
     ]
    },
    {
     "name": "stdout",
     "output_type": "stream",
     "text": [
      "Epoch: 266/1000 Train Loss: 0.009 Train Acc: 0.990 Valid Loss: 0.187 Valid Acc: 0.806 Valid Pre: 0.216 Valid Reca: 0.217 Valid F1: 0.197\n",
      "No Improvement.\n"
     ]
    },
    {
     "name": "stderr",
     "output_type": "stream",
     "text": [
      "100%|█████████▉| 3135/3140 [00:13<00:00, 220.64it/s]\n",
      " 99%|█████████▉| 550/555 [00:30<00:00, 16.81it/s]\n"
     ]
    },
    {
     "name": "stdout",
     "output_type": "stream",
     "text": [
      "Epoch: 267/1000 Train Loss: 0.009 Train Acc: 0.991 Valid Loss: 0.189 Valid Acc: 0.805 Valid Pre: 0.218 Valid Reca: 0.223 Valid F1: 0.202\n",
      "No Improvement.\n"
     ]
    },
    {
     "name": "stderr",
     "output_type": "stream",
     "text": [
      "100%|█████████▉| 3135/3140 [00:13<00:00, 232.24it/s]\n",
      " 99%|█████████▉| 550/555 [00:30<00:00, 16.98it/s]\n"
     ]
    },
    {
     "name": "stdout",
     "output_type": "stream",
     "text": [
      "Epoch: 268/1000 Train Loss: 0.007 Train Acc: 0.992 Valid Loss: 0.188 Valid Acc: 0.807 Valid Pre: 0.215 Valid Reca: 0.230 Valid F1: 0.202\n",
      "No Improvement.\n"
     ]
    },
    {
     "name": "stderr",
     "output_type": "stream",
     "text": [
      "100%|█████████▉| 3135/3140 [00:12<00:00, 241.67it/s]\n",
      " 99%|█████████▉| 550/555 [00:30<00:00, 16.52it/s]\n"
     ]
    },
    {
     "name": "stdout",
     "output_type": "stream",
     "text": [
      "Epoch: 269/1000 Train Loss: 0.008 Train Acc: 0.991 Valid Loss: 0.191 Valid Acc: 0.803 Valid Pre: 0.217 Valid Reca: 0.223 Valid F1: 0.197\n",
      "No Improvement.\n"
     ]
    },
    {
     "name": "stderr",
     "output_type": "stream",
     "text": [
      "100%|█████████▉| 3135/3140 [00:12<00:00, 257.59it/s]\n",
      " 99%|█████████▉| 550/555 [00:30<00:00, 16.59it/s]\n"
     ]
    },
    {
     "name": "stdout",
     "output_type": "stream",
     "text": [
      "Epoch: 270/1000 Train Loss: 0.008 Train Acc: 0.991 Valid Loss: 0.190 Valid Acc: 0.805 Valid Pre: 0.213 Valid Reca: 0.217 Valid F1: 0.196\n",
      "No Improvement.\n"
     ]
    },
    {
     "name": "stderr",
     "output_type": "stream",
     "text": [
      "100%|█████████▉| 3135/3140 [00:12<00:00, 248.90it/s]\n",
      " 99%|█████████▉| 550/555 [00:30<00:00, 16.62it/s]\n"
     ]
    },
    {
     "name": "stdout",
     "output_type": "stream",
     "text": [
      "Epoch: 271/1000 Train Loss: 0.009 Train Acc: 0.990 Valid Loss: 0.188 Valid Acc: 0.807 Valid Pre: 0.207 Valid Reca: 0.202 Valid F1: 0.186\n",
      "No Improvement.\n"
     ]
    },
    {
     "name": "stderr",
     "output_type": "stream",
     "text": [
      "100%|█████████▉| 3135/3140 [00:12<00:00, 249.01it/s]\n",
      " 99%|█████████▉| 550/555 [00:31<00:00, 16.58it/s]\n"
     ]
    },
    {
     "name": "stdout",
     "output_type": "stream",
     "text": [
      "Epoch: 272/1000 Train Loss: 0.009 Train Acc: 0.990 Valid Loss: 0.192 Valid Acc: 0.800 Valid Pre: 0.206 Valid Reca: 0.207 Valid F1: 0.192\n",
      "No Improvement.\n"
     ]
    },
    {
     "name": "stderr",
     "output_type": "stream",
     "text": [
      "100%|█████████▉| 3135/3140 [00:12<00:00, 257.76it/s]\n",
      " 99%|█████████▉| 550/555 [00:31<00:00, 16.33it/s]\n"
     ]
    },
    {
     "name": "stdout",
     "output_type": "stream",
     "text": [
      "Epoch: 273/1000 Train Loss: 0.008 Train Acc: 0.992 Valid Loss: 0.185 Valid Acc: 0.809 Valid Pre: 0.205 Valid Reca: 0.207 Valid F1: 0.191\n",
      "No Improvement.\n"
     ]
    },
    {
     "name": "stderr",
     "output_type": "stream",
     "text": [
      "100%|█████████▉| 3135/3140 [00:12<00:00, 251.64it/s]\n",
      " 99%|█████████▉| 550/555 [00:31<00:00, 16.24it/s]\n"
     ]
    },
    {
     "name": "stdout",
     "output_type": "stream",
     "text": [
      "Epoch: 274/1000 Train Loss: 0.008 Train Acc: 0.991 Valid Loss: 0.190 Valid Acc: 0.803 Valid Pre: 0.209 Valid Reca: 0.214 Valid F1: 0.197\n",
      "No Improvement.\n"
     ]
    },
    {
     "name": "stderr",
     "output_type": "stream",
     "text": [
      "100%|█████████▉| 3135/3140 [00:12<00:00, 249.77it/s]\n",
      " 99%|█████████▉| 550/555 [00:31<00:00, 16.19it/s]\n"
     ]
    },
    {
     "name": "stdout",
     "output_type": "stream",
     "text": [
      "Epoch: 275/1000 Train Loss: 0.008 Train Acc: 0.991 Valid Loss: 0.193 Valid Acc: 0.801 Valid Pre: 0.214 Valid Reca: 0.214 Valid F1: 0.198\n",
      "No Improvement.\n"
     ]
    },
    {
     "name": "stderr",
     "output_type": "stream",
     "text": [
      "100%|█████████▉| 3135/3140 [00:13<00:00, 247.11it/s]\n",
      " 99%|█████████▉| 550/555 [00:31<00:00, 16.01it/s]\n"
     ]
    },
    {
     "name": "stdout",
     "output_type": "stream",
     "text": [
      "Epoch: 276/1000 Train Loss: 0.007 Train Acc: 0.992 Valid Loss: 0.189 Valid Acc: 0.805 Valid Pre: 0.210 Valid Reca: 0.210 Valid F1: 0.194\n",
      "No Improvement.\n"
     ]
    },
    {
     "name": "stderr",
     "output_type": "stream",
     "text": [
      "100%|█████████▉| 3135/3140 [00:12<00:00, 252.41it/s]\n",
      " 99%|█████████▉| 550/555 [00:31<00:00, 16.04it/s]\n"
     ]
    },
    {
     "name": "stdout",
     "output_type": "stream",
     "text": [
      "Epoch: 277/1000 Train Loss: 0.008 Train Acc: 0.991 Valid Loss: 0.189 Valid Acc: 0.804 Valid Pre: 0.213 Valid Reca: 0.209 Valid F1: 0.195\n",
      "No Improvement.\n"
     ]
    },
    {
     "name": "stderr",
     "output_type": "stream",
     "text": [
      "100%|█████████▉| 3135/3140 [00:12<00:00, 252.53it/s]\n",
      " 99%|█████████▉| 550/555 [00:32<00:00, 15.90it/s]\n"
     ]
    },
    {
     "name": "stdout",
     "output_type": "stream",
     "text": [
      "Epoch: 278/1000 Train Loss: 0.009 Train Acc: 0.991 Valid Loss: 0.189 Valid Acc: 0.805 Valid Pre: 0.220 Valid Reca: 0.215 Valid F1: 0.201\n",
      "No Improvement.\n"
     ]
    },
    {
     "name": "stderr",
     "output_type": "stream",
     "text": [
      "100%|█████████▉| 3135/3140 [00:12<00:00, 247.46it/s]\n",
      " 99%|█████████▉| 550/555 [00:32<00:00, 15.72it/s]\n"
     ]
    },
    {
     "name": "stdout",
     "output_type": "stream",
     "text": [
      "Epoch: 279/1000 Train Loss: 0.008 Train Acc: 0.991 Valid Loss: 0.190 Valid Acc: 0.804 Valid Pre: 0.227 Valid Reca: 0.220 Valid F1: 0.205\n",
      "No Improvement.\n"
     ]
    },
    {
     "name": "stderr",
     "output_type": "stream",
     "text": [
      "100%|█████████▉| 3135/3140 [00:12<00:00, 249.67it/s]\n",
      " 99%|█████████▉| 550/555 [00:32<00:00, 15.71it/s]\n"
     ]
    },
    {
     "name": "stdout",
     "output_type": "stream",
     "text": [
      "Epoch: 280/1000 Train Loss: 0.008 Train Acc: 0.991 Valid Loss: 0.190 Valid Acc: 0.804 Valid Pre: 0.234 Valid Reca: 0.229 Valid F1: 0.217\n",
      "No Improvement.\n"
     ]
    },
    {
     "name": "stderr",
     "output_type": "stream",
     "text": [
      "100%|█████████▉| 3135/3140 [00:12<00:00, 252.30it/s]\n",
      " 99%|█████████▉| 550/555 [00:32<00:00, 15.56it/s]\n"
     ]
    },
    {
     "name": "stdout",
     "output_type": "stream",
     "text": [
      "Epoch: 281/1000 Train Loss: 0.009 Train Acc: 0.991 Valid Loss: 0.187 Valid Acc: 0.808 Valid Pre: 0.230 Valid Reca: 0.235 Valid F1: 0.218\n",
      "No Improvement.\n"
     ]
    },
    {
     "name": "stderr",
     "output_type": "stream",
     "text": [
      "100%|█████████▉| 3135/3140 [00:12<00:00, 255.60it/s]\n",
      " 99%|█████████▉| 550/555 [00:32<00:00, 15.53it/s]\n"
     ]
    },
    {
     "name": "stdout",
     "output_type": "stream",
     "text": [
      "Epoch: 282/1000 Train Loss: 0.007 Train Acc: 0.992 Valid Loss: 0.190 Valid Acc: 0.804 Valid Pre: 0.216 Valid Reca: 0.221 Valid F1: 0.203\n",
      "No Improvement.\n"
     ]
    },
    {
     "name": "stderr",
     "output_type": "stream",
     "text": [
      "100%|█████████▉| 3135/3140 [00:12<00:00, 252.61it/s]\n",
      " 99%|█████████▉| 550/555 [00:33<00:00, 15.35it/s]\n"
     ]
    },
    {
     "name": "stdout",
     "output_type": "stream",
     "text": [
      "Epoch: 283/1000 Train Loss: 0.008 Train Acc: 0.991 Valid Loss: 0.188 Valid Acc: 0.808 Valid Pre: 0.221 Valid Reca: 0.227 Valid F1: 0.205\n",
      "No Improvement.\n"
     ]
    },
    {
     "name": "stderr",
     "output_type": "stream",
     "text": [
      "100%|█████████▉| 3135/3140 [00:12<00:00, 248.38it/s]\n",
      " 99%|█████████▉| 550/555 [00:33<00:00, 15.34it/s]\n"
     ]
    },
    {
     "name": "stdout",
     "output_type": "stream",
     "text": [
      "Epoch: 284/1000 Train Loss: 0.008 Train Acc: 0.992 Valid Loss: 0.186 Valid Acc: 0.810 Valid Pre: 0.214 Valid Reca: 0.211 Valid F1: 0.198\n",
      "No Improvement.\n"
     ]
    },
    {
     "name": "stderr",
     "output_type": "stream",
     "text": [
      "100%|█████████▉| 3135/3140 [00:12<00:00, 249.72it/s]\n",
      " 99%|█████████▉| 550/555 [00:33<00:00, 15.16it/s]\n"
     ]
    },
    {
     "name": "stdout",
     "output_type": "stream",
     "text": [
      "Epoch: 285/1000 Train Loss: 0.008 Train Acc: 0.991 Valid Loss: 0.189 Valid Acc: 0.806 Valid Pre: 0.212 Valid Reca: 0.211 Valid F1: 0.199\n",
      "No Improvement.\n"
     ]
    },
    {
     "name": "stderr",
     "output_type": "stream",
     "text": [
      "100%|█████████▉| 3135/3140 [00:12<00:00, 243.90it/s]\n",
      " 99%|█████████▉| 550/555 [00:33<00:00, 15.06it/s]\n"
     ]
    },
    {
     "name": "stdout",
     "output_type": "stream",
     "text": [
      "Epoch: 286/1000 Train Loss: 0.009 Train Acc: 0.990 Valid Loss: 0.189 Valid Acc: 0.807 Valid Pre: 0.220 Valid Reca: 0.217 Valid F1: 0.201\n",
      "No Improvement.\n"
     ]
    },
    {
     "name": "stderr",
     "output_type": "stream",
     "text": [
      "100%|█████████▉| 3135/3140 [00:12<00:00, 246.14it/s]\n",
      " 99%|█████████▉| 550/555 [00:34<00:00, 15.01it/s]\n"
     ]
    },
    {
     "name": "stdout",
     "output_type": "stream",
     "text": [
      "Epoch: 287/1000 Train Loss: 0.009 Train Acc: 0.990 Valid Loss: 0.189 Valid Acc: 0.806 Valid Pre: 0.230 Valid Reca: 0.221 Valid F1: 0.210\n",
      "No Improvement.\n"
     ]
    },
    {
     "name": "stderr",
     "output_type": "stream",
     "text": [
      "100%|█████████▉| 3135/3140 [00:12<00:00, 248.80it/s]\n",
      " 99%|█████████▉| 550/555 [00:34<00:00, 14.95it/s]\n"
     ]
    },
    {
     "name": "stdout",
     "output_type": "stream",
     "text": [
      "Epoch: 288/1000 Train Loss: 0.009 Train Acc: 0.990 Valid Loss: 0.192 Valid Acc: 0.803 Valid Pre: 0.234 Valid Reca: 0.221 Valid F1: 0.211\n",
      "No Improvement.\n"
     ]
    },
    {
     "name": "stderr",
     "output_type": "stream",
     "text": [
      "100%|█████████▉| 3135/3140 [00:12<00:00, 244.68it/s]\n",
      " 99%|█████████▉| 550/555 [00:34<00:00, 14.99it/s]\n"
     ]
    },
    {
     "name": "stdout",
     "output_type": "stream",
     "text": [
      "Epoch: 289/1000 Train Loss: 0.008 Train Acc: 0.991 Valid Loss: 0.189 Valid Acc: 0.806 Valid Pre: 0.230 Valid Reca: 0.223 Valid F1: 0.204\n",
      "No Improvement.\n"
     ]
    },
    {
     "name": "stderr",
     "output_type": "stream",
     "text": [
      "100%|█████████▉| 3135/3140 [00:12<00:00, 246.50it/s]\n",
      " 99%|█████████▉| 550/555 [00:34<00:00, 14.79it/s]\n"
     ]
    },
    {
     "name": "stdout",
     "output_type": "stream",
     "text": [
      "Epoch: 290/1000 Train Loss: 0.009 Train Acc: 0.990 Valid Loss: 0.187 Valid Acc: 0.808 Valid Pre: 0.236 Valid Reca: 0.233 Valid F1: 0.213\n",
      "No Improvement.\n"
     ]
    },
    {
     "name": "stderr",
     "output_type": "stream",
     "text": [
      "100%|█████████▉| 3135/3140 [00:12<00:00, 240.33it/s]\n",
      " 99%|█████████▉| 550/555 [00:34<00:00, 14.67it/s]\n"
     ]
    },
    {
     "name": "stdout",
     "output_type": "stream",
     "text": [
      "Epoch: 291/1000 Train Loss: 0.010 Train Acc: 0.990 Valid Loss: 0.189 Valid Acc: 0.807 Valid Pre: 0.218 Valid Reca: 0.219 Valid F1: 0.201\n",
      "No Improvement.\n"
     ]
    },
    {
     "name": "stderr",
     "output_type": "stream",
     "text": [
      "100%|█████████▉| 3135/3140 [00:12<00:00, 245.76it/s]\n",
      " 99%|█████████▉| 550/555 [00:35<00:00, 14.49it/s]\n"
     ]
    },
    {
     "name": "stdout",
     "output_type": "stream",
     "text": [
      "Epoch: 292/1000 Train Loss: 0.010 Train Acc: 0.989 Valid Loss: 0.192 Valid Acc: 0.804 Valid Pre: 0.219 Valid Reca: 0.218 Valid F1: 0.205\n",
      "No Improvement.\n"
     ]
    },
    {
     "name": "stderr",
     "output_type": "stream",
     "text": [
      "100%|█████████▉| 3135/3140 [00:12<00:00, 248.62it/s]\n",
      " 99%|█████████▉| 550/555 [00:34<00:00, 14.62it/s]\n"
     ]
    },
    {
     "name": "stdout",
     "output_type": "stream",
     "text": [
      "Epoch: 293/1000 Train Loss: 0.008 Train Acc: 0.991 Valid Loss: 0.193 Valid Acc: 0.804 Valid Pre: 0.219 Valid Reca: 0.220 Valid F1: 0.205\n",
      "No Improvement.\n"
     ]
    },
    {
     "name": "stderr",
     "output_type": "stream",
     "text": [
      "100%|█████████▉| 3135/3140 [00:13<00:00, 238.81it/s]\n",
      " 99%|█████████▉| 550/555 [00:35<00:00, 14.46it/s]\n"
     ]
    },
    {
     "name": "stdout",
     "output_type": "stream",
     "text": [
      "Epoch: 294/1000 Train Loss: 0.009 Train Acc: 0.990 Valid Loss: 0.190 Valid Acc: 0.805 Valid Pre: 0.238 Valid Reca: 0.228 Valid F1: 0.218\n",
      "No Improvement.\n"
     ]
    },
    {
     "name": "stderr",
     "output_type": "stream",
     "text": [
      "100%|█████████▉| 3135/3140 [00:12<00:00, 234.70it/s]\n",
      " 99%|█████████▉| 550/555 [00:35<00:00, 14.26it/s]\n"
     ]
    },
    {
     "name": "stdout",
     "output_type": "stream",
     "text": [
      "Epoch: 295/1000 Train Loss: 0.008 Train Acc: 0.991 Valid Loss: 0.191 Valid Acc: 0.803 Valid Pre: 0.232 Valid Reca: 0.230 Valid F1: 0.214\n",
      "No Improvement.\n"
     ]
    },
    {
     "name": "stderr",
     "output_type": "stream",
     "text": [
      "100%|█████████▉| 3135/3140 [00:13<00:00, 245.14it/s]\n",
      " 99%|█████████▉| 550/555 [00:35<00:00, 14.25it/s]\n"
     ]
    },
    {
     "name": "stdout",
     "output_type": "stream",
     "text": [
      "Epoch: 296/1000 Train Loss: 0.009 Train Acc: 0.990 Valid Loss: 0.191 Valid Acc: 0.805 Valid Pre: 0.234 Valid Reca: 0.226 Valid F1: 0.214\n",
      "No Improvement.\n"
     ]
    },
    {
     "name": "stderr",
     "output_type": "stream",
     "text": [
      "100%|█████████▉| 3135/3140 [00:13<00:00, 242.09it/s]\n",
      " 99%|█████████▉| 550/555 [00:35<00:00, 14.17it/s]\n"
     ]
    },
    {
     "name": "stdout",
     "output_type": "stream",
     "text": [
      "Epoch: 297/1000 Train Loss: 0.009 Train Acc: 0.990 Valid Loss: 0.187 Valid Acc: 0.809 Valid Pre: 0.227 Valid Reca: 0.225 Valid F1: 0.209\n",
      "No Improvement.\n"
     ]
    },
    {
     "name": "stderr",
     "output_type": "stream",
     "text": [
      "100%|█████████▉| 3135/3140 [00:13<00:00, 244.30it/s]\n",
      " 99%|█████████▉| 550/555 [00:36<00:00, 14.08it/s]\n"
     ]
    },
    {
     "name": "stdout",
     "output_type": "stream",
     "text": [
      "Epoch: 298/1000 Train Loss: 0.009 Train Acc: 0.990 Valid Loss: 0.191 Valid Acc: 0.804 Valid Pre: 0.228 Valid Reca: 0.231 Valid F1: 0.213\n",
      "No Improvement.\n"
     ]
    },
    {
     "name": "stderr",
     "output_type": "stream",
     "text": [
      "100%|█████████▉| 3135/3140 [00:12<00:00, 241.85it/s]\n",
      " 99%|█████████▉| 550/555 [00:36<00:00, 14.02it/s]\n"
     ]
    },
    {
     "name": "stdout",
     "output_type": "stream",
     "text": [
      "Epoch: 299/1000 Train Loss: 0.009 Train Acc: 0.990 Valid Loss: 0.189 Valid Acc: 0.806 Valid Pre: 0.219 Valid Reca: 0.225 Valid F1: 0.207\n",
      "No Improvement.\n"
     ]
    },
    {
     "name": "stderr",
     "output_type": "stream",
     "text": [
      "100%|█████████▉| 3135/3140 [00:13<00:00, 242.53it/s]\n",
      " 99%|█████████▉| 550/555 [00:36<00:00, 13.90it/s]\n"
     ]
    },
    {
     "name": "stdout",
     "output_type": "stream",
     "text": [
      "Epoch: 300/1000 Train Loss: 0.009 Train Acc: 0.990 Valid Loss: 0.189 Valid Acc: 0.805 Valid Pre: 0.222 Valid Reca: 0.216 Valid F1: 0.204\n",
      "No Improvement.\n"
     ]
    },
    {
     "name": "stderr",
     "output_type": "stream",
     "text": [
      "100%|█████████▉| 3135/3140 [00:13<00:00, 242.76it/s]\n",
      " 99%|█████████▉| 550/555 [00:37<00:00, 13.73it/s]\n"
     ]
    },
    {
     "name": "stdout",
     "output_type": "stream",
     "text": [
      "Epoch: 301/1000 Train Loss: 0.010 Train Acc: 0.989 Valid Loss: 0.191 Valid Acc: 0.805 Valid Pre: 0.235 Valid Reca: 0.230 Valid F1: 0.217\n",
      "No Improvement.\n"
     ]
    },
    {
     "name": "stderr",
     "output_type": "stream",
     "text": [
      "100%|█████████▉| 3135/3140 [00:13<00:00, 229.04it/s]\n",
      " 99%|█████████▉| 550/555 [00:37<00:00, 13.66it/s]\n"
     ]
    },
    {
     "name": "stdout",
     "output_type": "stream",
     "text": [
      "Epoch: 302/1000 Train Loss: 0.010 Train Acc: 0.989 Valid Loss: 0.194 Valid Acc: 0.802 Valid Pre: 0.227 Valid Reca: 0.229 Valid F1: 0.214\n",
      "No Improvement.\n"
     ]
    },
    {
     "name": "stderr",
     "output_type": "stream",
     "text": [
      "100%|█████████▉| 3135/3140 [00:13<00:00, 233.46it/s]\n",
      " 99%|█████████▉| 550/555 [00:37<00:00, 13.68it/s]\n"
     ]
    },
    {
     "name": "stdout",
     "output_type": "stream",
     "text": [
      "Epoch: 303/1000 Train Loss: 0.010 Train Acc: 0.989 Valid Loss: 0.190 Valid Acc: 0.804 Valid Pre: 0.228 Valid Reca: 0.229 Valid F1: 0.217\n",
      "No Improvement.\n"
     ]
    },
    {
     "name": "stderr",
     "output_type": "stream",
     "text": [
      "100%|█████████▉| 3135/3140 [00:13<00:00, 223.26it/s]\n",
      " 99%|█████████▉| 550/555 [00:37<00:00, 13.60it/s]\n"
     ]
    },
    {
     "name": "stdout",
     "output_type": "stream",
     "text": [
      "Epoch: 304/1000 Train Loss: 0.008 Train Acc: 0.991 Valid Loss: 0.188 Valid Acc: 0.806 Valid Pre: 0.217 Valid Reca: 0.219 Valid F1: 0.208\n",
      "No Improvement.\n"
     ]
    },
    {
     "name": "stderr",
     "output_type": "stream",
     "text": [
      "100%|█████████▉| 3135/3140 [00:13<00:00, 238.39it/s]\n",
      " 99%|█████████▉| 550/555 [00:37<00:00, 13.48it/s]\n"
     ]
    },
    {
     "name": "stdout",
     "output_type": "stream",
     "text": [
      "Epoch: 305/1000 Train Loss: 0.010 Train Acc: 0.989 Valid Loss: 0.184 Valid Acc: 0.812 Valid Pre: 0.212 Valid Reca: 0.215 Valid F1: 0.204\n",
      "No Improvement.\n"
     ]
    },
    {
     "name": "stderr",
     "output_type": "stream",
     "text": [
      "100%|█████████▉| 3135/3140 [00:13<00:00, 237.86it/s]\n",
      " 99%|█████████▉| 550/555 [00:38<00:00, 13.38it/s]\n"
     ]
    },
    {
     "name": "stdout",
     "output_type": "stream",
     "text": [
      "Epoch: 306/1000 Train Loss: 0.009 Train Acc: 0.990 Valid Loss: 0.186 Valid Acc: 0.808 Valid Pre: 0.224 Valid Reca: 0.226 Valid F1: 0.215\n",
      "No Improvement.\n"
     ]
    },
    {
     "name": "stderr",
     "output_type": "stream",
     "text": [
      "100%|█████████▉| 3135/3140 [00:13<00:00, 238.41it/s]\n",
      " 99%|█████████▉| 550/555 [00:38<00:00, 13.32it/s]\n"
     ]
    },
    {
     "name": "stdout",
     "output_type": "stream",
     "text": [
      "Epoch: 307/1000 Train Loss: 0.010 Train Acc: 0.989 Valid Loss: 0.183 Valid Acc: 0.812 Valid Pre: 0.225 Valid Reca: 0.224 Valid F1: 0.212\n",
      "No Improvement.\n"
     ]
    },
    {
     "name": "stderr",
     "output_type": "stream",
     "text": [
      "100%|█████████▉| 3135/3140 [00:13<00:00, 232.44it/s]\n",
      " 99%|█████████▉| 550/555 [00:38<00:00, 13.33it/s]\n"
     ]
    },
    {
     "name": "stdout",
     "output_type": "stream",
     "text": [
      "Epoch: 308/1000 Train Loss: 0.010 Train Acc: 0.989 Valid Loss: 0.188 Valid Acc: 0.807 Valid Pre: 0.215 Valid Reca: 0.215 Valid F1: 0.200\n",
      "No Improvement.\n"
     ]
    },
    {
     "name": "stderr",
     "output_type": "stream",
     "text": [
      "100%|█████████▉| 3135/3140 [00:13<00:00, 235.46it/s]\n",
      " 99%|█████████▉| 550/555 [00:38<00:00, 13.18it/s]\n"
     ]
    },
    {
     "name": "stdout",
     "output_type": "stream",
     "text": [
      "Epoch: 309/1000 Train Loss: 0.008 Train Acc: 0.991 Valid Loss: 0.187 Valid Acc: 0.807 Valid Pre: 0.237 Valid Reca: 0.232 Valid F1: 0.220\n",
      "No Improvement.\n"
     ]
    },
    {
     "name": "stderr",
     "output_type": "stream",
     "text": [
      "100%|█████████▉| 3135/3140 [00:13<00:00, 235.65it/s]\n",
      " 99%|█████████▉| 550/555 [00:39<00:00, 13.08it/s]\n"
     ]
    },
    {
     "name": "stdout",
     "output_type": "stream",
     "text": [
      "Epoch: 310/1000 Train Loss: 0.009 Train Acc: 0.990 Valid Loss: 0.185 Valid Acc: 0.810 Valid Pre: 0.220 Valid Reca: 0.224 Valid F1: 0.212\n",
      "No Improvement.\n"
     ]
    },
    {
     "name": "stderr",
     "output_type": "stream",
     "text": [
      "100%|█████████▉| 3135/3140 [00:13<00:00, 234.64it/s]\n",
      " 99%|█████████▉| 550/555 [00:39<00:00, 13.01it/s]\n"
     ]
    },
    {
     "name": "stdout",
     "output_type": "stream",
     "text": [
      "Epoch: 311/1000 Train Loss: 0.010 Train Acc: 0.990 Valid Loss: 0.189 Valid Acc: 0.806 Valid Pre: 0.211 Valid Reca: 0.212 Valid F1: 0.201\n",
      "No Improvement.\n"
     ]
    },
    {
     "name": "stderr",
     "output_type": "stream",
     "text": [
      "100%|█████████▉| 3135/3140 [00:13<00:00, 232.81it/s]\n",
      " 99%|█████████▉| 550/555 [00:39<00:00, 12.91it/s]\n"
     ]
    },
    {
     "name": "stdout",
     "output_type": "stream",
     "text": [
      "Epoch: 312/1000 Train Loss: 0.011 Train Acc: 0.988 Valid Loss: 0.189 Valid Acc: 0.804 Valid Pre: 0.220 Valid Reca: 0.221 Valid F1: 0.211\n",
      "No Improvement.\n"
     ]
    },
    {
     "name": "stderr",
     "output_type": "stream",
     "text": [
      "100%|█████████▉| 3135/3140 [00:13<00:00, 233.54it/s]\n",
      " 99%|█████████▉| 550/555 [00:39<00:00, 12.74it/s]\n"
     ]
    },
    {
     "name": "stdout",
     "output_type": "stream",
     "text": [
      "Epoch: 313/1000 Train Loss: 0.010 Train Acc: 0.989 Valid Loss: 0.187 Valid Acc: 0.807 Valid Pre: 0.216 Valid Reca: 0.220 Valid F1: 0.207\n",
      "No Improvement.\n"
     ]
    },
    {
     "name": "stderr",
     "output_type": "stream",
     "text": [
      "100%|█████████▉| 3135/3140 [00:13<00:00, 228.27it/s]\n",
      " 99%|█████████▉| 550/555 [00:39<00:00, 12.71it/s]\n"
     ]
    },
    {
     "name": "stdout",
     "output_type": "stream",
     "text": [
      "Epoch: 314/1000 Train Loss: 0.009 Train Acc: 0.990 Valid Loss: 0.186 Valid Acc: 0.811 Valid Pre: 0.225 Valid Reca: 0.220 Valid F1: 0.210\n",
      "No Improvement.\n"
     ]
    },
    {
     "name": "stderr",
     "output_type": "stream",
     "text": [
      "100%|█████████▉| 3135/3140 [00:13<00:00, 225.64it/s]\n",
      " 99%|█████████▉| 550/555 [00:40<00:00, 12.71it/s]\n"
     ]
    },
    {
     "name": "stdout",
     "output_type": "stream",
     "text": [
      "Epoch: 315/1000 Train Loss: 0.009 Train Acc: 0.990 Valid Loss: 0.189 Valid Acc: 0.805 Valid Pre: 0.223 Valid Reca: 0.223 Valid F1: 0.208\n",
      "No Improvement.\n"
     ]
    },
    {
     "name": "stderr",
     "output_type": "stream",
     "text": [
      "100%|█████████▉| 3135/3140 [00:13<00:00, 230.77it/s]\n",
      " 99%|█████████▉| 550/555 [00:40<00:00, 12.79it/s]\n"
     ]
    },
    {
     "name": "stdout",
     "output_type": "stream",
     "text": [
      "Epoch: 316/1000 Train Loss: 0.009 Train Acc: 0.990 Valid Loss: 0.186 Valid Acc: 0.809 Valid Pre: 0.230 Valid Reca: 0.222 Valid F1: 0.212\n",
      "No Improvement.\n"
     ]
    },
    {
     "name": "stderr",
     "output_type": "stream",
     "text": [
      "100%|█████████▉| 3135/3140 [00:13<00:00, 231.04it/s]\n",
      " 99%|█████████▉| 550/555 [00:40<00:00, 12.53it/s]\n"
     ]
    },
    {
     "name": "stdout",
     "output_type": "stream",
     "text": [
      "Epoch: 317/1000 Train Loss: 0.009 Train Acc: 0.991 Valid Loss: 0.186 Valid Acc: 0.808 Valid Pre: 0.226 Valid Reca: 0.223 Valid F1: 0.211\n",
      "No Improvement.\n"
     ]
    },
    {
     "name": "stderr",
     "output_type": "stream",
     "text": [
      "100%|█████████▉| 3135/3140 [00:13<00:00, 226.12it/s]\n",
      " 99%|█████████▉| 550/555 [00:40<00:00, 12.66it/s]\n"
     ]
    },
    {
     "name": "stdout",
     "output_type": "stream",
     "text": [
      "Epoch: 318/1000 Train Loss: 0.008 Train Acc: 0.991 Valid Loss: 0.180 Valid Acc: 0.815 Valid Pre: 0.225 Valid Reca: 0.222 Valid F1: 0.210\n",
      "No Improvement.\n"
     ]
    },
    {
     "name": "stderr",
     "output_type": "stream",
     "text": [
      "100%|█████████▉| 3135/3140 [00:14<00:00, 228.15it/s]\n",
      " 99%|█████████▉| 550/555 [00:40<00:00, 12.41it/s]\n"
     ]
    },
    {
     "name": "stdout",
     "output_type": "stream",
     "text": [
      "Epoch: 319/1000 Train Loss: 0.009 Train Acc: 0.989 Valid Loss: 0.180 Valid Acc: 0.814 Valid Pre: 0.227 Valid Reca: 0.226 Valid F1: 0.212\n",
      "No Improvement.\n"
     ]
    },
    {
     "name": "stderr",
     "output_type": "stream",
     "text": [
      "100%|█████████▉| 3135/3140 [00:13<00:00, 227.69it/s]\n",
      " 99%|█████████▉| 550/555 [00:41<00:00, 12.25it/s]\n"
     ]
    },
    {
     "name": "stdout",
     "output_type": "stream",
     "text": [
      "Epoch: 320/1000 Train Loss: 0.011 Train Acc: 0.988 Valid Loss: 0.181 Valid Acc: 0.812 Valid Pre: 0.224 Valid Reca: 0.222 Valid F1: 0.206\n",
      "No Improvement.\n"
     ]
    },
    {
     "name": "stderr",
     "output_type": "stream",
     "text": [
      "100%|█████████▉| 3135/3140 [00:14<00:00, 229.02it/s]\n",
      " 99%|█████████▉| 550/555 [00:41<00:00, 12.20it/s]\n"
     ]
    },
    {
     "name": "stdout",
     "output_type": "stream",
     "text": [
      "Epoch: 321/1000 Train Loss: 0.010 Train Acc: 0.990 Valid Loss: 0.182 Valid Acc: 0.811 Valid Pre: 0.218 Valid Reca: 0.226 Valid F1: 0.211\n",
      "No Improvement.\n"
     ]
    },
    {
     "name": "stderr",
     "output_type": "stream",
     "text": [
      "100%|█████████▉| 3135/3140 [00:14<00:00, 219.58it/s]\n",
      " 99%|█████████▉| 550/555 [00:41<00:00, 12.13it/s]\n"
     ]
    },
    {
     "name": "stdout",
     "output_type": "stream",
     "text": [
      "Epoch: 322/1000 Train Loss: 0.009 Train Acc: 0.990 Valid Loss: 0.184 Valid Acc: 0.810 Valid Pre: 0.223 Valid Reca: 0.224 Valid F1: 0.212\n",
      "No Improvement.\n"
     ]
    },
    {
     "name": "stderr",
     "output_type": "stream",
     "text": [
      "100%|█████████▉| 3135/3140 [00:14<00:00, 223.89it/s]\n",
      " 99%|█████████▉| 550/555 [00:42<00:00, 12.07it/s]\n"
     ]
    },
    {
     "name": "stdout",
     "output_type": "stream",
     "text": [
      "Epoch: 323/1000 Train Loss: 0.009 Train Acc: 0.990 Valid Loss: 0.182 Valid Acc: 0.813 Valid Pre: 0.212 Valid Reca: 0.216 Valid F1: 0.203\n",
      "No Improvement.\n"
     ]
    },
    {
     "name": "stderr",
     "output_type": "stream",
     "text": [
      "100%|█████████▉| 3135/3140 [00:14<00:00, 222.92it/s]\n",
      " 99%|█████████▉| 550/555 [00:41<00:00, 12.28it/s]\n"
     ]
    },
    {
     "name": "stdout",
     "output_type": "stream",
     "text": [
      "Epoch: 324/1000 Train Loss: 0.009 Train Acc: 0.990 Valid Loss: 0.183 Valid Acc: 0.813 Valid Pre: 0.203 Valid Reca: 0.202 Valid F1: 0.194\n",
      "No Improvement.\n"
     ]
    },
    {
     "name": "stderr",
     "output_type": "stream",
     "text": [
      "100%|█████████▉| 3135/3140 [00:14<00:00, 224.19it/s]\n",
      " 99%|█████████▉| 550/555 [00:42<00:00, 11.90it/s]\n"
     ]
    },
    {
     "name": "stdout",
     "output_type": "stream",
     "text": [
      "Epoch: 325/1000 Train Loss: 0.009 Train Acc: 0.990 Valid Loss: 0.183 Valid Acc: 0.812 Valid Pre: 0.227 Valid Reca: 0.215 Valid F1: 0.204\n",
      "No Improvement.\n"
     ]
    },
    {
     "name": "stderr",
     "output_type": "stream",
     "text": [
      "100%|█████████▉| 3135/3140 [00:14<00:00, 225.14it/s]\n",
      " 99%|█████████▉| 550/555 [00:42<00:00, 12.05it/s]\n"
     ]
    },
    {
     "name": "stdout",
     "output_type": "stream",
     "text": [
      "Epoch: 326/1000 Train Loss: 0.009 Train Acc: 0.990 Valid Loss: 0.184 Valid Acc: 0.811 Valid Pre: 0.221 Valid Reca: 0.227 Valid F1: 0.209\n",
      "No Improvement.\n"
     ]
    },
    {
     "name": "stderr",
     "output_type": "stream",
     "text": [
      "100%|█████████▉| 3135/3140 [00:14<00:00, 221.72it/s]\n",
      " 99%|█████████▉| 550/555 [00:43<00:00, 11.81it/s]\n"
     ]
    },
    {
     "name": "stdout",
     "output_type": "stream",
     "text": [
      "Epoch: 327/1000 Train Loss: 0.008 Train Acc: 0.991 Valid Loss: 0.186 Valid Acc: 0.808 Valid Pre: 0.224 Valid Reca: 0.224 Valid F1: 0.210\n",
      "No Improvement.\n"
     ]
    },
    {
     "name": "stderr",
     "output_type": "stream",
     "text": [
      "100%|█████████▉| 3135/3140 [00:14<00:00, 210.92it/s]\n",
      " 99%|█████████▉| 550/555 [00:43<00:00, 11.81it/s]\n"
     ]
    },
    {
     "name": "stdout",
     "output_type": "stream",
     "text": [
      "Epoch: 328/1000 Train Loss: 0.010 Train Acc: 0.990 Valid Loss: 0.187 Valid Acc: 0.807 Valid Pre: 0.230 Valid Reca: 0.235 Valid F1: 0.220\n",
      "No Improvement.\n"
     ]
    },
    {
     "name": "stderr",
     "output_type": "stream",
     "text": [
      "100%|█████████▉| 3135/3140 [00:14<00:00, 213.94it/s]\n",
      " 99%|█████████▉| 550/555 [00:43<00:00, 11.71it/s]\n"
     ]
    },
    {
     "name": "stdout",
     "output_type": "stream",
     "text": [
      "Epoch: 329/1000 Train Loss: 0.010 Train Acc: 0.989 Valid Loss: 0.187 Valid Acc: 0.808 Valid Pre: 0.227 Valid Reca: 0.230 Valid F1: 0.216\n",
      "No Improvement.\n"
     ]
    },
    {
     "name": "stderr",
     "output_type": "stream",
     "text": [
      "100%|█████████▉| 3135/3140 [00:14<00:00, 222.15it/s]\n",
      " 99%|█████████▉| 550/555 [00:43<00:00, 11.67it/s]\n"
     ]
    },
    {
     "name": "stdout",
     "output_type": "stream",
     "text": [
      "Epoch: 330/1000 Train Loss: 0.009 Train Acc: 0.990 Valid Loss: 0.182 Valid Acc: 0.811 Valid Pre: 0.226 Valid Reca: 0.226 Valid F1: 0.211\n",
      "No Improvement.\n"
     ]
    },
    {
     "name": "stderr",
     "output_type": "stream",
     "text": [
      "100%|█████████▉| 3135/3140 [00:14<00:00, 218.79it/s]\n",
      " 99%|█████████▉| 550/555 [00:43<00:00, 11.66it/s]\n"
     ]
    },
    {
     "name": "stdout",
     "output_type": "stream",
     "text": [
      "Epoch: 331/1000 Train Loss: 0.010 Train Acc: 0.989 Valid Loss: 0.184 Valid Acc: 0.810 Valid Pre: 0.220 Valid Reca: 0.225 Valid F1: 0.209\n",
      "No Improvement.\n"
     ]
    },
    {
     "name": "stderr",
     "output_type": "stream",
     "text": [
      "100%|█████████▉| 3135/3140 [00:14<00:00, 222.14it/s]\n",
      " 99%|█████████▉| 550/555 [00:44<00:00, 11.64it/s]\n"
     ]
    },
    {
     "name": "stdout",
     "output_type": "stream",
     "text": [
      "Epoch: 332/1000 Train Loss: 0.010 Train Acc: 0.990 Valid Loss: 0.186 Valid Acc: 0.810 Valid Pre: 0.217 Valid Reca: 0.218 Valid F1: 0.205\n",
      "No Improvement.\n"
     ]
    },
    {
     "name": "stderr",
     "output_type": "stream",
     "text": [
      "100%|█████████▉| 3135/3140 [00:14<00:00, 218.40it/s]\n",
      " 99%|█████████▉| 550/555 [00:44<00:00, 11.52it/s]\n"
     ]
    },
    {
     "name": "stdout",
     "output_type": "stream",
     "text": [
      "Epoch: 333/1000 Train Loss: 0.009 Train Acc: 0.990 Valid Loss: 0.181 Valid Acc: 0.814 Valid Pre: 0.223 Valid Reca: 0.215 Valid F1: 0.205\n",
      "No Improvement.\n"
     ]
    },
    {
     "name": "stderr",
     "output_type": "stream",
     "text": [
      "100%|█████████▉| 3135/3140 [00:14<00:00, 220.90it/s]\n",
      " 99%|█████████▉| 550/555 [00:44<00:00, 11.46it/s]\n"
     ]
    },
    {
     "name": "stdout",
     "output_type": "stream",
     "text": [
      "Epoch: 334/1000 Train Loss: 0.009 Train Acc: 0.990 Valid Loss: 0.181 Valid Acc: 0.814 Valid Pre: 0.206 Valid Reca: 0.209 Valid F1: 0.191\n",
      "No Improvement.\n"
     ]
    },
    {
     "name": "stderr",
     "output_type": "stream",
     "text": [
      "100%|█████████▉| 3135/3140 [00:14<00:00, 223.96it/s]\n",
      " 99%|█████████▉| 550/555 [00:44<00:00, 11.40it/s]\n"
     ]
    },
    {
     "name": "stdout",
     "output_type": "stream",
     "text": [
      "Epoch: 335/1000 Train Loss: 0.010 Train Acc: 0.989 Valid Loss: 0.188 Valid Acc: 0.805 Valid Pre: 0.212 Valid Reca: 0.215 Valid F1: 0.200\n",
      "No Improvement.\n"
     ]
    },
    {
     "name": "stderr",
     "output_type": "stream",
     "text": [
      "100%|█████████▉| 3135/3140 [00:14<00:00, 220.58it/s]\n",
      " 99%|█████████▉| 550/555 [00:45<00:00, 11.20it/s]\n"
     ]
    },
    {
     "name": "stdout",
     "output_type": "stream",
     "text": [
      "Epoch: 336/1000 Train Loss: 0.009 Train Acc: 0.990 Valid Loss: 0.183 Valid Acc: 0.811 Valid Pre: 0.217 Valid Reca: 0.218 Valid F1: 0.206\n",
      "No Improvement.\n"
     ]
    },
    {
     "name": "stderr",
     "output_type": "stream",
     "text": [
      "100%|█████████▉| 3135/3140 [00:14<00:00, 223.78it/s]\n",
      " 99%|█████████▉| 550/555 [00:45<00:00, 11.18it/s]\n"
     ]
    },
    {
     "name": "stdout",
     "output_type": "stream",
     "text": [
      "Epoch: 337/1000 Train Loss: 0.010 Train Acc: 0.989 Valid Loss: 0.184 Valid Acc: 0.812 Valid Pre: 0.229 Valid Reca: 0.230 Valid F1: 0.217\n",
      "No Improvement.\n"
     ]
    },
    {
     "name": "stderr",
     "output_type": "stream",
     "text": [
      "100%|█████████▉| 3135/3140 [00:14<00:00, 217.99it/s]\n",
      " 99%|█████████▉| 550/555 [00:45<00:00, 11.17it/s]\n"
     ]
    },
    {
     "name": "stdout",
     "output_type": "stream",
     "text": [
      "Epoch: 338/1000 Train Loss: 0.009 Train Acc: 0.990 Valid Loss: 0.186 Valid Acc: 0.808 Valid Pre: 0.219 Valid Reca: 0.215 Valid F1: 0.206\n",
      "No Improvement.\n"
     ]
    },
    {
     "name": "stderr",
     "output_type": "stream",
     "text": [
      "100%|█████████▉| 3135/3140 [00:14<00:00, 212.23it/s]\n",
      " 99%|█████████▉| 550/555 [00:46<00:00, 11.01it/s]\n"
     ]
    },
    {
     "name": "stdout",
     "output_type": "stream",
     "text": [
      "Epoch: 339/1000 Train Loss: 0.010 Train Acc: 0.989 Valid Loss: 0.185 Valid Acc: 0.808 Valid Pre: 0.219 Valid Reca: 0.216 Valid F1: 0.209\n",
      "No Improvement.\n"
     ]
    },
    {
     "name": "stderr",
     "output_type": "stream",
     "text": [
      "100%|█████████▉| 3135/3140 [00:14<00:00, 214.40it/s]\n",
      " 99%|█████████▉| 550/555 [00:46<00:00, 11.11it/s]\n"
     ]
    },
    {
     "name": "stdout",
     "output_type": "stream",
     "text": [
      "Epoch: 340/1000 Train Loss: 0.009 Train Acc: 0.990 Valid Loss: 0.187 Valid Acc: 0.810 Valid Pre: 0.220 Valid Reca: 0.213 Valid F1: 0.207\n",
      "No Improvement.\n"
     ]
    },
    {
     "name": "stderr",
     "output_type": "stream",
     "text": [
      "100%|█████████▉| 3135/3140 [00:15<00:00, 213.85it/s]\n",
      " 99%|█████████▉| 550/555 [00:46<00:00, 11.02it/s]\n"
     ]
    },
    {
     "name": "stdout",
     "output_type": "stream",
     "text": [
      "Epoch: 341/1000 Train Loss: 0.011 Train Acc: 0.989 Valid Loss: 0.187 Valid Acc: 0.808 Valid Pre: 0.226 Valid Reca: 0.216 Valid F1: 0.211\n",
      "No Improvement.\n"
     ]
    },
    {
     "name": "stderr",
     "output_type": "stream",
     "text": [
      "100%|█████████▉| 3135/3140 [00:14<00:00, 217.29it/s]\n",
      " 99%|█████████▉| 550/555 [00:46<00:00, 10.85it/s]\n"
     ]
    },
    {
     "name": "stdout",
     "output_type": "stream",
     "text": [
      "Epoch: 342/1000 Train Loss: 0.009 Train Acc: 0.990 Valid Loss: 0.187 Valid Acc: 0.808 Valid Pre: 0.220 Valid Reca: 0.216 Valid F1: 0.210\n",
      "No Improvement.\n"
     ]
    },
    {
     "name": "stderr",
     "output_type": "stream",
     "text": [
      "100%|█████████▉| 3135/3140 [00:14<00:00, 217.03it/s]\n",
      " 99%|█████████▉| 550/555 [00:47<00:00, 10.80it/s]\n"
     ]
    },
    {
     "name": "stdout",
     "output_type": "stream",
     "text": [
      "Epoch: 343/1000 Train Loss: 0.008 Train Acc: 0.991 Valid Loss: 0.188 Valid Acc: 0.807 Valid Pre: 0.218 Valid Reca: 0.215 Valid F1: 0.207\n",
      "No Improvement.\n"
     ]
    },
    {
     "name": "stderr",
     "output_type": "stream",
     "text": [
      "100%|█████████▉| 3135/3140 [00:14<00:00, 215.37it/s]\n",
      " 99%|█████████▉| 550/555 [00:47<00:00, 10.78it/s]\n"
     ]
    },
    {
     "name": "stdout",
     "output_type": "stream",
     "text": [
      "Epoch: 344/1000 Train Loss: 0.008 Train Acc: 0.991 Valid Loss: 0.189 Valid Acc: 0.805 Valid Pre: 0.207 Valid Reca: 0.209 Valid F1: 0.196\n",
      "No Improvement.\n"
     ]
    },
    {
     "name": "stderr",
     "output_type": "stream",
     "text": [
      "100%|█████████▉| 3135/3140 [00:14<00:00, 212.45it/s]\n",
      " 99%|█████████▉| 550/555 [00:47<00:00, 10.67it/s]\n"
     ]
    },
    {
     "name": "stdout",
     "output_type": "stream",
     "text": [
      "Epoch: 345/1000 Train Loss: 0.010 Train Acc: 0.989 Valid Loss: 0.191 Valid Acc: 0.804 Valid Pre: 0.217 Valid Reca: 0.221 Valid F1: 0.209\n",
      "No Improvement.\n"
     ]
    },
    {
     "name": "stderr",
     "output_type": "stream",
     "text": [
      "100%|█████████▉| 3135/3140 [00:14<00:00, 207.55it/s]\n",
      " 99%|█████████▉| 550/555 [00:47<00:00, 10.69it/s]\n"
     ]
    },
    {
     "name": "stdout",
     "output_type": "stream",
     "text": [
      "Epoch: 346/1000 Train Loss: 0.009 Train Acc: 0.990 Valid Loss: 0.187 Valid Acc: 0.808 Valid Pre: 0.214 Valid Reca: 0.215 Valid F1: 0.204\n",
      "No Improvement.\n"
     ]
    },
    {
     "name": "stderr",
     "output_type": "stream",
     "text": [
      "100%|█████████▉| 3135/3140 [00:14<00:00, 216.45it/s]\n",
      " 99%|█████████▉| 550/555 [00:48<00:00, 10.65it/s]\n"
     ]
    },
    {
     "name": "stdout",
     "output_type": "stream",
     "text": [
      "Epoch: 347/1000 Train Loss: 0.009 Train Acc: 0.990 Valid Loss: 0.184 Valid Acc: 0.810 Valid Pre: 0.210 Valid Reca: 0.219 Valid F1: 0.204\n",
      "No Improvement.\n"
     ]
    },
    {
     "name": "stderr",
     "output_type": "stream",
     "text": [
      "100%|█████████▉| 3135/3140 [00:14<00:00, 214.46it/s]\n",
      " 99%|█████████▉| 550/555 [00:48<00:00, 10.51it/s]\n"
     ]
    },
    {
     "name": "stdout",
     "output_type": "stream",
     "text": [
      "Epoch: 348/1000 Train Loss: 0.009 Train Acc: 0.990 Valid Loss: 0.188 Valid Acc: 0.807 Valid Pre: 0.205 Valid Reca: 0.203 Valid F1: 0.195\n",
      "No Improvement.\n"
     ]
    },
    {
     "name": "stderr",
     "output_type": "stream",
     "text": [
      "100%|█████████▉| 3135/3140 [00:14<00:00, 215.35it/s]\n",
      " 99%|█████████▉| 550/555 [00:48<00:00, 10.46it/s]\n"
     ]
    },
    {
     "name": "stdout",
     "output_type": "stream",
     "text": [
      "Epoch: 349/1000 Train Loss: 0.009 Train Acc: 0.990 Valid Loss: 0.186 Valid Acc: 0.808 Valid Pre: 0.216 Valid Reca: 0.210 Valid F1: 0.204\n",
      "No Improvement.\n"
     ]
    },
    {
     "name": "stderr",
     "output_type": "stream",
     "text": [
      "100%|█████████▉| 3135/3140 [00:14<00:00, 213.69it/s]\n",
      " 99%|█████████▉| 550/555 [00:48<00:00, 10.43it/s]\n"
     ]
    },
    {
     "name": "stdout",
     "output_type": "stream",
     "text": [
      "Epoch: 350/1000 Train Loss: 0.009 Train Acc: 0.990 Valid Loss: 0.187 Valid Acc: 0.807 Valid Pre: 0.219 Valid Reca: 0.209 Valid F1: 0.205\n",
      "No Improvement.\n"
     ]
    },
    {
     "name": "stderr",
     "output_type": "stream",
     "text": [
      "100%|█████████▉| 3135/3140 [00:15<00:00, 209.90it/s]\n",
      " 99%|█████████▉| 550/555 [00:49<00:00, 10.36it/s]\n"
     ]
    },
    {
     "name": "stdout",
     "output_type": "stream",
     "text": [
      "Epoch: 351/1000 Train Loss: 0.008 Train Acc: 0.991 Valid Loss: 0.189 Valid Acc: 0.805 Valid Pre: 0.209 Valid Reca: 0.205 Valid F1: 0.198\n",
      "No Improvement.\n"
     ]
    },
    {
     "name": "stderr",
     "output_type": "stream",
     "text": [
      "100%|█████████▉| 3135/3140 [00:14<00:00, 207.30it/s]\n",
      " 99%|█████████▉| 550/555 [00:49<00:00, 10.27it/s]\n"
     ]
    },
    {
     "name": "stdout",
     "output_type": "stream",
     "text": [
      "Epoch: 352/1000 Train Loss: 0.009 Train Acc: 0.990 Valid Loss: 0.186 Valid Acc: 0.807 Valid Pre: 0.230 Valid Reca: 0.213 Valid F1: 0.210\n",
      "No Improvement.\n"
     ]
    },
    {
     "name": "stderr",
     "output_type": "stream",
     "text": [
      "100%|█████████▉| 3135/3140 [00:15<00:00, 213.27it/s]\n",
      " 99%|█████████▉| 550/555 [00:49<00:00, 10.28it/s]\n"
     ]
    },
    {
     "name": "stdout",
     "output_type": "stream",
     "text": [
      "Epoch: 353/1000 Train Loss: 0.007 Train Acc: 0.992 Valid Loss: 0.188 Valid Acc: 0.806 Valid Pre: 0.220 Valid Reca: 0.215 Valid F1: 0.205\n",
      "No Improvement.\n"
     ]
    },
    {
     "name": "stderr",
     "output_type": "stream",
     "text": [
      "100%|█████████▉| 3135/3140 [00:14<00:00, 213.23it/s]\n",
      " 99%|█████████▉| 550/555 [00:49<00:00, 10.24it/s]\n"
     ]
    },
    {
     "name": "stdout",
     "output_type": "stream",
     "text": [
      "Epoch: 354/1000 Train Loss: 0.009 Train Acc: 0.991 Valid Loss: 0.188 Valid Acc: 0.806 Valid Pre: 0.219 Valid Reca: 0.219 Valid F1: 0.208\n",
      "No Improvement.\n"
     ]
    },
    {
     "name": "stderr",
     "output_type": "stream",
     "text": [
      "100%|█████████▉| 3135/3140 [00:15<00:00, 211.74it/s]\n",
      " 99%|█████████▉| 550/555 [00:50<00:00, 10.15it/s]\n"
     ]
    },
    {
     "name": "stdout",
     "output_type": "stream",
     "text": [
      "Epoch: 355/1000 Train Loss: 0.007 Train Acc: 0.992 Valid Loss: 0.191 Valid Acc: 0.803 Valid Pre: 0.224 Valid Reca: 0.210 Valid F1: 0.206\n",
      "No Improvement.\n"
     ]
    },
    {
     "name": "stderr",
     "output_type": "stream",
     "text": [
      "100%|█████████▉| 3135/3140 [00:14<00:00, 212.82it/s]\n",
      " 99%|█████████▉| 550/555 [00:50<00:00, 10.18it/s]\n"
     ]
    },
    {
     "name": "stdout",
     "output_type": "stream",
     "text": [
      "Epoch: 356/1000 Train Loss: 0.009 Train Acc: 0.990 Valid Loss: 0.194 Valid Acc: 0.800 Valid Pre: 0.225 Valid Reca: 0.223 Valid F1: 0.213\n",
      "No Improvement.\n"
     ]
    },
    {
     "name": "stderr",
     "output_type": "stream",
     "text": [
      "100%|█████████▉| 3135/3140 [00:15<00:00, 199.81it/s]\n",
      " 99%|█████████▉| 550/555 [00:50<00:00, 10.23it/s]\n"
     ]
    },
    {
     "name": "stdout",
     "output_type": "stream",
     "text": [
      "Epoch: 357/1000 Train Loss: 0.010 Train Acc: 0.989 Valid Loss: 0.191 Valid Acc: 0.804 Valid Pre: 0.235 Valid Reca: 0.232 Valid F1: 0.222\n",
      "No Improvement.\n"
     ]
    },
    {
     "name": "stderr",
     "output_type": "stream",
     "text": [
      "100%|█████████▉| 3135/3140 [00:14<00:00, 209.01it/s]\n",
      " 99%|█████████▉| 550/555 [00:50<00:00,  9.99it/s]\n"
     ]
    },
    {
     "name": "stdout",
     "output_type": "stream",
     "text": [
      "Epoch: 358/1000 Train Loss: 0.008 Train Acc: 0.991 Valid Loss: 0.188 Valid Acc: 0.808 Valid Pre: 0.236 Valid Reca: 0.223 Valid F1: 0.218\n",
      "No Improvement.\n"
     ]
    },
    {
     "name": "stderr",
     "output_type": "stream",
     "text": [
      "100%|█████████▉| 3135/3140 [00:15<00:00, 187.37it/s]\n",
      " 99%|█████████▉| 550/555 [00:51<00:00,  9.93it/s]\n"
     ]
    },
    {
     "name": "stdout",
     "output_type": "stream",
     "text": [
      "Epoch: 359/1000 Train Loss: 0.009 Train Acc: 0.990 Valid Loss: 0.188 Valid Acc: 0.805 Valid Pre: 0.228 Valid Reca: 0.219 Valid F1: 0.213\n",
      "No Improvement.\n"
     ]
    },
    {
     "name": "stderr",
     "output_type": "stream",
     "text": [
      "100%|█████████▉| 3135/3140 [00:15<00:00, 205.53it/s]\n",
      " 99%|█████████▉| 550/555 [00:51<00:00,  9.91it/s]\n"
     ]
    },
    {
     "name": "stdout",
     "output_type": "stream",
     "text": [
      "Epoch: 360/1000 Train Loss: 0.009 Train Acc: 0.990 Valid Loss: 0.191 Valid Acc: 0.805 Valid Pre: 0.220 Valid Reca: 0.221 Valid F1: 0.211\n",
      "No Improvement.\n"
     ]
    },
    {
     "name": "stderr",
     "output_type": "stream",
     "text": [
      "100%|█████████▉| 3135/3140 [00:15<00:00, 194.33it/s]\n",
      " 99%|█████████▉| 550/555 [00:52<00:00,  9.80it/s]\n"
     ]
    },
    {
     "name": "stdout",
     "output_type": "stream",
     "text": [
      "Epoch: 361/1000 Train Loss: 0.009 Train Acc: 0.990 Valid Loss: 0.190 Valid Acc: 0.806 Valid Pre: 0.237 Valid Reca: 0.228 Valid F1: 0.219\n",
      "No Improvement.\n"
     ]
    },
    {
     "name": "stderr",
     "output_type": "stream",
     "text": [
      "100%|█████████▉| 3135/3140 [00:15<00:00, 207.80it/s]\n",
      " 99%|█████████▉| 550/555 [00:51<00:00,  9.81it/s]\n"
     ]
    },
    {
     "name": "stdout",
     "output_type": "stream",
     "text": [
      "Epoch: 362/1000 Train Loss: 0.010 Train Acc: 0.990 Valid Loss: 0.192 Valid Acc: 0.803 Valid Pre: 0.240 Valid Reca: 0.227 Valid F1: 0.221\n",
      "No Improvement.\n"
     ]
    },
    {
     "name": "stderr",
     "output_type": "stream",
     "text": [
      "100%|█████████▉| 3135/3140 [00:15<00:00, 208.41it/s]\n",
      " 99%|█████████▉| 550/555 [00:52<00:00,  9.69it/s]\n"
     ]
    },
    {
     "name": "stdout",
     "output_type": "stream",
     "text": [
      "Epoch: 363/1000 Train Loss: 0.011 Train Acc: 0.989 Valid Loss: 0.189 Valid Acc: 0.805 Valid Pre: 0.247 Valid Reca: 0.240 Valid F1: 0.227\n",
      "No Improvement.\n"
     ]
    },
    {
     "name": "stderr",
     "output_type": "stream",
     "text": [
      "100%|█████████▉| 3135/3140 [00:15<00:00, 210.06it/s]\n",
      " 99%|█████████▉| 550/555 [00:52<00:00,  9.67it/s]\n"
     ]
    },
    {
     "name": "stdout",
     "output_type": "stream",
     "text": [
      "Epoch: 364/1000 Train Loss: 0.010 Train Acc: 0.990 Valid Loss: 0.190 Valid Acc: 0.805 Valid Pre: 0.218 Valid Reca: 0.220 Valid F1: 0.207\n",
      "No Improvement.\n"
     ]
    },
    {
     "name": "stderr",
     "output_type": "stream",
     "text": [
      "100%|█████████▉| 3135/3140 [00:15<00:00, 205.88it/s]\n",
      " 99%|█████████▉| 550/555 [00:53<00:00,  9.55it/s]\n"
     ]
    },
    {
     "name": "stdout",
     "output_type": "stream",
     "text": [
      "Epoch: 365/1000 Train Loss: 0.010 Train Acc: 0.989 Valid Loss: 0.199 Valid Acc: 0.795 Valid Pre: 0.209 Valid Reca: 0.208 Valid F1: 0.199\n",
      "No Improvement.\n"
     ]
    },
    {
     "name": "stderr",
     "output_type": "stream",
     "text": [
      "100%|█████████▉| 3135/3140 [00:15<00:00, 204.93it/s]\n",
      " 99%|█████████▉| 550/555 [00:53<00:00,  9.48it/s]\n"
     ]
    },
    {
     "name": "stdout",
     "output_type": "stream",
     "text": [
      "Epoch: 366/1000 Train Loss: 0.010 Train Acc: 0.989 Valid Loss: 0.200 Valid Acc: 0.794 Valid Pre: 0.205 Valid Reca: 0.209 Valid F1: 0.197\n",
      "No Improvement.\n"
     ]
    },
    {
     "name": "stderr",
     "output_type": "stream",
     "text": [
      "100%|█████████▉| 3135/3140 [00:15<00:00, 211.30it/s]\n",
      " 99%|█████████▉| 550/555 [00:54<00:00,  9.48it/s]\n"
     ]
    },
    {
     "name": "stdout",
     "output_type": "stream",
     "text": [
      "Epoch: 367/1000 Train Loss: 0.009 Train Acc: 0.990 Valid Loss: 0.199 Valid Acc: 0.795 Valid Pre: 0.213 Valid Reca: 0.211 Valid F1: 0.202\n",
      "No Improvement.\n"
     ]
    },
    {
     "name": "stderr",
     "output_type": "stream",
     "text": [
      "100%|█████████▉| 3135/3140 [00:15<00:00, 204.41it/s]\n",
      " 99%|█████████▉| 550/555 [00:54<00:00,  9.31it/s]\n"
     ]
    },
    {
     "name": "stdout",
     "output_type": "stream",
     "text": [
      "Epoch: 368/1000 Train Loss: 0.010 Train Acc: 0.989 Valid Loss: 0.194 Valid Acc: 0.799 Valid Pre: 0.216 Valid Reca: 0.211 Valid F1: 0.202\n",
      "No Improvement.\n"
     ]
    },
    {
     "name": "stderr",
     "output_type": "stream",
     "text": [
      "100%|█████████▉| 3135/3140 [00:15<00:00, 205.59it/s]\n",
      " 99%|█████████▉| 550/555 [00:54<00:00,  9.36it/s]\n"
     ]
    },
    {
     "name": "stdout",
     "output_type": "stream",
     "text": [
      "Epoch: 369/1000 Train Loss: 0.008 Train Acc: 0.991 Valid Loss: 0.193 Valid Acc: 0.801 Valid Pre: 0.230 Valid Reca: 0.228 Valid F1: 0.217\n",
      "No Improvement.\n"
     ]
    },
    {
     "name": "stderr",
     "output_type": "stream",
     "text": [
      "100%|█████████▉| 3135/3140 [00:15<00:00, 196.38it/s]\n",
      " 99%|█████████▉| 550/555 [00:54<00:00,  9.26it/s]\n"
     ]
    },
    {
     "name": "stdout",
     "output_type": "stream",
     "text": [
      "Epoch: 370/1000 Train Loss: 0.009 Train Acc: 0.990 Valid Loss: 0.194 Valid Acc: 0.803 Valid Pre: 0.217 Valid Reca: 0.215 Valid F1: 0.204\n",
      "No Improvement.\n"
     ]
    },
    {
     "name": "stderr",
     "output_type": "stream",
     "text": [
      "100%|█████████▉| 3135/3140 [00:15<00:00, 206.46it/s]\n",
      " 99%|█████████▉| 550/555 [00:55<00:00,  9.27it/s]\n"
     ]
    },
    {
     "name": "stdout",
     "output_type": "stream",
     "text": [
      "Epoch: 371/1000 Train Loss: 0.009 Train Acc: 0.990 Valid Loss: 0.193 Valid Acc: 0.802 Valid Pre: 0.237 Valid Reca: 0.229 Valid F1: 0.218\n",
      "No Improvement.\n"
     ]
    },
    {
     "name": "stderr",
     "output_type": "stream",
     "text": [
      "100%|█████████▉| 3135/3140 [00:15<00:00, 201.85it/s]\n",
      " 99%|█████████▉| 550/555 [00:55<00:00,  9.21it/s]\n"
     ]
    },
    {
     "name": "stdout",
     "output_type": "stream",
     "text": [
      "Epoch: 372/1000 Train Loss: 0.008 Train Acc: 0.991 Valid Loss: 0.191 Valid Acc: 0.803 Valid Pre: 0.225 Valid Reca: 0.227 Valid F1: 0.214\n",
      "No Improvement.\n"
     ]
    },
    {
     "name": "stderr",
     "output_type": "stream",
     "text": [
      "100%|█████████▉| 3135/3140 [00:15<00:00, 203.26it/s]\n",
      " 99%|█████████▉| 550/555 [00:55<00:00,  9.27it/s]\n"
     ]
    },
    {
     "name": "stdout",
     "output_type": "stream",
     "text": [
      "Epoch: 373/1000 Train Loss: 0.009 Train Acc: 0.990 Valid Loss: 0.188 Valid Acc: 0.805 Valid Pre: 0.223 Valid Reca: 0.218 Valid F1: 0.207\n",
      "No Improvement.\n"
     ]
    },
    {
     "name": "stderr",
     "output_type": "stream",
     "text": [
      "100%|█████████▉| 3135/3140 [00:15<00:00, 201.24it/s]\n",
      " 99%|█████████▉| 550/555 [00:56<00:00,  9.06it/s]\n"
     ]
    },
    {
     "name": "stdout",
     "output_type": "stream",
     "text": [
      "Epoch: 374/1000 Train Loss: 0.010 Train Acc: 0.989 Valid Loss: 0.188 Valid Acc: 0.806 Valid Pre: 0.235 Valid Reca: 0.226 Valid F1: 0.214\n",
      "No Improvement.\n"
     ]
    },
    {
     "name": "stderr",
     "output_type": "stream",
     "text": [
      "100%|█████████▉| 3135/3140 [00:15<00:00, 205.94it/s]\n",
      " 99%|█████████▉| 550/555 [00:56<00:00,  9.11it/s]\n"
     ]
    },
    {
     "name": "stdout",
     "output_type": "stream",
     "text": [
      "Epoch: 375/1000 Train Loss: 0.009 Train Acc: 0.990 Valid Loss: 0.191 Valid Acc: 0.801 Valid Pre: 0.234 Valid Reca: 0.229 Valid F1: 0.214\n",
      "No Improvement.\n"
     ]
    },
    {
     "name": "stderr",
     "output_type": "stream",
     "text": [
      "100%|█████████▉| 3135/3140 [00:15<00:00, 201.59it/s]\n",
      " 99%|█████████▉| 550/555 [00:56<00:00,  9.09it/s]\n"
     ]
    },
    {
     "name": "stdout",
     "output_type": "stream",
     "text": [
      "Epoch: 376/1000 Train Loss: 0.009 Train Acc: 0.990 Valid Loss: 0.191 Valid Acc: 0.802 Valid Pre: 0.224 Valid Reca: 0.216 Valid F1: 0.206\n",
      "No Improvement.\n"
     ]
    },
    {
     "name": "stderr",
     "output_type": "stream",
     "text": [
      "100%|█████████▉| 3135/3140 [00:15<00:00, 195.04it/s]\n",
      " 99%|█████████▉| 550/555 [00:57<00:00,  9.00it/s]\n"
     ]
    },
    {
     "name": "stdout",
     "output_type": "stream",
     "text": [
      "Epoch: 377/1000 Train Loss: 0.009 Train Acc: 0.990 Valid Loss: 0.188 Valid Acc: 0.807 Valid Pre: 0.236 Valid Reca: 0.228 Valid F1: 0.216\n",
      "No Improvement.\n"
     ]
    },
    {
     "name": "stderr",
     "output_type": "stream",
     "text": [
      "100%|█████████▉| 3135/3140 [00:15<00:00, 204.34it/s]\n",
      " 99%|█████████▉| 550/555 [00:57<00:00,  9.03it/s]\n"
     ]
    },
    {
     "name": "stdout",
     "output_type": "stream",
     "text": [
      "Epoch: 378/1000 Train Loss: 0.010 Train Acc: 0.989 Valid Loss: 0.190 Valid Acc: 0.804 Valid Pre: 0.229 Valid Reca: 0.215 Valid F1: 0.204\n",
      "No Improvement.\n"
     ]
    },
    {
     "name": "stderr",
     "output_type": "stream",
     "text": [
      "100%|█████████▉| 3135/3140 [00:15<00:00, 203.59it/s]\n",
      " 99%|█████████▉| 550/555 [00:57<00:00,  8.84it/s]\n"
     ]
    },
    {
     "name": "stdout",
     "output_type": "stream",
     "text": [
      "Epoch: 379/1000 Train Loss: 0.010 Train Acc: 0.988 Valid Loss: 0.186 Valid Acc: 0.809 Valid Pre: 0.239 Valid Reca: 0.234 Valid F1: 0.219\n",
      "No Improvement.\n"
     ]
    },
    {
     "name": "stderr",
     "output_type": "stream",
     "text": [
      "100%|█████████▉| 3135/3140 [00:15<00:00, 202.57it/s]\n",
      " 99%|█████████▉| 550/555 [00:57<00:00,  8.86it/s]\n"
     ]
    },
    {
     "name": "stdout",
     "output_type": "stream",
     "text": [
      "Epoch: 380/1000 Train Loss: 0.011 Train Acc: 0.988 Valid Loss: 0.188 Valid Acc: 0.807 Valid Pre: 0.233 Valid Reca: 0.221 Valid F1: 0.214\n",
      "No Improvement.\n"
     ]
    },
    {
     "name": "stderr",
     "output_type": "stream",
     "text": [
      "100%|█████████▉| 3135/3140 [00:16<00:00, 198.98it/s]\n",
      " 99%|█████████▉| 550/555 [00:58<00:00,  8.91it/s]\n"
     ]
    },
    {
     "name": "stdout",
     "output_type": "stream",
     "text": [
      "Epoch: 381/1000 Train Loss: 0.010 Train Acc: 0.989 Valid Loss: 0.189 Valid Acc: 0.805 Valid Pre: 0.224 Valid Reca: 0.213 Valid F1: 0.206\n",
      "No Improvement.\n"
     ]
    },
    {
     "name": "stderr",
     "output_type": "stream",
     "text": [
      "100%|█████████▉| 3135/3140 [00:15<00:00, 200.13it/s]\n",
      " 99%|█████████▉| 550/555 [00:58<00:00,  8.87it/s]\n"
     ]
    },
    {
     "name": "stdout",
     "output_type": "stream",
     "text": [
      "Epoch: 382/1000 Train Loss: 0.011 Train Acc: 0.988 Valid Loss: 0.190 Valid Acc: 0.805 Valid Pre: 0.239 Valid Reca: 0.228 Valid F1: 0.222\n",
      "No Improvement.\n"
     ]
    },
    {
     "name": "stderr",
     "output_type": "stream",
     "text": [
      "100%|█████████▉| 3135/3140 [00:15<00:00, 203.06it/s]\n",
      " 99%|█████████▉| 550/555 [00:58<00:00,  8.76it/s]\n"
     ]
    },
    {
     "name": "stdout",
     "output_type": "stream",
     "text": [
      "Epoch: 383/1000 Train Loss: 0.009 Train Acc: 0.990 Valid Loss: 0.190 Valid Acc: 0.805 Valid Pre: 0.236 Valid Reca: 0.223 Valid F1: 0.217\n",
      "No Improvement.\n"
     ]
    },
    {
     "name": "stderr",
     "output_type": "stream",
     "text": [
      "100%|█████████▉| 3135/3140 [00:15<00:00, 197.59it/s]\n",
      " 99%|█████████▉| 550/555 [00:58<00:00,  8.84it/s]\n"
     ]
    },
    {
     "name": "stdout",
     "output_type": "stream",
     "text": [
      "Epoch: 384/1000 Train Loss: 0.011 Train Acc: 0.988 Valid Loss: 0.187 Valid Acc: 0.808 Valid Pre: 0.227 Valid Reca: 0.224 Valid F1: 0.212\n",
      "No Improvement.\n"
     ]
    },
    {
     "name": "stderr",
     "output_type": "stream",
     "text": [
      "100%|█████████▉| 3135/3140 [00:15<00:00, 196.98it/s]\n",
      " 99%|█████████▉| 550/555 [00:58<00:00,  8.82it/s]\n"
     ]
    },
    {
     "name": "stdout",
     "output_type": "stream",
     "text": [
      "Epoch: 385/1000 Train Loss: 0.010 Train Acc: 0.989 Valid Loss: 0.188 Valid Acc: 0.807 Valid Pre: 0.228 Valid Reca: 0.228 Valid F1: 0.215\n",
      "No Improvement.\n"
     ]
    },
    {
     "name": "stderr",
     "output_type": "stream",
     "text": [
      "100%|█████████▉| 3135/3140 [00:15<00:00, 197.87it/s]\n",
      " 99%|█████████▉| 550/555 [00:59<00:00,  8.61it/s]\n"
     ]
    },
    {
     "name": "stdout",
     "output_type": "stream",
     "text": [
      "Epoch: 386/1000 Train Loss: 0.010 Train Acc: 0.989 Valid Loss: 0.192 Valid Acc: 0.802 Valid Pre: 0.224 Valid Reca: 0.232 Valid F1: 0.217\n",
      "No Improvement.\n"
     ]
    },
    {
     "name": "stderr",
     "output_type": "stream",
     "text": [
      "100%|█████████▉| 3135/3140 [00:16<00:00, 199.18it/s]\n",
      " 99%|█████████▉| 550/555 [00:59<00:00,  8.70it/s]\n"
     ]
    },
    {
     "name": "stdout",
     "output_type": "stream",
     "text": [
      "Epoch: 387/1000 Train Loss: 0.010 Train Acc: 0.989 Valid Loss: 0.188 Valid Acc: 0.806 Valid Pre: 0.223 Valid Reca: 0.231 Valid F1: 0.215\n",
      "No Improvement.\n"
     ]
    },
    {
     "name": "stderr",
     "output_type": "stream",
     "text": [
      "100%|█████████▉| 3135/3140 [00:15<00:00, 199.07it/s]\n",
      " 99%|█████████▉| 550/555 [01:00<00:00,  8.57it/s]\n"
     ]
    },
    {
     "name": "stdout",
     "output_type": "stream",
     "text": [
      "Epoch: 388/1000 Train Loss: 0.010 Train Acc: 0.989 Valid Loss: 0.191 Valid Acc: 0.804 Valid Pre: 0.230 Valid Reca: 0.236 Valid F1: 0.218\n",
      "No Improvement.\n"
     ]
    },
    {
     "name": "stderr",
     "output_type": "stream",
     "text": [
      "100%|█████████▉| 3135/3140 [00:15<00:00, 201.37it/s]\n",
      " 99%|█████████▉| 550/555 [01:00<00:00,  8.62it/s]\n"
     ]
    },
    {
     "name": "stdout",
     "output_type": "stream",
     "text": [
      "Epoch: 389/1000 Train Loss: 0.010 Train Acc: 0.990 Valid Loss: 0.193 Valid Acc: 0.801 Valid Pre: 0.227 Valid Reca: 0.226 Valid F1: 0.213\n",
      "No Improvement.\n"
     ]
    },
    {
     "name": "stderr",
     "output_type": "stream",
     "text": [
      "100%|█████████▉| 3135/3140 [00:15<00:00, 203.57it/s]\n",
      " 99%|█████████▉| 550/555 [01:00<00:00,  8.42it/s]\n"
     ]
    },
    {
     "name": "stdout",
     "output_type": "stream",
     "text": [
      "Epoch: 390/1000 Train Loss: 0.012 Train Acc: 0.987 Valid Loss: 0.193 Valid Acc: 0.802 Valid Pre: 0.223 Valid Reca: 0.221 Valid F1: 0.208\n",
      "No Improvement.\n"
     ]
    },
    {
     "name": "stderr",
     "output_type": "stream",
     "text": [
      "100%|█████████▉| 3135/3140 [00:15<00:00, 200.32it/s]\n",
      " 99%|█████████▉| 550/555 [01:00<00:00,  8.50it/s]\n"
     ]
    },
    {
     "name": "stdout",
     "output_type": "stream",
     "text": [
      "Epoch: 391/1000 Train Loss: 0.010 Train Acc: 0.990 Valid Loss: 0.194 Valid Acc: 0.800 Valid Pre: 0.212 Valid Reca: 0.213 Valid F1: 0.198\n",
      "No Improvement.\n"
     ]
    },
    {
     "name": "stderr",
     "output_type": "stream",
     "text": [
      "100%|█████████▉| 3135/3140 [00:15<00:00, 196.41it/s]\n",
      " 99%|█████████▉| 550/555 [01:00<00:00,  8.47it/s]\n"
     ]
    },
    {
     "name": "stdout",
     "output_type": "stream",
     "text": [
      "Epoch: 392/1000 Train Loss: 0.010 Train Acc: 0.989 Valid Loss: 0.191 Valid Acc: 0.803 Valid Pre: 0.232 Valid Reca: 0.226 Valid F1: 0.214\n",
      "No Improvement.\n"
     ]
    },
    {
     "name": "stderr",
     "output_type": "stream",
     "text": [
      "100%|█████████▉| 3135/3140 [00:15<00:00, 201.49it/s]\n",
      " 99%|█████████▉| 550/555 [01:01<00:00,  8.36it/s]\n"
     ]
    },
    {
     "name": "stdout",
     "output_type": "stream",
     "text": [
      "Epoch: 393/1000 Train Loss: 0.008 Train Acc: 0.991 Valid Loss: 0.190 Valid Acc: 0.803 Valid Pre: 0.237 Valid Reca: 0.233 Valid F1: 0.217\n",
      "No Improvement.\n"
     ]
    },
    {
     "name": "stderr",
     "output_type": "stream",
     "text": [
      "100%|█████████▉| 3135/3140 [00:15<00:00, 194.99it/s]\n",
      " 99%|█████████▉| 550/555 [01:01<00:00,  8.25it/s]\n"
     ]
    },
    {
     "name": "stdout",
     "output_type": "stream",
     "text": [
      "Epoch: 394/1000 Train Loss: 0.009 Train Acc: 0.990 Valid Loss: 0.194 Valid Acc: 0.802 Valid Pre: 0.230 Valid Reca: 0.220 Valid F1: 0.208\n",
      "No Improvement.\n"
     ]
    },
    {
     "name": "stderr",
     "output_type": "stream",
     "text": [
      "100%|█████████▉| 3135/3140 [00:16<00:00, 197.04it/s]\n",
      " 99%|█████████▉| 550/555 [01:01<00:00,  8.30it/s]\n"
     ]
    },
    {
     "name": "stdout",
     "output_type": "stream",
     "text": [
      "Epoch: 395/1000 Train Loss: 0.010 Train Acc: 0.989 Valid Loss: 0.192 Valid Acc: 0.803 Valid Pre: 0.220 Valid Reca: 0.218 Valid F1: 0.207\n",
      "No Improvement.\n"
     ]
    },
    {
     "name": "stderr",
     "output_type": "stream",
     "text": [
      "100%|█████████▉| 3135/3140 [00:15<00:00, 198.17it/s]\n",
      " 99%|█████████▉| 550/555 [01:02<00:00,  8.35it/s]\n"
     ]
    },
    {
     "name": "stdout",
     "output_type": "stream",
     "text": [
      "Epoch: 396/1000 Train Loss: 0.011 Train Acc: 0.989 Valid Loss: 0.191 Valid Acc: 0.803 Valid Pre: 0.227 Valid Reca: 0.229 Valid F1: 0.217\n",
      "No Improvement.\n"
     ]
    },
    {
     "name": "stderr",
     "output_type": "stream",
     "text": [
      "100%|█████████▉| 3135/3140 [00:16<00:00, 196.99it/s]\n",
      " 99%|█████████▉| 550/555 [01:02<00:00,  8.18it/s]\n"
     ]
    },
    {
     "name": "stdout",
     "output_type": "stream",
     "text": [
      "Epoch: 397/1000 Train Loss: 0.009 Train Acc: 0.991 Valid Loss: 0.192 Valid Acc: 0.802 Valid Pre: 0.234 Valid Reca: 0.228 Valid F1: 0.216\n",
      "No Improvement.\n"
     ]
    },
    {
     "name": "stderr",
     "output_type": "stream",
     "text": [
      "100%|█████████▉| 3135/3140 [00:16<00:00, 196.91it/s]\n",
      " 99%|█████████▉| 550/555 [01:02<00:00,  8.26it/s]\n"
     ]
    },
    {
     "name": "stdout",
     "output_type": "stream",
     "text": [
      "Epoch: 398/1000 Train Loss: 0.010 Train Acc: 0.989 Valid Loss: 0.192 Valid Acc: 0.803 Valid Pre: 0.239 Valid Reca: 0.236 Valid F1: 0.224\n",
      "No Improvement.\n"
     ]
    },
    {
     "name": "stderr",
     "output_type": "stream",
     "text": [
      "100%|█████████▉| 3135/3140 [00:16<00:00, 187.37it/s]\n",
      " 99%|█████████▉| 550/555 [01:03<00:00,  8.09it/s]\n"
     ]
    },
    {
     "name": "stdout",
     "output_type": "stream",
     "text": [
      "Epoch: 399/1000 Train Loss: 0.010 Train Acc: 0.989 Valid Loss: 0.195 Valid Acc: 0.800 Valid Pre: 0.236 Valid Reca: 0.228 Valid F1: 0.219\n",
      "No Improvement.\n"
     ]
    },
    {
     "name": "stderr",
     "output_type": "stream",
     "text": [
      "100%|█████████▉| 3135/3140 [00:16<00:00, 196.33it/s]\n",
      " 99%|█████████▉| 550/555 [01:03<00:00,  8.24it/s]\n"
     ]
    },
    {
     "name": "stdout",
     "output_type": "stream",
     "text": [
      "Epoch: 400/1000 Train Loss: 0.010 Train Acc: 0.990 Valid Loss: 0.197 Valid Acc: 0.799 Valid Pre: 0.224 Valid Reca: 0.220 Valid F1: 0.208\n",
      "No Improvement.\n"
     ]
    },
    {
     "name": "stderr",
     "output_type": "stream",
     "text": [
      "100%|█████████▉| 3135/3140 [00:16<00:00, 193.29it/s]\n",
      " 99%|█████████▉| 550/555 [01:02<00:00,  8.27it/s]\n"
     ]
    },
    {
     "name": "stdout",
     "output_type": "stream",
     "text": [
      "Epoch: 401/1000 Train Loss: 0.010 Train Acc: 0.989 Valid Loss: 0.191 Valid Acc: 0.804 Valid Pre: 0.239 Valid Reca: 0.235 Valid F1: 0.220\n",
      "No Improvement.\n"
     ]
    },
    {
     "name": "stderr",
     "output_type": "stream",
     "text": [
      "100%|█████████▉| 3135/3140 [00:16<00:00, 191.92it/s]\n",
      " 99%|█████████▉| 550/555 [01:03<00:00,  8.08it/s]\n"
     ]
    },
    {
     "name": "stdout",
     "output_type": "stream",
     "text": [
      "Epoch: 402/1000 Train Loss: 0.010 Train Acc: 0.989 Valid Loss: 0.192 Valid Acc: 0.801 Valid Pre: 0.233 Valid Reca: 0.232 Valid F1: 0.219\n",
      "No Improvement.\n"
     ]
    },
    {
     "name": "stderr",
     "output_type": "stream",
     "text": [
      "100%|█████████▉| 3135/3140 [00:16<00:00, 194.60it/s]\n",
      " 99%|█████████▉| 550/555 [01:04<00:00,  8.00it/s]\n"
     ]
    },
    {
     "name": "stdout",
     "output_type": "stream",
     "text": [
      "Epoch: 403/1000 Train Loss: 0.009 Train Acc: 0.990 Valid Loss: 0.197 Valid Acc: 0.796 Valid Pre: 0.230 Valid Reca: 0.228 Valid F1: 0.215\n",
      "No Improvement.\n"
     ]
    },
    {
     "name": "stderr",
     "output_type": "stream",
     "text": [
      "100%|█████████▉| 3135/3140 [00:16<00:00, 190.94it/s]\n",
      " 99%|█████████▉| 550/555 [01:04<00:00,  7.94it/s]\n"
     ]
    },
    {
     "name": "stdout",
     "output_type": "stream",
     "text": [
      "Epoch: 404/1000 Train Loss: 0.010 Train Acc: 0.989 Valid Loss: 0.196 Valid Acc: 0.798 Valid Pre: 0.228 Valid Reca: 0.224 Valid F1: 0.209\n",
      "No Improvement.\n"
     ]
    },
    {
     "name": "stderr",
     "output_type": "stream",
     "text": [
      "100%|█████████▉| 3135/3140 [00:16<00:00, 184.77it/s]\n",
      " 99%|█████████▉| 550/555 [01:03<00:00,  8.08it/s]\n"
     ]
    },
    {
     "name": "stdout",
     "output_type": "stream",
     "text": [
      "Epoch: 405/1000 Train Loss: 0.011 Train Acc: 0.988 Valid Loss: 0.196 Valid Acc: 0.798 Valid Pre: 0.231 Valid Reca: 0.229 Valid F1: 0.215\n",
      "No Improvement.\n"
     ]
    },
    {
     "name": "stderr",
     "output_type": "stream",
     "text": [
      "100%|█████████▉| 3135/3140 [00:16<00:00, 191.07it/s]\n",
      " 99%|█████████▉| 550/555 [01:04<00:00,  7.98it/s]\n"
     ]
    },
    {
     "name": "stdout",
     "output_type": "stream",
     "text": [
      "Epoch: 406/1000 Train Loss: 0.010 Train Acc: 0.989 Valid Loss: 0.198 Valid Acc: 0.795 Valid Pre: 0.219 Valid Reca: 0.216 Valid F1: 0.203\n",
      "No Improvement.\n"
     ]
    },
    {
     "name": "stderr",
     "output_type": "stream",
     "text": [
      "100%|█████████▉| 3135/3140 [00:16<00:00, 189.92it/s]\n",
      " 99%|█████████▉| 550/555 [01:05<00:00,  7.83it/s]\n"
     ]
    },
    {
     "name": "stdout",
     "output_type": "stream",
     "text": [
      "Epoch: 407/1000 Train Loss: 0.010 Train Acc: 0.989 Valid Loss: 0.197 Valid Acc: 0.798 Valid Pre: 0.219 Valid Reca: 0.225 Valid F1: 0.206\n",
      "No Improvement.\n"
     ]
    },
    {
     "name": "stderr",
     "output_type": "stream",
     "text": [
      "100%|█████████▉| 3135/3140 [00:16<00:00, 193.04it/s]\n",
      " 99%|█████████▉| 550/555 [01:05<00:00,  7.92it/s]\n"
     ]
    },
    {
     "name": "stdout",
     "output_type": "stream",
     "text": [
      "Epoch: 408/1000 Train Loss: 0.011 Train Acc: 0.988 Valid Loss: 0.198 Valid Acc: 0.797 Valid Pre: 0.225 Valid Reca: 0.221 Valid F1: 0.208\n",
      "No Improvement.\n"
     ]
    },
    {
     "name": "stderr",
     "output_type": "stream",
     "text": [
      "100%|█████████▉| 3135/3140 [00:16<00:00, 188.43it/s]\n",
      " 99%|█████████▉| 550/555 [01:06<00:00,  7.76it/s]\n"
     ]
    },
    {
     "name": "stdout",
     "output_type": "stream",
     "text": [
      "Epoch: 409/1000 Train Loss: 0.010 Train Acc: 0.989 Valid Loss: 0.198 Valid Acc: 0.798 Valid Pre: 0.218 Valid Reca: 0.207 Valid F1: 0.201\n",
      "No Improvement.\n"
     ]
    },
    {
     "name": "stderr",
     "output_type": "stream",
     "text": [
      "100%|█████████▉| 3135/3140 [00:16<00:00, 189.53it/s]\n",
      " 99%|█████████▉| 550/555 [01:05<00:00,  7.79it/s]\n"
     ]
    },
    {
     "name": "stdout",
     "output_type": "stream",
     "text": [
      "Epoch: 410/1000 Train Loss: 0.009 Train Acc: 0.990 Valid Loss: 0.198 Valid Acc: 0.798 Valid Pre: 0.207 Valid Reca: 0.203 Valid F1: 0.193\n",
      "No Improvement.\n"
     ]
    },
    {
     "name": "stderr",
     "output_type": "stream",
     "text": [
      "100%|█████████▉| 3135/3140 [00:17<00:00, 188.19it/s]\n",
      " 99%|█████████▉| 550/555 [01:06<00:00,  7.80it/s]\n"
     ]
    },
    {
     "name": "stdout",
     "output_type": "stream",
     "text": [
      "Epoch: 411/1000 Train Loss: 0.010 Train Acc: 0.989 Valid Loss: 0.197 Valid Acc: 0.799 Valid Pre: 0.228 Valid Reca: 0.231 Valid F1: 0.213\n",
      "No Improvement.\n"
     ]
    },
    {
     "name": "stderr",
     "output_type": "stream",
     "text": [
      "100%|█████████▉| 3135/3140 [00:16<00:00, 188.08it/s]\n",
      " 99%|█████████▉| 550/555 [01:07<00:00,  7.71it/s]\n"
     ]
    },
    {
     "name": "stdout",
     "output_type": "stream",
     "text": [
      "Epoch: 412/1000 Train Loss: 0.009 Train Acc: 0.990 Valid Loss: 0.198 Valid Acc: 0.798 Valid Pre: 0.235 Valid Reca: 0.233 Valid F1: 0.222\n",
      "No Improvement.\n"
     ]
    },
    {
     "name": "stderr",
     "output_type": "stream",
     "text": [
      "100%|█████████▉| 3135/3140 [00:16<00:00, 190.77it/s]\n",
      " 99%|█████████▉| 550/555 [01:07<00:00,  7.62it/s]\n"
     ]
    },
    {
     "name": "stdout",
     "output_type": "stream",
     "text": [
      "Epoch: 413/1000 Train Loss: 0.010 Train Acc: 0.989 Valid Loss: 0.202 Valid Acc: 0.794 Valid Pre: 0.234 Valid Reca: 0.229 Valid F1: 0.212\n",
      "No Improvement.\n"
     ]
    },
    {
     "name": "stderr",
     "output_type": "stream",
     "text": [
      "100%|█████████▉| 3135/3140 [00:16<00:00, 189.89it/s]\n",
      " 99%|█████████▉| 550/555 [01:07<00:00,  7.64it/s]\n"
     ]
    },
    {
     "name": "stdout",
     "output_type": "stream",
     "text": [
      "Epoch: 414/1000 Train Loss: 0.009 Train Acc: 0.990 Valid Loss: 0.198 Valid Acc: 0.797 Valid Pre: 0.234 Valid Reca: 0.226 Valid F1: 0.214\n",
      "No Improvement.\n"
     ]
    },
    {
     "name": "stderr",
     "output_type": "stream",
     "text": [
      "100%|█████████▉| 3135/3140 [00:17<00:00, 187.77it/s]\n",
      " 99%|█████████▉| 550/555 [01:07<00:00,  7.64it/s]\n"
     ]
    },
    {
     "name": "stdout",
     "output_type": "stream",
     "text": [
      "Epoch: 415/1000 Train Loss: 0.009 Train Acc: 0.990 Valid Loss: 0.199 Valid Acc: 0.796 Valid Pre: 0.250 Valid Reca: 0.248 Valid F1: 0.231\n",
      "No Improvement.\n"
     ]
    },
    {
     "name": "stderr",
     "output_type": "stream",
     "text": [
      "100%|█████████▉| 3135/3140 [00:16<00:00, 189.21it/s]\n",
      " 99%|█████████▉| 550/555 [01:08<00:00,  7.57it/s]\n"
     ]
    },
    {
     "name": "stdout",
     "output_type": "stream",
     "text": [
      "Epoch: 416/1000 Train Loss: 0.010 Train Acc: 0.989 Valid Loss: 0.194 Valid Acc: 0.802 Valid Pre: 0.234 Valid Reca: 0.228 Valid F1: 0.215\n",
      "No Improvement.\n"
     ]
    },
    {
     "name": "stderr",
     "output_type": "stream",
     "text": [
      "100%|█████████▉| 3135/3140 [00:16<00:00, 187.45it/s]\n",
      " 99%|█████████▉| 550/555 [01:08<00:00,  7.52it/s]\n"
     ]
    },
    {
     "name": "stdout",
     "output_type": "stream",
     "text": [
      "Epoch: 417/1000 Train Loss: 0.010 Train Acc: 0.989 Valid Loss: 0.194 Valid Acc: 0.802 Valid Pre: 0.225 Valid Reca: 0.222 Valid F1: 0.207\n",
      "No Improvement.\n"
     ]
    },
    {
     "name": "stderr",
     "output_type": "stream",
     "text": [
      "100%|█████████▉| 3135/3140 [00:16<00:00, 189.23it/s]\n",
      " 99%|█████████▉| 550/555 [01:08<00:00,  7.56it/s]\n"
     ]
    },
    {
     "name": "stdout",
     "output_type": "stream",
     "text": [
      "Epoch: 418/1000 Train Loss: 0.008 Train Acc: 0.991 Valid Loss: 0.193 Valid Acc: 0.801 Valid Pre: 0.240 Valid Reca: 0.235 Valid F1: 0.217\n",
      "No Improvement.\n"
     ]
    },
    {
     "name": "stderr",
     "output_type": "stream",
     "text": [
      "100%|█████████▉| 3135/3140 [00:16<00:00, 189.59it/s]\n",
      " 99%|█████████▉| 550/555 [01:09<00:00,  7.46it/s]\n"
     ]
    },
    {
     "name": "stdout",
     "output_type": "stream",
     "text": [
      "Epoch: 419/1000 Train Loss: 0.011 Train Acc: 0.989 Valid Loss: 0.196 Valid Acc: 0.799 Valid Pre: 0.252 Valid Reca: 0.232 Valid F1: 0.216\n",
      "No Improvement.\n"
     ]
    },
    {
     "name": "stderr",
     "output_type": "stream",
     "text": [
      "100%|█████████▉| 3135/3140 [00:16<00:00, 186.62it/s]\n",
      " 99%|█████████▉| 550/555 [01:09<00:00,  7.47it/s]\n"
     ]
    },
    {
     "name": "stdout",
     "output_type": "stream",
     "text": [
      "Epoch: 420/1000 Train Loss: 0.010 Train Acc: 0.989 Valid Loss: 0.198 Valid Acc: 0.798 Valid Pre: 0.223 Valid Reca: 0.214 Valid F1: 0.204\n",
      "No Improvement.\n"
     ]
    },
    {
     "name": "stderr",
     "output_type": "stream",
     "text": [
      "100%|█████████▉| 3135/3140 [00:17<00:00, 187.38it/s]\n",
      " 99%|█████████▉| 550/555 [01:09<00:00,  7.41it/s]\n"
     ]
    },
    {
     "name": "stdout",
     "output_type": "stream",
     "text": [
      "Epoch: 421/1000 Train Loss: 0.011 Train Acc: 0.989 Valid Loss: 0.196 Valid Acc: 0.800 Valid Pre: 0.222 Valid Reca: 0.214 Valid F1: 0.203\n",
      "No Improvement.\n"
     ]
    },
    {
     "name": "stderr",
     "output_type": "stream",
     "text": [
      "100%|█████████▉| 3135/3140 [00:16<00:00, 187.88it/s]\n",
      " 99%|█████████▉| 550/555 [01:10<00:00,  7.34it/s]\n"
     ]
    },
    {
     "name": "stdout",
     "output_type": "stream",
     "text": [
      "Epoch: 422/1000 Train Loss: 0.011 Train Acc: 0.989 Valid Loss: 0.197 Valid Acc: 0.800 Valid Pre: 0.214 Valid Reca: 0.213 Valid F1: 0.201\n",
      "No Improvement.\n"
     ]
    },
    {
     "name": "stderr",
     "output_type": "stream",
     "text": [
      "100%|█████████▉| 3135/3140 [00:17<00:00, 181.25it/s]\n",
      " 99%|█████████▉| 550/555 [01:10<00:00,  7.33it/s]\n"
     ]
    },
    {
     "name": "stdout",
     "output_type": "stream",
     "text": [
      "Epoch: 423/1000 Train Loss: 0.011 Train Acc: 0.988 Valid Loss: 0.197 Valid Acc: 0.798 Valid Pre: 0.227 Valid Reca: 0.222 Valid F1: 0.209\n",
      "No Improvement.\n"
     ]
    },
    {
     "name": "stderr",
     "output_type": "stream",
     "text": [
      "100%|█████████▉| 3135/3140 [00:16<00:00, 183.17it/s]\n",
      " 99%|█████████▉| 550/555 [01:10<00:00,  7.26it/s]\n"
     ]
    },
    {
     "name": "stdout",
     "output_type": "stream",
     "text": [
      "Epoch: 424/1000 Train Loss: 0.010 Train Acc: 0.989 Valid Loss: 0.198 Valid Acc: 0.798 Valid Pre: 0.215 Valid Reca: 0.204 Valid F1: 0.197\n",
      "No Improvement.\n"
     ]
    },
    {
     "name": "stderr",
     "output_type": "stream",
     "text": [
      "100%|█████████▉| 3135/3140 [00:16<00:00, 181.92it/s]\n",
      " 99%|█████████▉| 550/555 [01:11<00:00,  7.26it/s]\n"
     ]
    },
    {
     "name": "stdout",
     "output_type": "stream",
     "text": [
      "Epoch: 425/1000 Train Loss: 0.010 Train Acc: 0.988 Valid Loss: 0.197 Valid Acc: 0.798 Valid Pre: 0.209 Valid Reca: 0.213 Valid F1: 0.197\n",
      "No Improvement.\n"
     ]
    },
    {
     "name": "stderr",
     "output_type": "stream",
     "text": [
      "100%|█████████▉| 3135/3140 [00:16<00:00, 184.50it/s]\n",
      " 99%|█████████▉| 550/555 [01:10<00:00,  7.35it/s]\n"
     ]
    },
    {
     "name": "stdout",
     "output_type": "stream",
     "text": [
      "Epoch: 426/1000 Train Loss: 0.010 Train Acc: 0.989 Valid Loss: 0.198 Valid Acc: 0.797 Valid Pre: 0.221 Valid Reca: 0.228 Valid F1: 0.206\n",
      "No Improvement.\n"
     ]
    },
    {
     "name": "stderr",
     "output_type": "stream",
     "text": [
      "100%|█████████▉| 3135/3140 [00:17<00:00, 184.10it/s]\n",
      " 99%|█████████▉| 550/555 [01:11<00:00,  7.27it/s]\n"
     ]
    },
    {
     "name": "stdout",
     "output_type": "stream",
     "text": [
      "Epoch: 427/1000 Train Loss: 0.011 Train Acc: 0.989 Valid Loss: 0.201 Valid Acc: 0.794 Valid Pre: 0.210 Valid Reca: 0.218 Valid F1: 0.197\n",
      "No Improvement.\n"
     ]
    },
    {
     "name": "stderr",
     "output_type": "stream",
     "text": [
      "100%|█████████▉| 3135/3140 [00:17<00:00, 183.55it/s]\n",
      " 99%|█████████▉| 550/555 [01:11<00:00,  7.19it/s]\n"
     ]
    },
    {
     "name": "stdout",
     "output_type": "stream",
     "text": [
      "Epoch: 428/1000 Train Loss: 0.011 Train Acc: 0.988 Valid Loss: 0.196 Valid Acc: 0.800 Valid Pre: 0.217 Valid Reca: 0.227 Valid F1: 0.207\n",
      "No Improvement.\n"
     ]
    },
    {
     "name": "stderr",
     "output_type": "stream",
     "text": [
      "100%|█████████▉| 3135/3140 [00:16<00:00, 181.07it/s]\n",
      " 99%|█████████▉| 550/555 [01:12<00:00,  7.17it/s]\n"
     ]
    },
    {
     "name": "stdout",
     "output_type": "stream",
     "text": [
      "Epoch: 429/1000 Train Loss: 0.010 Train Acc: 0.990 Valid Loss: 0.196 Valid Acc: 0.800 Valid Pre: 0.222 Valid Reca: 0.227 Valid F1: 0.209\n",
      "No Improvement.\n"
     ]
    },
    {
     "name": "stderr",
     "output_type": "stream",
     "text": [
      "100%|█████████▉| 3135/3140 [00:16<00:00, 182.37it/s]\n",
      " 99%|█████████▉| 550/555 [01:12<00:00,  7.16it/s]\n"
     ]
    },
    {
     "name": "stdout",
     "output_type": "stream",
     "text": [
      "Epoch: 430/1000 Train Loss: 0.010 Train Acc: 0.989 Valid Loss: 0.192 Valid Acc: 0.805 Valid Pre: 0.216 Valid Reca: 0.217 Valid F1: 0.202\n",
      "No Improvement.\n"
     ]
    },
    {
     "name": "stderr",
     "output_type": "stream",
     "text": [
      "100%|█████████▉| 3135/3140 [00:17<00:00, 183.63it/s]\n",
      " 99%|█████████▉| 550/555 [01:12<00:00,  7.08it/s]\n"
     ]
    },
    {
     "name": "stdout",
     "output_type": "stream",
     "text": [
      "Epoch: 431/1000 Train Loss: 0.010 Train Acc: 0.990 Valid Loss: 0.196 Valid Acc: 0.799 Valid Pre: 0.227 Valid Reca: 0.224 Valid F1: 0.212\n",
      "No Improvement.\n"
     ]
    },
    {
     "name": "stderr",
     "output_type": "stream",
     "text": [
      "100%|█████████▉| 3135/3140 [00:17<00:00, 180.75it/s]\n",
      " 99%|█████████▉| 550/555 [01:13<00:00,  7.07it/s]\n"
     ]
    },
    {
     "name": "stdout",
     "output_type": "stream",
     "text": [
      "Epoch: 432/1000 Train Loss: 0.012 Train Acc: 0.987 Valid Loss: 0.198 Valid Acc: 0.798 Valid Pre: 0.236 Valid Reca: 0.236 Valid F1: 0.220\n",
      "No Improvement.\n"
     ]
    },
    {
     "name": "stderr",
     "output_type": "stream",
     "text": [
      "100%|█████████▉| 3135/3140 [00:17<00:00, 184.86it/s]\n",
      " 99%|█████████▉| 550/555 [01:13<00:00,  7.03it/s]\n"
     ]
    },
    {
     "name": "stdout",
     "output_type": "stream",
     "text": [
      "Epoch: 433/1000 Train Loss: 0.010 Train Acc: 0.989 Valid Loss: 0.198 Valid Acc: 0.798 Valid Pre: 0.219 Valid Reca: 0.216 Valid F1: 0.200\n",
      "No Improvement.\n"
     ]
    },
    {
     "name": "stderr",
     "output_type": "stream",
     "text": [
      "100%|█████████▉| 3135/3140 [00:16<00:00, 184.36it/s]\n",
      " 99%|█████████▉| 550/555 [01:13<00:00,  7.00it/s]\n"
     ]
    },
    {
     "name": "stdout",
     "output_type": "stream",
     "text": [
      "Epoch: 434/1000 Train Loss: 0.009 Train Acc: 0.990 Valid Loss: 0.198 Valid Acc: 0.796 Valid Pre: 0.222 Valid Reca: 0.225 Valid F1: 0.209\n",
      "No Improvement.\n"
     ]
    },
    {
     "name": "stderr",
     "output_type": "stream",
     "text": [
      "100%|█████████▉| 3135/3140 [00:17<00:00, 186.24it/s]\n",
      " 99%|█████████▉| 550/555 [01:13<00:00,  7.00it/s]\n"
     ]
    },
    {
     "name": "stdout",
     "output_type": "stream",
     "text": [
      "Epoch: 435/1000 Train Loss: 0.011 Train Acc: 0.989 Valid Loss: 0.193 Valid Acc: 0.801 Valid Pre: 0.224 Valid Reca: 0.227 Valid F1: 0.211\n",
      "No Improvement.\n"
     ]
    },
    {
     "name": "stderr",
     "output_type": "stream",
     "text": [
      "100%|█████████▉| 3135/3140 [00:17<00:00, 183.41it/s]\n",
      " 99%|█████████▉| 550/555 [01:14<00:00,  6.95it/s]\n"
     ]
    },
    {
     "name": "stdout",
     "output_type": "stream",
     "text": [
      "Epoch: 436/1000 Train Loss: 0.010 Train Acc: 0.989 Valid Loss: 0.197 Valid Acc: 0.798 Valid Pre: 0.233 Valid Reca: 0.235 Valid F1: 0.219\n",
      "No Improvement.\n"
     ]
    },
    {
     "name": "stderr",
     "output_type": "stream",
     "text": [
      "100%|█████████▉| 3135/3140 [00:17<00:00, 185.32it/s]\n",
      " 99%|█████████▉| 550/555 [01:14<00:00,  6.97it/s]\n"
     ]
    },
    {
     "name": "stdout",
     "output_type": "stream",
     "text": [
      "Epoch: 437/1000 Train Loss: 0.010 Train Acc: 0.989 Valid Loss: 0.199 Valid Acc: 0.792 Valid Pre: 0.227 Valid Reca: 0.239 Valid F1: 0.216\n",
      "No Improvement.\n"
     ]
    },
    {
     "name": "stderr",
     "output_type": "stream",
     "text": [
      "100%|█████████▉| 3135/3140 [00:17<00:00, 185.19it/s]\n",
      " 99%|█████████▉| 550/555 [01:15<00:00,  6.87it/s]\n"
     ]
    },
    {
     "name": "stdout",
     "output_type": "stream",
     "text": [
      "Epoch: 438/1000 Train Loss: 0.010 Train Acc: 0.989 Valid Loss: 0.194 Valid Acc: 0.800 Valid Pre: 0.212 Valid Reca: 0.220 Valid F1: 0.202\n",
      "No Improvement.\n"
     ]
    },
    {
     "name": "stderr",
     "output_type": "stream",
     "text": [
      "100%|█████████▉| 3135/3140 [00:17<00:00, 184.75it/s]\n",
      " 99%|█████████▉| 550/555 [01:15<00:00,  6.86it/s]\n"
     ]
    },
    {
     "name": "stdout",
     "output_type": "stream",
     "text": [
      "Epoch: 439/1000 Train Loss: 0.010 Train Acc: 0.989 Valid Loss: 0.196 Valid Acc: 0.798 Valid Pre: 0.226 Valid Reca: 0.228 Valid F1: 0.212\n",
      "No Improvement.\n"
     ]
    },
    {
     "name": "stderr",
     "output_type": "stream",
     "text": [
      "100%|█████████▉| 3135/3140 [00:17<00:00, 185.88it/s]\n",
      " 99%|█████████▉| 550/555 [01:15<00:00,  6.84it/s]\n"
     ]
    },
    {
     "name": "stdout",
     "output_type": "stream",
     "text": [
      "Epoch: 440/1000 Train Loss: 0.012 Train Acc: 0.987 Valid Loss: 0.195 Valid Acc: 0.799 Valid Pre: 0.220 Valid Reca: 0.223 Valid F1: 0.205\n",
      "No Improvement.\n"
     ]
    },
    {
     "name": "stderr",
     "output_type": "stream",
     "text": [
      "100%|█████████▉| 3135/3140 [00:17<00:00, 184.11it/s]\n",
      " 99%|█████████▉| 550/555 [01:15<00:00,  6.84it/s]\n"
     ]
    },
    {
     "name": "stdout",
     "output_type": "stream",
     "text": [
      "Epoch: 441/1000 Train Loss: 0.011 Train Acc: 0.988 Valid Loss: 0.192 Valid Acc: 0.802 Valid Pre: 0.228 Valid Reca: 0.227 Valid F1: 0.211\n",
      "No Improvement.\n"
     ]
    },
    {
     "name": "stderr",
     "output_type": "stream",
     "text": [
      "100%|█████████▉| 3135/3140 [00:17<00:00, 185.36it/s]\n",
      " 99%|█████████▉| 550/555 [01:16<00:00,  6.82it/s]\n"
     ]
    },
    {
     "name": "stdout",
     "output_type": "stream",
     "text": [
      "Epoch: 442/1000 Train Loss: 0.010 Train Acc: 0.989 Valid Loss: 0.191 Valid Acc: 0.805 Valid Pre: 0.230 Valid Reca: 0.227 Valid F1: 0.213\n",
      "No Improvement.\n"
     ]
    },
    {
     "name": "stderr",
     "output_type": "stream",
     "text": [
      "100%|█████████▉| 3135/3140 [00:17<00:00, 178.73it/s]\n",
      " 99%|█████████▉| 550/555 [01:16<00:00,  6.78it/s]\n"
     ]
    },
    {
     "name": "stdout",
     "output_type": "stream",
     "text": [
      "Epoch: 443/1000 Train Loss: 0.011 Train Acc: 0.988 Valid Loss: 0.193 Valid Acc: 0.803 Valid Pre: 0.217 Valid Reca: 0.220 Valid F1: 0.204\n",
      "No Improvement.\n"
     ]
    },
    {
     "name": "stderr",
     "output_type": "stream",
     "text": [
      "100%|█████████▉| 3135/3140 [00:17<00:00, 181.56it/s]\n",
      " 99%|█████████▉| 550/555 [01:16<00:00,  6.75it/s]\n"
     ]
    },
    {
     "name": "stdout",
     "output_type": "stream",
     "text": [
      "Epoch: 444/1000 Train Loss: 0.012 Train Acc: 0.987 Valid Loss: 0.191 Valid Acc: 0.802 Valid Pre: 0.229 Valid Reca: 0.223 Valid F1: 0.208\n",
      "No Improvement.\n"
     ]
    },
    {
     "name": "stderr",
     "output_type": "stream",
     "text": [
      "100%|█████████▉| 3135/3140 [00:17<00:00, 183.88it/s]\n",
      " 99%|█████████▉| 550/555 [01:16<00:00,  6.73it/s]\n"
     ]
    },
    {
     "name": "stdout",
     "output_type": "stream",
     "text": [
      "Epoch: 445/1000 Train Loss: 0.011 Train Acc: 0.988 Valid Loss: 0.190 Valid Acc: 0.806 Valid Pre: 0.212 Valid Reca: 0.216 Valid F1: 0.199\n",
      "No Improvement.\n"
     ]
    },
    {
     "name": "stderr",
     "output_type": "stream",
     "text": [
      "100%|█████████▉| 3135/3140 [00:17<00:00, 178.25it/s]\n",
      " 99%|█████████▉| 550/555 [01:16<00:00,  6.72it/s]\n"
     ]
    },
    {
     "name": "stdout",
     "output_type": "stream",
     "text": [
      "Epoch: 446/1000 Train Loss: 0.013 Train Acc: 0.986 Valid Loss: 0.190 Valid Acc: 0.804 Valid Pre: 0.228 Valid Reca: 0.230 Valid F1: 0.213\n",
      "No Improvement.\n"
     ]
    },
    {
     "name": "stderr",
     "output_type": "stream",
     "text": [
      "100%|█████████▉| 3135/3140 [00:17<00:00, 182.14it/s]\n",
      " 99%|█████████▉| 550/555 [01:17<00:00,  6.67it/s]\n"
     ]
    },
    {
     "name": "stdout",
     "output_type": "stream",
     "text": [
      "Epoch: 447/1000 Train Loss: 0.010 Train Acc: 0.989 Valid Loss: 0.192 Valid Acc: 0.800 Valid Pre: 0.230 Valid Reca: 0.226 Valid F1: 0.210\n",
      "No Improvement.\n"
     ]
    },
    {
     "name": "stderr",
     "output_type": "stream",
     "text": [
      "100%|█████████▉| 3135/3140 [00:17<00:00, 167.77it/s]\n",
      " 99%|█████████▉| 550/555 [01:17<00:00,  6.65it/s]\n"
     ]
    },
    {
     "name": "stdout",
     "output_type": "stream",
     "text": [
      "Epoch: 448/1000 Train Loss: 0.011 Train Acc: 0.988 Valid Loss: 0.194 Valid Acc: 0.801 Valid Pre: 0.213 Valid Reca: 0.211 Valid F1: 0.195\n",
      "No Improvement.\n"
     ]
    },
    {
     "name": "stderr",
     "output_type": "stream",
     "text": [
      "100%|█████████▉| 3135/3140 [00:17<00:00, 181.36it/s]\n",
      " 99%|█████████▉| 550/555 [01:18<00:00,  6.60it/s]\n"
     ]
    },
    {
     "name": "stdout",
     "output_type": "stream",
     "text": [
      "Epoch: 449/1000 Train Loss: 0.012 Train Acc: 0.987 Valid Loss: 0.192 Valid Acc: 0.804 Valid Pre: 0.235 Valid Reca: 0.227 Valid F1: 0.209\n",
      "No Improvement.\n"
     ]
    },
    {
     "name": "stderr",
     "output_type": "stream",
     "text": [
      "100%|█████████▉| 3135/3140 [00:17<00:00, 173.46it/s]\n",
      " 99%|█████████▉| 550/555 [01:18<00:00,  6.56it/s]\n"
     ]
    },
    {
     "name": "stdout",
     "output_type": "stream",
     "text": [
      "Epoch: 450/1000 Train Loss: 0.011 Train Acc: 0.988 Valid Loss: 0.190 Valid Acc: 0.806 Valid Pre: 0.233 Valid Reca: 0.229 Valid F1: 0.209\n",
      "No Improvement.\n"
     ]
    },
    {
     "name": "stderr",
     "output_type": "stream",
     "text": [
      "100%|█████████▉| 3135/3140 [00:17<00:00, 175.18it/s]\n",
      " 99%|█████████▉| 550/555 [01:19<00:00,  6.49it/s]\n"
     ]
    },
    {
     "name": "stdout",
     "output_type": "stream",
     "text": [
      "Epoch: 451/1000 Train Loss: 0.013 Train Acc: 0.986 Valid Loss: 0.193 Valid Acc: 0.802 Valid Pre: 0.229 Valid Reca: 0.235 Valid F1: 0.213\n",
      "No Improvement.\n"
     ]
    },
    {
     "name": "stderr",
     "output_type": "stream",
     "text": [
      "100%|█████████▉| 3135/3140 [00:17<00:00, 183.92it/s]\n",
      " 99%|█████████▉| 550/555 [01:19<00:00,  6.54it/s]\n"
     ]
    },
    {
     "name": "stdout",
     "output_type": "stream",
     "text": [
      "Epoch: 452/1000 Train Loss: 0.011 Train Acc: 0.988 Valid Loss: 0.193 Valid Acc: 0.801 Valid Pre: 0.230 Valid Reca: 0.233 Valid F1: 0.214\n",
      "No Improvement.\n"
     ]
    },
    {
     "name": "stderr",
     "output_type": "stream",
     "text": [
      "100%|█████████▉| 3135/3140 [00:17<00:00, 177.90it/s]\n",
      " 99%|█████████▉| 550/555 [01:19<00:00,  6.51it/s]\n"
     ]
    },
    {
     "name": "stdout",
     "output_type": "stream",
     "text": [
      "Epoch: 453/1000 Train Loss: 0.013 Train Acc: 0.986 Valid Loss: 0.191 Valid Acc: 0.805 Valid Pre: 0.234 Valid Reca: 0.227 Valid F1: 0.214\n",
      "No Improvement.\n"
     ]
    },
    {
     "name": "stderr",
     "output_type": "stream",
     "text": [
      "100%|█████████▉| 3135/3140 [00:17<00:00, 179.45it/s]\n",
      " 99%|█████████▉| 550/555 [01:20<00:00,  6.43it/s]\n"
     ]
    },
    {
     "name": "stdout",
     "output_type": "stream",
     "text": [
      "Epoch: 454/1000 Train Loss: 0.013 Train Acc: 0.986 Valid Loss: 0.195 Valid Acc: 0.801 Valid Pre: 0.239 Valid Reca: 0.237 Valid F1: 0.221\n",
      "No Improvement.\n"
     ]
    },
    {
     "name": "stderr",
     "output_type": "stream",
     "text": [
      "100%|█████████▉| 3135/3140 [00:17<00:00, 176.03it/s]\n",
      " 99%|█████████▉| 550/555 [01:20<00:00,  6.44it/s]\n"
     ]
    },
    {
     "name": "stdout",
     "output_type": "stream",
     "text": [
      "Epoch: 455/1000 Train Loss: 0.012 Train Acc: 0.987 Valid Loss: 0.198 Valid Acc: 0.798 Valid Pre: 0.211 Valid Reca: 0.213 Valid F1: 0.196\n",
      "No Improvement.\n"
     ]
    },
    {
     "name": "stderr",
     "output_type": "stream",
     "text": [
      "100%|█████████▉| 3135/3140 [00:17<00:00, 180.24it/s]\n",
      " 99%|█████████▉| 550/555 [01:21<00:00,  6.33it/s]\n"
     ]
    },
    {
     "name": "stdout",
     "output_type": "stream",
     "text": [
      "Epoch: 456/1000 Train Loss: 0.013 Train Acc: 0.986 Valid Loss: 0.196 Valid Acc: 0.799 Valid Pre: 0.228 Valid Reca: 0.226 Valid F1: 0.211\n",
      "No Improvement.\n"
     ]
    },
    {
     "name": "stderr",
     "output_type": "stream",
     "text": [
      "100%|█████████▉| 3135/3140 [00:17<00:00, 178.83it/s]\n",
      " 99%|█████████▉| 550/555 [01:20<00:00,  6.39it/s]\n"
     ]
    },
    {
     "name": "stdout",
     "output_type": "stream",
     "text": [
      "Epoch: 457/1000 Train Loss: 0.012 Train Acc: 0.987 Valid Loss: 0.197 Valid Acc: 0.798 Valid Pre: 0.223 Valid Reca: 0.223 Valid F1: 0.209\n",
      "No Improvement.\n"
     ]
    },
    {
     "name": "stderr",
     "output_type": "stream",
     "text": [
      "100%|█████████▉| 3135/3140 [00:17<00:00, 179.32it/s]\n",
      " 99%|█████████▉| 550/555 [01:21<00:00,  6.35it/s]\n"
     ]
    },
    {
     "name": "stdout",
     "output_type": "stream",
     "text": [
      "Epoch: 458/1000 Train Loss: 0.014 Train Acc: 0.985 Valid Loss: 0.198 Valid Acc: 0.798 Valid Pre: 0.222 Valid Reca: 0.222 Valid F1: 0.211\n",
      "No Improvement.\n"
     ]
    },
    {
     "name": "stderr",
     "output_type": "stream",
     "text": [
      "100%|█████████▉| 3135/3140 [00:18<00:00, 174.57it/s]\n",
      " 99%|█████████▉| 550/555 [01:22<00:00,  6.25it/s]\n"
     ]
    },
    {
     "name": "stdout",
     "output_type": "stream",
     "text": [
      "Epoch: 459/1000 Train Loss: 0.014 Train Acc: 0.984 Valid Loss: 0.190 Valid Acc: 0.805 Valid Pre: 0.215 Valid Reca: 0.217 Valid F1: 0.202\n",
      "No Improvement.\n"
     ]
    },
    {
     "name": "stderr",
     "output_type": "stream",
     "text": [
      "100%|█████████▉| 3135/3140 [00:18<00:00, 173.24it/s]\n",
      " 99%|█████████▉| 550/555 [01:22<00:00,  6.25it/s]\n"
     ]
    },
    {
     "name": "stdout",
     "output_type": "stream",
     "text": [
      "Epoch: 460/1000 Train Loss: 0.012 Train Acc: 0.987 Valid Loss: 0.193 Valid Acc: 0.802 Valid Pre: 0.236 Valid Reca: 0.231 Valid F1: 0.217\n",
      "No Improvement.\n"
     ]
    },
    {
     "name": "stderr",
     "output_type": "stream",
     "text": [
      "100%|█████████▉| 3135/3140 [00:17<00:00, 178.54it/s]\n",
      " 99%|█████████▉| 550/555 [01:22<00:00,  6.25it/s]\n"
     ]
    },
    {
     "name": "stdout",
     "output_type": "stream",
     "text": [
      "Epoch: 461/1000 Train Loss: 0.012 Train Acc: 0.987 Valid Loss: 0.192 Valid Acc: 0.804 Valid Pre: 0.213 Valid Reca: 0.212 Valid F1: 0.196\n",
      "No Improvement.\n"
     ]
    },
    {
     "name": "stderr",
     "output_type": "stream",
     "text": [
      "100%|█████████▉| 3135/3140 [00:18<00:00, 178.48it/s]\n",
      " 99%|█████████▉| 550/555 [01:22<00:00,  6.25it/s]\n"
     ]
    },
    {
     "name": "stdout",
     "output_type": "stream",
     "text": [
      "Epoch: 462/1000 Train Loss: 0.013 Train Acc: 0.986 Valid Loss: 0.190 Valid Acc: 0.805 Valid Pre: 0.208 Valid Reca: 0.215 Valid F1: 0.197\n",
      "No Improvement.\n"
     ]
    },
    {
     "name": "stderr",
     "output_type": "stream",
     "text": [
      "100%|█████████▉| 3135/3140 [00:18<00:00, 178.02it/s]\n",
      " 99%|█████████▉| 550/555 [01:23<00:00,  6.12it/s]\n"
     ]
    },
    {
     "name": "stdout",
     "output_type": "stream",
     "text": [
      "Epoch: 463/1000 Train Loss: 0.013 Train Acc: 0.986 Valid Loss: 0.192 Valid Acc: 0.802 Valid Pre: 0.225 Valid Reca: 0.232 Valid F1: 0.211\n",
      "No Improvement.\n"
     ]
    },
    {
     "name": "stderr",
     "output_type": "stream",
     "text": [
      "100%|█████████▉| 3135/3140 [00:17<00:00, 174.34it/s]\n",
      " 99%|█████████▉| 550/555 [01:24<00:00,  6.12it/s]\n"
     ]
    },
    {
     "name": "stdout",
     "output_type": "stream",
     "text": [
      "Epoch: 464/1000 Train Loss: 0.012 Train Acc: 0.987 Valid Loss: 0.196 Valid Acc: 0.798 Valid Pre: 0.233 Valid Reca: 0.221 Valid F1: 0.210\n",
      "No Improvement.\n"
     ]
    },
    {
     "name": "stderr",
     "output_type": "stream",
     "text": [
      "100%|█████████▉| 3135/3140 [00:18<00:00, 175.18it/s]\n",
      " 99%|█████████▉| 550/555 [01:24<00:00,  6.11it/s]\n"
     ]
    },
    {
     "name": "stdout",
     "output_type": "stream",
     "text": [
      "Epoch: 465/1000 Train Loss: 0.013 Train Acc: 0.986 Valid Loss: 0.195 Valid Acc: 0.800 Valid Pre: 0.220 Valid Reca: 0.225 Valid F1: 0.211\n",
      "No Improvement.\n"
     ]
    },
    {
     "name": "stderr",
     "output_type": "stream",
     "text": [
      "100%|█████████▉| 3135/3140 [00:18<00:00, 175.24it/s]\n",
      " 99%|█████████▉| 550/555 [01:24<00:00,  6.12it/s]\n"
     ]
    },
    {
     "name": "stdout",
     "output_type": "stream",
     "text": [
      "Epoch: 466/1000 Train Loss: 0.014 Train Acc: 0.985 Valid Loss: 0.201 Valid Acc: 0.794 Valid Pre: 0.233 Valid Reca: 0.235 Valid F1: 0.221\n",
      "No Improvement.\n"
     ]
    },
    {
     "name": "stderr",
     "output_type": "stream",
     "text": [
      "100%|█████████▉| 3135/3140 [00:18<00:00, 171.75it/s]\n",
      " 99%|█████████▉| 550/555 [01:25<00:00,  6.05it/s]\n"
     ]
    },
    {
     "name": "stdout",
     "output_type": "stream",
     "text": [
      "Epoch: 467/1000 Train Loss: 0.013 Train Acc: 0.986 Valid Loss: 0.197 Valid Acc: 0.798 Valid Pre: 0.231 Valid Reca: 0.235 Valid F1: 0.219\n",
      "No Improvement.\n"
     ]
    },
    {
     "name": "stderr",
     "output_type": "stream",
     "text": [
      "100%|█████████▉| 3135/3140 [00:17<00:00, 178.30it/s]\n",
      " 99%|█████████▉| 550/555 [01:25<00:00,  6.03it/s]\n"
     ]
    },
    {
     "name": "stdout",
     "output_type": "stream",
     "text": [
      "Epoch: 468/1000 Train Loss: 0.012 Train Acc: 0.986 Valid Loss: 0.197 Valid Acc: 0.797 Valid Pre: 0.243 Valid Reca: 0.247 Valid F1: 0.232\n",
      "No Improvement.\n"
     ]
    },
    {
     "name": "stderr",
     "output_type": "stream",
     "text": [
      "100%|█████████▉| 3135/3140 [00:18<00:00, 178.14it/s]\n",
      " 99%|█████████▉| 550/555 [01:25<00:00,  6.04it/s]\n"
     ]
    },
    {
     "name": "stdout",
     "output_type": "stream",
     "text": [
      "Epoch: 469/1000 Train Loss: 0.013 Train Acc: 0.986 Valid Loss: 0.197 Valid Acc: 0.798 Valid Pre: 0.222 Valid Reca: 0.231 Valid F1: 0.211\n",
      "No Improvement.\n"
     ]
    },
    {
     "name": "stderr",
     "output_type": "stream",
     "text": [
      "100%|█████████▉| 3135/3140 [00:18<00:00, 177.04it/s]\n",
      " 99%|█████████▉| 550/555 [01:26<00:00,  5.95it/s]\n"
     ]
    },
    {
     "name": "stdout",
     "output_type": "stream",
     "text": [
      "Epoch: 470/1000 Train Loss: 0.013 Train Acc: 0.986 Valid Loss: 0.198 Valid Acc: 0.799 Valid Pre: 0.220 Valid Reca: 0.228 Valid F1: 0.208\n",
      "No Improvement.\n"
     ]
    },
    {
     "name": "stderr",
     "output_type": "stream",
     "text": [
      "100%|█████████▉| 3135/3140 [00:18<00:00, 169.19it/s]\n",
      " 99%|█████████▉| 550/555 [01:27<00:00,  5.97it/s]\n"
     ]
    },
    {
     "name": "stdout",
     "output_type": "stream",
     "text": [
      "Epoch: 471/1000 Train Loss: 0.012 Train Acc: 0.987 Valid Loss: 0.196 Valid Acc: 0.799 Valid Pre: 0.211 Valid Reca: 0.225 Valid F1: 0.203\n",
      "No Improvement.\n"
     ]
    },
    {
     "name": "stderr",
     "output_type": "stream",
     "text": [
      "100%|█████████▉| 3135/3140 [00:17<00:00, 175.39it/s]\n",
      " 99%|█████████▉| 550/555 [01:27<00:00,  5.92it/s]\n"
     ]
    },
    {
     "name": "stdout",
     "output_type": "stream",
     "text": [
      "Epoch: 472/1000 Train Loss: 0.011 Train Acc: 0.988 Valid Loss: 0.195 Valid Acc: 0.799 Valid Pre: 0.218 Valid Reca: 0.229 Valid F1: 0.207\n",
      "No Improvement.\n"
     ]
    },
    {
     "name": "stderr",
     "output_type": "stream",
     "text": [
      "100%|█████████▉| 3135/3140 [00:18<00:00, 176.47it/s]\n",
      " 99%|█████████▉| 550/555 [01:27<00:00,  5.88it/s]\n"
     ]
    },
    {
     "name": "stdout",
     "output_type": "stream",
     "text": [
      "Epoch: 473/1000 Train Loss: 0.013 Train Acc: 0.986 Valid Loss: 0.200 Valid Acc: 0.794 Valid Pre: 0.219 Valid Reca: 0.227 Valid F1: 0.208\n",
      "No Improvement.\n"
     ]
    },
    {
     "name": "stderr",
     "output_type": "stream",
     "text": [
      "100%|█████████▉| 3135/3140 [00:18<00:00, 172.38it/s]\n",
      " 99%|█████████▉| 550/555 [01:27<00:00,  5.89it/s]\n"
     ]
    },
    {
     "name": "stdout",
     "output_type": "stream",
     "text": [
      "Epoch: 474/1000 Train Loss: 0.012 Train Acc: 0.987 Valid Loss: 0.196 Valid Acc: 0.799 Valid Pre: 0.226 Valid Reca: 0.224 Valid F1: 0.210\n",
      "No Improvement.\n"
     ]
    },
    {
     "name": "stderr",
     "output_type": "stream",
     "text": [
      "100%|█████████▉| 3135/3140 [00:18<00:00, 176.39it/s]\n",
      " 99%|█████████▉| 550/555 [01:28<00:00,  5.80it/s]\n"
     ]
    },
    {
     "name": "stdout",
     "output_type": "stream",
     "text": [
      "Epoch: 475/1000 Train Loss: 0.012 Train Acc: 0.988 Valid Loss: 0.200 Valid Acc: 0.795 Valid Pre: 0.233 Valid Reca: 0.236 Valid F1: 0.215\n",
      "No Improvement.\n"
     ]
    },
    {
     "name": "stderr",
     "output_type": "stream",
     "text": [
      "100%|█████████▉| 3135/3140 [00:18<00:00, 178.46it/s]\n",
      " 99%|█████████▉| 550/555 [01:28<00:00,  5.84it/s]\n"
     ]
    },
    {
     "name": "stdout",
     "output_type": "stream",
     "text": [
      "Epoch: 476/1000 Train Loss: 0.012 Train Acc: 0.987 Valid Loss: 0.198 Valid Acc: 0.797 Valid Pre: 0.239 Valid Reca: 0.236 Valid F1: 0.216\n",
      "No Improvement.\n"
     ]
    },
    {
     "name": "stderr",
     "output_type": "stream",
     "text": [
      "100%|█████████▉| 3135/3140 [00:18<00:00, 172.82it/s]\n",
      " 99%|█████████▉| 550/555 [01:29<00:00,  5.74it/s]\n"
     ]
    },
    {
     "name": "stdout",
     "output_type": "stream",
     "text": [
      "Epoch: 477/1000 Train Loss: 0.012 Train Acc: 0.987 Valid Loss: 0.193 Valid Acc: 0.802 Valid Pre: 0.234 Valid Reca: 0.233 Valid F1: 0.217\n",
      "No Improvement.\n"
     ]
    },
    {
     "name": "stderr",
     "output_type": "stream",
     "text": [
      "100%|█████████▉| 3135/3140 [00:18<00:00, 171.63it/s]\n",
      " 99%|█████████▉| 550/555 [01:29<00:00,  5.76it/s]\n"
     ]
    },
    {
     "name": "stdout",
     "output_type": "stream",
     "text": [
      "Epoch: 478/1000 Train Loss: 0.011 Train Acc: 0.988 Valid Loss: 0.195 Valid Acc: 0.800 Valid Pre: 0.226 Valid Reca: 0.222 Valid F1: 0.206\n",
      "No Improvement.\n"
     ]
    },
    {
     "name": "stderr",
     "output_type": "stream",
     "text": [
      "100%|█████████▉| 3135/3140 [00:18<00:00, 175.19it/s]\n",
      " 99%|█████████▉| 550/555 [01:30<00:00,  5.73it/s]\n"
     ]
    },
    {
     "name": "stdout",
     "output_type": "stream",
     "text": [
      "Epoch: 479/1000 Train Loss: 0.012 Train Acc: 0.987 Valid Loss: 0.197 Valid Acc: 0.800 Valid Pre: 0.226 Valid Reca: 0.214 Valid F1: 0.197\n",
      "No Improvement.\n"
     ]
    },
    {
     "name": "stderr",
     "output_type": "stream",
     "text": [
      "100%|█████████▉| 3135/3140 [00:18<00:00, 165.83it/s]\n",
      " 99%|█████████▉| 550/555 [01:30<00:00,  5.72it/s]\n"
     ]
    },
    {
     "name": "stdout",
     "output_type": "stream",
     "text": [
      "Epoch: 480/1000 Train Loss: 0.013 Train Acc: 0.986 Valid Loss: 0.197 Valid Acc: 0.797 Valid Pre: 0.221 Valid Reca: 0.221 Valid F1: 0.203\n",
      "No Improvement.\n"
     ]
    },
    {
     "name": "stderr",
     "output_type": "stream",
     "text": [
      "100%|█████████▉| 3135/3140 [00:18<00:00, 173.87it/s]\n",
      " 99%|█████████▉| 550/555 [01:30<00:00,  5.67it/s]\n"
     ]
    },
    {
     "name": "stdout",
     "output_type": "stream",
     "text": [
      "Epoch: 481/1000 Train Loss: 0.012 Train Acc: 0.987 Valid Loss: 0.196 Valid Acc: 0.799 Valid Pre: 0.212 Valid Reca: 0.224 Valid F1: 0.201\n",
      "No Improvement.\n"
     ]
    },
    {
     "name": "stderr",
     "output_type": "stream",
     "text": [
      "100%|█████████▉| 3135/3140 [00:18<00:00, 174.14it/s]\n",
      " 99%|█████████▉| 550/555 [01:30<00:00,  5.69it/s]\n"
     ]
    },
    {
     "name": "stdout",
     "output_type": "stream",
     "text": [
      "Epoch: 482/1000 Train Loss: 0.012 Train Acc: 0.987 Valid Loss: 0.192 Valid Acc: 0.804 Valid Pre: 0.209 Valid Reca: 0.211 Valid F1: 0.193\n",
      "No Improvement.\n"
     ]
    },
    {
     "name": "stderr",
     "output_type": "stream",
     "text": [
      "100%|█████████▉| 3135/3140 [00:18<00:00, 167.48it/s]\n",
      " 99%|█████████▉| 550/555 [01:30<00:00,  5.66it/s]\n"
     ]
    },
    {
     "name": "stdout",
     "output_type": "stream",
     "text": [
      "Epoch: 483/1000 Train Loss: 0.013 Train Acc: 0.986 Valid Loss: 0.194 Valid Acc: 0.801 Valid Pre: 0.233 Valid Reca: 0.225 Valid F1: 0.211\n",
      "No Improvement.\n"
     ]
    },
    {
     "name": "stderr",
     "output_type": "stream",
     "text": [
      "100%|█████████▉| 3135/3140 [00:18<00:00, 175.20it/s]\n",
      " 99%|█████████▉| 550/555 [01:31<00:00,  5.62it/s]\n"
     ]
    },
    {
     "name": "stdout",
     "output_type": "stream",
     "text": [
      "Epoch: 484/1000 Train Loss: 0.010 Train Acc: 0.989 Valid Loss: 0.194 Valid Acc: 0.802 Valid Pre: 0.233 Valid Reca: 0.220 Valid F1: 0.208\n",
      "No Improvement.\n"
     ]
    },
    {
     "name": "stderr",
     "output_type": "stream",
     "text": [
      "100%|█████████▉| 3135/3140 [00:18<00:00, 174.11it/s]\n",
      " 99%|█████████▉| 550/555 [01:31<00:00,  5.63it/s]\n"
     ]
    },
    {
     "name": "stdout",
     "output_type": "stream",
     "text": [
      "Epoch: 485/1000 Train Loss: 0.013 Train Acc: 0.986 Valid Loss: 0.194 Valid Acc: 0.801 Valid Pre: 0.224 Valid Reca: 0.217 Valid F1: 0.203\n",
      "No Improvement.\n"
     ]
    },
    {
     "name": "stderr",
     "output_type": "stream",
     "text": [
      "100%|█████████▉| 3135/3140 [00:17<00:00, 173.44it/s]\n",
      " 99%|█████████▉| 550/555 [01:32<00:00,  5.60it/s]\n"
     ]
    },
    {
     "name": "stdout",
     "output_type": "stream",
     "text": [
      "Epoch: 486/1000 Train Loss: 0.013 Train Acc: 0.986 Valid Loss: 0.192 Valid Acc: 0.802 Valid Pre: 0.248 Valid Reca: 0.234 Valid F1: 0.223\n",
      "No Improvement.\n"
     ]
    },
    {
     "name": "stderr",
     "output_type": "stream",
     "text": [
      "100%|█████████▉| 3135/3140 [00:17<00:00, 175.44it/s]\n",
      " 99%|█████████▉| 550/555 [01:32<00:00,  5.58it/s]\n"
     ]
    },
    {
     "name": "stdout",
     "output_type": "stream",
     "text": [
      "Epoch: 487/1000 Train Loss: 0.012 Train Acc: 0.987 Valid Loss: 0.192 Valid Acc: 0.802 Valid Pre: 0.238 Valid Reca: 0.224 Valid F1: 0.208\n",
      "No Improvement.\n"
     ]
    },
    {
     "name": "stderr",
     "output_type": "stream",
     "text": [
      "100%|█████████▉| 3135/3140 [00:18<00:00, 171.56it/s]\n",
      " 99%|█████████▉| 550/555 [01:32<00:00,  5.57it/s]\n"
     ]
    },
    {
     "name": "stdout",
     "output_type": "stream",
     "text": [
      "Epoch: 488/1000 Train Loss: 0.011 Train Acc: 0.989 Valid Loss: 0.191 Valid Acc: 0.804 Valid Pre: 0.214 Valid Reca: 0.216 Valid F1: 0.198\n",
      "No Improvement.\n"
     ]
    },
    {
     "name": "stderr",
     "output_type": "stream",
     "text": [
      "100%|█████████▉| 3135/3140 [00:18<00:00, 174.37it/s]\n",
      " 99%|█████████▉| 550/555 [01:33<00:00,  5.57it/s]\n"
     ]
    },
    {
     "name": "stdout",
     "output_type": "stream",
     "text": [
      "Epoch: 489/1000 Train Loss: 0.013 Train Acc: 0.986 Valid Loss: 0.192 Valid Acc: 0.803 Valid Pre: 0.221 Valid Reca: 0.221 Valid F1: 0.205\n",
      "No Improvement.\n"
     ]
    },
    {
     "name": "stderr",
     "output_type": "stream",
     "text": [
      "100%|█████████▉| 3135/3140 [00:18<00:00, 170.51it/s]\n",
      " 99%|█████████▉| 550/555 [01:33<00:00,  5.49it/s]\n"
     ]
    },
    {
     "name": "stdout",
     "output_type": "stream",
     "text": [
      "Epoch: 490/1000 Train Loss: 0.011 Train Acc: 0.988 Valid Loss: 0.192 Valid Acc: 0.802 Valid Pre: 0.230 Valid Reca: 0.222 Valid F1: 0.209\n",
      "No Improvement.\n"
     ]
    },
    {
     "name": "stderr",
     "output_type": "stream",
     "text": [
      "100%|█████████▉| 3135/3140 [00:18<00:00, 170.88it/s]\n",
      " 99%|█████████▉| 550/555 [01:34<00:00,  5.50it/s]\n"
     ]
    },
    {
     "name": "stdout",
     "output_type": "stream",
     "text": [
      "Epoch: 491/1000 Train Loss: 0.011 Train Acc: 0.988 Valid Loss: 0.191 Valid Acc: 0.803 Valid Pre: 0.224 Valid Reca: 0.216 Valid F1: 0.204\n",
      "No Improvement.\n"
     ]
    },
    {
     "name": "stderr",
     "output_type": "stream",
     "text": [
      "100%|█████████▉| 3135/3140 [00:18<00:00, 170.09it/s]\n",
      " 99%|█████████▉| 550/555 [01:34<00:00,  5.45it/s]\n"
     ]
    },
    {
     "name": "stdout",
     "output_type": "stream",
     "text": [
      "Epoch: 492/1000 Train Loss: 0.012 Train Acc: 0.987 Valid Loss: 0.193 Valid Acc: 0.803 Valid Pre: 0.240 Valid Reca: 0.228 Valid F1: 0.217\n",
      "No Improvement.\n"
     ]
    },
    {
     "name": "stderr",
     "output_type": "stream",
     "text": [
      "100%|█████████▉| 3135/3140 [00:18<00:00, 168.25it/s]\n",
      " 99%|█████████▉| 550/555 [01:35<00:00,  5.42it/s]\n"
     ]
    },
    {
     "name": "stdout",
     "output_type": "stream",
     "text": [
      "Epoch: 493/1000 Train Loss: 0.012 Train Acc: 0.988 Valid Loss: 0.189 Valid Acc: 0.806 Valid Pre: 0.228 Valid Reca: 0.218 Valid F1: 0.205\n",
      "No Improvement.\n"
     ]
    },
    {
     "name": "stderr",
     "output_type": "stream",
     "text": [
      "100%|█████████▉| 3135/3140 [00:18<00:00, 158.37it/s]\n",
      " 99%|█████████▉| 550/555 [01:35<00:00,  5.42it/s]\n"
     ]
    },
    {
     "name": "stdout",
     "output_type": "stream",
     "text": [
      "Epoch: 494/1000 Train Loss: 0.012 Train Acc: 0.987 Valid Loss: 0.192 Valid Acc: 0.804 Valid Pre: 0.249 Valid Reca: 0.234 Valid F1: 0.225\n",
      "No Improvement.\n"
     ]
    },
    {
     "name": "stderr",
     "output_type": "stream",
     "text": [
      "100%|█████████▉| 3135/3140 [00:18<00:00, 174.00it/s]\n",
      " 99%|█████████▉| 550/555 [01:35<00:00,  5.39it/s]\n"
     ]
    },
    {
     "name": "stdout",
     "output_type": "stream",
     "text": [
      "Epoch: 495/1000 Train Loss: 0.013 Train Acc: 0.986 Valid Loss: 0.194 Valid Acc: 0.802 Valid Pre: 0.245 Valid Reca: 0.237 Valid F1: 0.222\n",
      "No Improvement.\n"
     ]
    },
    {
     "name": "stderr",
     "output_type": "stream",
     "text": [
      "100%|█████████▉| 3135/3140 [00:18<00:00, 164.18it/s]\n",
      " 99%|█████████▉| 550/555 [01:35<00:00,  5.40it/s]\n"
     ]
    },
    {
     "name": "stdout",
     "output_type": "stream",
     "text": [
      "Epoch: 496/1000 Train Loss: 0.013 Train Acc: 0.986 Valid Loss: 0.194 Valid Acc: 0.801 Valid Pre: 0.227 Valid Reca: 0.221 Valid F1: 0.206\n",
      "No Improvement.\n"
     ]
    },
    {
     "name": "stderr",
     "output_type": "stream",
     "text": [
      "100%|█████████▉| 3135/3140 [00:18<00:00, 165.85it/s]\n",
      " 99%|█████████▉| 550/555 [01:36<00:00,  5.36it/s]\n"
     ]
    },
    {
     "name": "stdout",
     "output_type": "stream",
     "text": [
      "Epoch: 497/1000 Train Loss: 0.013 Train Acc: 0.986 Valid Loss: 0.196 Valid Acc: 0.798 Valid Pre: 0.229 Valid Reca: 0.223 Valid F1: 0.212\n",
      "No Improvement.\n"
     ]
    },
    {
     "name": "stderr",
     "output_type": "stream",
     "text": [
      "100%|█████████▉| 3135/3140 [00:19<00:00, 165.26it/s]\n",
      " 99%|█████████▉| 550/555 [01:36<00:00,  5.34it/s]\n"
     ]
    },
    {
     "name": "stdout",
     "output_type": "stream",
     "text": [
      "Epoch: 498/1000 Train Loss: 0.012 Train Acc: 0.987 Valid Loss: 0.196 Valid Acc: 0.800 Valid Pre: 0.238 Valid Reca: 0.225 Valid F1: 0.215\n",
      "No Improvement.\n"
     ]
    },
    {
     "name": "stderr",
     "output_type": "stream",
     "text": [
      "100%|█████████▉| 3135/3140 [00:19<00:00, 166.75it/s]\n",
      " 99%|█████████▉| 550/555 [01:36<00:00,  5.35it/s]\n"
     ]
    },
    {
     "name": "stdout",
     "output_type": "stream",
     "text": [
      "Epoch: 499/1000 Train Loss: 0.012 Train Acc: 0.987 Valid Loss: 0.192 Valid Acc: 0.803 Valid Pre: 0.235 Valid Reca: 0.229 Valid F1: 0.216\n",
      "No Improvement.\n"
     ]
    },
    {
     "name": "stderr",
     "output_type": "stream",
     "text": [
      "100%|█████████▉| 3135/3140 [00:18<00:00, 169.69it/s]\n",
      " 99%|█████████▉| 550/555 [01:37<00:00,  5.29it/s]\n"
     ]
    },
    {
     "name": "stdout",
     "output_type": "stream",
     "text": [
      "Epoch: 500/1000 Train Loss: 0.013 Train Acc: 0.986 Valid Loss: 0.193 Valid Acc: 0.804 Valid Pre: 0.234 Valid Reca: 0.228 Valid F1: 0.212\n",
      "No Improvement.\n"
     ]
    },
    {
     "name": "stderr",
     "output_type": "stream",
     "text": [
      "100%|█████████▉| 3135/3140 [00:18<00:00, 168.44it/s]\n",
      " 99%|█████████▉| 550/555 [01:37<00:00,  5.32it/s]\n"
     ]
    },
    {
     "name": "stdout",
     "output_type": "stream",
     "text": [
      "Epoch: 501/1000 Train Loss: 0.012 Train Acc: 0.987 Valid Loss: 0.195 Valid Acc: 0.800 Valid Pre: 0.230 Valid Reca: 0.222 Valid F1: 0.207\n",
      "No Improvement.\n"
     ]
    },
    {
     "name": "stderr",
     "output_type": "stream",
     "text": [
      "100%|█████████▉| 3135/3140 [00:18<00:00, 171.58it/s]\n",
      " 99%|█████████▉| 550/555 [01:38<00:00,  5.24it/s]\n"
     ]
    },
    {
     "name": "stdout",
     "output_type": "stream",
     "text": [
      "Epoch: 502/1000 Train Loss: 0.013 Train Acc: 0.986 Valid Loss: 0.194 Valid Acc: 0.802 Valid Pre: 0.235 Valid Reca: 0.220 Valid F1: 0.208\n",
      "No Improvement.\n"
     ]
    },
    {
     "name": "stderr",
     "output_type": "stream",
     "text": [
      "100%|█████████▉| 3135/3140 [00:18<00:00, 164.44it/s]\n",
      " 99%|█████████▉| 550/555 [01:38<00:00,  5.24it/s]\n"
     ]
    },
    {
     "name": "stdout",
     "output_type": "stream",
     "text": [
      "Epoch: 503/1000 Train Loss: 0.013 Train Acc: 0.986 Valid Loss: 0.195 Valid Acc: 0.801 Valid Pre: 0.236 Valid Reca: 0.225 Valid F1: 0.213\n",
      "No Improvement.\n"
     ]
    },
    {
     "name": "stderr",
     "output_type": "stream",
     "text": [
      "100%|█████████▉| 3135/3140 [00:18<00:00, 168.89it/s]\n",
      " 99%|█████████▉| 550/555 [01:38<00:00,  5.26it/s]\n"
     ]
    },
    {
     "name": "stdout",
     "output_type": "stream",
     "text": [
      "Epoch: 504/1000 Train Loss: 0.011 Train Acc: 0.988 Valid Loss: 0.191 Valid Acc: 0.803 Valid Pre: 0.232 Valid Reca: 0.226 Valid F1: 0.212\n",
      "No Improvement.\n"
     ]
    },
    {
     "name": "stderr",
     "output_type": "stream",
     "text": [
      "100%|█████████▉| 3135/3140 [00:18<00:00, 170.31it/s]\n",
      " 99%|█████████▉| 550/555 [01:39<00:00,  5.18it/s]\n"
     ]
    },
    {
     "name": "stdout",
     "output_type": "stream",
     "text": [
      "Epoch: 505/1000 Train Loss: 0.013 Train Acc: 0.986 Valid Loss: 0.194 Valid Acc: 0.801 Valid Pre: 0.227 Valid Reca: 0.220 Valid F1: 0.208\n",
      "No Improvement.\n"
     ]
    },
    {
     "name": "stderr",
     "output_type": "stream",
     "text": [
      "100%|█████████▉| 3135/3140 [00:18<00:00, 170.83it/s]\n",
      " 99%|█████████▉| 550/555 [01:39<00:00,  5.19it/s]\n"
     ]
    },
    {
     "name": "stdout",
     "output_type": "stream",
     "text": [
      "Epoch: 506/1000 Train Loss: 0.011 Train Acc: 0.988 Valid Loss: 0.197 Valid Acc: 0.798 Valid Pre: 0.220 Valid Reca: 0.215 Valid F1: 0.202\n",
      "No Improvement.\n"
     ]
    },
    {
     "name": "stderr",
     "output_type": "stream",
     "text": [
      "100%|█████████▉| 3135/3140 [00:19<00:00, 168.04it/s]\n",
      " 99%|█████████▉| 550/555 [01:39<00:00,  5.16it/s]\n"
     ]
    },
    {
     "name": "stdout",
     "output_type": "stream",
     "text": [
      "Epoch: 507/1000 Train Loss: 0.013 Train Acc: 0.986 Valid Loss: 0.196 Valid Acc: 0.800 Valid Pre: 0.231 Valid Reca: 0.218 Valid F1: 0.208\n",
      "No Improvement.\n"
     ]
    },
    {
     "name": "stderr",
     "output_type": "stream",
     "text": [
      "100%|█████████▉| 3135/3140 [00:18<00:00, 165.66it/s]\n",
      " 99%|█████████▉| 550/555 [01:39<00:00,  5.17it/s]\n"
     ]
    },
    {
     "name": "stdout",
     "output_type": "stream",
     "text": [
      "Epoch: 508/1000 Train Loss: 0.012 Train Acc: 0.987 Valid Loss: 0.194 Valid Acc: 0.801 Valid Pre: 0.223 Valid Reca: 0.212 Valid F1: 0.201\n",
      "No Improvement.\n"
     ]
    },
    {
     "name": "stderr",
     "output_type": "stream",
     "text": [
      "100%|█████████▉| 3135/3140 [00:19<00:00, 164.93it/s]\n",
      " 99%|█████████▉| 550/555 [01:40<00:00,  5.15it/s]\n"
     ]
    },
    {
     "name": "stdout",
     "output_type": "stream",
     "text": [
      "Epoch: 509/1000 Train Loss: 0.011 Train Acc: 0.988 Valid Loss: 0.195 Valid Acc: 0.799 Valid Pre: 0.230 Valid Reca: 0.218 Valid F1: 0.209\n",
      "No Improvement.\n"
     ]
    },
    {
     "name": "stderr",
     "output_type": "stream",
     "text": [
      "100%|█████████▉| 3135/3140 [00:18<00:00, 168.43it/s]\n",
      " 99%|█████████▉| 550/555 [01:41<00:00,  5.12it/s]\n"
     ]
    },
    {
     "name": "stdout",
     "output_type": "stream",
     "text": [
      "Epoch: 510/1000 Train Loss: 0.014 Train Acc: 0.985 Valid Loss: 0.197 Valid Acc: 0.797 Valid Pre: 0.230 Valid Reca: 0.219 Valid F1: 0.213\n",
      "No Improvement.\n"
     ]
    },
    {
     "name": "stderr",
     "output_type": "stream",
     "text": [
      "100%|█████████▉| 3135/3140 [00:19<00:00, 164.82it/s]\n",
      " 99%|█████████▉| 550/555 [01:40<00:00,  5.11it/s]\n"
     ]
    },
    {
     "name": "stdout",
     "output_type": "stream",
     "text": [
      "Epoch: 511/1000 Train Loss: 0.013 Train Acc: 0.986 Valid Loss: 0.192 Valid Acc: 0.803 Valid Pre: 0.221 Valid Reca: 0.215 Valid F1: 0.203\n",
      "No Improvement.\n"
     ]
    },
    {
     "name": "stderr",
     "output_type": "stream",
     "text": [
      "100%|█████████▉| 3135/3140 [00:19<00:00, 166.36it/s]\n",
      " 99%|█████████▉| 550/555 [01:41<00:00,  5.06it/s]\n"
     ]
    },
    {
     "name": "stdout",
     "output_type": "stream",
     "text": [
      "Epoch: 512/1000 Train Loss: 0.011 Train Acc: 0.989 Valid Loss: 0.194 Valid Acc: 0.801 Valid Pre: 0.217 Valid Reca: 0.211 Valid F1: 0.202\n",
      "No Improvement.\n"
     ]
    },
    {
     "name": "stderr",
     "output_type": "stream",
     "text": [
      "100%|█████████▉| 3135/3140 [00:18<00:00, 165.28it/s]\n",
      " 99%|█████████▉| 550/555 [01:41<00:00,  5.05it/s]\n"
     ]
    },
    {
     "name": "stdout",
     "output_type": "stream",
     "text": [
      "Epoch: 513/1000 Train Loss: 0.012 Train Acc: 0.987 Valid Loss: 0.197 Valid Acc: 0.799 Valid Pre: 0.212 Valid Reca: 0.199 Valid F1: 0.191\n",
      "No Improvement.\n"
     ]
    },
    {
     "name": "stderr",
     "output_type": "stream",
     "text": [
      "100%|█████████▉| 3135/3140 [00:18<00:00, 170.05it/s]\n",
      " 99%|█████████▉| 550/555 [01:42<00:00,  5.06it/s]\n"
     ]
    },
    {
     "name": "stdout",
     "output_type": "stream",
     "text": [
      "Epoch: 514/1000 Train Loss: 0.012 Train Acc: 0.987 Valid Loss: 0.196 Valid Acc: 0.801 Valid Pre: 0.209 Valid Reca: 0.203 Valid F1: 0.194\n",
      "No Improvement.\n"
     ]
    },
    {
     "name": "stderr",
     "output_type": "stream",
     "text": [
      "100%|█████████▉| 3135/3140 [00:19<00:00, 165.38it/s]\n",
      " 99%|█████████▉| 550/555 [01:42<00:00,  5.03it/s]\n"
     ]
    },
    {
     "name": "stdout",
     "output_type": "stream",
     "text": [
      "Epoch: 515/1000 Train Loss: 0.012 Train Acc: 0.987 Valid Loss: 0.195 Valid Acc: 0.801 Valid Pre: 0.222 Valid Reca: 0.218 Valid F1: 0.209\n",
      "No Improvement.\n"
     ]
    },
    {
     "name": "stderr",
     "output_type": "stream",
     "text": [
      "100%|█████████▉| 3135/3140 [00:19<00:00, 166.68it/s]\n",
      " 99%|█████████▉| 550/555 [01:43<00:01,  4.98it/s]\n"
     ]
    },
    {
     "name": "stdout",
     "output_type": "stream",
     "text": [
      "Epoch: 516/1000 Train Loss: 0.013 Train Acc: 0.986 Valid Loss: 0.194 Valid Acc: 0.801 Valid Pre: 0.224 Valid Reca: 0.213 Valid F1: 0.203\n",
      "No Improvement.\n"
     ]
    },
    {
     "name": "stderr",
     "output_type": "stream",
     "text": [
      "100%|█████████▉| 3135/3140 [00:18<00:00, 168.06it/s]\n",
      " 99%|█████████▉| 550/555 [01:43<00:01,  4.97it/s]\n"
     ]
    },
    {
     "name": "stdout",
     "output_type": "stream",
     "text": [
      "Epoch: 517/1000 Train Loss: 0.014 Train Acc: 0.985 Valid Loss: 0.192 Valid Acc: 0.803 Valid Pre: 0.219 Valid Reca: 0.209 Valid F1: 0.198\n",
      "No Improvement.\n"
     ]
    },
    {
     "name": "stderr",
     "output_type": "stream",
     "text": [
      "100%|█████████▉| 3135/3140 [00:19<00:00, 163.80it/s]\n",
      " 99%|█████████▉| 550/555 [01:43<00:01,  4.98it/s]\n"
     ]
    },
    {
     "name": "stdout",
     "output_type": "stream",
     "text": [
      "Epoch: 518/1000 Train Loss: 0.012 Train Acc: 0.987 Valid Loss: 0.195 Valid Acc: 0.801 Valid Pre: 0.216 Valid Reca: 0.211 Valid F1: 0.199\n",
      "No Improvement.\n"
     ]
    },
    {
     "name": "stderr",
     "output_type": "stream",
     "text": [
      "100%|█████████▉| 3135/3140 [00:19<00:00, 162.87it/s]\n",
      " 99%|█████████▉| 550/555 [01:44<00:01,  4.94it/s]\n"
     ]
    },
    {
     "name": "stdout",
     "output_type": "stream",
     "text": [
      "Epoch: 519/1000 Train Loss: 0.014 Train Acc: 0.985 Valid Loss: 0.194 Valid Acc: 0.801 Valid Pre: 0.211 Valid Reca: 0.202 Valid F1: 0.191\n",
      "No Improvement.\n"
     ]
    },
    {
     "name": "stderr",
     "output_type": "stream",
     "text": [
      "100%|█████████▉| 3135/3140 [00:19<00:00, 166.67it/s]\n",
      " 99%|█████████▉| 550/555 [01:44<00:01,  4.94it/s]\n"
     ]
    },
    {
     "name": "stdout",
     "output_type": "stream",
     "text": [
      "Epoch: 520/1000 Train Loss: 0.013 Train Acc: 0.987 Valid Loss: 0.195 Valid Acc: 0.800 Valid Pre: 0.217 Valid Reca: 0.210 Valid F1: 0.199\n",
      "No Improvement.\n"
     ]
    },
    {
     "name": "stderr",
     "output_type": "stream",
     "text": [
      "100%|█████████▉| 3135/3140 [00:19<00:00, 158.94it/s]\n",
      " 99%|█████████▉| 550/555 [01:45<00:01,  4.91it/s]\n"
     ]
    },
    {
     "name": "stdout",
     "output_type": "stream",
     "text": [
      "Epoch: 521/1000 Train Loss: 0.013 Train Acc: 0.986 Valid Loss: 0.198 Valid Acc: 0.798 Valid Pre: 0.227 Valid Reca: 0.209 Valid F1: 0.200\n",
      "No Improvement.\n"
     ]
    },
    {
     "name": "stderr",
     "output_type": "stream",
     "text": [
      "100%|█████████▉| 3135/3140 [00:19<00:00, 162.03it/s]\n",
      " 99%|█████████▉| 550/555 [01:46<00:01,  4.85it/s]\n"
     ]
    },
    {
     "name": "stdout",
     "output_type": "stream",
     "text": [
      "Epoch: 522/1000 Train Loss: 0.012 Train Acc: 0.987 Valid Loss: 0.192 Valid Acc: 0.805 Valid Pre: 0.211 Valid Reca: 0.210 Valid F1: 0.198\n",
      "No Improvement.\n"
     ]
    },
    {
     "name": "stderr",
     "output_type": "stream",
     "text": [
      "100%|█████████▉| 3135/3140 [00:19<00:00, 159.11it/s]\n",
      " 99%|█████████▉| 550/555 [01:45<00:01,  4.88it/s]\n"
     ]
    },
    {
     "name": "stdout",
     "output_type": "stream",
     "text": [
      "Epoch: 523/1000 Train Loss: 0.012 Train Acc: 0.987 Valid Loss: 0.196 Valid Acc: 0.798 Valid Pre: 0.225 Valid Reca: 0.210 Valid F1: 0.199\n",
      "No Improvement.\n"
     ]
    },
    {
     "name": "stderr",
     "output_type": "stream",
     "text": [
      "100%|█████████▉| 3135/3140 [00:19<00:00, 163.20it/s]\n",
      " 99%|█████████▉| 550/555 [01:46<00:01,  4.89it/s]\n"
     ]
    },
    {
     "name": "stdout",
     "output_type": "stream",
     "text": [
      "Epoch: 524/1000 Train Loss: 0.013 Train Acc: 0.985 Valid Loss: 0.197 Valid Acc: 0.798 Valid Pre: 0.225 Valid Reca: 0.207 Valid F1: 0.199\n",
      "No Improvement.\n"
     ]
    },
    {
     "name": "stderr",
     "output_type": "stream",
     "text": [
      "100%|█████████▉| 3135/3140 [00:19<00:00, 163.17it/s]\n",
      " 99%|█████████▉| 550/555 [01:46<00:01,  4.86it/s]\n"
     ]
    },
    {
     "name": "stdout",
     "output_type": "stream",
     "text": [
      "Epoch: 525/1000 Train Loss: 0.013 Train Acc: 0.986 Valid Loss: 0.194 Valid Acc: 0.800 Valid Pre: 0.218 Valid Reca: 0.203 Valid F1: 0.194\n",
      "No Improvement.\n"
     ]
    },
    {
     "name": "stderr",
     "output_type": "stream",
     "text": [
      "100%|█████████▉| 3135/3140 [00:19<00:00, 159.79it/s]\n",
      " 99%|█████████▉| 550/555 [01:46<00:01,  4.87it/s]\n"
     ]
    },
    {
     "name": "stdout",
     "output_type": "stream",
     "text": [
      "Epoch: 526/1000 Train Loss: 0.015 Train Acc: 0.985 Valid Loss: 0.192 Valid Acc: 0.804 Valid Pre: 0.218 Valid Reca: 0.210 Valid F1: 0.196\n",
      "No Improvement.\n"
     ]
    },
    {
     "name": "stderr",
     "output_type": "stream",
     "text": [
      "100%|█████████▉| 3135/3140 [00:19<00:00, 163.73it/s]\n",
      " 99%|█████████▉| 550/555 [01:48<00:01,  4.80it/s]\n"
     ]
    },
    {
     "name": "stdout",
     "output_type": "stream",
     "text": [
      "Epoch: 527/1000 Train Loss: 0.014 Train Acc: 0.986 Valid Loss: 0.191 Valid Acc: 0.805 Valid Pre: 0.225 Valid Reca: 0.216 Valid F1: 0.203\n",
      "No Improvement.\n"
     ]
    },
    {
     "name": "stderr",
     "output_type": "stream",
     "text": [
      "100%|█████████▉| 3135/3140 [00:19<00:00, 161.80it/s]\n",
      " 99%|█████████▉| 550/555 [01:48<00:01,  4.78it/s]\n"
     ]
    },
    {
     "name": "stdout",
     "output_type": "stream",
     "text": [
      "Epoch: 528/1000 Train Loss: 0.013 Train Acc: 0.986 Valid Loss: 0.193 Valid Acc: 0.802 Valid Pre: 0.213 Valid Reca: 0.210 Valid F1: 0.197\n",
      "No Improvement.\n"
     ]
    },
    {
     "name": "stderr",
     "output_type": "stream",
     "text": [
      "100%|█████████▉| 3135/3140 [00:19<00:00, 160.71it/s]\n",
      " 99%|█████████▉| 550/555 [01:48<00:01,  4.75it/s]\n"
     ]
    },
    {
     "name": "stdout",
     "output_type": "stream",
     "text": [
      "Epoch: 529/1000 Train Loss: 0.012 Train Acc: 0.986 Valid Loss: 0.194 Valid Acc: 0.800 Valid Pre: 0.201 Valid Reca: 0.198 Valid F1: 0.186\n",
      "No Improvement.\n"
     ]
    },
    {
     "name": "stderr",
     "output_type": "stream",
     "text": [
      "100%|█████████▉| 3135/3140 [00:19<00:00, 166.71it/s]\n",
      " 99%|█████████▉| 550/555 [01:48<00:01,  4.72it/s]\n"
     ]
    },
    {
     "name": "stdout",
     "output_type": "stream",
     "text": [
      "Epoch: 530/1000 Train Loss: 0.012 Train Acc: 0.987 Valid Loss: 0.195 Valid Acc: 0.800 Valid Pre: 0.200 Valid Reca: 0.206 Valid F1: 0.189\n",
      "No Improvement.\n"
     ]
    },
    {
     "name": "stderr",
     "output_type": "stream",
     "text": [
      "100%|█████████▉| 3135/3140 [00:19<00:00, 168.00it/s]\n",
      " 99%|█████████▉| 550/555 [01:48<00:01,  4.78it/s]\n"
     ]
    },
    {
     "name": "stdout",
     "output_type": "stream",
     "text": [
      "Epoch: 531/1000 Train Loss: 0.013 Train Acc: 0.986 Valid Loss: 0.194 Valid Acc: 0.802 Valid Pre: 0.195 Valid Reca: 0.197 Valid F1: 0.182\n",
      "No Improvement.\n"
     ]
    },
    {
     "name": "stderr",
     "output_type": "stream",
     "text": [
      "100%|█████████▉| 3135/3140 [00:19<00:00, 165.66it/s]\n",
      " 99%|█████████▉| 550/555 [01:50<00:01,  4.67it/s]\n"
     ]
    },
    {
     "name": "stdout",
     "output_type": "stream",
     "text": [
      "Epoch: 532/1000 Train Loss: 0.013 Train Acc: 0.986 Valid Loss: 0.189 Valid Acc: 0.808 Valid Pre: 0.211 Valid Reca: 0.214 Valid F1: 0.198\n",
      "No Improvement.\n"
     ]
    },
    {
     "name": "stderr",
     "output_type": "stream",
     "text": [
      "100%|█████████▉| 3135/3140 [00:19<00:00, 161.18it/s]\n",
      " 99%|█████████▉| 550/555 [01:49<00:01,  4.74it/s]\n"
     ]
    },
    {
     "name": "stdout",
     "output_type": "stream",
     "text": [
      "Epoch: 533/1000 Train Loss: 0.013 Train Acc: 0.986 Valid Loss: 0.190 Valid Acc: 0.807 Valid Pre: 0.200 Valid Reca: 0.208 Valid F1: 0.193\n",
      "No Improvement.\n"
     ]
    },
    {
     "name": "stderr",
     "output_type": "stream",
     "text": [
      "100%|█████████▉| 3135/3140 [00:19<00:00, 160.65it/s]\n",
      " 99%|█████████▉| 550/555 [01:51<00:01,  4.63it/s]\n"
     ]
    },
    {
     "name": "stdout",
     "output_type": "stream",
     "text": [
      "Epoch: 534/1000 Train Loss: 0.012 Train Acc: 0.987 Valid Loss: 0.192 Valid Acc: 0.804 Valid Pre: 0.200 Valid Reca: 0.204 Valid F1: 0.192\n",
      "No Improvement.\n"
     ]
    },
    {
     "name": "stderr",
     "output_type": "stream",
     "text": [
      "100%|█████████▉| 3135/3140 [00:19<00:00, 160.03it/s]\n",
      " 99%|█████████▉| 550/555 [01:51<00:01,  4.65it/s]\n"
     ]
    },
    {
     "name": "stdout",
     "output_type": "stream",
     "text": [
      "Epoch: 535/1000 Train Loss: 0.013 Train Acc: 0.986 Valid Loss: 0.193 Valid Acc: 0.801 Valid Pre: 0.212 Valid Reca: 0.214 Valid F1: 0.203\n",
      "No Improvement.\n"
     ]
    },
    {
     "name": "stderr",
     "output_type": "stream",
     "text": [
      "100%|█████████▉| 3135/3140 [00:19<00:00, 163.99it/s]\n",
      " 99%|█████████▉| 550/555 [01:49<00:01,  4.72it/s]\n"
     ]
    },
    {
     "name": "stdout",
     "output_type": "stream",
     "text": [
      "Epoch: 536/1000 Train Loss: 0.014 Train Acc: 0.985 Valid Loss: 0.194 Valid Acc: 0.801 Valid Pre: 0.196 Valid Reca: 0.206 Valid F1: 0.189\n",
      "No Improvement.\n"
     ]
    },
    {
     "name": "stderr",
     "output_type": "stream",
     "text": [
      "100%|█████████▉| 3135/3140 [00:19<00:00, 163.50it/s]\n",
      " 99%|█████████▉| 550/555 [01:52<00:01,  4.57it/s]\n"
     ]
    },
    {
     "name": "stdout",
     "output_type": "stream",
     "text": [
      "Epoch: 537/1000 Train Loss: 0.014 Train Acc: 0.985 Valid Loss: 0.194 Valid Acc: 0.802 Valid Pre: 0.203 Valid Reca: 0.210 Valid F1: 0.193\n",
      "No Improvement.\n"
     ]
    },
    {
     "name": "stderr",
     "output_type": "stream",
     "text": [
      "100%|█████████▉| 3135/3140 [00:19<00:00, 156.51it/s]\n",
      " 99%|█████████▉| 550/555 [01:52<00:01,  4.58it/s]\n"
     ]
    },
    {
     "name": "stdout",
     "output_type": "stream",
     "text": [
      "Epoch: 538/1000 Train Loss: 0.014 Train Acc: 0.985 Valid Loss: 0.190 Valid Acc: 0.805 Valid Pre: 0.201 Valid Reca: 0.204 Valid F1: 0.190\n",
      "No Improvement.\n"
     ]
    },
    {
     "name": "stderr",
     "output_type": "stream",
     "text": [
      "100%|█████████▉| 3135/3140 [00:19<00:00, 165.18it/s]\n",
      " 99%|█████████▉| 550/555 [01:52<00:01,  4.58it/s]\n"
     ]
    },
    {
     "name": "stdout",
     "output_type": "stream",
     "text": [
      "Epoch: 539/1000 Train Loss: 0.014 Train Acc: 0.985 Valid Loss: 0.187 Valid Acc: 0.809 Valid Pre: 0.201 Valid Reca: 0.205 Valid F1: 0.192\n",
      "No Improvement.\n"
     ]
    },
    {
     "name": "stderr",
     "output_type": "stream",
     "text": [
      "100%|█████████▉| 3135/3140 [00:19<00:00, 162.96it/s]\n",
      " 99%|█████████▉| 550/555 [01:52<00:01,  4.56it/s]\n"
     ]
    },
    {
     "name": "stdout",
     "output_type": "stream",
     "text": [
      "Epoch: 540/1000 Train Loss: 0.015 Train Acc: 0.985 Valid Loss: 0.194 Valid Acc: 0.802 Valid Pre: 0.203 Valid Reca: 0.206 Valid F1: 0.192\n",
      "No Improvement.\n"
     ]
    },
    {
     "name": "stderr",
     "output_type": "stream",
     "text": [
      "100%|█████████▉| 3135/3140 [00:19<00:00, 164.57it/s]\n",
      " 99%|█████████▉| 550/555 [01:53<00:01,  4.51it/s]\n"
     ]
    },
    {
     "name": "stdout",
     "output_type": "stream",
     "text": [
      "Epoch: 541/1000 Train Loss: 0.012 Train Acc: 0.987 Valid Loss: 0.189 Valid Acc: 0.805 Valid Pre: 0.202 Valid Reca: 0.209 Valid F1: 0.194\n",
      "No Improvement.\n"
     ]
    },
    {
     "name": "stderr",
     "output_type": "stream",
     "text": [
      "100%|█████████▉| 3135/3140 [00:19<00:00, 156.57it/s]\n",
      " 99%|█████████▉| 550/555 [01:53<00:01,  4.53it/s]\n"
     ]
    },
    {
     "name": "stdout",
     "output_type": "stream",
     "text": [
      "Epoch: 542/1000 Train Loss: 0.015 Train Acc: 0.984 Valid Loss: 0.190 Valid Acc: 0.805 Valid Pre: 0.210 Valid Reca: 0.212 Valid F1: 0.200\n",
      "No Improvement.\n"
     ]
    },
    {
     "name": "stderr",
     "output_type": "stream",
     "text": [
      "100%|█████████▉| 3135/3140 [00:19<00:00, 162.88it/s]\n",
      " 99%|█████████▉| 550/555 [01:51<00:01,  4.62it/s]\n"
     ]
    },
    {
     "name": "stdout",
     "output_type": "stream",
     "text": [
      "Epoch: 543/1000 Train Loss: 0.013 Train Acc: 0.986 Valid Loss: 0.196 Valid Acc: 0.800 Valid Pre: 0.211 Valid Reca: 0.209 Valid F1: 0.197\n",
      "No Improvement.\n"
     ]
    },
    {
     "name": "stderr",
     "output_type": "stream",
     "text": [
      "100%|█████████▉| 3135/3140 [00:19<00:00, 162.12it/s]\n",
      " 99%|█████████▉| 550/555 [01:54<00:01,  4.51it/s]\n"
     ]
    },
    {
     "name": "stdout",
     "output_type": "stream",
     "text": [
      "Epoch: 544/1000 Train Loss: 0.013 Train Acc: 0.985 Valid Loss: 0.193 Valid Acc: 0.802 Valid Pre: 0.214 Valid Reca: 0.213 Valid F1: 0.200\n",
      "No Improvement.\n"
     ]
    },
    {
     "name": "stderr",
     "output_type": "stream",
     "text": [
      "100%|█████████▉| 3135/3140 [00:19<00:00, 162.30it/s]\n",
      " 99%|█████████▉| 550/555 [01:54<00:01,  4.50it/s]\n"
     ]
    },
    {
     "name": "stdout",
     "output_type": "stream",
     "text": [
      "Epoch: 545/1000 Train Loss: 0.014 Train Acc: 0.986 Valid Loss: 0.194 Valid Acc: 0.802 Valid Pre: 0.209 Valid Reca: 0.206 Valid F1: 0.195\n",
      "No Improvement.\n"
     ]
    },
    {
     "name": "stderr",
     "output_type": "stream",
     "text": [
      "100%|█████████▉| 3135/3140 [00:19<00:00, 162.35it/s]\n",
      " 99%|█████████▉| 550/555 [01:53<00:01,  4.57it/s]\n"
     ]
    },
    {
     "name": "stdout",
     "output_type": "stream",
     "text": [
      "Epoch: 546/1000 Train Loss: 0.013 Train Acc: 0.986 Valid Loss: 0.193 Valid Acc: 0.804 Valid Pre: 0.214 Valid Reca: 0.206 Valid F1: 0.195\n",
      "No Improvement.\n"
     ]
    },
    {
     "name": "stderr",
     "output_type": "stream",
     "text": [
      "100%|█████████▉| 3135/3140 [00:19<00:00, 158.86it/s]\n",
      " 99%|█████████▉| 550/555 [01:56<00:01,  4.45it/s]\n"
     ]
    },
    {
     "name": "stdout",
     "output_type": "stream",
     "text": [
      "Epoch: 547/1000 Train Loss: 0.014 Train Acc: 0.985 Valid Loss: 0.197 Valid Acc: 0.800 Valid Pre: 0.207 Valid Reca: 0.204 Valid F1: 0.194\n",
      "No Improvement.\n"
     ]
    },
    {
     "name": "stderr",
     "output_type": "stream",
     "text": [
      "100%|█████████▉| 3135/3140 [00:19<00:00, 156.76it/s]\n",
      " 99%|█████████▉| 550/555 [01:54<00:01,  4.46it/s]\n"
     ]
    },
    {
     "name": "stdout",
     "output_type": "stream",
     "text": [
      "Epoch: 548/1000 Train Loss: 0.015 Train Acc: 0.984 Valid Loss: 0.201 Valid Acc: 0.795 Valid Pre: 0.205 Valid Reca: 0.202 Valid F1: 0.190\n",
      "No Improvement.\n"
     ]
    },
    {
     "name": "stderr",
     "output_type": "stream",
     "text": [
      "100%|█████████▉| 3135/3140 [00:19<00:00, 156.49it/s]\n",
      " 99%|█████████▉| 550/555 [01:56<00:01,  4.46it/s]\n"
     ]
    },
    {
     "name": "stdout",
     "output_type": "stream",
     "text": [
      "Epoch: 549/1000 Train Loss: 0.014 Train Acc: 0.985 Valid Loss: 0.199 Valid Acc: 0.798 Valid Pre: 0.215 Valid Reca: 0.213 Valid F1: 0.199\n",
      "No Improvement.\n"
     ]
    },
    {
     "name": "stderr",
     "output_type": "stream",
     "text": [
      "100%|█████████▉| 3135/3140 [00:19<00:00, 161.12it/s]\n",
      " 99%|█████████▉| 550/555 [01:57<00:01,  4.40it/s]\n"
     ]
    },
    {
     "name": "stdout",
     "output_type": "stream",
     "text": [
      "Epoch: 550/1000 Train Loss: 0.013 Train Acc: 0.986 Valid Loss: 0.199 Valid Acc: 0.797 Valid Pre: 0.223 Valid Reca: 0.213 Valid F1: 0.204\n",
      "No Improvement.\n"
     ]
    },
    {
     "name": "stderr",
     "output_type": "stream",
     "text": [
      "100%|█████████▉| 3135/3140 [00:19<00:00, 160.88it/s]\n",
      " 99%|█████████▉| 550/555 [01:56<00:01,  4.40it/s]\n"
     ]
    },
    {
     "name": "stdout",
     "output_type": "stream",
     "text": [
      "Epoch: 551/1000 Train Loss: 0.013 Train Acc: 0.986 Valid Loss: 0.199 Valid Acc: 0.797 Valid Pre: 0.231 Valid Reca: 0.219 Valid F1: 0.211\n",
      "No Improvement.\n"
     ]
    },
    {
     "name": "stderr",
     "output_type": "stream",
     "text": [
      "100%|█████████▉| 3135/3140 [00:19<00:00, 160.91it/s]\n",
      " 99%|█████████▉| 550/555 [01:56<00:01,  4.41it/s]\n"
     ]
    },
    {
     "name": "stdout",
     "output_type": "stream",
     "text": [
      "Epoch: 552/1000 Train Loss: 0.014 Train Acc: 0.985 Valid Loss: 0.197 Valid Acc: 0.798 Valid Pre: 0.234 Valid Reca: 0.226 Valid F1: 0.209\n",
      "No Improvement.\n"
     ]
    },
    {
     "name": "stderr",
     "output_type": "stream",
     "text": [
      "100%|█████████▉| 3135/3140 [00:20<00:00, 153.29it/s]\n",
      " 99%|█████████▉| 550/555 [01:57<00:01,  4.39it/s]\n"
     ]
    },
    {
     "name": "stdout",
     "output_type": "stream",
     "text": [
      "Epoch: 553/1000 Train Loss: 0.013 Train Acc: 0.986 Valid Loss: 0.199 Valid Acc: 0.797 Valid Pre: 0.229 Valid Reca: 0.214 Valid F1: 0.207\n",
      "No Improvement.\n"
     ]
    },
    {
     "name": "stderr",
     "output_type": "stream",
     "text": [
      "100%|█████████▉| 3135/3140 [00:19<00:00, 155.18it/s]\n",
      " 99%|█████████▉| 550/555 [01:57<00:01,  4.37it/s]\n"
     ]
    },
    {
     "name": "stdout",
     "output_type": "stream",
     "text": [
      "Epoch: 554/1000 Train Loss: 0.014 Train Acc: 0.985 Valid Loss: 0.199 Valid Acc: 0.797 Valid Pre: 0.227 Valid Reca: 0.216 Valid F1: 0.210\n",
      "No Improvement.\n"
     ]
    },
    {
     "name": "stderr",
     "output_type": "stream",
     "text": [
      "100%|█████████▉| 3135/3140 [00:19<00:00, 159.53it/s]\n",
      " 99%|█████████▉| 550/555 [01:57<00:01,  4.36it/s]\n"
     ]
    },
    {
     "name": "stdout",
     "output_type": "stream",
     "text": [
      "Epoch: 555/1000 Train Loss: 0.014 Train Acc: 0.985 Valid Loss: 0.196 Valid Acc: 0.801 Valid Pre: 0.223 Valid Reca: 0.228 Valid F1: 0.211\n",
      "No Improvement.\n"
     ]
    },
    {
     "name": "stderr",
     "output_type": "stream",
     "text": [
      "100%|█████████▉| 3135/3140 [00:19<00:00, 161.44it/s]\n",
      " 99%|█████████▉| 550/555 [01:58<00:01,  4.32it/s]\n"
     ]
    },
    {
     "name": "stdout",
     "output_type": "stream",
     "text": [
      "Epoch: 556/1000 Train Loss: 0.016 Train Acc: 0.983 Valid Loss: 0.196 Valid Acc: 0.800 Valid Pre: 0.226 Valid Reca: 0.215 Valid F1: 0.206\n",
      "No Improvement.\n"
     ]
    },
    {
     "name": "stderr",
     "output_type": "stream",
     "text": [
      "100%|█████████▉| 3135/3140 [00:20<00:00, 153.65it/s]\n",
      " 99%|█████████▉| 550/555 [01:58<00:01,  4.37it/s]\n"
     ]
    },
    {
     "name": "stdout",
     "output_type": "stream",
     "text": [
      "Epoch: 557/1000 Train Loss: 0.014 Train Acc: 0.985 Valid Loss: 0.195 Valid Acc: 0.801 Valid Pre: 0.230 Valid Reca: 0.226 Valid F1: 0.210\n",
      "No Improvement.\n"
     ]
    },
    {
     "name": "stderr",
     "output_type": "stream",
     "text": [
      "100%|█████████▉| 3135/3140 [00:19<00:00, 160.34it/s]\n",
      " 99%|█████████▉| 550/555 [01:59<00:01,  4.32it/s]\n"
     ]
    },
    {
     "name": "stdout",
     "output_type": "stream",
     "text": [
      "Epoch: 558/1000 Train Loss: 0.013 Train Acc: 0.986 Valid Loss: 0.193 Valid Acc: 0.802 Valid Pre: 0.225 Valid Reca: 0.224 Valid F1: 0.208\n",
      "No Improvement.\n"
     ]
    },
    {
     "name": "stderr",
     "output_type": "stream",
     "text": [
      "100%|█████████▉| 3135/3140 [00:20<00:00, 158.42it/s]\n",
      " 99%|█████████▉| 550/555 [01:59<00:01,  4.29it/s]\n"
     ]
    },
    {
     "name": "stdout",
     "output_type": "stream",
     "text": [
      "Epoch: 559/1000 Train Loss: 0.013 Train Acc: 0.986 Valid Loss: 0.193 Valid Acc: 0.802 Valid Pre: 0.220 Valid Reca: 0.223 Valid F1: 0.206\n",
      "No Improvement.\n"
     ]
    },
    {
     "name": "stderr",
     "output_type": "stream",
     "text": [
      "100%|█████████▉| 3135/3140 [00:19<00:00, 157.75it/s]\n",
      " 99%|█████████▉| 550/555 [01:59<00:01,  4.33it/s]\n"
     ]
    },
    {
     "name": "stdout",
     "output_type": "stream",
     "text": [
      "Epoch: 560/1000 Train Loss: 0.014 Train Acc: 0.985 Valid Loss: 0.196 Valid Acc: 0.800 Valid Pre: 0.218 Valid Reca: 0.220 Valid F1: 0.204\n",
      "No Improvement.\n"
     ]
    },
    {
     "name": "stderr",
     "output_type": "stream",
     "text": [
      "100%|█████████▉| 3135/3140 [00:20<00:00, 157.57it/s]\n",
      " 99%|█████████▉| 550/555 [02:00<00:01,  4.26it/s]\n"
     ]
    },
    {
     "name": "stdout",
     "output_type": "stream",
     "text": [
      "Epoch: 561/1000 Train Loss: 0.014 Train Acc: 0.986 Valid Loss: 0.193 Valid Acc: 0.802 Valid Pre: 0.216 Valid Reca: 0.221 Valid F1: 0.204\n",
      "No Improvement.\n"
     ]
    },
    {
     "name": "stderr",
     "output_type": "stream",
     "text": [
      "100%|█████████▉| 3135/3140 [00:20<00:00, 154.85it/s]\n",
      " 99%|█████████▉| 550/555 [02:01<00:01,  4.26it/s]\n"
     ]
    },
    {
     "name": "stdout",
     "output_type": "stream",
     "text": [
      "Epoch: 562/1000 Train Loss: 0.013 Train Acc: 0.986 Valid Loss: 0.199 Valid Acc: 0.796 Valid Pre: 0.224 Valid Reca: 0.226 Valid F1: 0.212\n",
      "No Improvement.\n"
     ]
    },
    {
     "name": "stderr",
     "output_type": "stream",
     "text": [
      "100%|█████████▉| 3135/3140 [00:20<00:00, 152.36it/s]\n",
      " 99%|█████████▉| 550/555 [02:01<00:01,  4.25it/s]\n"
     ]
    },
    {
     "name": "stdout",
     "output_type": "stream",
     "text": [
      "Epoch: 563/1000 Train Loss: 0.013 Train Acc: 0.986 Valid Loss: 0.199 Valid Acc: 0.796 Valid Pre: 0.220 Valid Reca: 0.222 Valid F1: 0.207\n",
      "No Improvement.\n"
     ]
    },
    {
     "name": "stderr",
     "output_type": "stream",
     "text": [
      "100%|█████████▉| 3135/3140 [00:20<00:00, 154.15it/s]\n",
      " 99%|█████████▉| 550/555 [02:01<00:01,  4.24it/s]\n"
     ]
    },
    {
     "name": "stdout",
     "output_type": "stream",
     "text": [
      "Epoch: 564/1000 Train Loss: 0.014 Train Acc: 0.985 Valid Loss: 0.194 Valid Acc: 0.804 Valid Pre: 0.221 Valid Reca: 0.221 Valid F1: 0.208\n",
      "No Improvement.\n"
     ]
    },
    {
     "name": "stderr",
     "output_type": "stream",
     "text": [
      "100%|█████████▉| 3135/3140 [00:20<00:00, 157.37it/s]\n",
      " 99%|█████████▉| 550/555 [02:02<00:01,  4.21it/s]\n"
     ]
    },
    {
     "name": "stdout",
     "output_type": "stream",
     "text": [
      "Epoch: 565/1000 Train Loss: 0.012 Train Acc: 0.987 Valid Loss: 0.194 Valid Acc: 0.802 Valid Pre: 0.215 Valid Reca: 0.218 Valid F1: 0.205\n",
      "No Improvement.\n"
     ]
    },
    {
     "name": "stderr",
     "output_type": "stream",
     "text": [
      "100%|█████████▉| 3135/3140 [00:20<00:00, 157.35it/s]\n",
      " 99%|█████████▉| 550/555 [02:02<00:01,  4.20it/s]\n"
     ]
    },
    {
     "name": "stdout",
     "output_type": "stream",
     "text": [
      "Epoch: 566/1000 Train Loss: 0.014 Train Acc: 0.985 Valid Loss: 0.194 Valid Acc: 0.802 Valid Pre: 0.217 Valid Reca: 0.217 Valid F1: 0.205\n",
      "No Improvement.\n"
     ]
    },
    {
     "name": "stderr",
     "output_type": "stream",
     "text": [
      "100%|█████████▉| 3135/3140 [00:20<00:00, 158.88it/s]\n",
      " 99%|█████████▉| 550/555 [02:03<00:01,  4.19it/s]\n"
     ]
    },
    {
     "name": "stdout",
     "output_type": "stream",
     "text": [
      "Epoch: 567/1000 Train Loss: 0.014 Train Acc: 0.985 Valid Loss: 0.198 Valid Acc: 0.796 Valid Pre: 0.212 Valid Reca: 0.214 Valid F1: 0.200\n",
      "No Improvement.\n"
     ]
    },
    {
     "name": "stderr",
     "output_type": "stream",
     "text": [
      "100%|█████████▉| 3135/3140 [00:20<00:00, 154.96it/s]\n",
      " 99%|█████████▉| 550/555 [02:03<00:01,  4.15it/s]\n"
     ]
    },
    {
     "name": "stdout",
     "output_type": "stream",
     "text": [
      "Epoch: 568/1000 Train Loss: 0.014 Train Acc: 0.985 Valid Loss: 0.197 Valid Acc: 0.800 Valid Pre: 0.218 Valid Reca: 0.214 Valid F1: 0.203\n",
      "No Improvement.\n"
     ]
    },
    {
     "name": "stderr",
     "output_type": "stream",
     "text": [
      "100%|█████████▉| 3135/3140 [00:20<00:00, 157.43it/s]\n",
      " 99%|█████████▉| 550/555 [02:03<00:01,  4.17it/s]\n"
     ]
    },
    {
     "name": "stdout",
     "output_type": "stream",
     "text": [
      "Epoch: 569/1000 Train Loss: 0.014 Train Acc: 0.985 Valid Loss: 0.193 Valid Acc: 0.802 Valid Pre: 0.225 Valid Reca: 0.228 Valid F1: 0.215\n",
      "No Improvement.\n"
     ]
    },
    {
     "name": "stderr",
     "output_type": "stream",
     "text": [
      "100%|█████████▉| 3135/3140 [00:20<00:00, 158.02it/s]\n",
      " 99%|█████████▉| 550/555 [02:03<00:01,  4.19it/s]\n"
     ]
    },
    {
     "name": "stdout",
     "output_type": "stream",
     "text": [
      "Epoch: 570/1000 Train Loss: 0.016 Train Acc: 0.983 Valid Loss: 0.193 Valid Acc: 0.804 Valid Pre: 0.229 Valid Reca: 0.230 Valid F1: 0.220\n",
      "No Improvement.\n"
     ]
    },
    {
     "name": "stderr",
     "output_type": "stream",
     "text": [
      "100%|█████████▉| 3135/3140 [00:20<00:00, 155.85it/s]\n",
      " 99%|█████████▉| 550/555 [02:04<00:01,  4.13it/s]\n"
     ]
    },
    {
     "name": "stdout",
     "output_type": "stream",
     "text": [
      "Epoch: 571/1000 Train Loss: 0.014 Train Acc: 0.985 Valid Loss: 0.196 Valid Acc: 0.800 Valid Pre: 0.224 Valid Reca: 0.228 Valid F1: 0.213\n",
      "No Improvement.\n"
     ]
    },
    {
     "name": "stderr",
     "output_type": "stream",
     "text": [
      "100%|█████████▉| 3135/3140 [00:20<00:00, 155.48it/s]\n",
      " 99%|█████████▉| 550/555 [02:05<00:01,  4.11it/s]\n"
     ]
    },
    {
     "name": "stdout",
     "output_type": "stream",
     "text": [
      "Epoch: 572/1000 Train Loss: 0.015 Train Acc: 0.984 Valid Loss: 0.195 Valid Acc: 0.802 Valid Pre: 0.219 Valid Reca: 0.230 Valid F1: 0.212\n",
      "No Improvement.\n"
     ]
    },
    {
     "name": "stderr",
     "output_type": "stream",
     "text": [
      "100%|█████████▉| 3135/3140 [00:20<00:00, 153.86it/s]\n",
      " 99%|█████████▉| 550/555 [02:06<00:01,  4.08it/s]\n"
     ]
    },
    {
     "name": "stdout",
     "output_type": "stream",
     "text": [
      "Epoch: 573/1000 Train Loss: 0.014 Train Acc: 0.986 Valid Loss: 0.196 Valid Acc: 0.801 Valid Pre: 0.207 Valid Reca: 0.221 Valid F1: 0.204\n",
      "No Improvement.\n"
     ]
    },
    {
     "name": "stderr",
     "output_type": "stream",
     "text": [
      "100%|█████████▉| 3135/3140 [00:20<00:00, 157.26it/s]\n",
      " 99%|█████████▉| 550/555 [02:06<00:01,  4.08it/s]\n"
     ]
    },
    {
     "name": "stdout",
     "output_type": "stream",
     "text": [
      "Epoch: 574/1000 Train Loss: 0.014 Train Acc: 0.985 Valid Loss: 0.200 Valid Acc: 0.797 Valid Pre: 0.212 Valid Reca: 0.215 Valid F1: 0.201\n",
      "No Improvement.\n"
     ]
    },
    {
     "name": "stderr",
     "output_type": "stream",
     "text": [
      "100%|█████████▉| 3135/3140 [00:20<00:00, 156.28it/s]\n",
      " 99%|█████████▉| 550/555 [02:06<00:01,  4.06it/s]\n"
     ]
    },
    {
     "name": "stdout",
     "output_type": "stream",
     "text": [
      "Epoch: 575/1000 Train Loss: 0.013 Train Acc: 0.986 Valid Loss: 0.201 Valid Acc: 0.797 Valid Pre: 0.206 Valid Reca: 0.211 Valid F1: 0.197\n",
      "No Improvement.\n"
     ]
    },
    {
     "name": "stderr",
     "output_type": "stream",
     "text": [
      "100%|█████████▉| 3135/3140 [00:20<00:00, 156.00it/s]\n",
      " 99%|█████████▉| 550/555 [02:07<00:01,  4.06it/s]\n"
     ]
    },
    {
     "name": "stdout",
     "output_type": "stream",
     "text": [
      "Epoch: 576/1000 Train Loss: 0.011 Train Acc: 0.988 Valid Loss: 0.198 Valid Acc: 0.798 Valid Pre: 0.214 Valid Reca: 0.226 Valid F1: 0.206\n",
      "No Improvement.\n"
     ]
    },
    {
     "name": "stderr",
     "output_type": "stream",
     "text": [
      "100%|█████████▉| 3135/3140 [00:20<00:00, 145.76it/s]\n",
      " 99%|█████████▉| 550/555 [02:07<00:01,  4.05it/s]\n"
     ]
    },
    {
     "name": "stdout",
     "output_type": "stream",
     "text": [
      "Epoch: 577/1000 Train Loss: 0.013 Train Acc: 0.985 Valid Loss: 0.196 Valid Acc: 0.800 Valid Pre: 0.197 Valid Reca: 0.198 Valid F1: 0.186\n",
      "No Improvement.\n"
     ]
    },
    {
     "name": "stderr",
     "output_type": "stream",
     "text": [
      "100%|█████████▉| 3135/3140 [00:20<00:00, 156.35it/s]\n",
      " 99%|█████████▉| 550/555 [02:07<00:01,  4.04it/s]\n"
     ]
    },
    {
     "name": "stdout",
     "output_type": "stream",
     "text": [
      "Epoch: 578/1000 Train Loss: 0.014 Train Acc: 0.985 Valid Loss: 0.196 Valid Acc: 0.799 Valid Pre: 0.201 Valid Reca: 0.211 Valid F1: 0.193\n",
      "No Improvement.\n"
     ]
    },
    {
     "name": "stderr",
     "output_type": "stream",
     "text": [
      "100%|█████████▉| 3135/3140 [00:20<00:00, 156.10it/s]\n",
      " 99%|█████████▉| 550/555 [02:08<00:01,  4.00it/s]\n"
     ]
    },
    {
     "name": "stdout",
     "output_type": "stream",
     "text": [
      "Epoch: 579/1000 Train Loss: 0.013 Train Acc: 0.986 Valid Loss: 0.194 Valid Acc: 0.802 Valid Pre: 0.206 Valid Reca: 0.218 Valid F1: 0.200\n",
      "No Improvement.\n"
     ]
    },
    {
     "name": "stderr",
     "output_type": "stream",
     "text": [
      "100%|█████████▉| 3135/3140 [00:20<00:00, 153.25it/s]\n",
      " 99%|█████████▉| 550/555 [02:08<00:01,  4.01it/s]\n"
     ]
    },
    {
     "name": "stdout",
     "output_type": "stream",
     "text": [
      "Epoch: 580/1000 Train Loss: 0.013 Train Acc: 0.987 Valid Loss: 0.198 Valid Acc: 0.798 Valid Pre: 0.205 Valid Reca: 0.211 Valid F1: 0.197\n",
      "No Improvement.\n"
     ]
    },
    {
     "name": "stderr",
     "output_type": "stream",
     "text": [
      "100%|█████████▉| 3135/3140 [00:20<00:00, 154.26it/s]\n",
      " 99%|█████████▉| 550/555 [02:09<00:01,  3.99it/s]\n"
     ]
    },
    {
     "name": "stdout",
     "output_type": "stream",
     "text": [
      "Epoch: 581/1000 Train Loss: 0.015 Train Acc: 0.984 Valid Loss: 0.201 Valid Acc: 0.793 Valid Pre: 0.203 Valid Reca: 0.206 Valid F1: 0.193\n",
      "No Improvement.\n"
     ]
    },
    {
     "name": "stderr",
     "output_type": "stream",
     "text": [
      "100%|█████████▉| 3135/3140 [00:21<00:00, 150.40it/s]\n",
      " 99%|█████████▉| 550/555 [02:09<00:01,  3.98it/s]\n"
     ]
    },
    {
     "name": "stdout",
     "output_type": "stream",
     "text": [
      "Epoch: 582/1000 Train Loss: 0.014 Train Acc: 0.984 Valid Loss: 0.198 Valid Acc: 0.797 Valid Pre: 0.203 Valid Reca: 0.203 Valid F1: 0.193\n",
      "No Improvement.\n"
     ]
    },
    {
     "name": "stderr",
     "output_type": "stream",
     "text": [
      "100%|█████████▉| 3135/3140 [00:20<00:00, 147.01it/s]\n",
      " 99%|█████████▉| 550/555 [02:10<00:01,  3.96it/s]\n"
     ]
    },
    {
     "name": "stdout",
     "output_type": "stream",
     "text": [
      "Epoch: 583/1000 Train Loss: 0.014 Train Acc: 0.985 Valid Loss: 0.200 Valid Acc: 0.795 Valid Pre: 0.208 Valid Reca: 0.213 Valid F1: 0.200\n",
      "No Improvement.\n"
     ]
    },
    {
     "name": "stderr",
     "output_type": "stream",
     "text": [
      "100%|█████████▉| 3135/3140 [00:21<00:00, 151.11it/s]\n",
      " 99%|█████████▉| 550/555 [02:11<00:01,  3.95it/s]\n"
     ]
    },
    {
     "name": "stdout",
     "output_type": "stream",
     "text": [
      "Epoch: 584/1000 Train Loss: 0.012 Train Acc: 0.987 Valid Loss: 0.197 Valid Acc: 0.798 Valid Pre: 0.218 Valid Reca: 0.225 Valid F1: 0.210\n",
      "No Improvement.\n"
     ]
    },
    {
     "name": "stderr",
     "output_type": "stream",
     "text": [
      "100%|█████████▉| 3135/3140 [00:20<00:00, 155.03it/s]\n",
      " 99%|█████████▉| 550/555 [02:11<00:01,  3.94it/s]\n"
     ]
    },
    {
     "name": "stdout",
     "output_type": "stream",
     "text": [
      "Epoch: 585/1000 Train Loss: 0.013 Train Acc: 0.986 Valid Loss: 0.199 Valid Acc: 0.797 Valid Pre: 0.201 Valid Reca: 0.207 Valid F1: 0.193\n",
      "No Improvement.\n"
     ]
    },
    {
     "name": "stderr",
     "output_type": "stream",
     "text": [
      "100%|█████████▉| 3135/3140 [00:20<00:00, 153.97it/s]\n",
      " 99%|█████████▉| 550/555 [02:11<00:01,  3.94it/s]\n"
     ]
    },
    {
     "name": "stdout",
     "output_type": "stream",
     "text": [
      "Epoch: 586/1000 Train Loss: 0.016 Train Acc: 0.984 Valid Loss: 0.201 Valid Acc: 0.795 Valid Pre: 0.212 Valid Reca: 0.220 Valid F1: 0.204\n",
      "No Improvement.\n"
     ]
    },
    {
     "name": "stderr",
     "output_type": "stream",
     "text": [
      "100%|█████████▉| 3135/3140 [00:20<00:00, 154.74it/s]\n",
      " 99%|█████████▉| 550/555 [02:12<00:01,  3.91it/s]\n"
     ]
    },
    {
     "name": "stdout",
     "output_type": "stream",
     "text": [
      "Epoch: 587/1000 Train Loss: 0.014 Train Acc: 0.985 Valid Loss: 0.199 Valid Acc: 0.797 Valid Pre: 0.207 Valid Reca: 0.211 Valid F1: 0.195\n",
      "No Improvement.\n"
     ]
    },
    {
     "name": "stderr",
     "output_type": "stream",
     "text": [
      "100%|█████████▉| 3135/3140 [00:20<00:00, 151.50it/s]\n",
      " 99%|█████████▉| 550/555 [02:12<00:01,  3.91it/s]\n"
     ]
    },
    {
     "name": "stdout",
     "output_type": "stream",
     "text": [
      "Epoch: 588/1000 Train Loss: 0.013 Train Acc: 0.986 Valid Loss: 0.202 Valid Acc: 0.792 Valid Pre: 0.210 Valid Reca: 0.217 Valid F1: 0.202\n",
      "No Improvement.\n"
     ]
    },
    {
     "name": "stderr",
     "output_type": "stream",
     "text": [
      "100%|█████████▉| 3135/3140 [00:21<00:00, 149.64it/s]\n",
      " 99%|█████████▉| 550/555 [02:12<00:01,  3.89it/s]\n"
     ]
    },
    {
     "name": "stdout",
     "output_type": "stream",
     "text": [
      "Epoch: 589/1000 Train Loss: 0.013 Train Acc: 0.986 Valid Loss: 0.200 Valid Acc: 0.795 Valid Pre: 0.197 Valid Reca: 0.201 Valid F1: 0.187\n",
      "No Improvement.\n"
     ]
    },
    {
     "name": "stderr",
     "output_type": "stream",
     "text": [
      "100%|█████████▉| 3135/3140 [00:21<00:00, 148.88it/s]\n",
      " 99%|█████████▉| 550/555 [02:13<00:01,  3.88it/s]\n"
     ]
    },
    {
     "name": "stdout",
     "output_type": "stream",
     "text": [
      "Epoch: 590/1000 Train Loss: 0.014 Train Acc: 0.985 Valid Loss: 0.200 Valid Acc: 0.795 Valid Pre: 0.208 Valid Reca: 0.215 Valid F1: 0.200\n",
      "No Improvement.\n"
     ]
    },
    {
     "name": "stderr",
     "output_type": "stream",
     "text": [
      "100%|█████████▉| 3135/3140 [00:21<00:00, 149.96it/s]\n",
      " 99%|█████████▉| 550/555 [02:13<00:01,  3.85it/s]\n"
     ]
    },
    {
     "name": "stdout",
     "output_type": "stream",
     "text": [
      "Epoch: 591/1000 Train Loss: 0.015 Train Acc: 0.984 Valid Loss: 0.197 Valid Acc: 0.798 Valid Pre: 0.207 Valid Reca: 0.216 Valid F1: 0.200\n",
      "No Improvement.\n"
     ]
    },
    {
     "name": "stderr",
     "output_type": "stream",
     "text": [
      "100%|█████████▉| 3135/3140 [00:21<00:00, 149.73it/s]\n",
      " 99%|█████████▉| 550/555 [02:13<00:01,  3.84it/s]\n"
     ]
    },
    {
     "name": "stdout",
     "output_type": "stream",
     "text": [
      "Epoch: 592/1000 Train Loss: 0.014 Train Acc: 0.986 Valid Loss: 0.198 Valid Acc: 0.798 Valid Pre: 0.198 Valid Reca: 0.206 Valid F1: 0.191\n",
      "No Improvement.\n"
     ]
    },
    {
     "name": "stderr",
     "output_type": "stream",
     "text": [
      "100%|█████████▉| 3135/3140 [00:21<00:00, 144.51it/s]\n",
      " 99%|█████████▉| 550/555 [02:14<00:01,  3.82it/s]\n"
     ]
    },
    {
     "name": "stdout",
     "output_type": "stream",
     "text": [
      "Epoch: 593/1000 Train Loss: 0.015 Train Acc: 0.984 Valid Loss: 0.200 Valid Acc: 0.797 Valid Pre: 0.200 Valid Reca: 0.217 Valid F1: 0.194\n",
      "No Improvement.\n"
     ]
    },
    {
     "name": "stderr",
     "output_type": "stream",
     "text": [
      "100%|█████████▉| 3135/3140 [00:21<00:00, 152.47it/s]\n",
      " 99%|█████████▉| 550/555 [02:14<00:01,  3.82it/s]\n"
     ]
    },
    {
     "name": "stdout",
     "output_type": "stream",
     "text": [
      "Epoch: 594/1000 Train Loss: 0.015 Train Acc: 0.984 Valid Loss: 0.202 Valid Acc: 0.794 Valid Pre: 0.204 Valid Reca: 0.214 Valid F1: 0.194\n",
      "No Improvement.\n"
     ]
    },
    {
     "name": "stderr",
     "output_type": "stream",
     "text": [
      "100%|█████████▉| 3135/3140 [00:21<00:00, 151.30it/s]\n",
      " 99%|█████████▉| 550/555 [02:15<00:01,  3.81it/s]\n"
     ]
    },
    {
     "name": "stdout",
     "output_type": "stream",
     "text": [
      "Epoch: 595/1000 Train Loss: 0.014 Train Acc: 0.985 Valid Loss: 0.200 Valid Acc: 0.795 Valid Pre: 0.218 Valid Reca: 0.219 Valid F1: 0.203\n",
      "No Improvement.\n"
     ]
    },
    {
     "name": "stderr",
     "output_type": "stream",
     "text": [
      "100%|█████████▉| 3135/3140 [00:21<00:00, 147.64it/s]\n",
      " 99%|█████████▉| 550/555 [02:15<00:01,  3.80it/s]\n"
     ]
    },
    {
     "name": "stdout",
     "output_type": "stream",
     "text": [
      "Epoch: 596/1000 Train Loss: 0.015 Train Acc: 0.984 Valid Loss: 0.197 Valid Acc: 0.801 Valid Pre: 0.225 Valid Reca: 0.225 Valid F1: 0.209\n",
      "No Improvement.\n"
     ]
    },
    {
     "name": "stderr",
     "output_type": "stream",
     "text": [
      "100%|█████████▉| 3135/3140 [00:21<00:00, 152.05it/s]\n",
      " 99%|█████████▉| 550/555 [02:15<00:01,  3.80it/s]\n"
     ]
    },
    {
     "name": "stdout",
     "output_type": "stream",
     "text": [
      "Epoch: 597/1000 Train Loss: 0.014 Train Acc: 0.985 Valid Loss: 0.194 Valid Acc: 0.803 Valid Pre: 0.208 Valid Reca: 0.213 Valid F1: 0.197\n",
      "No Improvement.\n"
     ]
    },
    {
     "name": "stderr",
     "output_type": "stream",
     "text": [
      "100%|█████████▉| 3135/3140 [00:21<00:00, 150.41it/s]\n",
      " 99%|█████████▉| 550/555 [02:15<00:01,  3.81it/s]\n"
     ]
    },
    {
     "name": "stdout",
     "output_type": "stream",
     "text": [
      "Epoch: 598/1000 Train Loss: 0.013 Train Acc: 0.986 Valid Loss: 0.200 Valid Acc: 0.796 Valid Pre: 0.204 Valid Reca: 0.210 Valid F1: 0.195\n",
      "No Improvement.\n"
     ]
    },
    {
     "name": "stderr",
     "output_type": "stream",
     "text": [
      "100%|█████████▉| 3135/3140 [00:21<00:00, 146.54it/s]\n",
      " 99%|█████████▉| 550/555 [02:16<00:01,  3.78it/s]\n"
     ]
    },
    {
     "name": "stdout",
     "output_type": "stream",
     "text": [
      "Epoch: 599/1000 Train Loss: 0.014 Train Acc: 0.985 Valid Loss: 0.198 Valid Acc: 0.798 Valid Pre: 0.226 Valid Reca: 0.232 Valid F1: 0.214\n",
      "No Improvement.\n"
     ]
    },
    {
     "name": "stderr",
     "output_type": "stream",
     "text": [
      "100%|█████████▉| 3135/3140 [00:21<00:00, 146.26it/s]\n",
      " 99%|█████████▉| 550/555 [02:16<00:01,  3.77it/s]\n"
     ]
    },
    {
     "name": "stdout",
     "output_type": "stream",
     "text": [
      "Epoch: 600/1000 Train Loss: 0.014 Train Acc: 0.985 Valid Loss: 0.197 Valid Acc: 0.798 Valid Pre: 0.227 Valid Reca: 0.236 Valid F1: 0.216\n",
      "No Improvement.\n"
     ]
    },
    {
     "name": "stderr",
     "output_type": "stream",
     "text": [
      "100%|█████████▉| 3135/3140 [00:21<00:00, 142.33it/s]\n",
      " 99%|█████████▉| 550/555 [02:17<00:01,  3.75it/s]\n"
     ]
    },
    {
     "name": "stdout",
     "output_type": "stream",
     "text": [
      "Epoch: 601/1000 Train Loss: 0.015 Train Acc: 0.984 Valid Loss: 0.199 Valid Acc: 0.798 Valid Pre: 0.214 Valid Reca: 0.224 Valid F1: 0.207\n",
      "No Improvement.\n"
     ]
    },
    {
     "name": "stderr",
     "output_type": "stream",
     "text": [
      "100%|█████████▉| 3135/3140 [00:21<00:00, 144.64it/s]\n",
      " 99%|█████████▉| 550/555 [02:18<00:01,  3.73it/s]\n"
     ]
    },
    {
     "name": "stdout",
     "output_type": "stream",
     "text": [
      "Epoch: 602/1000 Train Loss: 0.014 Train Acc: 0.985 Valid Loss: 0.195 Valid Acc: 0.801 Valid Pre: 0.206 Valid Reca: 0.212 Valid F1: 0.196\n",
      "No Improvement.\n"
     ]
    },
    {
     "name": "stderr",
     "output_type": "stream",
     "text": [
      "100%|█████████▉| 3135/3140 [00:21<00:00, 151.07it/s]\n",
      " 99%|█████████▉| 550/555 [02:17<00:01,  3.74it/s]\n"
     ]
    },
    {
     "name": "stdout",
     "output_type": "stream",
     "text": [
      "Epoch: 603/1000 Train Loss: 0.014 Train Acc: 0.985 Valid Loss: 0.194 Valid Acc: 0.804 Valid Pre: 0.200 Valid Reca: 0.212 Valid F1: 0.193\n",
      "No Improvement.\n"
     ]
    },
    {
     "name": "stderr",
     "output_type": "stream",
     "text": [
      "100%|█████████▉| 3135/3140 [00:21<00:00, 150.12it/s]\n",
      " 99%|█████████▉| 550/555 [02:18<00:01,  3.71it/s]\n"
     ]
    },
    {
     "name": "stdout",
     "output_type": "stream",
     "text": [
      "Epoch: 604/1000 Train Loss: 0.015 Train Acc: 0.984 Valid Loss: 0.191 Valid Acc: 0.805 Valid Pre: 0.208 Valid Reca: 0.217 Valid F1: 0.199\n",
      "No Improvement.\n"
     ]
    },
    {
     "name": "stderr",
     "output_type": "stream",
     "text": [
      "100%|█████████▉| 3135/3140 [00:21<00:00, 146.20it/s]\n",
      " 99%|█████████▉| 550/555 [02:19<00:01,  3.69it/s]\n"
     ]
    },
    {
     "name": "stdout",
     "output_type": "stream",
     "text": [
      "Epoch: 605/1000 Train Loss: 0.015 Train Acc: 0.984 Valid Loss: 0.191 Valid Acc: 0.805 Valid Pre: 0.212 Valid Reca: 0.219 Valid F1: 0.200\n",
      "No Improvement.\n"
     ]
    },
    {
     "name": "stderr",
     "output_type": "stream",
     "text": [
      "100%|█████████▉| 3135/3140 [00:21<00:00, 145.04it/s]\n",
      " 99%|█████████▉| 550/555 [02:19<00:01,  3.68it/s]\n"
     ]
    },
    {
     "name": "stdout",
     "output_type": "stream",
     "text": [
      "Epoch: 606/1000 Train Loss: 0.015 Train Acc: 0.984 Valid Loss: 0.192 Valid Acc: 0.804 Valid Pre: 0.204 Valid Reca: 0.210 Valid F1: 0.192\n",
      "No Improvement.\n"
     ]
    },
    {
     "name": "stderr",
     "output_type": "stream",
     "text": [
      "100%|█████████▉| 3135/3140 [00:21<00:00, 139.11it/s]\n",
      " 99%|█████████▉| 550/555 [02:20<00:01,  3.66it/s]\n"
     ]
    },
    {
     "name": "stdout",
     "output_type": "stream",
     "text": [
      "Epoch: 607/1000 Train Loss: 0.015 Train Acc: 0.984 Valid Loss: 0.189 Valid Acc: 0.806 Valid Pre: 0.187 Valid Reca: 0.199 Valid F1: 0.180\n",
      "No Improvement.\n"
     ]
    },
    {
     "name": "stderr",
     "output_type": "stream",
     "text": [
      "100%|█████████▉| 3135/3140 [00:21<00:00, 146.75it/s]\n",
      " 99%|█████████▉| 550/555 [02:20<00:01,  3.66it/s]\n"
     ]
    },
    {
     "name": "stdout",
     "output_type": "stream",
     "text": [
      "Epoch: 608/1000 Train Loss: 0.014 Train Acc: 0.985 Valid Loss: 0.192 Valid Acc: 0.803 Valid Pre: 0.205 Valid Reca: 0.208 Valid F1: 0.190\n",
      "No Improvement.\n"
     ]
    },
    {
     "name": "stderr",
     "output_type": "stream",
     "text": [
      "100%|█████████▉| 3135/3140 [00:22<00:00, 142.60it/s]\n",
      " 99%|█████████▉| 550/555 [02:22<00:01,  3.62it/s]\n"
     ]
    },
    {
     "name": "stdout",
     "output_type": "stream",
     "text": [
      "Epoch: 609/1000 Train Loss: 0.013 Train Acc: 0.986 Valid Loss: 0.196 Valid Acc: 0.799 Valid Pre: 0.206 Valid Reca: 0.211 Valid F1: 0.194\n",
      "No Improvement.\n"
     ]
    },
    {
     "name": "stderr",
     "output_type": "stream",
     "text": [
      "100%|█████████▉| 3135/3140 [00:21<00:00, 147.21it/s]\n",
      " 99%|█████████▉| 550/555 [02:21<00:01,  3.66it/s]\n"
     ]
    },
    {
     "name": "stdout",
     "output_type": "stream",
     "text": [
      "Epoch: 610/1000 Train Loss: 0.013 Train Acc: 0.986 Valid Loss: 0.197 Valid Acc: 0.799 Valid Pre: 0.220 Valid Reca: 0.215 Valid F1: 0.203\n",
      "No Improvement.\n"
     ]
    },
    {
     "name": "stderr",
     "output_type": "stream",
     "text": [
      "100%|█████████▉| 3135/3140 [00:21<00:00, 145.19it/s]\n",
      " 99%|█████████▉| 550/555 [02:21<00:01,  3.63it/s]\n"
     ]
    },
    {
     "name": "stdout",
     "output_type": "stream",
     "text": [
      "Epoch: 611/1000 Train Loss: 0.015 Train Acc: 0.984 Valid Loss: 0.196 Valid Acc: 0.801 Valid Pre: 0.231 Valid Reca: 0.217 Valid F1: 0.205\n",
      "No Improvement.\n"
     ]
    },
    {
     "name": "stderr",
     "output_type": "stream",
     "text": [
      "100%|█████████▉| 3135/3140 [00:21<00:00, 147.49it/s]\n",
      " 99%|█████████▉| 550/555 [02:22<00:01,  3.63it/s]\n"
     ]
    },
    {
     "name": "stdout",
     "output_type": "stream",
     "text": [
      "Epoch: 612/1000 Train Loss: 0.015 Train Acc: 0.984 Valid Loss: 0.195 Valid Acc: 0.801 Valid Pre: 0.217 Valid Reca: 0.215 Valid F1: 0.201\n",
      "No Improvement.\n"
     ]
    },
    {
     "name": "stderr",
     "output_type": "stream",
     "text": [
      "100%|█████████▉| 3135/3140 [00:22<00:00, 143.60it/s]\n",
      " 99%|█████████▉| 550/555 [02:22<00:01,  3.63it/s]\n"
     ]
    },
    {
     "name": "stdout",
     "output_type": "stream",
     "text": [
      "Epoch: 613/1000 Train Loss: 0.013 Train Acc: 0.986 Valid Loss: 0.194 Valid Acc: 0.802 Valid Pre: 0.204 Valid Reca: 0.204 Valid F1: 0.189\n",
      "No Improvement.\n"
     ]
    },
    {
     "name": "stderr",
     "output_type": "stream",
     "text": [
      "100%|█████████▉| 3135/3140 [00:21<00:00, 148.59it/s]\n",
      " 99%|█████████▉| 550/555 [02:22<00:01,  3.62it/s]\n"
     ]
    },
    {
     "name": "stdout",
     "output_type": "stream",
     "text": [
      "Epoch: 614/1000 Train Loss: 0.014 Train Acc: 0.985 Valid Loss: 0.192 Valid Acc: 0.805 Valid Pre: 0.193 Valid Reca: 0.205 Valid F1: 0.183\n",
      "No Improvement.\n"
     ]
    },
    {
     "name": "stderr",
     "output_type": "stream",
     "text": [
      "100%|█████████▉| 3135/3140 [00:22<00:00, 143.22it/s]\n",
      " 99%|█████████▉| 550/555 [02:23<00:01,  3.61it/s]\n"
     ]
    },
    {
     "name": "stdout",
     "output_type": "stream",
     "text": [
      "Epoch: 615/1000 Train Loss: 0.014 Train Acc: 0.985 Valid Loss: 0.194 Valid Acc: 0.802 Valid Pre: 0.209 Valid Reca: 0.216 Valid F1: 0.198\n",
      "No Improvement.\n"
     ]
    },
    {
     "name": "stderr",
     "output_type": "stream",
     "text": [
      "100%|█████████▉| 3135/3140 [00:21<00:00, 140.23it/s]\n",
      " 99%|█████████▉| 550/555 [02:24<00:01,  3.58it/s]\n"
     ]
    },
    {
     "name": "stdout",
     "output_type": "stream",
     "text": [
      "Epoch: 616/1000 Train Loss: 0.013 Train Acc: 0.986 Valid Loss: 0.197 Valid Acc: 0.799 Valid Pre: 0.199 Valid Reca: 0.213 Valid F1: 0.191\n",
      "No Improvement.\n"
     ]
    },
    {
     "name": "stderr",
     "output_type": "stream",
     "text": [
      "100%|█████████▉| 3135/3140 [00:21<00:00, 148.26it/s]\n",
      " 99%|█████████▉| 550/555 [02:24<00:01,  3.58it/s]\n"
     ]
    },
    {
     "name": "stdout",
     "output_type": "stream",
     "text": [
      "Epoch: 617/1000 Train Loss: 0.015 Train Acc: 0.983 Valid Loss: 0.195 Valid Acc: 0.801 Valid Pre: 0.220 Valid Reca: 0.213 Valid F1: 0.200\n",
      "No Improvement.\n"
     ]
    },
    {
     "name": "stderr",
     "output_type": "stream",
     "text": [
      "100%|█████████▉| 3135/3140 [00:22<00:00, 143.09it/s]\n",
      " 99%|█████████▉| 550/555 [02:24<00:01,  3.56it/s]\n"
     ]
    },
    {
     "name": "stdout",
     "output_type": "stream",
     "text": [
      "Epoch: 618/1000 Train Loss: 0.014 Train Acc: 0.985 Valid Loss: 0.196 Valid Acc: 0.800 Valid Pre: 0.219 Valid Reca: 0.217 Valid F1: 0.200\n",
      "No Improvement.\n"
     ]
    },
    {
     "name": "stderr",
     "output_type": "stream",
     "text": [
      "100%|█████████▉| 3135/3140 [00:21<00:00, 147.20it/s]\n",
      " 99%|█████████▉| 550/555 [02:25<00:01,  3.55it/s]\n"
     ]
    },
    {
     "name": "stdout",
     "output_type": "stream",
     "text": [
      "Epoch: 619/1000 Train Loss: 0.016 Train Acc: 0.983 Valid Loss: 0.201 Valid Acc: 0.795 Valid Pre: 0.209 Valid Reca: 0.210 Valid F1: 0.193\n",
      "No Improvement.\n"
     ]
    },
    {
     "name": "stderr",
     "output_type": "stream",
     "text": [
      "100%|█████████▉| 3135/3140 [00:22<00:00, 141.35it/s]\n",
      " 99%|█████████▉| 550/555 [02:25<00:01,  3.55it/s]\n"
     ]
    },
    {
     "name": "stdout",
     "output_type": "stream",
     "text": [
      "Epoch: 620/1000 Train Loss: 0.014 Train Acc: 0.985 Valid Loss: 0.201 Valid Acc: 0.795 Valid Pre: 0.221 Valid Reca: 0.218 Valid F1: 0.203\n",
      "No Improvement.\n"
     ]
    },
    {
     "name": "stderr",
     "output_type": "stream",
     "text": [
      "100%|█████████▉| 3135/3140 [00:21<00:00, 144.30it/s]\n",
      " 99%|█████████▉| 550/555 [02:25<00:01,  3.53it/s]\n"
     ]
    },
    {
     "name": "stdout",
     "output_type": "stream",
     "text": [
      "Epoch: 621/1000 Train Loss: 0.014 Train Acc: 0.984 Valid Loss: 0.196 Valid Acc: 0.801 Valid Pre: 0.207 Valid Reca: 0.211 Valid F1: 0.196\n",
      "No Improvement.\n"
     ]
    },
    {
     "name": "stderr",
     "output_type": "stream",
     "text": [
      "100%|█████████▉| 3135/3140 [00:22<00:00, 142.87it/s]\n",
      " 99%|█████████▉| 550/555 [02:25<00:01,  3.54it/s]\n"
     ]
    },
    {
     "name": "stdout",
     "output_type": "stream",
     "text": [
      "Epoch: 622/1000 Train Loss: 0.015 Train Acc: 0.984 Valid Loss: 0.195 Valid Acc: 0.801 Valid Pre: 0.190 Valid Reca: 0.203 Valid F1: 0.185\n",
      "No Improvement.\n"
     ]
    },
    {
     "name": "stderr",
     "output_type": "stream",
     "text": [
      "100%|█████████▉| 3135/3140 [00:22<00:00, 144.40it/s]\n",
      " 99%|█████████▉| 550/555 [02:26<00:01,  3.50it/s]\n"
     ]
    },
    {
     "name": "stdout",
     "output_type": "stream",
     "text": [
      "Epoch: 623/1000 Train Loss: 0.015 Train Acc: 0.984 Valid Loss: 0.196 Valid Acc: 0.799 Valid Pre: 0.197 Valid Reca: 0.210 Valid F1: 0.191\n",
      "No Improvement.\n"
     ]
    },
    {
     "name": "stderr",
     "output_type": "stream",
     "text": [
      "100%|█████████▉| 3135/3140 [00:22<00:00, 142.42it/s]\n",
      " 99%|█████████▉| 550/555 [02:27<00:01,  3.49it/s]\n"
     ]
    },
    {
     "name": "stdout",
     "output_type": "stream",
     "text": [
      "Epoch: 624/1000 Train Loss: 0.014 Train Acc: 0.985 Valid Loss: 0.193 Valid Acc: 0.803 Valid Pre: 0.203 Valid Reca: 0.214 Valid F1: 0.197\n",
      "No Improvement.\n"
     ]
    },
    {
     "name": "stderr",
     "output_type": "stream",
     "text": [
      "100%|█████████▉| 3135/3140 [00:21<00:00, 145.52it/s]\n",
      " 99%|█████████▉| 550/555 [02:26<00:01,  3.51it/s]\n"
     ]
    },
    {
     "name": "stdout",
     "output_type": "stream",
     "text": [
      "Epoch: 625/1000 Train Loss: 0.015 Train Acc: 0.985 Valid Loss: 0.195 Valid Acc: 0.801 Valid Pre: 0.201 Valid Reca: 0.217 Valid F1: 0.197\n",
      "No Improvement.\n"
     ]
    },
    {
     "name": "stderr",
     "output_type": "stream",
     "text": [
      "100%|█████████▉| 3135/3140 [00:21<00:00, 143.67it/s]\n",
      " 99%|█████████▉| 550/555 [02:28<00:01,  3.48it/s]\n"
     ]
    },
    {
     "name": "stdout",
     "output_type": "stream",
     "text": [
      "Epoch: 626/1000 Train Loss: 0.015 Train Acc: 0.984 Valid Loss: 0.191 Valid Acc: 0.805 Valid Pre: 0.201 Valid Reca: 0.214 Valid F1: 0.193\n",
      "No Improvement.\n"
     ]
    },
    {
     "name": "stderr",
     "output_type": "stream",
     "text": [
      "100%|█████████▉| 3135/3140 [00:22<00:00, 137.44it/s]\n",
      " 99%|█████████▉| 550/555 [02:28<00:01,  3.49it/s]\n"
     ]
    },
    {
     "name": "stdout",
     "output_type": "stream",
     "text": [
      "Epoch: 627/1000 Train Loss: 0.017 Train Acc: 0.982 Valid Loss: 0.194 Valid Acc: 0.800 Valid Pre: 0.205 Valid Reca: 0.214 Valid F1: 0.197\n",
      "No Improvement.\n"
     ]
    },
    {
     "name": "stderr",
     "output_type": "stream",
     "text": [
      "100%|█████████▉| 3135/3140 [00:22<00:00, 144.36it/s]\n",
      " 99%|█████████▉| 550/555 [02:28<00:01,  3.47it/s]\n"
     ]
    },
    {
     "name": "stdout",
     "output_type": "stream",
     "text": [
      "Epoch: 628/1000 Train Loss: 0.015 Train Acc: 0.984 Valid Loss: 0.196 Valid Acc: 0.799 Valid Pre: 0.200 Valid Reca: 0.210 Valid F1: 0.192\n",
      "No Improvement.\n"
     ]
    },
    {
     "name": "stderr",
     "output_type": "stream",
     "text": [
      "100%|█████████▉| 3135/3140 [00:22<00:00, 139.31it/s]\n",
      " 99%|█████████▉| 550/555 [02:29<00:01,  3.47it/s]\n"
     ]
    },
    {
     "name": "stdout",
     "output_type": "stream",
     "text": [
      "Epoch: 629/1000 Train Loss: 0.015 Train Acc: 0.984 Valid Loss: 0.195 Valid Acc: 0.801 Valid Pre: 0.214 Valid Reca: 0.219 Valid F1: 0.201\n",
      "No Improvement.\n"
     ]
    },
    {
     "name": "stderr",
     "output_type": "stream",
     "text": [
      "100%|█████████▉| 3135/3140 [00:22<00:00, 141.19it/s]\n",
      " 99%|█████████▉| 550/555 [02:29<00:01,  3.43it/s]\n"
     ]
    },
    {
     "name": "stdout",
     "output_type": "stream",
     "text": [
      "Epoch: 630/1000 Train Loss: 0.016 Train Acc: 0.983 Valid Loss: 0.190 Valid Acc: 0.806 Valid Pre: 0.213 Valid Reca: 0.218 Valid F1: 0.199\n",
      "No Improvement.\n"
     ]
    },
    {
     "name": "stderr",
     "output_type": "stream",
     "text": [
      "100%|█████████▉| 3135/3140 [00:22<00:00, 143.95it/s]\n",
      " 99%|█████████▉| 550/555 [02:29<00:01,  3.46it/s]\n"
     ]
    },
    {
     "name": "stdout",
     "output_type": "stream",
     "text": [
      "Epoch: 631/1000 Train Loss: 0.013 Train Acc: 0.986 Valid Loss: 0.194 Valid Acc: 0.803 Valid Pre: 0.214 Valid Reca: 0.219 Valid F1: 0.201\n",
      "No Improvement.\n"
     ]
    },
    {
     "name": "stderr",
     "output_type": "stream",
     "text": [
      "100%|█████████▉| 3135/3140 [00:22<00:00, 141.81it/s]\n",
      " 99%|█████████▉| 550/555 [02:30<00:01,  3.42it/s]\n"
     ]
    },
    {
     "name": "stdout",
     "output_type": "stream",
     "text": [
      "Epoch: 632/1000 Train Loss: 0.013 Train Acc: 0.987 Valid Loss: 0.193 Valid Acc: 0.804 Valid Pre: 0.212 Valid Reca: 0.214 Valid F1: 0.197\n",
      "No Improvement.\n"
     ]
    },
    {
     "name": "stderr",
     "output_type": "stream",
     "text": [
      "100%|█████████▉| 3135/3140 [00:22<00:00, 141.33it/s]\n",
      " 99%|█████████▉| 550/555 [02:30<00:01,  3.41it/s]\n"
     ]
    },
    {
     "name": "stdout",
     "output_type": "stream",
     "text": [
      "Epoch: 633/1000 Train Loss: 0.014 Train Acc: 0.985 Valid Loss: 0.194 Valid Acc: 0.803 Valid Pre: 0.203 Valid Reca: 0.213 Valid F1: 0.192\n",
      "No Improvement.\n"
     ]
    },
    {
     "name": "stderr",
     "output_type": "stream",
     "text": [
      "100%|█████████▉| 3135/3140 [00:22<00:00, 138.38it/s]\n",
      " 99%|█████████▉| 550/555 [02:31<00:01,  3.40it/s]\n"
     ]
    },
    {
     "name": "stdout",
     "output_type": "stream",
     "text": [
      "Epoch: 634/1000 Train Loss: 0.016 Train Acc: 0.983 Valid Loss: 0.190 Valid Acc: 0.807 Valid Pre: 0.207 Valid Reca: 0.214 Valid F1: 0.197\n",
      "No Improvement.\n"
     ]
    },
    {
     "name": "stderr",
     "output_type": "stream",
     "text": [
      "100%|█████████▉| 3135/3140 [00:22<00:00, 138.30it/s]\n",
      " 99%|█████████▉| 550/555 [02:31<00:01,  3.41it/s]\n"
     ]
    },
    {
     "name": "stdout",
     "output_type": "stream",
     "text": [
      "Epoch: 635/1000 Train Loss: 0.015 Train Acc: 0.984 Valid Loss: 0.198 Valid Acc: 0.798 Valid Pre: 0.213 Valid Reca: 0.217 Valid F1: 0.197\n",
      "No Improvement.\n"
     ]
    },
    {
     "name": "stderr",
     "output_type": "stream",
     "text": [
      "100%|█████████▉| 3135/3140 [00:23<00:00, 133.60it/s]\n",
      " 99%|█████████▉| 550/555 [02:32<00:01,  3.40it/s]\n"
     ]
    },
    {
     "name": "stdout",
     "output_type": "stream",
     "text": [
      "Epoch: 636/1000 Train Loss: 0.014 Train Acc: 0.985 Valid Loss: 0.198 Valid Acc: 0.797 Valid Pre: 0.206 Valid Reca: 0.214 Valid F1: 0.197\n",
      "No Improvement.\n"
     ]
    },
    {
     "name": "stderr",
     "output_type": "stream",
     "text": [
      "100%|█████████▉| 3135/3140 [00:22<00:00, 136.70it/s]\n",
      " 99%|█████████▉| 550/555 [02:32<00:01,  3.38it/s]\n"
     ]
    },
    {
     "name": "stdout",
     "output_type": "stream",
     "text": [
      "Epoch: 637/1000 Train Loss: 0.016 Train Acc: 0.983 Valid Loss: 0.198 Valid Acc: 0.797 Valid Pre: 0.193 Valid Reca: 0.207 Valid F1: 0.188\n",
      "No Improvement.\n"
     ]
    },
    {
     "name": "stderr",
     "output_type": "stream",
     "text": [
      "100%|█████████▉| 3135/3140 [00:22<00:00, 139.74it/s]\n",
      " 99%|█████████▉| 550/555 [02:33<00:01,  3.37it/s]\n"
     ]
    },
    {
     "name": "stdout",
     "output_type": "stream",
     "text": [
      "Epoch: 638/1000 Train Loss: 0.015 Train Acc: 0.984 Valid Loss: 0.194 Valid Acc: 0.802 Valid Pre: 0.209 Valid Reca: 0.211 Valid F1: 0.198\n",
      "No Improvement.\n"
     ]
    },
    {
     "name": "stderr",
     "output_type": "stream",
     "text": [
      "100%|█████████▉| 3135/3140 [00:22<00:00, 135.11it/s]\n",
      " 99%|█████████▉| 550/555 [02:33<00:01,  3.36it/s]\n"
     ]
    },
    {
     "name": "stdout",
     "output_type": "stream",
     "text": [
      "Epoch: 639/1000 Train Loss: 0.016 Train Acc: 0.983 Valid Loss: 0.196 Valid Acc: 0.801 Valid Pre: 0.212 Valid Reca: 0.217 Valid F1: 0.201\n",
      "No Improvement.\n"
     ]
    },
    {
     "name": "stderr",
     "output_type": "stream",
     "text": [
      "100%|█████████▉| 3135/3140 [00:22<00:00, 137.06it/s]\n",
      " 99%|█████████▉| 550/555 [02:33<00:01,  3.35it/s]\n"
     ]
    },
    {
     "name": "stdout",
     "output_type": "stream",
     "text": [
      "Epoch: 640/1000 Train Loss: 0.015 Train Acc: 0.984 Valid Loss: 0.195 Valid Acc: 0.800 Valid Pre: 0.224 Valid Reca: 0.226 Valid F1: 0.212\n",
      "No Improvement.\n"
     ]
    },
    {
     "name": "stderr",
     "output_type": "stream",
     "text": [
      "100%|█████████▉| 3135/3140 [00:22<00:00, 143.32it/s]\n",
      " 99%|█████████▉| 550/555 [02:34<00:01,  3.35it/s]\n"
     ]
    },
    {
     "name": "stdout",
     "output_type": "stream",
     "text": [
      "Epoch: 641/1000 Train Loss: 0.014 Train Acc: 0.985 Valid Loss: 0.195 Valid Acc: 0.800 Valid Pre: 0.225 Valid Reca: 0.230 Valid F1: 0.214\n",
      "No Improvement.\n"
     ]
    },
    {
     "name": "stderr",
     "output_type": "stream",
     "text": [
      "100%|█████████▉| 3135/3140 [00:22<00:00, 143.70it/s]\n",
      " 99%|█████████▉| 550/555 [02:34<00:01,  3.32it/s]\n"
     ]
    },
    {
     "name": "stdout",
     "output_type": "stream",
     "text": [
      "Epoch: 642/1000 Train Loss: 0.015 Train Acc: 0.984 Valid Loss: 0.194 Valid Acc: 0.801 Valid Pre: 0.230 Valid Reca: 0.234 Valid F1: 0.218\n",
      "No Improvement.\n"
     ]
    },
    {
     "name": "stderr",
     "output_type": "stream",
     "text": [
      "100%|█████████▉| 3135/3140 [00:22<00:00, 139.79it/s]\n",
      " 99%|█████████▉| 550/555 [02:34<00:01,  3.33it/s]\n"
     ]
    },
    {
     "name": "stdout",
     "output_type": "stream",
     "text": [
      "Epoch: 643/1000 Train Loss: 0.013 Train Acc: 0.986 Valid Loss: 0.195 Valid Acc: 0.801 Valid Pre: 0.222 Valid Reca: 0.220 Valid F1: 0.209\n",
      "No Improvement.\n"
     ]
    },
    {
     "name": "stderr",
     "output_type": "stream",
     "text": [
      "100%|█████████▉| 3135/3140 [00:22<00:00, 141.88it/s]\n",
      " 99%|█████████▉| 550/555 [02:35<00:01,  3.33it/s]\n"
     ]
    },
    {
     "name": "stdout",
     "output_type": "stream",
     "text": [
      "Epoch: 644/1000 Train Loss: 0.016 Train Acc: 0.982 Valid Loss: 0.193 Valid Acc: 0.802 Valid Pre: 0.220 Valid Reca: 0.224 Valid F1: 0.208\n",
      "No Improvement.\n"
     ]
    },
    {
     "name": "stderr",
     "output_type": "stream",
     "text": [
      "100%|█████████▉| 3135/3140 [00:22<00:00, 142.90it/s]\n",
      " 99%|█████████▉| 550/555 [02:35<00:01,  3.31it/s]\n"
     ]
    },
    {
     "name": "stdout",
     "output_type": "stream",
     "text": [
      "Epoch: 645/1000 Train Loss: 0.015 Train Acc: 0.984 Valid Loss: 0.197 Valid Acc: 0.800 Valid Pre: 0.228 Valid Reca: 0.229 Valid F1: 0.214\n",
      "No Improvement.\n"
     ]
    },
    {
     "name": "stderr",
     "output_type": "stream",
     "text": [
      "100%|█████████▉| 3135/3140 [00:22<00:00, 131.84it/s]\n",
      " 99%|█████████▉| 550/555 [02:37<00:01,  3.30it/s]\n"
     ]
    },
    {
     "name": "stdout",
     "output_type": "stream",
     "text": [
      "Epoch: 646/1000 Train Loss: 0.015 Train Acc: 0.983 Valid Loss: 0.196 Valid Acc: 0.800 Valid Pre: 0.221 Valid Reca: 0.225 Valid F1: 0.211\n",
      "No Improvement.\n"
     ]
    },
    {
     "name": "stderr",
     "output_type": "stream",
     "text": [
      "100%|█████████▉| 3135/3140 [00:22<00:00, 143.44it/s]\n",
      " 99%|█████████▉| 550/555 [02:35<00:01,  3.32it/s]\n"
     ]
    },
    {
     "name": "stdout",
     "output_type": "stream",
     "text": [
      "Epoch: 647/1000 Train Loss: 0.016 Train Acc: 0.984 Valid Loss: 0.191 Valid Acc: 0.804 Valid Pre: 0.207 Valid Reca: 0.212 Valid F1: 0.198\n",
      "No Improvement.\n"
     ]
    },
    {
     "name": "stderr",
     "output_type": "stream",
     "text": [
      "100%|█████████▉| 3135/3140 [00:22<00:00, 138.82it/s]\n",
      " 99%|█████████▉| 550/555 [02:36<00:01,  3.31it/s]\n"
     ]
    },
    {
     "name": "stdout",
     "output_type": "stream",
     "text": [
      "Epoch: 648/1000 Train Loss: 0.015 Train Acc: 0.984 Valid Loss: 0.195 Valid Acc: 0.801 Valid Pre: 0.225 Valid Reca: 0.219 Valid F1: 0.208\n",
      "No Improvement.\n"
     ]
    },
    {
     "name": "stderr",
     "output_type": "stream",
     "text": [
      "100%|█████████▉| 3135/3140 [00:22<00:00, 140.09it/s]\n",
      " 99%|█████████▉| 550/555 [02:36<00:01,  3.29it/s]\n"
     ]
    },
    {
     "name": "stdout",
     "output_type": "stream",
     "text": [
      "Epoch: 649/1000 Train Loss: 0.013 Train Acc: 0.986 Valid Loss: 0.190 Valid Acc: 0.807 Valid Pre: 0.224 Valid Reca: 0.223 Valid F1: 0.212\n",
      "No Improvement.\n"
     ]
    },
    {
     "name": "stderr",
     "output_type": "stream",
     "text": [
      "100%|█████████▉| 3135/3140 [00:23<00:00, 136.07it/s]\n",
      " 99%|█████████▉| 550/555 [02:37<00:01,  3.28it/s]\n"
     ]
    },
    {
     "name": "stdout",
     "output_type": "stream",
     "text": [
      "Epoch: 650/1000 Train Loss: 0.015 Train Acc: 0.984 Valid Loss: 0.194 Valid Acc: 0.801 Valid Pre: 0.219 Valid Reca: 0.220 Valid F1: 0.203\n",
      "No Improvement.\n"
     ]
    },
    {
     "name": "stderr",
     "output_type": "stream",
     "text": [
      "100%|█████████▉| 3135/3140 [00:22<00:00, 141.08it/s]\n",
      " 99%|█████████▉| 550/555 [02:37<00:01,  3.28it/s]\n"
     ]
    },
    {
     "name": "stdout",
     "output_type": "stream",
     "text": [
      "Epoch: 651/1000 Train Loss: 0.015 Train Acc: 0.984 Valid Loss: 0.190 Valid Acc: 0.805 Valid Pre: 0.215 Valid Reca: 0.215 Valid F1: 0.200\n",
      "No Improvement.\n"
     ]
    },
    {
     "name": "stderr",
     "output_type": "stream",
     "text": [
      "100%|█████████▉| 3135/3140 [00:22<00:00, 139.99it/s]\n",
      " 99%|█████████▉| 550/555 [02:39<00:01,  3.23it/s]\n"
     ]
    },
    {
     "name": "stdout",
     "output_type": "stream",
     "text": [
      "Epoch: 652/1000 Train Loss: 0.015 Train Acc: 0.984 Valid Loss: 0.192 Valid Acc: 0.804 Valid Pre: 0.228 Valid Reca: 0.229 Valid F1: 0.214\n",
      "No Improvement.\n"
     ]
    },
    {
     "name": "stderr",
     "output_type": "stream",
     "text": [
      "100%|█████████▉| 3135/3140 [00:22<00:00, 141.91it/s]\n",
      " 99%|█████████▉| 550/555 [02:38<00:01,  3.24it/s]\n"
     ]
    },
    {
     "name": "stdout",
     "output_type": "stream",
     "text": [
      "Epoch: 653/1000 Train Loss: 0.015 Train Acc: 0.985 Valid Loss: 0.195 Valid Acc: 0.802 Valid Pre: 0.227 Valid Reca: 0.229 Valid F1: 0.213\n",
      "No Improvement.\n"
     ]
    },
    {
     "name": "stderr",
     "output_type": "stream",
     "text": [
      "100%|█████████▉| 3135/3140 [00:23<00:00, 136.79it/s]\n",
      " 99%|█████████▉| 550/555 [02:41<00:01,  3.19it/s]\n"
     ]
    },
    {
     "name": "stdout",
     "output_type": "stream",
     "text": [
      "Epoch: 654/1000 Train Loss: 0.016 Train Acc: 0.983 Valid Loss: 0.191 Valid Acc: 0.804 Valid Pre: 0.235 Valid Reca: 0.232 Valid F1: 0.220\n",
      "No Improvement.\n"
     ]
    },
    {
     "name": "stderr",
     "output_type": "stream",
     "text": [
      "100%|█████████▉| 3135/3140 [00:22<00:00, 141.38it/s]\n",
      " 99%|█████████▉| 550/555 [02:40<00:01,  3.22it/s]\n"
     ]
    },
    {
     "name": "stdout",
     "output_type": "stream",
     "text": [
      "Epoch: 655/1000 Train Loss: 0.014 Train Acc: 0.985 Valid Loss: 0.188 Valid Acc: 0.807 Valid Pre: 0.232 Valid Reca: 0.226 Valid F1: 0.214\n",
      "No Improvement.\n"
     ]
    },
    {
     "name": "stderr",
     "output_type": "stream",
     "text": [
      "100%|█████████▉| 3135/3140 [00:22<00:00, 135.88it/s]\n",
      " 99%|█████████▉| 550/555 [02:40<00:01,  3.23it/s]\n"
     ]
    },
    {
     "name": "stdout",
     "output_type": "stream",
     "text": [
      "Epoch: 656/1000 Train Loss: 0.016 Train Acc: 0.983 Valid Loss: 0.191 Valid Acc: 0.804 Valid Pre: 0.233 Valid Reca: 0.234 Valid F1: 0.220\n",
      "No Improvement.\n"
     ]
    },
    {
     "name": "stderr",
     "output_type": "stream",
     "text": [
      "100%|█████████▉| 3135/3140 [00:22<00:00, 139.75it/s]\n",
      " 99%|█████████▉| 550/555 [02:41<00:01,  3.20it/s]\n"
     ]
    },
    {
     "name": "stdout",
     "output_type": "stream",
     "text": [
      "Epoch: 657/1000 Train Loss: 0.015 Train Acc: 0.984 Valid Loss: 0.192 Valid Acc: 0.805 Valid Pre: 0.232 Valid Reca: 0.234 Valid F1: 0.219\n",
      "No Improvement.\n"
     ]
    },
    {
     "name": "stderr",
     "output_type": "stream",
     "text": [
      "100%|█████████▉| 3135/3140 [00:23<00:00, 135.27it/s]\n",
      " 99%|█████████▉| 550/555 [02:42<00:01,  3.17it/s]\n"
     ]
    },
    {
     "name": "stdout",
     "output_type": "stream",
     "text": [
      "Epoch: 658/1000 Train Loss: 0.017 Train Acc: 0.982 Valid Loss: 0.193 Valid Acc: 0.803 Valid Pre: 0.226 Valid Reca: 0.234 Valid F1: 0.219\n",
      "No Improvement.\n"
     ]
    },
    {
     "name": "stderr",
     "output_type": "stream",
     "text": [
      "100%|█████████▉| 3135/3140 [00:23<00:00, 133.55it/s]\n",
      " 99%|█████████▉| 550/555 [02:42<00:01,  3.16it/s]\n"
     ]
    },
    {
     "name": "stdout",
     "output_type": "stream",
     "text": [
      "Epoch: 659/1000 Train Loss: 0.014 Train Acc: 0.985 Valid Loss: 0.193 Valid Acc: 0.802 Valid Pre: 0.229 Valid Reca: 0.230 Valid F1: 0.215\n",
      "No Improvement.\n"
     ]
    },
    {
     "name": "stderr",
     "output_type": "stream",
     "text": [
      "100%|█████████▉| 3135/3140 [00:23<00:00, 139.93it/s]\n",
      " 99%|█████████▉| 550/555 [02:42<00:01,  3.16it/s]\n"
     ]
    },
    {
     "name": "stdout",
     "output_type": "stream",
     "text": [
      "Epoch: 660/1000 Train Loss: 0.016 Train Acc: 0.983 Valid Loss: 0.190 Valid Acc: 0.808 Valid Pre: 0.232 Valid Reca: 0.240 Valid F1: 0.222\n",
      "No Improvement.\n"
     ]
    },
    {
     "name": "stderr",
     "output_type": "stream",
     "text": [
      "100%|█████████▉| 3135/3140 [00:22<00:00, 140.45it/s]\n",
      " 99%|█████████▉| 550/555 [02:43<00:01,  3.15it/s]\n"
     ]
    },
    {
     "name": "stdout",
     "output_type": "stream",
     "text": [
      "Epoch: 661/1000 Train Loss: 0.014 Train Acc: 0.985 Valid Loss: 0.193 Valid Acc: 0.801 Valid Pre: 0.237 Valid Reca: 0.232 Valid F1: 0.218\n",
      "No Improvement.\n"
     ]
    },
    {
     "name": "stderr",
     "output_type": "stream",
     "text": [
      "100%|█████████▉| 3135/3140 [00:23<00:00, 139.79it/s]\n",
      " 99%|█████████▉| 550/555 [02:43<00:01,  3.16it/s]\n"
     ]
    },
    {
     "name": "stdout",
     "output_type": "stream",
     "text": [
      "Epoch: 662/1000 Train Loss: 0.016 Train Acc: 0.982 Valid Loss: 0.193 Valid Acc: 0.803 Valid Pre: 0.232 Valid Reca: 0.230 Valid F1: 0.217\n",
      "No Improvement.\n"
     ]
    },
    {
     "name": "stderr",
     "output_type": "stream",
     "text": [
      "100%|█████████▉| 3135/3140 [00:23<00:00, 136.27it/s]\n",
      " 99%|█████████▉| 550/555 [02:43<00:01,  3.14it/s]\n"
     ]
    },
    {
     "name": "stdout",
     "output_type": "stream",
     "text": [
      "Epoch: 663/1000 Train Loss: 0.015 Train Acc: 0.984 Valid Loss: 0.193 Valid Acc: 0.804 Valid Pre: 0.234 Valid Reca: 0.230 Valid F1: 0.220\n",
      "No Improvement.\n"
     ]
    },
    {
     "name": "stderr",
     "output_type": "stream",
     "text": [
      "100%|█████████▉| 3135/3140 [00:22<00:00, 138.47it/s]\n",
      " 99%|█████████▉| 550/555 [02:45<00:01,  3.12it/s]\n"
     ]
    },
    {
     "name": "stdout",
     "output_type": "stream",
     "text": [
      "Epoch: 664/1000 Train Loss: 0.014 Train Acc: 0.984 Valid Loss: 0.193 Valid Acc: 0.803 Valid Pre: 0.233 Valid Reca: 0.230 Valid F1: 0.217\n",
      "No Improvement.\n"
     ]
    },
    {
     "name": "stderr",
     "output_type": "stream",
     "text": [
      "100%|█████████▉| 3135/3140 [00:23<00:00, 138.99it/s]\n",
      " 99%|█████████▉| 550/555 [02:45<00:01,  3.11it/s]\n"
     ]
    },
    {
     "name": "stdout",
     "output_type": "stream",
     "text": [
      "Epoch: 665/1000 Train Loss: 0.015 Train Acc: 0.984 Valid Loss: 0.191 Valid Acc: 0.805 Valid Pre: 0.222 Valid Reca: 0.222 Valid F1: 0.211\n",
      "No Improvement.\n"
     ]
    },
    {
     "name": "stderr",
     "output_type": "stream",
     "text": [
      "100%|█████████▉| 3135/3140 [00:23<00:00, 137.34it/s]\n",
      " 99%|█████████▉| 550/555 [02:47<00:01,  3.07it/s]\n"
     ]
    },
    {
     "name": "stdout",
     "output_type": "stream",
     "text": [
      "Epoch: 666/1000 Train Loss: 0.015 Train Acc: 0.984 Valid Loss: 0.189 Valid Acc: 0.806 Valid Pre: 0.226 Valid Reca: 0.227 Valid F1: 0.215\n",
      "No Improvement.\n"
     ]
    },
    {
     "name": "stderr",
     "output_type": "stream",
     "text": [
      "100%|█████████▉| 3135/3140 [00:23<00:00, 138.17it/s]\n",
      " 99%|█████████▉| 550/555 [02:47<00:01,  3.07it/s]\n"
     ]
    },
    {
     "name": "stdout",
     "output_type": "stream",
     "text": [
      "Epoch: 667/1000 Train Loss: 0.015 Train Acc: 0.984 Valid Loss: 0.191 Valid Acc: 0.804 Valid Pre: 0.214 Valid Reca: 0.221 Valid F1: 0.204\n",
      "No Improvement.\n"
     ]
    },
    {
     "name": "stderr",
     "output_type": "stream",
     "text": [
      "100%|█████████▉| 3135/3140 [00:23<00:00, 129.49it/s]\n",
      " 99%|█████████▉| 550/555 [02:46<00:01,  3.09it/s]\n"
     ]
    },
    {
     "name": "stdout",
     "output_type": "stream",
     "text": [
      "Epoch: 668/1000 Train Loss: 0.015 Train Acc: 0.984 Valid Loss: 0.190 Valid Acc: 0.805 Valid Pre: 0.220 Valid Reca: 0.222 Valid F1: 0.208\n",
      "No Improvement.\n"
     ]
    },
    {
     "name": "stderr",
     "output_type": "stream",
     "text": [
      "100%|█████████▉| 3135/3140 [00:24<00:00, 130.77it/s]\n",
      " 99%|█████████▉| 550/555 [02:47<00:01,  3.07it/s]\n"
     ]
    },
    {
     "name": "stdout",
     "output_type": "stream",
     "text": [
      "Epoch: 669/1000 Train Loss: 0.016 Train Acc: 0.983 Valid Loss: 0.190 Valid Acc: 0.807 Valid Pre: 0.218 Valid Reca: 0.220 Valid F1: 0.205\n",
      "No Improvement.\n"
     ]
    },
    {
     "name": "stderr",
     "output_type": "stream",
     "text": [
      "100%|█████████▉| 3135/3140 [00:23<00:00, 136.21it/s]\n",
      " 99%|█████████▉| 550/555 [02:49<00:01,  3.04it/s]\n"
     ]
    },
    {
     "name": "stdout",
     "output_type": "stream",
     "text": [
      "Epoch: 670/1000 Train Loss: 0.015 Train Acc: 0.985 Valid Loss: 0.189 Valid Acc: 0.807 Valid Pre: 0.215 Valid Reca: 0.210 Valid F1: 0.199\n",
      "No Improvement.\n"
     ]
    },
    {
     "name": "stderr",
     "output_type": "stream",
     "text": [
      "100%|█████████▉| 3135/3140 [00:23<00:00, 133.20it/s]\n",
      " 99%|█████████▉| 550/555 [02:49<00:01,  3.03it/s]\n"
     ]
    },
    {
     "name": "stdout",
     "output_type": "stream",
     "text": [
      "Epoch: 671/1000 Train Loss: 0.016 Train Acc: 0.983 Valid Loss: 0.193 Valid Acc: 0.803 Valid Pre: 0.235 Valid Reca: 0.229 Valid F1: 0.217\n",
      "No Improvement.\n"
     ]
    },
    {
     "name": "stderr",
     "output_type": "stream",
     "text": [
      "100%|█████████▉| 3135/3140 [00:23<00:00, 135.06it/s]\n",
      " 99%|█████████▉| 550/555 [02:50<00:01,  3.02it/s]\n"
     ]
    },
    {
     "name": "stdout",
     "output_type": "stream",
     "text": [
      "Epoch: 672/1000 Train Loss: 0.015 Train Acc: 0.984 Valid Loss: 0.194 Valid Acc: 0.802 Valid Pre: 0.228 Valid Reca: 0.214 Valid F1: 0.207\n",
      "No Improvement.\n"
     ]
    },
    {
     "name": "stderr",
     "output_type": "stream",
     "text": [
      "100%|█████████▉| 3135/3140 [00:23<00:00, 127.44it/s]\n",
      " 99%|█████████▉| 550/555 [02:50<00:01,  3.01it/s]\n"
     ]
    },
    {
     "name": "stdout",
     "output_type": "stream",
     "text": [
      "Epoch: 673/1000 Train Loss: 0.015 Train Acc: 0.984 Valid Loss: 0.194 Valid Acc: 0.802 Valid Pre: 0.237 Valid Reca: 0.227 Valid F1: 0.219\n",
      "No Improvement.\n"
     ]
    },
    {
     "name": "stderr",
     "output_type": "stream",
     "text": [
      "100%|█████████▉| 3135/3140 [00:23<00:00, 134.38it/s]\n",
      " 99%|█████████▉| 550/555 [02:50<00:01,  3.03it/s]\n"
     ]
    },
    {
     "name": "stdout",
     "output_type": "stream",
     "text": [
      "Epoch: 674/1000 Train Loss: 0.016 Train Acc: 0.983 Valid Loss: 0.194 Valid Acc: 0.802 Valid Pre: 0.224 Valid Reca: 0.217 Valid F1: 0.206\n",
      "No Improvement.\n"
     ]
    },
    {
     "name": "stderr",
     "output_type": "stream",
     "text": [
      "100%|█████████▉| 3135/3140 [00:23<00:00, 136.33it/s]\n",
      " 99%|█████████▉| 550/555 [02:51<00:01,  3.00it/s]\n"
     ]
    },
    {
     "name": "stdout",
     "output_type": "stream",
     "text": [
      "Epoch: 675/1000 Train Loss: 0.015 Train Acc: 0.984 Valid Loss: 0.193 Valid Acc: 0.801 Valid Pre: 0.223 Valid Reca: 0.219 Valid F1: 0.205\n",
      "No Improvement.\n"
     ]
    },
    {
     "name": "stderr",
     "output_type": "stream",
     "text": [
      "100%|█████████▉| 3135/3140 [00:23<00:00, 131.92it/s]\n",
      " 99%|█████████▉| 550/555 [02:52<00:01,  2.99it/s]\n"
     ]
    },
    {
     "name": "stdout",
     "output_type": "stream",
     "text": [
      "Epoch: 676/1000 Train Loss: 0.016 Train Acc: 0.983 Valid Loss: 0.192 Valid Acc: 0.804 Valid Pre: 0.224 Valid Reca: 0.221 Valid F1: 0.210\n",
      "No Improvement.\n"
     ]
    },
    {
     "name": "stderr",
     "output_type": "stream",
     "text": [
      "100%|█████████▉| 3135/3140 [00:23<00:00, 134.60it/s]\n",
      " 99%|█████████▉| 550/555 [02:54<00:01,  2.96it/s]\n"
     ]
    },
    {
     "name": "stdout",
     "output_type": "stream",
     "text": [
      "Epoch: 677/1000 Train Loss: 0.016 Train Acc: 0.983 Valid Loss: 0.195 Valid Acc: 0.800 Valid Pre: 0.227 Valid Reca: 0.230 Valid F1: 0.216\n",
      "No Improvement.\n"
     ]
    },
    {
     "name": "stderr",
     "output_type": "stream",
     "text": [
      "100%|█████████▉| 3135/3140 [00:24<00:00, 131.91it/s]\n",
      " 99%|█████████▉| 550/555 [02:53<00:01,  2.98it/s]\n"
     ]
    },
    {
     "name": "stdout",
     "output_type": "stream",
     "text": [
      "Epoch: 678/1000 Train Loss: 0.016 Train Acc: 0.983 Valid Loss: 0.195 Valid Acc: 0.800 Valid Pre: 0.231 Valid Reca: 0.231 Valid F1: 0.217\n",
      "No Improvement.\n"
     ]
    },
    {
     "name": "stderr",
     "output_type": "stream",
     "text": [
      "100%|█████████▉| 3135/3140 [00:23<00:00, 133.97it/s]\n",
      " 99%|█████████▉| 550/555 [02:54<00:01,  2.97it/s]\n"
     ]
    },
    {
     "name": "stdout",
     "output_type": "stream",
     "text": [
      "Epoch: 679/1000 Train Loss: 0.015 Train Acc: 0.984 Valid Loss: 0.196 Valid Acc: 0.799 Valid Pre: 0.215 Valid Reca: 0.223 Valid F1: 0.206\n",
      "No Improvement.\n"
     ]
    },
    {
     "name": "stderr",
     "output_type": "stream",
     "text": [
      "100%|█████████▉| 3135/3140 [00:24<00:00, 133.63it/s]\n",
      " 99%|█████████▉| 550/555 [02:54<00:01,  2.96it/s]\n"
     ]
    },
    {
     "name": "stdout",
     "output_type": "stream",
     "text": [
      "Epoch: 680/1000 Train Loss: 0.015 Train Acc: 0.983 Valid Loss: 0.195 Valid Acc: 0.800 Valid Pre: 0.225 Valid Reca: 0.224 Valid F1: 0.211\n",
      "No Improvement.\n"
     ]
    },
    {
     "name": "stderr",
     "output_type": "stream",
     "text": [
      "100%|█████████▉| 3135/3140 [00:23<00:00, 133.59it/s]\n",
      " 99%|█████████▉| 550/555 [02:55<00:01,  2.93it/s]\n"
     ]
    },
    {
     "name": "stdout",
     "output_type": "stream",
     "text": [
      "Epoch: 681/1000 Train Loss: 0.015 Train Acc: 0.985 Valid Loss: 0.192 Valid Acc: 0.805 Valid Pre: 0.231 Valid Reca: 0.227 Valid F1: 0.214\n",
      "No Improvement.\n"
     ]
    },
    {
     "name": "stderr",
     "output_type": "stream",
     "text": [
      "100%|█████████▉| 3135/3140 [00:23<00:00, 132.70it/s]\n",
      " 99%|█████████▉| 550/555 [02:56<00:01,  2.93it/s]\n"
     ]
    },
    {
     "name": "stdout",
     "output_type": "stream",
     "text": [
      "Epoch: 682/1000 Train Loss: 0.014 Train Acc: 0.985 Valid Loss: 0.189 Valid Acc: 0.807 Valid Pre: 0.216 Valid Reca: 0.213 Valid F1: 0.201\n",
      "No Improvement.\n"
     ]
    },
    {
     "name": "stderr",
     "output_type": "stream",
     "text": [
      "100%|█████████▉| 3135/3140 [00:23<00:00, 134.71it/s]\n",
      " 99%|█████████▉| 550/555 [02:55<00:01,  2.94it/s]\n"
     ]
    },
    {
     "name": "stdout",
     "output_type": "stream",
     "text": [
      "Epoch: 683/1000 Train Loss: 0.015 Train Acc: 0.984 Valid Loss: 0.189 Valid Acc: 0.808 Valid Pre: 0.226 Valid Reca: 0.228 Valid F1: 0.215\n",
      "No Improvement.\n"
     ]
    },
    {
     "name": "stderr",
     "output_type": "stream",
     "text": [
      "100%|█████████▉| 3135/3140 [00:24<00:00, 127.84it/s]\n",
      " 99%|█████████▉| 550/555 [02:55<00:01,  2.93it/s]\n"
     ]
    },
    {
     "name": "stdout",
     "output_type": "stream",
     "text": [
      "Epoch: 684/1000 Train Loss: 0.015 Train Acc: 0.984 Valid Loss: 0.188 Valid Acc: 0.808 Valid Pre: 0.224 Valid Reca: 0.222 Valid F1: 0.207\n",
      "No Improvement.\n"
     ]
    },
    {
     "name": "stderr",
     "output_type": "stream",
     "text": [
      "100%|█████████▉| 3135/3140 [00:23<00:00, 133.95it/s]\n",
      " 99%|█████████▉| 550/555 [02:57<00:01,  2.89it/s]\n"
     ]
    },
    {
     "name": "stdout",
     "output_type": "stream",
     "text": [
      "Epoch: 685/1000 Train Loss: 0.014 Train Acc: 0.985 Valid Loss: 0.188 Valid Acc: 0.808 Valid Pre: 0.218 Valid Reca: 0.214 Valid F1: 0.202\n",
      "No Improvement.\n"
     ]
    },
    {
     "name": "stderr",
     "output_type": "stream",
     "text": [
      "100%|█████████▉| 3135/3140 [00:23<00:00, 133.13it/s]\n",
      " 99%|█████████▉| 550/555 [02:58<00:01,  2.89it/s]\n"
     ]
    },
    {
     "name": "stdout",
     "output_type": "stream",
     "text": [
      "Epoch: 686/1000 Train Loss: 0.015 Train Acc: 0.984 Valid Loss: 0.190 Valid Acc: 0.806 Valid Pre: 0.223 Valid Reca: 0.221 Valid F1: 0.208\n",
      "No Improvement.\n"
     ]
    },
    {
     "name": "stderr",
     "output_type": "stream",
     "text": [
      "100%|█████████▉| 3135/3140 [00:24<00:00, 130.55it/s]\n",
      " 99%|█████████▉| 550/555 [02:59<00:01,  2.88it/s]\n"
     ]
    },
    {
     "name": "stdout",
     "output_type": "stream",
     "text": [
      "Epoch: 687/1000 Train Loss: 0.015 Train Acc: 0.984 Valid Loss: 0.191 Valid Acc: 0.806 Valid Pre: 0.212 Valid Reca: 0.216 Valid F1: 0.203\n",
      "No Improvement.\n"
     ]
    },
    {
     "name": "stderr",
     "output_type": "stream",
     "text": [
      "100%|█████████▉| 3135/3140 [00:24<00:00, 130.37it/s]\n",
      " 99%|█████████▉| 550/555 [02:58<00:01,  2.89it/s]\n"
     ]
    },
    {
     "name": "stdout",
     "output_type": "stream",
     "text": [
      "Epoch: 688/1000 Train Loss: 0.016 Train Acc: 0.983 Valid Loss: 0.192 Valid Acc: 0.805 Valid Pre: 0.220 Valid Reca: 0.226 Valid F1: 0.211\n",
      "No Improvement.\n"
     ]
    },
    {
     "name": "stderr",
     "output_type": "stream",
     "text": [
      "100%|█████████▉| 3135/3140 [00:23<00:00, 134.65it/s]\n",
      " 99%|█████████▉| 550/555 [03:00<00:01,  2.87it/s]\n"
     ]
    },
    {
     "name": "stdout",
     "output_type": "stream",
     "text": [
      "Epoch: 689/1000 Train Loss: 0.016 Train Acc: 0.983 Valid Loss: 0.194 Valid Acc: 0.801 Valid Pre: 0.202 Valid Reca: 0.206 Valid F1: 0.193\n",
      "No Improvement.\n"
     ]
    },
    {
     "name": "stderr",
     "output_type": "stream",
     "text": [
      "100%|█████████▉| 3135/3140 [00:23<00:00, 133.96it/s]\n",
      " 99%|█████████▉| 550/555 [02:59<00:01,  2.87it/s]\n"
     ]
    },
    {
     "name": "stdout",
     "output_type": "stream",
     "text": [
      "Epoch: 690/1000 Train Loss: 0.014 Train Acc: 0.985 Valid Loss: 0.192 Valid Acc: 0.805 Valid Pre: 0.215 Valid Reca: 0.222 Valid F1: 0.206\n",
      "No Improvement.\n"
     ]
    },
    {
     "name": "stderr",
     "output_type": "stream",
     "text": [
      "100%|█████████▉| 3135/3140 [00:24<00:00, 131.20it/s]\n",
      " 99%|█████████▉| 550/555 [03:00<00:01,  2.86it/s]\n"
     ]
    },
    {
     "name": "stdout",
     "output_type": "stream",
     "text": [
      "Epoch: 691/1000 Train Loss: 0.015 Train Acc: 0.985 Valid Loss: 0.191 Valid Acc: 0.804 Valid Pre: 0.221 Valid Reca: 0.224 Valid F1: 0.209\n",
      "No Improvement.\n"
     ]
    },
    {
     "name": "stderr",
     "output_type": "stream",
     "text": [
      "100%|█████████▉| 3135/3140 [00:23<00:00, 132.01it/s]\n",
      " 99%|█████████▉| 550/555 [03:01<00:01,  2.85it/s]\n"
     ]
    },
    {
     "name": "stdout",
     "output_type": "stream",
     "text": [
      "Epoch: 692/1000 Train Loss: 0.015 Train Acc: 0.984 Valid Loss: 0.192 Valid Acc: 0.803 Valid Pre: 0.215 Valid Reca: 0.218 Valid F1: 0.204\n",
      "No Improvement.\n"
     ]
    },
    {
     "name": "stderr",
     "output_type": "stream",
     "text": [
      "100%|█████████▉| 3135/3140 [00:24<00:00, 128.43it/s]\n",
      " 99%|█████████▉| 550/555 [03:01<00:01,  2.85it/s]\n"
     ]
    },
    {
     "name": "stdout",
     "output_type": "stream",
     "text": [
      "Epoch: 693/1000 Train Loss: 0.015 Train Acc: 0.984 Valid Loss: 0.195 Valid Acc: 0.801 Valid Pre: 0.211 Valid Reca: 0.220 Valid F1: 0.201\n",
      "No Improvement.\n"
     ]
    },
    {
     "name": "stderr",
     "output_type": "stream",
     "text": [
      "100%|█████████▉| 3135/3140 [00:23<00:00, 133.65it/s]\n",
      " 99%|█████████▉| 550/555 [03:02<00:01,  2.82it/s]\n"
     ]
    },
    {
     "name": "stdout",
     "output_type": "stream",
     "text": [
      "Epoch: 694/1000 Train Loss: 0.016 Train Acc: 0.983 Valid Loss: 0.193 Valid Acc: 0.803 Valid Pre: 0.208 Valid Reca: 0.216 Valid F1: 0.196\n",
      "No Improvement.\n"
     ]
    },
    {
     "name": "stderr",
     "output_type": "stream",
     "text": [
      "100%|█████████▉| 3135/3140 [00:24<00:00, 130.87it/s]\n",
      " 99%|█████████▉| 550/555 [03:02<00:01,  2.84it/s]\n"
     ]
    },
    {
     "name": "stdout",
     "output_type": "stream",
     "text": [
      "Epoch: 695/1000 Train Loss: 0.016 Train Acc: 0.984 Valid Loss: 0.192 Valid Acc: 0.805 Valid Pre: 0.208 Valid Reca: 0.212 Valid F1: 0.195\n",
      "No Improvement.\n"
     ]
    },
    {
     "name": "stderr",
     "output_type": "stream",
     "text": [
      "100%|█████████▉| 3135/3140 [00:24<00:00, 126.07it/s]\n",
      " 99%|█████████▉| 550/555 [03:03<00:01,  2.82it/s]\n"
     ]
    },
    {
     "name": "stdout",
     "output_type": "stream",
     "text": [
      "Epoch: 696/1000 Train Loss: 0.015 Train Acc: 0.984 Valid Loss: 0.191 Valid Acc: 0.806 Valid Pre: 0.219 Valid Reca: 0.227 Valid F1: 0.208\n",
      "No Improvement.\n"
     ]
    },
    {
     "name": "stderr",
     "output_type": "stream",
     "text": [
      "100%|█████████▉| 3135/3140 [00:24<00:00, 132.39it/s]\n",
      " 99%|█████████▉| 550/555 [03:03<00:01,  2.81it/s]\n"
     ]
    },
    {
     "name": "stdout",
     "output_type": "stream",
     "text": [
      "Epoch: 697/1000 Train Loss: 0.016 Train Acc: 0.983 Valid Loss: 0.192 Valid Acc: 0.805 Valid Pre: 0.224 Valid Reca: 0.232 Valid F1: 0.210\n",
      "No Improvement.\n"
     ]
    },
    {
     "name": "stderr",
     "output_type": "stream",
     "text": [
      "100%|█████████▉| 3135/3140 [00:24<00:00, 131.48it/s]\n",
      " 99%|█████████▉| 550/555 [03:03<00:01,  2.81it/s]\n"
     ]
    },
    {
     "name": "stdout",
     "output_type": "stream",
     "text": [
      "Epoch: 698/1000 Train Loss: 0.016 Train Acc: 0.983 Valid Loss: 0.195 Valid Acc: 0.802 Valid Pre: 0.223 Valid Reca: 0.227 Valid F1: 0.209\n",
      "No Improvement.\n"
     ]
    },
    {
     "name": "stderr",
     "output_type": "stream",
     "text": [
      "100%|█████████▉| 3135/3140 [00:24<00:00, 130.22it/s]\n",
      " 99%|█████████▉| 550/555 [03:04<00:01,  2.80it/s]\n"
     ]
    },
    {
     "name": "stdout",
     "output_type": "stream",
     "text": [
      "Epoch: 699/1000 Train Loss: 0.015 Train Acc: 0.984 Valid Loss: 0.193 Valid Acc: 0.802 Valid Pre: 0.215 Valid Reca: 0.222 Valid F1: 0.202\n",
      "No Improvement.\n"
     ]
    },
    {
     "name": "stderr",
     "output_type": "stream",
     "text": [
      "100%|█████████▉| 3135/3140 [00:24<00:00, 130.51it/s]\n",
      " 99%|█████████▉| 550/555 [03:05<00:01,  2.80it/s]\n"
     ]
    },
    {
     "name": "stdout",
     "output_type": "stream",
     "text": [
      "Epoch: 700/1000 Train Loss: 0.016 Train Acc: 0.982 Valid Loss: 0.194 Valid Acc: 0.803 Valid Pre: 0.209 Valid Reca: 0.215 Valid F1: 0.197\n",
      "No Improvement.\n"
     ]
    },
    {
     "name": "stderr",
     "output_type": "stream",
     "text": [
      "100%|█████████▉| 3135/3140 [00:24<00:00, 127.67it/s]\n",
      " 99%|█████████▉| 550/555 [03:05<00:01,  2.78it/s]\n"
     ]
    },
    {
     "name": "stdout",
     "output_type": "stream",
     "text": [
      "Epoch: 701/1000 Train Loss: 0.015 Train Acc: 0.984 Valid Loss: 0.190 Valid Acc: 0.806 Valid Pre: 0.222 Valid Reca: 0.221 Valid F1: 0.203\n",
      "No Improvement.\n"
     ]
    },
    {
     "name": "stderr",
     "output_type": "stream",
     "text": [
      "100%|█████████▉| 3135/3140 [00:24<00:00, 131.73it/s]\n",
      " 99%|█████████▉| 550/555 [03:05<00:01,  2.79it/s]\n"
     ]
    },
    {
     "name": "stdout",
     "output_type": "stream",
     "text": [
      "Epoch: 702/1000 Train Loss: 0.016 Train Acc: 0.983 Valid Loss: 0.192 Valid Acc: 0.805 Valid Pre: 0.214 Valid Reca: 0.221 Valid F1: 0.201\n",
      "No Improvement.\n"
     ]
    },
    {
     "name": "stderr",
     "output_type": "stream",
     "text": [
      "100%|█████████▉| 3135/3140 [00:24<00:00, 130.50it/s]\n",
      " 99%|█████████▉| 550/555 [03:05<00:01,  2.78it/s]\n"
     ]
    },
    {
     "name": "stdout",
     "output_type": "stream",
     "text": [
      "Epoch: 703/1000 Train Loss: 0.015 Train Acc: 0.984 Valid Loss: 0.195 Valid Acc: 0.800 Valid Pre: 0.205 Valid Reca: 0.212 Valid F1: 0.193\n",
      "No Improvement.\n"
     ]
    },
    {
     "name": "stderr",
     "output_type": "stream",
     "text": [
      "100%|█████████▉| 3135/3140 [00:24<00:00, 131.73it/s]\n",
      " 99%|█████████▉| 550/555 [03:06<00:01,  2.76it/s]\n"
     ]
    },
    {
     "name": "stdout",
     "output_type": "stream",
     "text": [
      "Epoch: 704/1000 Train Loss: 0.016 Train Acc: 0.983 Valid Loss: 0.192 Valid Acc: 0.804 Valid Pre: 0.204 Valid Reca: 0.208 Valid F1: 0.189\n",
      "No Improvement.\n"
     ]
    },
    {
     "name": "stderr",
     "output_type": "stream",
     "text": [
      "100%|█████████▉| 3135/3140 [00:24<00:00, 130.83it/s]\n",
      " 99%|█████████▉| 550/555 [03:07<00:01,  2.75it/s]\n"
     ]
    },
    {
     "name": "stdout",
     "output_type": "stream",
     "text": [
      "Epoch: 705/1000 Train Loss: 0.014 Train Acc: 0.985 Valid Loss: 0.196 Valid Acc: 0.798 Valid Pre: 0.207 Valid Reca: 0.212 Valid F1: 0.193\n",
      "No Improvement.\n"
     ]
    },
    {
     "name": "stderr",
     "output_type": "stream",
     "text": [
      "100%|█████████▉| 3135/3140 [00:24<00:00, 130.63it/s]\n",
      " 99%|█████████▉| 550/555 [03:07<00:01,  2.77it/s]\n"
     ]
    },
    {
     "name": "stdout",
     "output_type": "stream",
     "text": [
      "Epoch: 706/1000 Train Loss: 0.015 Train Acc: 0.984 Valid Loss: 0.195 Valid Acc: 0.801 Valid Pre: 0.204 Valid Reca: 0.216 Valid F1: 0.193\n",
      "No Improvement.\n"
     ]
    },
    {
     "name": "stderr",
     "output_type": "stream",
     "text": [
      "100%|█████████▉| 3135/3140 [00:24<00:00, 131.36it/s]\n",
      " 99%|█████████▉| 550/555 [03:07<00:01,  2.74it/s]\n"
     ]
    },
    {
     "name": "stdout",
     "output_type": "stream",
     "text": [
      "Epoch: 707/1000 Train Loss: 0.015 Train Acc: 0.984 Valid Loss: 0.199 Valid Acc: 0.795 Valid Pre: 0.210 Valid Reca: 0.209 Valid F1: 0.194\n",
      "No Improvement.\n"
     ]
    },
    {
     "name": "stderr",
     "output_type": "stream",
     "text": [
      "100%|█████████▉| 3135/3140 [00:24<00:00, 129.85it/s]\n",
      " 99%|█████████▉| 550/555 [03:08<00:01,  2.74it/s]\n"
     ]
    },
    {
     "name": "stdout",
     "output_type": "stream",
     "text": [
      "Epoch: 708/1000 Train Loss: 0.014 Train Acc: 0.985 Valid Loss: 0.198 Valid Acc: 0.797 Valid Pre: 0.196 Valid Reca: 0.211 Valid F1: 0.189\n",
      "No Improvement.\n"
     ]
    },
    {
     "name": "stderr",
     "output_type": "stream",
     "text": [
      "100%|█████████▉| 3135/3140 [00:25<00:00, 126.71it/s]\n",
      " 99%|█████████▉| 550/555 [03:09<00:01,  2.72it/s]\n"
     ]
    },
    {
     "name": "stdout",
     "output_type": "stream",
     "text": [
      "Epoch: 709/1000 Train Loss: 0.016 Train Acc: 0.983 Valid Loss: 0.194 Valid Acc: 0.803 Valid Pre: 0.206 Valid Reca: 0.219 Valid F1: 0.199\n",
      "No Improvement.\n"
     ]
    },
    {
     "name": "stderr",
     "output_type": "stream",
     "text": [
      "100%|█████████▉| 3135/3140 [00:24<00:00, 128.63it/s]\n",
      " 40%|███▉      | 220/555 [01:03<01:25,  3.93it/s]\n"
     ]
    },
    {
     "ename": "KeyboardInterrupt",
     "evalue": "",
     "output_type": "error",
     "traceback": [
      "\u001b[1;31m---------------------------------------------------------------------------\u001b[0m",
      "\u001b[1;31mKeyboardInterrupt\u001b[0m                         Traceback (most recent call last)",
      "\u001b[1;32m<ipython-input-231-b081c0188caf>\u001b[0m in \u001b[0;36m<module>\u001b[1;34m()\u001b[0m\n\u001b[0;32m     15\u001b[0m                               \u001b[0mmultiple_fc\u001b[0m \u001b[1;33m=\u001b[0m \u001b[0mmultiple_fc\u001b[0m\u001b[1;33m,\u001b[0m\u001b[1;33m\u001b[0m\u001b[0m\n\u001b[0;32m     16\u001b[0m                               fc_units = fc_units)            \n\u001b[1;32m---> 17\u001b[1;33m \u001b[0mtrain\u001b[0m\u001b[1;33m(\u001b[0m\u001b[0mmodel\u001b[0m\u001b[1;33m,\u001b[0m \u001b[0mepochs\u001b[0m\u001b[1;33m,\u001b[0m \u001b[0mlog_string\u001b[0m\u001b[1;33m)\u001b[0m\u001b[1;33m\u001b[0m\u001b[0m\n\u001b[0m",
      "\u001b[1;32m<ipython-input-223-2446dfd8f3dd>\u001b[0m in \u001b[0;36mtrain\u001b[1;34m(model, epochs, log_string)\u001b[0m\n\u001b[0;32m     95\u001b[0m                     \u001b[0mpbar\u001b[0m\u001b[1;33m.\u001b[0m\u001b[0mupdate\u001b[0m\u001b[1;33m(\u001b[0m\u001b[0mbatch_size\u001b[0m\u001b[1;33m)\u001b[0m\u001b[1;33m\u001b[0m\u001b[0m\n\u001b[0;32m     96\u001b[0m \u001b[1;33m\u001b[0m\u001b[0m\n\u001b[1;32m---> 97\u001b[1;33m                     \u001b[0mresult\u001b[0m \u001b[1;33m=\u001b[0m \u001b[0mtf\u001b[0m\u001b[1;33m.\u001b[0m\u001b[0margmax\u001b[0m\u001b[1;33m(\u001b[0m\u001b[0mbatch_pre\u001b[0m \u001b[1;33m,\u001b[0m \u001b[1;36m1\u001b[0m\u001b[1;33m)\u001b[0m\u001b[1;33m.\u001b[0m\u001b[0meval\u001b[0m\u001b[1;33m(\u001b[0m\u001b[1;33m)\u001b[0m\u001b[1;33m\u001b[0m\u001b[0m\n\u001b[0m\u001b[0;32m     98\u001b[0m                     \u001b[0mtest\u001b[0m \u001b[1;33m=\u001b[0m \u001b[1;33m(\u001b[0m\u001b[0mtf\u001b[0m\u001b[1;33m.\u001b[0m\u001b[0margmax\u001b[0m\u001b[1;33m(\u001b[0m\u001b[0my_valid\u001b[0m \u001b[1;33m,\u001b[0m \u001b[1;36m1\u001b[0m\u001b[1;33m)\u001b[0m\u001b[1;33m.\u001b[0m\u001b[0meval\u001b[0m\u001b[1;33m(\u001b[0m\u001b[1;33m)\u001b[0m\u001b[1;33m)\u001b[0m\u001b[1;33m\u001b[0m\u001b[0m\n\u001b[0;32m     99\u001b[0m                     \u001b[0my_true\u001b[0m \u001b[1;33m=\u001b[0m \u001b[0mtest\u001b[0m\u001b[1;33m[\u001b[0m\u001b[1;33m:\u001b[0m\u001b[1;36m55\u001b[0m\u001b[1;33m]\u001b[0m\u001b[1;33m\u001b[0m\u001b[0m\n",
      "\u001b[1;32m~\\Anaconda3\\envs\\Compositor\\lib\\site-packages\\tensorflow\\python\\framework\\ops.py\u001b[0m in \u001b[0;36meval\u001b[1;34m(self, feed_dict, session)\u001b[0m\n\u001b[0;32m    678\u001b[0m \u001b[1;33m\u001b[0m\u001b[0m\n\u001b[0;32m    679\u001b[0m     \"\"\"\n\u001b[1;32m--> 680\u001b[1;33m     \u001b[1;32mreturn\u001b[0m \u001b[0m_eval_using_default_session\u001b[0m\u001b[1;33m(\u001b[0m\u001b[0mself\u001b[0m\u001b[1;33m,\u001b[0m \u001b[0mfeed_dict\u001b[0m\u001b[1;33m,\u001b[0m \u001b[0mself\u001b[0m\u001b[1;33m.\u001b[0m\u001b[0mgraph\u001b[0m\u001b[1;33m,\u001b[0m \u001b[0msession\u001b[0m\u001b[1;33m)\u001b[0m\u001b[1;33m\u001b[0m\u001b[0m\n\u001b[0m\u001b[0;32m    681\u001b[0m \u001b[1;33m\u001b[0m\u001b[0m\n\u001b[0;32m    682\u001b[0m \u001b[1;33m\u001b[0m\u001b[0m\n",
      "\u001b[1;32m~\\Anaconda3\\envs\\Compositor\\lib\\site-packages\\tensorflow\\python\\framework\\ops.py\u001b[0m in \u001b[0;36m_eval_using_default_session\u001b[1;34m(tensors, feed_dict, graph, session)\u001b[0m\n\u001b[0;32m   4949\u001b[0m                        \u001b[1;34m\"the tensor's graph is different from the session's \"\u001b[0m\u001b[1;33m\u001b[0m\u001b[0m\n\u001b[0;32m   4950\u001b[0m                        \"graph.\")\n\u001b[1;32m-> 4951\u001b[1;33m   \u001b[1;32mreturn\u001b[0m \u001b[0msession\u001b[0m\u001b[1;33m.\u001b[0m\u001b[0mrun\u001b[0m\u001b[1;33m(\u001b[0m\u001b[0mtensors\u001b[0m\u001b[1;33m,\u001b[0m \u001b[0mfeed_dict\u001b[0m\u001b[1;33m)\u001b[0m\u001b[1;33m\u001b[0m\u001b[0m\n\u001b[0m\u001b[0;32m   4952\u001b[0m \u001b[1;33m\u001b[0m\u001b[0m\n\u001b[0;32m   4953\u001b[0m \u001b[1;33m\u001b[0m\u001b[0m\n",
      "\u001b[1;32m~\\Anaconda3\\envs\\Compositor\\lib\\site-packages\\tensorflow\\python\\client\\session.py\u001b[0m in \u001b[0;36mrun\u001b[1;34m(self, fetches, feed_dict, options, run_metadata)\u001b[0m\n\u001b[0;32m    875\u001b[0m     \u001b[1;32mtry\u001b[0m\u001b[1;33m:\u001b[0m\u001b[1;33m\u001b[0m\u001b[0m\n\u001b[0;32m    876\u001b[0m       result = self._run(None, fetches, feed_dict, options_ptr,\n\u001b[1;32m--> 877\u001b[1;33m                          run_metadata_ptr)\n\u001b[0m\u001b[0;32m    878\u001b[0m       \u001b[1;32mif\u001b[0m \u001b[0mrun_metadata\u001b[0m\u001b[1;33m:\u001b[0m\u001b[1;33m\u001b[0m\u001b[0m\n\u001b[0;32m    879\u001b[0m         \u001b[0mproto_data\u001b[0m \u001b[1;33m=\u001b[0m \u001b[0mtf_session\u001b[0m\u001b[1;33m.\u001b[0m\u001b[0mTF_GetBuffer\u001b[0m\u001b[1;33m(\u001b[0m\u001b[0mrun_metadata_ptr\u001b[0m\u001b[1;33m)\u001b[0m\u001b[1;33m\u001b[0m\u001b[0m\n",
      "\u001b[1;32m~\\Anaconda3\\envs\\Compositor\\lib\\site-packages\\tensorflow\\python\\client\\session.py\u001b[0m in \u001b[0;36m_run\u001b[1;34m(self, handle, fetches, feed_dict, options, run_metadata)\u001b[0m\n\u001b[0;32m   1098\u001b[0m     \u001b[1;32mif\u001b[0m \u001b[0mfinal_fetches\u001b[0m \u001b[1;32mor\u001b[0m \u001b[0mfinal_targets\u001b[0m \u001b[1;32mor\u001b[0m \u001b[1;33m(\u001b[0m\u001b[0mhandle\u001b[0m \u001b[1;32mand\u001b[0m \u001b[0mfeed_dict_tensor\u001b[0m\u001b[1;33m)\u001b[0m\u001b[1;33m:\u001b[0m\u001b[1;33m\u001b[0m\u001b[0m\n\u001b[0;32m   1099\u001b[0m       results = self._do_run(handle, final_targets, final_fetches,\n\u001b[1;32m-> 1100\u001b[1;33m                              feed_dict_tensor, options, run_metadata)\n\u001b[0m\u001b[0;32m   1101\u001b[0m     \u001b[1;32melse\u001b[0m\u001b[1;33m:\u001b[0m\u001b[1;33m\u001b[0m\u001b[0m\n\u001b[0;32m   1102\u001b[0m       \u001b[0mresults\u001b[0m \u001b[1;33m=\u001b[0m \u001b[1;33m[\u001b[0m\u001b[1;33m]\u001b[0m\u001b[1;33m\u001b[0m\u001b[0m\n",
      "\u001b[1;32m~\\Anaconda3\\envs\\Compositor\\lib\\site-packages\\tensorflow\\python\\client\\session.py\u001b[0m in \u001b[0;36m_do_run\u001b[1;34m(self, handle, target_list, fetch_list, feed_dict, options, run_metadata)\u001b[0m\n\u001b[0;32m   1270\u001b[0m     \u001b[1;32mif\u001b[0m \u001b[0mhandle\u001b[0m \u001b[1;32mis\u001b[0m \u001b[1;32mNone\u001b[0m\u001b[1;33m:\u001b[0m\u001b[1;33m\u001b[0m\u001b[0m\n\u001b[0;32m   1271\u001b[0m       return self._do_call(_run_fn, feeds, fetches, targets, options,\n\u001b[1;32m-> 1272\u001b[1;33m                            run_metadata)\n\u001b[0m\u001b[0;32m   1273\u001b[0m     \u001b[1;32melse\u001b[0m\u001b[1;33m:\u001b[0m\u001b[1;33m\u001b[0m\u001b[0m\n\u001b[0;32m   1274\u001b[0m       \u001b[1;32mreturn\u001b[0m \u001b[0mself\u001b[0m\u001b[1;33m.\u001b[0m\u001b[0m_do_call\u001b[0m\u001b[1;33m(\u001b[0m\u001b[0m_prun_fn\u001b[0m\u001b[1;33m,\u001b[0m \u001b[0mhandle\u001b[0m\u001b[1;33m,\u001b[0m \u001b[0mfeeds\u001b[0m\u001b[1;33m,\u001b[0m \u001b[0mfetches\u001b[0m\u001b[1;33m)\u001b[0m\u001b[1;33m\u001b[0m\u001b[0m\n",
      "\u001b[1;32m~\\Anaconda3\\envs\\Compositor\\lib\\site-packages\\tensorflow\\python\\client\\session.py\u001b[0m in \u001b[0;36m_do_call\u001b[1;34m(self, fn, *args)\u001b[0m\n\u001b[0;32m   1276\u001b[0m   \u001b[1;32mdef\u001b[0m \u001b[0m_do_call\u001b[0m\u001b[1;33m(\u001b[0m\u001b[0mself\u001b[0m\u001b[1;33m,\u001b[0m \u001b[0mfn\u001b[0m\u001b[1;33m,\u001b[0m \u001b[1;33m*\u001b[0m\u001b[0margs\u001b[0m\u001b[1;33m)\u001b[0m\u001b[1;33m:\u001b[0m\u001b[1;33m\u001b[0m\u001b[0m\n\u001b[0;32m   1277\u001b[0m     \u001b[1;32mtry\u001b[0m\u001b[1;33m:\u001b[0m\u001b[1;33m\u001b[0m\u001b[0m\n\u001b[1;32m-> 1278\u001b[1;33m       \u001b[1;32mreturn\u001b[0m \u001b[0mfn\u001b[0m\u001b[1;33m(\u001b[0m\u001b[1;33m*\u001b[0m\u001b[0margs\u001b[0m\u001b[1;33m)\u001b[0m\u001b[1;33m\u001b[0m\u001b[0m\n\u001b[0m\u001b[0;32m   1279\u001b[0m     \u001b[1;32mexcept\u001b[0m \u001b[0merrors\u001b[0m\u001b[1;33m.\u001b[0m\u001b[0mOpError\u001b[0m \u001b[1;32mas\u001b[0m \u001b[0me\u001b[0m\u001b[1;33m:\u001b[0m\u001b[1;33m\u001b[0m\u001b[0m\n\u001b[0;32m   1280\u001b[0m       \u001b[0mmessage\u001b[0m \u001b[1;33m=\u001b[0m \u001b[0mcompat\u001b[0m\u001b[1;33m.\u001b[0m\u001b[0mas_text\u001b[0m\u001b[1;33m(\u001b[0m\u001b[0me\u001b[0m\u001b[1;33m.\u001b[0m\u001b[0mmessage\u001b[0m\u001b[1;33m)\u001b[0m\u001b[1;33m\u001b[0m\u001b[0m\n",
      "\u001b[1;32m~\\Anaconda3\\envs\\Compositor\\lib\\site-packages\\tensorflow\\python\\client\\session.py\u001b[0m in \u001b[0;36m_run_fn\u001b[1;34m(feed_dict, fetch_list, target_list, options, run_metadata)\u001b[0m\n\u001b[0;32m   1259\u001b[0m     \u001b[1;32mdef\u001b[0m \u001b[0m_run_fn\u001b[0m\u001b[1;33m(\u001b[0m\u001b[0mfeed_dict\u001b[0m\u001b[1;33m,\u001b[0m \u001b[0mfetch_list\u001b[0m\u001b[1;33m,\u001b[0m \u001b[0mtarget_list\u001b[0m\u001b[1;33m,\u001b[0m \u001b[0moptions\u001b[0m\u001b[1;33m,\u001b[0m \u001b[0mrun_metadata\u001b[0m\u001b[1;33m)\u001b[0m\u001b[1;33m:\u001b[0m\u001b[1;33m\u001b[0m\u001b[0m\n\u001b[0;32m   1260\u001b[0m       \u001b[1;31m# Ensure any changes to the graph are reflected in the runtime.\u001b[0m\u001b[1;33m\u001b[0m\u001b[1;33m\u001b[0m\u001b[0m\n\u001b[1;32m-> 1261\u001b[1;33m       \u001b[0mself\u001b[0m\u001b[1;33m.\u001b[0m\u001b[0m_extend_graph\u001b[0m\u001b[1;33m(\u001b[0m\u001b[1;33m)\u001b[0m\u001b[1;33m\u001b[0m\u001b[0m\n\u001b[0m\u001b[0;32m   1262\u001b[0m       return self._call_tf_sessionrun(\n\u001b[0;32m   1263\u001b[0m           options, feed_dict, fetch_list, target_list, run_metadata)\n",
      "\u001b[1;32m~\\Anaconda3\\envs\\Compositor\\lib\\site-packages\\tensorflow\\python\\client\\session.py\u001b[0m in \u001b[0;36m_extend_graph\u001b[1;34m(self)\u001b[0m\n\u001b[0;32m   1293\u001b[0m   \u001b[1;32mdef\u001b[0m \u001b[0m_extend_graph\u001b[0m\u001b[1;33m(\u001b[0m\u001b[0mself\u001b[0m\u001b[1;33m)\u001b[0m\u001b[1;33m:\u001b[0m\u001b[1;33m\u001b[0m\u001b[0m\n\u001b[0;32m   1294\u001b[0m     \u001b[1;32mwith\u001b[0m \u001b[0mself\u001b[0m\u001b[1;33m.\u001b[0m\u001b[0m_graph\u001b[0m\u001b[1;33m.\u001b[0m\u001b[0m_session_run_lock\u001b[0m\u001b[1;33m(\u001b[0m\u001b[1;33m)\u001b[0m\u001b[1;33m:\u001b[0m  \u001b[1;31m# pylint: disable=protected-access\u001b[0m\u001b[1;33m\u001b[0m\u001b[0m\n\u001b[1;32m-> 1295\u001b[1;33m       \u001b[0mtf_session\u001b[0m\u001b[1;33m.\u001b[0m\u001b[0mExtendSession\u001b[0m\u001b[1;33m(\u001b[0m\u001b[0mself\u001b[0m\u001b[1;33m.\u001b[0m\u001b[0m_session\u001b[0m\u001b[1;33m)\u001b[0m\u001b[1;33m\u001b[0m\u001b[0m\n\u001b[0m\u001b[0;32m   1296\u001b[0m \u001b[1;33m\u001b[0m\u001b[0m\n\u001b[0;32m   1297\u001b[0m   \u001b[1;31m# The threshold to run garbage collection to delete dead tensors.\u001b[0m\u001b[1;33m\u001b[0m\u001b[1;33m\u001b[0m\u001b[0m\n",
      "\u001b[1;31mKeyboardInterrupt\u001b[0m: "
     ]
    }
   ],
   "source": [
    "# Train the model with the desired tuning parameters\n",
    "for lstm_size in [64,128]:\n",
    "    for multiple_fc in [True, False]:\n",
    "        for fc_units in [128, 256]:\n",
    "            log_string = 'ru={},fcl={},fcu={}'.format(lstm_size,\n",
    "                                                      multiple_fc,\n",
    "                                                      fc_units)\n",
    "model = build_rnn(n_words = n_words, \n",
    "                              embed_size = embed_size,\n",
    "                              batch_size = batch_size,\n",
    "                              lstm_size = lstm_size,\n",
    "                              num_layers = num_layers,\n",
    "                              dropout = dropout,\n",
    "                              learning_rate = learning_rate,\n",
    "                              multiple_fc = multiple_fc,\n",
    "                              fc_units = fc_units)            \n",
    "train(model, epochs, log_string)"
   ]
  },
  {
   "cell_type": "markdown",
   "metadata": {},
   "source": [
    "Predicciones"
   ]
  },
  {
   "cell_type": "code",
   "execution_count": 82,
   "metadata": {},
   "outputs": [],
   "source": [
    "def make_predictions(lstm_size, multiple_fc, fc_units, checkpoint):\n",
    "    '''Predict the sentiment of the testing data'''\n",
    "    \n",
    "    # Record all of the predictions\n",
    "    all_preds = []\n",
    "\n",
    "    model = build_rnn(n_words = n_words, \n",
    "                      embed_size = embed_size,\n",
    "                      batch_size = batch_size,\n",
    "                      lstm_size = lstm_size,\n",
    "                      num_layers = num_layers,\n",
    "                      dropout = dropout,\n",
    "                      learning_rate = learning_rate,\n",
    "                      multiple_fc = multiple_fc,\n",
    "                      fc_units = fc_units) \n",
    "    \n",
    "    with tf.Session() as sess:\n",
    "        saver = tf.train.Saver()\n",
    "        # Load the model\n",
    "        saver.restore(sess, checkpoint)\n",
    "        test_state = sess.run(model.initial_state)\n",
    "        for _, x in enumerate(get_test_batches(x_valid, batch_size), 1):\n",
    "            feed = {model.inputs: x,\n",
    "                    model.keep_prob: 1,\n",
    "                    model.initial_state: test_state}\n",
    "            predictions = sess.run(model.predictions, feed_dict=feed)\n",
    "            for pred in predictions:\n",
    "                all_preds.append((pred))\n",
    "                \n",
    "    return all_preds"
   ]
  },
  {
   "cell_type": "code",
   "execution_count": 83,
   "metadata": {},
   "outputs": [
    {
     "name": "stdout",
     "output_type": "stream",
     "text": [
      "INFO:tensorflow:Restoring parameters from C:/Users/danie/Desktop/Checkpoints/sentiment_ru=128,fcl=False,fcu=256.ckpt\n"
     ]
    }
   ],
   "source": [
    "checkpoint1 = \"C:/Users/danie/Desktop/Checkpoints/sentiment_ru=128,fcl=False,fcu=256.ckpt\"\n",
    "# Make predictions using the best 3 models\n",
    "predictions1 = make_predictions(128, False, 256, checkpoint1)"
   ]
  },
  {
   "cell_type": "code",
   "execution_count": 86,
   "metadata": {},
   "outputs": [],
   "source": [
    "def write_submission(predictions, string):\n",
    "    '''write the predictions to a csv file'''\n",
    "    submission = pd.DataFrame(data={\"id\":1, \"sentiment\":predictions})\n",
    "    submission.to_csv(\"submission_{}.csv\".format(string), index=False, quoting=3)"
   ]
  },
  {
   "cell_type": "code",
   "execution_count": 87,
   "metadata": {},
   "outputs": [],
   "source": [
    "write_submission(predictions1, \"ru=128,fcl=False,fcu=256\") "
   ]
  },
  {
   "cell_type": "code",
   "execution_count": 151,
   "metadata": {},
   "outputs": [
    {
     "name": "stdout",
     "output_type": "stream",
     "text": [
      "7705\n"
     ]
    }
   ],
   "source": [
    "print(x_valid[149][19])\n",
    "x_valid[149][19] = 281   "
   ]
  },
  {
   "cell_type": "code",
   "execution_count": null,
   "metadata": {},
   "outputs": [],
   "source": []
  }
 ],
 "metadata": {
  "kernelspec": {
   "display_name": "Python 3",
   "language": "python",
   "name": "python3"
  },
  "language_info": {
   "codemirror_mode": {
    "name": "ipython",
    "version": 3
   },
   "file_extension": ".py",
   "mimetype": "text/x-python",
   "name": "python",
   "nbconvert_exporter": "python",
   "pygments_lexer": "ipython3",
   "version": "3.6.6"
  }
 },
 "nbformat": 4,
 "nbformat_minor": 2
}
