{
 "cells": [
  {
   "cell_type": "code",
   "execution_count": 1,
   "metadata": {},
   "outputs": [],
   "source": [
    "#!/usr/bin/python\n",
    "import nltk\n",
    "import numpy as np\n",
    "import re\n",
    "import tensorflow as tf\n",
    "from nltk.corpus import stopwords\n",
    "from nltk.tokenize import WordPunctTokenizer\n",
    "from random import randint\n",
    "from sklearn.model_selection import train_test_split\n",
    "import random\n",
    "import pandas as pd\n",
    "import itertools\n",
    "from nltk.stem.wordnet import WordNetLemmatizer "
   ]
  },
  {
   "cell_type": "markdown",
   "metadata": {},
   "source": [
    "Importing Glove and  40000 words list "
   ]
  },
  {
   "cell_type": "code",
   "execution_count": 2,
   "metadata": {},
   "outputs": [
    {
     "name": "stdout",
     "output_type": "stream",
     "text": [
      "Loaded the word list!\n",
      "Loaded the word vectors!\n",
      "400000\n",
      "(400000, 50)\n",
      "closure\n",
      "[ 0.50653   0.12284  -0.11653  -0.21052  -1.0672   -0.17536   0.16253\n",
      "  0.76781   0.25517  -0.15995   0.025424 -0.65425  -0.44638  -0.19395\n",
      "  0.45319   1.0955    0.050096 -0.36712   0.1729    0.28393   0.85448\n",
      " -0.54932  -1.1816    0.066158 -0.58561  -0.84893   0.1947    0.37832\n",
      "  0.94141   0.62982   2.3869   -0.41035  -0.11599   0.049907 -0.41563\n",
      " -0.056999  1.5044   -0.93772  -0.16045   0.80019  -0.44448  -0.50036\n",
      "  0.065875  0.27778  -0.27505  -0.012317 -0.37458   0.49171  -0.35498\n",
      "  0.035347]\n"
     ]
    }
   ],
   "source": [
    "wordsList = np.load('wordsList.npy')\n",
    "print('Loaded the word list!')\n",
    "wordsList = wordsList.tolist() #Originally loaded as numpy array\n",
    "wordsList = [word.decode('UTF-8') for word in wordsList] #Encode words as UTF-8\n",
    "wordVectors = np.load('wordVectors.npy')\n",
    "print ('Loaded the word vectors!')\n",
    "print(len(wordsList))\n",
    "print(wordVectors.shape)\n",
    "print(wordsList[5066])\n",
    "print(wordVectors[5066][:])"
   ]
  },
  {
   "cell_type": "markdown",
   "metadata": {},
   "source": [
    "Importing the Dataset "
   ]
  },
  {
   "cell_type": "code",
   "execution_count": 21,
   "metadata": {},
   "outputs": [
    {
     "name": "stdout",
     "output_type": "stream",
     "text": [
      "anger   How the fu*k! Who the heck! moved my fridge!... should I knock the landlord door. #angry #mad ##\n",
      "Labels:  3960 Sentences:  3960\n"
     ]
    }
   ],
   "source": [
    "#--------------------Extracting Emotion && sentences from corpus\n",
    "def extract(dataset):\n",
    "    f = open(dataset, 'r+', encoding='utf-8')\n",
    "    linea = f.readline()\n",
    "    emotion = []\n",
    "    sentences = []\n",
    "    neutro = re.compile('^ne')\n",
    "    while linea != \"\":    \n",
    "        #Ignoramos Neutro emotions\n",
    "        if not re.match(neutro, linea):\n",
    "            #print(\"** \",linea)\n",
    "            linea = linea.split(\"**@**\")\n",
    "            #Obtaining the emocion\n",
    "            emotion.append(linea[2])\n",
    "            sentences.append(linea[1])\n",
    "        linea = f.readline()\n",
    "    f.close()\n",
    "    return sentences,emotion\n",
    "\n",
    "dataset = \"TwitterDataset/Train/train_valid.txt\"\n",
    "sentences,emotions = extract(dataset)\n",
    "print(emotions[0],\" \",sentences[0])\n",
    "print(\"Labels: \",len(emotions), \"Sentences: \",len(sentences))"
   ]
  },
  {
   "cell_type": "code",
   "execution_count": 22,
   "metadata": {},
   "outputs": [
    {
     "data": {
      "text/html": [
       "<div>\n",
       "<style scoped>\n",
       "    .dataframe tbody tr th:only-of-type {\n",
       "        vertical-align: middle;\n",
       "    }\n",
       "\n",
       "    .dataframe tbody tr th {\n",
       "        vertical-align: top;\n",
       "    }\n",
       "\n",
       "    .dataframe thead th {\n",
       "        text-align: right;\n",
       "    }\n",
       "</style>\n",
       "<table border=\"1\" class=\"dataframe\">\n",
       "  <thead>\n",
       "    <tr style=\"text-align: right;\">\n",
       "      <th></th>\n",
       "      <th>Emotion</th>\n",
       "      <th>Sentence</th>\n",
       "    </tr>\n",
       "  </thead>\n",
       "  <tbody>\n",
       "    <tr>\n",
       "      <th>0</th>\n",
       "      <td>anger</td>\n",
       "      <td>How the fu*k! Who the heck! moved my fridge!.....</td>\n",
       "    </tr>\n",
       "    <tr>\n",
       "      <th>1</th>\n",
       "      <td>anger</td>\n",
       "      <td>So my Indian Uber driver just called someone t...</td>\n",
       "    </tr>\n",
       "    <tr>\n",
       "      <th>2</th>\n",
       "      <td>anger</td>\n",
       "      <td>@DPD_UK I asked for my parcel to be delivered ...</td>\n",
       "    </tr>\n",
       "    <tr>\n",
       "      <th>3</th>\n",
       "      <td>anger</td>\n",
       "      <td>so ef whichever butt wipe pulled the fire alar...</td>\n",
       "    </tr>\n",
       "    <tr>\n",
       "      <th>4</th>\n",
       "      <td>anger</td>\n",
       "      <td>Don't join @BTCare they put the phone down on ...</td>\n",
       "    </tr>\n",
       "  </tbody>\n",
       "</table>\n",
       "</div>"
      ],
      "text/plain": [
       "  Emotion                                           Sentence\n",
       "0   anger  How the fu*k! Who the heck! moved my fridge!.....\n",
       "1   anger  So my Indian Uber driver just called someone t...\n",
       "2   anger  @DPD_UK I asked for my parcel to be delivered ...\n",
       "3   anger  so ef whichever butt wipe pulled the fire alar...\n",
       "4   anger  Don't join @BTCare they put the phone down on ..."
      ]
     },
     "execution_count": 22,
     "metadata": {},
     "output_type": "execute_result"
    }
   ],
   "source": [
    "import csv\n",
    "with open('TwitterDataset/Train/train_valid.csv', mode='w', encoding='utf-8') as emo_file:\n",
    "    emo_writer = csv.writer(emo_file, delimiter=',', quotechar='\"', quoting=csv.QUOTE_MINIMAL)\n",
    "    emo_writer.writerow(['Emotion', 'Sentence'])\n",
    "    for i in range(0,len(emotions)):\n",
    "        emo_writer.writerow([emotions[i],sentences[i]])\n",
    "    \n",
    "train = pd.read_csv(\"TwitterDataset/Train/train_valid.csv\", delimiter=\",\")\n",
    "train.head()"
   ]
  },
  {
   "cell_type": "markdown",
   "metadata": {},
   "source": [
    "Cuánto hay de cada emoción"
   ]
  },
  {
   "cell_type": "code",
   "execution_count": 24,
   "metadata": {},
   "outputs": [
    {
     "data": {
      "image/png": "[encoded data removed]",
      "text/plain": [
       "<Figure size 432x288 with 1 Axes>"
      ]
     },
     "metadata": {},
     "output_type": "display_data"
    }
   ],
   "source": [
    "import matplotlib.pyplot as plt\n",
    "import collections\n",
    "%matplotlib inline\n",
    "def histograma(emotion):\n",
    "    #print(emotion)\n",
    "    plt.hist(emotion, 50)\n",
    "    plt.xlabel('Emotion')\n",
    "    plt.ylabel('Frequency')\n",
    "    plt.axis([0, 4, 0, 1400])\n",
    "    plt.show()\n",
    "histograma(emotions)"
   ]
  },
  {
   "cell_type": "markdown",
   "metadata": {},
   "source": [
    "Preprocesing of Sentences"
   ]
  },
  {
   "cell_type": "code",
   "execution_count": 25,
   "metadata": {},
   "outputs": [],
   "source": [
    "def decontracted(phrase):\n",
    "    # specific\n",
    "    '''phrase = re.sub(r\"won't\", \"will not\", phrase)\n",
    "    phrase = re.sub(r\"can\\'t\", \"can not\", phrase)'''\n",
    "\n",
    "    if phrase == \"t\":\n",
    "        phrase = \"not\"\n",
    "    elif phrase == \"re\":\n",
    "        phrase = \"are\"\n",
    "    elif phrase == \"s\":\n",
    "        phrase = \"is\"\n",
    "    elif phrase == \"d\":\n",
    "        phrase = \"would\"\n",
    "    elif phrase == \"ve\":\n",
    "        phrase = \"have\"\n",
    "    elif phrase == \"m\":\n",
    "        phrase = \"am\"\n",
    "    elif phrase == \"ca\":\n",
    "        phrase = \"can\"\n",
    "    elif phrase == \"isn\":\n",
    "        phrase = \"is\"\n",
    "    elif phrase == \"aren\":\n",
    "        phrase = \"are\"\n",
    "    elif phrase == \"wouldn\":\n",
    "        phrase = \"would\"\n",
    "    elif phrase == \"don\":\n",
    "        phrase = \"do\"\n",
    "    elif phrase == \"wasn\":\n",
    "        phrase = \"was\"\n",
    "    elif phrase == \"weren\":\n",
    "        phrase = \"were\"\n",
    "\n",
    "    # general\n",
    "    '''phrase = re.sub(r\"n\\'t\", \" not\", phrase)\n",
    "    phrase = re.sub(r\"\\'re\", \" are\", phrase)\n",
    "    phrase = re.sub(r\"\\'s\", \" is\", phrase)\n",
    "    phrase = re.sub(r\"\\'d\", \" would\", phrase)\n",
    "    phrase = re.sub(r\"\\'ll\", \" will\", phrase)\n",
    "    phrase = re.sub(r\"\\'t\", \" not\", phrase)\n",
    "    phrase = re.sub(r\"\\'ve\", \" have\", phrase)\n",
    "    phrase = re.sub(r\"\\'m\", \" am\", phrase)'''\n",
    "    return phrase"
   ]
  },
  {
   "cell_type": "code",
   "execution_count": 26,
   "metadata": {},
   "outputs": [],
   "source": [
    "def translator(user_string):\n",
    "    user_string = user_string.lower()\n",
    "    user_string = WordPunctTokenizer().tokenize(user_string)\n",
    "    j = 0\n",
    "    for _str in user_string:\n",
    "        # File path which consists of Abbreviations.\n",
    "        fileName = \"TwitterDataset/slang.txt\"\n",
    "        # File Access mode [Read Mode]\n",
    "        accessMode = \"r\"\n",
    "        with open(fileName, accessMode) as myCSVfile:\n",
    "            # Reading file as CSV with delimiter as \"=\", so that abbreviation are stored in row[0] and phrases in row[1]\n",
    "            dataFromFile = csv.reader(myCSVfile, delimiter=\"=\")\n",
    "            # Removing Special Characters.\n",
    "            _str = re.sub('[^a-zA-Z0-9-_.]', '', _str)\n",
    "            for row in dataFromFile:\n",
    "                # Check if selected word matches short forms[LHS] in text file.\n",
    "                if _str.upper() == row[0]:\n",
    "                    # If match found replace it with its Abbreviation in text file.\n",
    "                    user_string[j] = row[1].lower()\n",
    "            myCSVfile.close()\n",
    "        j = j + 1\n",
    "    return user_string"
   ]
  },
  {
   "cell_type": "code",
   "execution_count": 27,
   "metadata": {},
   "outputs": [],
   "source": [
    "#----------------Cleanning Sentences--------------\n",
    "lem = WordNetLemmatizer()\n",
    "def clean_text(text, remove_stopwords=False):\n",
    "    '''Clean the text, with the option to remove stopwords'''\n",
    "    #Remove @user or http://...\n",
    "    text = re.sub(r\"(@[A-Za-z0-9_]+)|([^0-9A-Za-z \\t])|(\\w+:\\/\\/\\S+)\",\" \",text) \n",
    "\n",
    "    # Translate OMG to Oh My God\n",
    "    text = translator(text)\n",
    "    #Decontracs\n",
    "    for w in range (0,len(text)):\n",
    "        text[w] = decontracted(text[w])\n",
    "\n",
    "    # Convert words to lower case and split them\n",
    "    #text = text.lower()#.split()\n",
    "\n",
    "    # Optionally, remove stop words\n",
    "    if remove_stopwords:\n",
    "        stops = set(stopwords.words(\"english\"))\n",
    "        text = [w for w in text if not w in stops]\n",
    "    \n",
    "    text = \" \".join(text)\n",
    "\n",
    "    # Clean the text\n",
    "    text = re.sub(r\"<br />\", \" \", text)\n",
    "    text = re.sub(r\"[^a-z]\", \" \", text)\n",
    "    text = re.sub(r\"   \", \" \", text) # Remove any extra spaces\n",
    "    text = re.sub(r\"  \", \" \", text)\n",
    "    \n",
    "    #Lematize && itertools Ejmp: looove to love\n",
    "    text = ''.join(''.join(s)[:2] for _, s in itertools.groupby(text))\n",
    "    text = lem.lemmatize(text, \"v\")\n",
    "    \n",
    "    # Return a list of words\n",
    "    return(text)\n",
    "\n",
    "\n",
    "train_clean = []\n",
    "for sentence in train.Sentence:\n",
    "    train_clean.append(clean_text(sentence))"
   ]
  },
  {
   "cell_type": "code",
   "execution_count": 28,
   "metadata": {},
   "outputs": [
    {
     "name": "stdout",
     "output_type": "stream",
     "text": [
      "How the fu*k! Who the heck! moved my fridge!... should I knock the landlord door. #angry #mad ##\n",
      "how the fu k who the heck moved my fridge should i knock the landlord door angry mad\n",
      "\n",
      "So my Indian Uber driver just called someone the N word. If I wasn't in a moving vehicle I'd have jumped out #disgusted \n",
      "so my indian uber driver just called someone the n word if i was not in a moving vehicle i would have jumped out disgusted\n",
      "\n",
      "@DPD_UK I asked for my parcel to be delivered to a pick up store not my address #fuming #poorcustomerservice\n",
      "i asked for my parcel to be delivered to a pick up store not my address fuming poorcustomerservice\n",
      "\n"
     ]
    }
   ],
   "source": [
    "# Inspect the cleaned reviews\n",
    "for i in range(3):\n",
    "    print(sentences[i])\n",
    "    print(train_clean[i])\n",
    "    print()"
   ]
  },
  {
   "cell_type": "markdown",
   "metadata": {},
   "source": [
    "Les't determine the total and average number of words in each sentencesLes't determine the total and average number of words in each sentences"
   ]
  },
  {
   "cell_type": "code",
   "execution_count": 29,
   "metadata": {},
   "outputs": [
    {
     "name": "stdout",
     "output_type": "stream",
     "text": [
      "Average:  83\n"
     ]
    }
   ],
   "source": [
    "def maximum(sent):\n",
    "    numWords = []\n",
    "    for s in sent:\n",
    "        counter = len(s)\n",
    "        numWords.append(counter) \n",
    "    maxLengh = int(sum(numWords)/len(numWords))\n",
    "    print(\"Average: \", maxLengh)\n",
    "    return numWords,maxLengh\n",
    "numWords,maxSeqLength = maximum(train_clean)"
   ]
  },
  {
   "cell_type": "code",
   "execution_count": 30,
   "metadata": {},
   "outputs": [
    {
     "data": {
      "image/png": "[encoded data removed]",
      "text/plain": [
       "<Figure size 432x288 with 1 Axes>"
      ]
     },
     "metadata": {},
     "output_type": "display_data"
    }
   ],
   "source": [
    "import matplotlib.pyplot as plt\n",
    "%matplotlib inline\n",
    "def histograma(numWords):\n",
    "    plt.hist(numWords, 50)\n",
    "    plt.xlabel('Sequence Length')\n",
    "    plt.ylabel('Frequency')\n",
    "    plt.axis([0, 70, 0, 500])\n",
    "    plt.show()\n",
    "histograma(numWords)"
   ]
  },
  {
   "cell_type": "markdown",
   "metadata": {},
   "source": [
    "Converting each sentence into a vector and adding it into a matrix of 'ids'"
   ]
  },
  {
   "cell_type": "code",
   "execution_count": 31,
   "metadata": {},
   "outputs": [],
   "source": [
    "def integerSenteces(sent,maximum):\n",
    "    i = 0\n",
    "    embbeding = 0\n",
    "    matrix = np.zeros((len(sent), maximum)) #250 X 6 (numEjem X Maximun)\n",
    "    for s in sent:\n",
    "        vector = np.zeros((maximum), dtype='int32')\n",
    "        s =  s.split()\n",
    "        bound = maximum\n",
    "        if len(s) < maximum:\n",
    "            bound = len(s)    \n",
    "        for token in range(0,bound): #No encuentra macu, porque la corta\n",
    "            if s[token] not in wordsList:\n",
    "                vector[token] = embbeding # ???\n",
    "                #---print(s[token])\n",
    "            else:\n",
    "                vector[token] = (wordsList.index(s[token]))\n",
    "                embbeding = vector[token]\n",
    "        matrix[i] = (vector)\n",
    "        i += 1\n",
    "    return matrix"
   ]
  },
  {
   "cell_type": "code",
   "execution_count": 32,
   "metadata": {},
   "outputs": [
    {
     "name": "stdout",
     "output_type": "stream",
     "text": [
      "Sentences integer representation:  (3960, 83)\n",
      "Sentences:  3960\n",
      "Integer format [8.100e+01 4.300e+01 3.320e+02 5.960e+02 1.318e+03 3.800e+01 4.146e+03\n",
      " 8.100e+01 1.170e+02 4.100e+01 1.190e+02 5.000e+00 1.200e+01 1.920e+02\n",
      " 8.350e+02 4.300e+01 3.000e+01 1.920e+02 5.476e+03 0.000e+00 0.000e+00\n",
      " 0.000e+00 0.000e+00 0.000e+00 0.000e+00 0.000e+00 0.000e+00 0.000e+00\n",
      " 0.000e+00 0.000e+00 0.000e+00 0.000e+00 0.000e+00 0.000e+00 0.000e+00\n",
      " 0.000e+00 0.000e+00 0.000e+00 0.000e+00 0.000e+00 0.000e+00 0.000e+00\n",
      " 0.000e+00 0.000e+00 0.000e+00 0.000e+00 0.000e+00 0.000e+00 0.000e+00\n",
      " 0.000e+00 0.000e+00 0.000e+00 0.000e+00 0.000e+00 0.000e+00 0.000e+00\n",
      " 0.000e+00 0.000e+00 0.000e+00 0.000e+00 0.000e+00 0.000e+00 0.000e+00\n",
      " 0.000e+00 0.000e+00 0.000e+00 0.000e+00 0.000e+00 0.000e+00 0.000e+00\n",
      " 0.000e+00 0.000e+00 0.000e+00 0.000e+00 0.000e+00 0.000e+00 0.000e+00\n",
      " 0.000e+00 0.000e+00 0.000e+00 0.000e+00 0.000e+00 0.000e+00]\n",
      "Normal format you will never find someone who loved you like i did and that my love will be my revenge\n"
     ]
    }
   ],
   "source": [
    "X = integerSenteces(train_clean,maxSeqLength) \n",
    "print(\"Sentences integer representation: \",(X.shape))\n",
    "print(\"Sentences: \",len(train_clean))\n",
    "print(\"Integer format: \",X[249])\n",
    "print(\"Normal format: \",train_clean[249])"
   ]
  },
  {
   "cell_type": "code",
   "execution_count": 33,
   "metadata": {},
   "outputs": [
    {
     "name": "stdout",
     "output_type": "stream",
     "text": [
      "3   How the fu*k! Who the heck! moved my fridge!... should I knock the landlord door. #angry #mad ##\n"
     ]
    }
   ],
   "source": [
    "def toClasses(emo):\n",
    "    id_emo = []\n",
    "    for e in emo:\n",
    "        e = e.split()\n",
    "        e = e[0]\n",
    "        if e == 'joy':\n",
    "            e = 1\n",
    "        elif e == 'sadness':\n",
    "            e = 2\n",
    "        elif e == 'anger':\n",
    "            e = 3\n",
    "        elif e == 'fear':\n",
    "            e = 4\n",
    "            \n",
    "        id_emo.append(e)\n",
    "    return id_emo\n",
    "emotions = toClasses(emotions)\n",
    "print(emotions[0],\" \",sentences[0])"
   ]
  },
  {
   "cell_type": "markdown",
   "metadata": {},
   "source": [
    "Split the Data (stratify) into : Train && Test Sets"
   ]
  },
  {
   "cell_type": "code",
   "execution_count": 60,
   "metadata": {},
   "outputs": [
    {
     "name": "stdout",
     "output_type": "stream",
     "text": [
      "Sentences:  3960   Labels:  3960\n",
      "X_train:  3168   Y_train:  3168   X_test:  792   Y_test:  792\n"
     ]
    }
   ],
   "source": [
    "print(\"Sentences: \",len(X),\"  Labels: \",len(emotions))\n",
    "X_train, X_test, Y_train, Y_test = train_test_split(X, emotions, test_size=0.20, random_state=random.randrange(50), stratify=emotions)\n",
    "print(\"X_train: \",len(X_train),\"  Y_train: \",len(Y_train),\"  X_test: \",len(X_test),\"  Y_test: \",len(Y_test))"
   ]
  },
  {
   "cell_type": "code",
   "execution_count": 61,
   "metadata": {},
   "outputs": [
    {
     "data": {
      "image/png": "[encoded data removed]",
      "text/plain": [
       "<Figure size 432x288 with 1 Axes>"
      ]
     },
     "metadata": {},
     "output_type": "display_data"
    },
    {
     "name": "stdout",
     "output_type": "stream",
     "text": [
      "*****************\n"
     ]
    },
    {
     "data": {
      "image/png": "[encoded data removed]",
      "text/plain": [
       "<Figure size 432x288 with 1 Axes>"
      ]
     },
     "metadata": {},
     "output_type": "display_data"
    }
   ],
   "source": [
    "import matplotlib.pyplot as plt\n",
    "import collections\n",
    "%matplotlib inline\n",
    "def histograma(emotion):\n",
    "    #print(emotion)\n",
    "    plt.hist(emotion, 50)\n",
    "    plt.xlabel('Emotion')\n",
    "    plt.ylabel('Frequency')\n",
    "    plt.axis([0, 4, 0, 1000])\n",
    "    plt.show()\n",
    "histograma(Y_train)\n",
    "print(\"*****************\")\n",
    "histograma(Y_test)\n",
    "#for i in range (0,len(X_train)):\n",
    " #   print(Y_train[i],\"  \",X_train[i])"
   ]
  },
  {
   "cell_type": "markdown",
   "metadata": {},
   "source": [
    "Converting the Labels into Onehot Vectors"
   ]
  },
  {
   "cell_type": "code",
   "execution_count": null,
   "metadata": {},
   "outputs": [],
   "source": []
  },
  {
   "cell_type": "code",
   "execution_count": 62,
   "metadata": {},
   "outputs": [],
   "source": [
    "def toLabels(emo):\n",
    "    classes = 4\n",
    "    Y = np.zeros((len(emo), classes)) #Num Ejemplos X 4 emociones\n",
    "    for e in range(0,len(emo)):\n",
    "        vector = np.zeros((classes))\n",
    "        vector[(emo[e] % (classes + 1)) - 1] = 1 \n",
    "        Y[e] = vector\n",
    "        #print(emo[e],\"---\",vector)\n",
    "    return Y\n",
    " \n",
    "Y_train = toLabels(Y_train)\n",
    "Y_test = toLabels(Y_test)"
   ]
  },
  {
   "cell_type": "code",
   "execution_count": 63,
   "metadata": {},
   "outputs": [
    {
     "name": "stdout",
     "output_type": "stream",
     "text": [
      "Y_train:  (3168, 4)  Num Ejem X # clases\n",
      "X_train:  (3168, 83)  Num Ejem X Maximun Lengh\n",
      "Y_test:  (792, 4)  Num Ejem X # clases\n",
      "X_test:  (792, 83)  Num Ejem X Maximun Lengh\n"
     ]
    }
   ],
   "source": [
    "print(\"Y_train: \",Y_train.shape,\" Num Ejem X # clases\")\n",
    "print(\"X_train: \",X_train.shape,\" Num Ejem X Maximun Lengh\")\n",
    "print(\"Y_test: \",Y_test.shape,\" Num Ejem X # clases\")\n",
    "print(\"X_test: \",X_test.shape,\" Num Ejem X Maximun Lengh\")"
   ]
  },
  {
   "cell_type": "markdown",
   "metadata": {},
   "source": [
    "RNN Model"
   ]
  },
  {
   "cell_type": "code",
   "execution_count": 64,
   "metadata": {},
   "outputs": [],
   "source": [
    "def build_rnn(n_words, embed_size, batch_size, lstm_size, num_layers, \n",
    "              dropout, learning_rate, multiple_fc, fc_units):\n",
    "    '''Build the Recurrent Neural Network'''\n",
    "\n",
    "    tf.reset_default_graph()\n",
    "\n",
    "    # Declare placeholders we'll feed into the graph\n",
    "    with tf.name_scope('inputs'):\n",
    "        inputs = tf.placeholder(tf.int32, [None, None], name='inputs')\n",
    "\n",
    "    with tf.name_scope('labels'):\n",
    "        labels = tf.placeholder(tf.int32, [None, None], name='labels')\n",
    "\n",
    "    keep_prob = tf.placeholder(tf.float32, name='keep_prob')\n",
    "\n",
    "    # Create the embeddings\n",
    "    with tf.name_scope(\"embeddings\"):\n",
    "        embedding = tf.Variable(tf.random_uniform((n_words, embed_size), -1, 1))\n",
    "        embed = tf.nn.embedding_lookup(embedding, inputs)\n",
    "        \n",
    "        #data = tf.Variable(tf.zeros([batchSize, maxSeqLength, numDimensions]),dtype=tf.float32)\n",
    "        #data = tf.nn.embedding_lookup(wordVectors,input_data)\n",
    "\n",
    "    # Build the RNN layers\n",
    "    with tf.name_scope(\"RNN_layers\"):\n",
    "        lstm = tf.contrib.rnn.BasicLSTMCell(lstm_size)\n",
    "        drop = tf.contrib.rnn.DropoutWrapper(lstm, output_keep_prob=keep_prob)\n",
    "        cell = tf.contrib.rnn.MultiRNNCell([drop] * num_layers)\n",
    "    \n",
    "    # Set the initial state\n",
    "    with tf.name_scope(\"RNN_init_state\"):\n",
    "        initial_state = cell.zero_state(batch_size, tf.float32)\n",
    "\n",
    "    # Run the data through the RNN layers\n",
    "    with tf.name_scope(\"RNN_forward\"):\n",
    "        outputs, final_state = tf.nn.dynamic_rnn(cell, embed,\n",
    "                                                 initial_state=initial_state)    \n",
    "    \n",
    "    # Create the fully connected layers\n",
    "    with tf.name_scope(\"fully_connected\"):\n",
    "        \n",
    "        # Initialize the weights and biases\n",
    "        weights = tf.truncated_normal_initializer(stddev=0.1)\n",
    "        biases = tf.zeros_initializer()\n",
    "        \n",
    "        dense = tf.contrib.layers.fully_connected(outputs[:, -1],\n",
    "                                                  num_outputs = fc_units,\n",
    "                                                  activation_fn = tf.sigmoid,\n",
    "                                                  weights_initializer = weights,\n",
    "                                                  biases_initializer = biases)\n",
    "        dense = tf.contrib.layers.dropout(dense, keep_prob)\n",
    "        \n",
    "        # Depending on the iteration, use a second fully connected layer\n",
    "        if multiple_fc == True:\n",
    "            dense = tf.contrib.layers.fully_connected(dense,\n",
    "                                                      num_outputs = fc_units,\n",
    "                                                      activation_fn = tf.sigmoid,\n",
    "                                                      weights_initializer = weights,\n",
    "                                                      biases_initializer = biases)\n",
    "            dense = tf.contrib.layers.dropout(dense, keep_prob)\n",
    "    \n",
    "    # Make the predictions\n",
    "    with tf.name_scope('predictions'):\n",
    "        predictions = tf.contrib.layers.fully_connected(dense, \n",
    "                                                        num_outputs = 1, \n",
    "                                                        activation_fn=tf.sigmoid,\n",
    "                                                        weights_initializer = weights,\n",
    "                                                        biases_initializer = biases)\n",
    "        tf.summary.histogram('predictions', predictions)\n",
    "    \n",
    "    # Calculate the cost\n",
    "    with tf.name_scope('cost'):\n",
    "        cost = tf.losses.mean_squared_error(labels, predictions)\n",
    "        tf.summary.scalar('cost', cost)\n",
    "    \n",
    "    # Train the model\n",
    "    with tf.name_scope('train'):    \n",
    "        optimizer = tf.train.AdamOptimizer(learning_rate).minimize(cost)\n",
    "\n",
    "    # Determine the accuracy\n",
    "    with tf.name_scope(\"accuracy\"):\n",
    "        correct_pred = tf.equal(tf.cast(tf.round(predictions), tf.int32), labels)\n",
    "        accuracy = tf.reduce_mean(tf.cast(correct_pred, tf.float32))\n",
    "        tf.summary.scalar('accuracy', accuracy)\n",
    "    \n",
    "    # Merge all of the summaries\n",
    "    merged = tf.summary.merge_all()    \n",
    "\n",
    "    # Export the nodes \n",
    "    export_nodes = ['inputs', 'labels', 'keep_prob', 'initial_state', 'final_state','accuracy',\n",
    "                    'predictions', 'cost', 'optimizer', 'merged']\n",
    "    Graph = namedtuple('Graph', export_nodes)\n",
    "    local_dict = locals()\n",
    "    graph = Graph(*[local_dict[each] for each in export_nodes])\n",
    "    \n",
    "    return graph"
   ]
  },
  {
   "cell_type": "markdown",
   "metadata": {},
   "source": [
    "Declarando placeholders para los labels (6 emotions) && data imput"
   ]
  },
  {
   "cell_type": "code",
   "execution_count": 65,
   "metadata": {},
   "outputs": [],
   "source": [
    "import tensorflow as tf\n",
    "tf.reset_default_graph()\n",
    "numDimensions = 300 \n",
    "batchSize = 88 #Tiene que ser multiplo del NumEjem\n",
    "lstmUnits = 64\n",
    "numClasses = 4\n",
    "\n",
    "#labels = tf.placeholder(tf.float32, [batchSize, numClasses])\n",
    "#input_data = tf.placeholder(tf.int32, [batchSize, maxSeqLength])\n",
    "labels = tf.placeholder(tf.float32, [None, numClasses])\n",
    "input_data = tf.placeholder(tf.int32, [None, maxSeqLength])"
   ]
  },
  {
   "cell_type": "markdown",
   "metadata": {},
   "source": [
    "Embeddings: Le damos el formato a nuestra data, aún no compilamos nada, solo declaramos"
   ]
  },
  {
   "cell_type": "code",
   "execution_count": 66,
   "metadata": {},
   "outputs": [],
   "source": [
    "data = tf.Variable(tf.zeros([batchSize, maxSeqLength, numDimensions]),dtype=tf.float32)\n",
    "data = tf.nn.embedding_lookup(wordVectors,input_data)"
   ]
  },
  {
   "cell_type": "markdown",
   "metadata": {},
   "source": [
    "LSTM Model"
   ]
  },
  {
   "cell_type": "code",
   "execution_count": 67,
   "metadata": {},
   "outputs": [],
   "source": [
    "lstmCell = tf.contrib.rnn.BasicLSTMCell(lstmUnits)\n",
    "lstmCell = tf.contrib.rnn.DropoutWrapper(cell=lstmCell, output_keep_prob=0.75)\n",
    "value, _ = tf.nn.dynamic_rnn(lstmCell, data, dtype=tf.float32)"
   ]
  },
  {
   "cell_type": "code",
   "execution_count": 68,
   "metadata": {},
   "outputs": [],
   "source": [
    "weight = tf.Variable(tf.truncated_normal([lstmUnits, numClasses]))\n",
    "bias = tf.Variable(tf.constant(0.1, shape=[numClasses]))\n",
    "value = tf.transpose(value, [1, 0, 2])\n",
    "last = tf.gather(value, int(value.get_shape()[0]) - 1)\n",
    "prediction = (tf.matmul(last, weight) + bias)"
   ]
  },
  {
   "cell_type": "code",
   "execution_count": 69,
   "metadata": {},
   "outputs": [],
   "source": [
    "correctPred = tf.equal(tf.argmax(prediction,1), tf.argmax(labels,1))\n",
    "accuracy = tf.reduce_mean(tf.cast(correctPred, tf.float32))"
   ]
  },
  {
   "cell_type": "code",
   "execution_count": 81,
   "metadata": {},
   "outputs": [
    {
     "name": "stderr",
     "output_type": "stream",
     "text": [
      "C:\\Users\\UX310UQ\\Anaconda3\\envs\\IaTopicos\\lib\\site-packages\\tensorflow\\python\\ops\\gradients_impl.py:100: UserWarning: Converting sparse IndexedSlices to a dense Tensor of unknown shape. This may consume a large amount of memory.\n",
      "  \"Converting sparse IndexedSlices to a dense Tensor of unknown shape. \"\n"
     ]
    }
   ],
   "source": [
    "learning_rate = 0.001\n",
    "loss = tf.reduce_mean(tf.nn.softmax_cross_entropy_with_logits_v2(logits=prediction, labels=labels))\n",
    "optimizer = tf.train.AdamOptimizer(learning_rate=learning_rate).minimize(loss)"
   ]
  },
  {
   "cell_type": "markdown",
   "metadata": {},
   "source": [
    "Tensorboar"
   ]
  },
  {
   "cell_type": "code",
   "execution_count": 76,
   "metadata": {},
   "outputs": [],
   "source": [
    "import datetime\n",
    "def board(sess):\n",
    "    tf.summary.scalar('Loss', loss)\n",
    "    tf.summary.scalar('Accuracy', accuracy)\n",
    "    tf.summary.histogram(\"Histogrma/hAccu\", accuracy)\n",
    "    merged = tf.summary.merge_all()\n",
    "    logdir = \"board/\" + datetime.datetime.now().strftime(\"%Y%m%d-%H%M%S\") + \"/\"\n",
    "    writer = tf.summary.FileWriter(logdir, sess.graph)\n",
    "    return merged,writer"
   ]
  },
  {
   "cell_type": "markdown",
   "metadata": {},
   "source": [
    "Confusion Matrix Plot"
   ]
  },
  {
   "cell_type": "code",
   "execution_count": 72,
   "metadata": {},
   "outputs": [],
   "source": [
    "import itertools\n",
    "def plot_confusion_matrix(cm, classes,\n",
    "                          normalize=False,\n",
    "                          title='Confusion matrix',\n",
    "                          cmap=plt.cm.Blues):\n",
    "    \"\"\"\n",
    "    This function prints and plots the confusion matrix.\n",
    "    Normalization can be applied by setting `normalize=True`.\n",
    "    \"\"\"\n",
    "    if normalize:\n",
    "        cm = cm.astype('float') / cm.sum(axis=1)[:, np.newaxis]\n",
    "        print(\"Normalized confusion matrix\")\n",
    "    else:\n",
    "        print('Confusion matrix, without normalization')\n",
    "\n",
    "    print(cm)\n",
    "\n",
    "    plt.imshow(cm, interpolation='nearest', cmap=cmap)\n",
    "    plt.title(title)\n",
    "    plt.colorbar()\n",
    "    tick_marks = np.arange(len(classes))\n",
    "    plt.xticks(tick_marks, classes, rotation=45)\n",
    "    plt.yticks(tick_marks, classes)\n",
    "\n",
    "    fmt = '.2f' if normalize else 'd'\n",
    "    thresh = cm.max() / 2.\n",
    "    for i, j in itertools.product(range(cm.shape[0]), range(cm.shape[1])):\n",
    "        plt.text(j, i, format(cm[i, j], fmt),\n",
    "                 horizontalalignment=\"center\",\n",
    "                 color=\"white\" if cm[i, j] > thresh else \"black\")\n",
    "\n",
    "    plt.ylabel('True label')\n",
    "    plt.xlabel('Predicted label')\n",
    "    plt.tight_layout()"
   ]
  },
  {
   "cell_type": "code",
   "execution_count": 82,
   "metadata": {},
   "outputs": [],
   "source": [
    "# Initializing the variables\n",
    "init = tf.global_variables_initializer()\n",
    "display_step = 10\n",
    "numEjemplos = 3168         \n",
    "iterations = 10"
   ]
  },
  {
   "cell_type": "code",
   "execution_count": 83,
   "metadata": {},
   "outputs": [
    {
     "name": "stdout",
     "output_type": "stream",
     "text": [
      "X_train:  3168   Y_train:  3168   X_test:  792   Y_test:  792\n",
      "Epoch: 0001 cost= 1.376855608  accuracy= 31.723484852\n",
      "Optimization Finished!\n",
      "Accuracy: 0.43939394\n",
      "             precision    recall  f1-score   support\n",
      "\n",
      "   Hapinnes       0.71      0.68      0.70       180\n",
      "    Sadness       0.47      0.04      0.07       172\n",
      "      Anger       0.37      0.16      0.23       188\n",
      "       Fear       0.37      0.77      0.50       252\n",
      "\n",
      "avg / total       0.47      0.45      0.39       792\n",
      "\n",
      "Confusion matrix, without normalization\n",
      "[[122   3   3  52]\n",
      " [ 25   7   9 131]\n",
      " [  8   3  31 146]\n",
      " [ 16   2  41 193]]\n",
      "Normalized confusion matrix\n",
      "[[0.68 0.02 0.02 0.29]\n",
      " [0.15 0.04 0.05 0.76]\n",
      " [0.04 0.02 0.16 0.78]\n",
      " [0.06 0.01 0.16 0.77]]\n"
     ]
    },
    {
     "data": {
      "image/png": "[encoded data removed]",
      "text/plain": [
       "<Figure size 432x288 with 2 Axes>"
      ]
     },
     "metadata": {},
     "output_type": "display_data"
    },
    {
     "data": {
      "image/png": "[encoded data removed]",
      "text/plain": [
       "<Figure size 432x288 with 2 Axes>"
      ]
     },
     "metadata": {},
     "output_type": "display_data"
    }
   ],
   "source": [
    "# Launch the graph\n",
    "with tf.Session() as sess:\n",
    "    sess.run(init)\n",
    "    #Calling tensorboard function\n",
    "    #---merged,writer = board(sess)\n",
    "    print(\"X_train: \",len(X_train),\"  Y_train: \",len(Y_train),\"  X_test: \",len(X_test),\"  Y_test: \",len(Y_test))\n",
    "\n",
    "    # Training cycle\n",
    "    for epoch in range(iterations):\n",
    "        avg_cost = 0.\n",
    "        avg_accu = 0.\n",
    "        total_batch = int(numEjemplos/batchSize)\n",
    "        #Create X groups of (50,6) Labels && (50,maximum) Examples\n",
    "        X_batches = np.array_split(X_train, total_batch)\n",
    "        Y_batches = np.array_split(Y_train, total_batch)\n",
    "        \n",
    "        # Loop over all batches\n",
    "        for i in range(total_batch):\n",
    "            batch_x, batch_y = X_batches[i], Y_batches[i]\n",
    "            #print(\"X: \",batch_x.shape)\n",
    "            #print(\"Y: \",batch_y.shape)\n",
    "            # Run optimization op (backprop) and cost op (to get loss value)\n",
    "            _, c , accu= sess.run([optimizer, loss, accuracy], feed_dict={input_data: batch_x,\n",
    "                                                          labels: batch_y})\n",
    "            # Compute average loss\n",
    "            avg_cost += c / total_batch\n",
    "            avg_accu += accu / total_batch\n",
    "\n",
    "            #Write summary to Tensorboard\n",
    "            '''if (epoch % 10 == 0):\n",
    "                summary = sess.run(merged, {input_data: batch_x, labels: batch_y})\n",
    "                writer.add_summary(summary, epoch)'''\n",
    "            \n",
    "\n",
    "            #Save the network every 10,000 training iterations\n",
    "            #if (i % 10000 == 0 and i != 0):\n",
    "                # save_path = saver.save(sess, \"models/pretrained_lstm.ckpt\", global_step=i)\n",
    "                 # print(\"saved to %s\" % save_path)\n",
    "            #writer.close()\n",
    "\n",
    "        if epoch % display_step == 0:\n",
    "            print(\"Epoch:\", '%04d' % (epoch+1), \"cost=\", \"{:.9f}\".format(avg_cost),\" accuracy=\", \"{:.9f}\".format(avg_accu*100))\n",
    "    print(\"Optimization Finished!\")\n",
    "    \n",
    "    #Test Model LSTM  \n",
    "    correctPred = tf.equal(tf.argmax(prediction,1), tf.argmax(labels,1))\n",
    "    # Calculate accuracy\n",
    "    accuracy = tf.reduce_mean(tf.cast(correctPred, \"float\"))\n",
    "    print(\"Accuracy:\", accuracy.eval({input_data: X_test, labels: Y_test}))\n",
    "    \n",
    "    #Matriz de confusion\n",
    "\n",
    "    #print(\"Test Samples, Class Predictions: \")\n",
    "    #----Result es mi tensor prediction convertido a np.array\n",
    "    result = tf.argmax(prediction , 1).eval({input_data: X_test, labels: Y_test})\n",
    "    #print(result.shape)\n",
    "    \n",
    "    \n",
    "    #print(\"Test Samples: \")\n",
    "    test = (tf.argmax(Y_test , 1).eval()) #Convierte de [0,0,1,0,0] a [2] y lo hace np.array\n",
    "    #print(test.shape)\n",
    "    #print(\"Conversion: \")\n",
    "    #for i in range(0,len(test)):\n",
    "        #print(test[i],\"---\",Y_test[i],\"---\",result[i])\n",
    "      \n",
    "\n",
    "    from sklearn.metrics import confusion_matrix\n",
    "    y_true = test\n",
    "    y_pred = result\n",
    "    #print(confusion_matrix(y_true, y_pred))\n",
    "    class_names = [\"Hapinnes\",\"Sadness\",\"Anger\",\"Fear\"]\n",
    "\n",
    "    from sklearn.metrics import classification_report\n",
    "    print(classification_report(y_true, y_pred, target_names=class_names))\n",
    "\n",
    "    # Compute confusion matrix\n",
    "    cnf_matrix = confusion_matrix(y_true, y_pred)\n",
    "    np.set_printoptions(precision=2)\n",
    "\n",
    "    # Plot non-normalized confusion matrix\n",
    "    plt.figure()\n",
    "    plot_confusion_matrix(cnf_matrix, classes=class_names,\n",
    "                          title='Confusion matrix, without normalization')\n",
    "\n",
    "    # Plot normalized confusion matrix\n",
    "    plt.figure()\n",
    "    plot_confusion_matrix(cnf_matrix, classes=class_names, normalize=True,\n",
    "                          title='Normalized confusion matrix')\n",
    "\n",
    "    plt.show()\n"
   ]
  },
  {
   "cell_type": "code",
   "execution_count": 84,
   "metadata": {},
   "outputs": [
    {
     "name": "stdout",
     "output_type": "stream",
     "text": [
      "Balance Counter({4: 1257, 3: 941, 1: 902, 2: 860})\n"
     ]
    }
   ],
   "source": [
    "from collections import Counter\n",
    "from sklearn.datasets import make_classification\n",
    "from imblearn.over_sampling import SMOTE  \n",
    "print('Balance',Counter(emotions))"
   ]
  },
  {
   "cell_type": "code",
   "execution_count": null,
   "metadata": {},
   "outputs": [],
   "source": [
    "from imblearn.over_sampling import SMOTE, ADASYN\n",
    "#Banlancea ADASYN\n",
    "X_balance, Y_balance = ADASYN().fit_sample(X,emotions)\n",
    "print('Balance',Counter(Y_balance))"
   ]
  },
  {
   "cell_type": "code",
   "execution_count": 48,
   "metadata": {},
   "outputs": [
    {
     "name": "stdout",
     "output_type": "stream",
     "text": [
      "(7836, 15)   (7836,)\n",
      "3695   3695\n"
     ]
    }
   ],
   "source": [
    "print(X_balance.shape,\" \",Y_balance.shape)\n",
    "print(len(X),\" \",len(emotion))"
   ]
  },
  {
   "cell_type": "code",
   "execution_count": 49,
   "metadata": {},
   "outputs": [
    {
     "name": "stdout",
     "output_type": "stream",
     "text": [
      "X_train:  6817   Y_train:  6817   X_test:  1019   Y_test:  1019\n"
     ]
    }
   ],
   "source": [
    "X_train_b, X_test_b, Y_train_b, Y_test_b = train_test_split(X_balance, Y_balance, test_size=0.13, random_state=random.randrange(50), stratify=Y_balance)\n",
    "print(\"X_train: \",len(X_train_b),\"  Y_train: \",len(Y_train_b),\"  X_test: \",len(X_test_b),\"  Y_test: \",len(Y_test_b))"
   ]
  },
  {
   "cell_type": "code",
   "execution_count": 50,
   "metadata": {},
   "outputs": [],
   "source": [
    "Y_train_b = toLabels(Y_train_b)\n",
    "Y_test_b = toLabels(Y_test_b)"
   ]
  },
  {
   "cell_type": "markdown",
   "metadata": {},
   "source": [
    "Otro Modelo: Solo balanceamos Trainset"
   ]
  },
  {
   "cell_type": "code",
   "execution_count": null,
   "metadata": {},
   "outputs": [],
   "source": [
    "#Averogua ottros modelos\n",
    "#Cambie el keep_drop\n",
    "#Cambia learning rate\n",
    "#Cambie num unidades 128?\n",
    "#Prueba con tu modelo"
   ]
  },
  {
   "cell_type": "code",
   "execution_count": null,
   "metadata": {},
   "outputs": [],
   "source": []
  },
  {
   "cell_type": "code",
   "execution_count": null,
   "metadata": {},
   "outputs": [],
   "source": []
  },
  {
   "cell_type": "code",
   "execution_count": null,
   "metadata": {},
   "outputs": [],
   "source": []
  },
  {
   "cell_type": "code",
   "execution_count": null,
   "metadata": {},
   "outputs": [],
   "source": []
  }
 ],
 "metadata": {
  "kernelspec": {
   "display_name": "Python 3",
   "language": "python",
   "name": "python3"
  },
  "language_info": {
   "codemirror_mode": {
    "name": "ipython",
    "version": 3
   },
   "file_extension": ".py",
   "mimetype": "text/x-python",
   "name": "python",
   "nbconvert_exporter": "python",
   "pygments_lexer": "ipython3",
   "version": "3.6.5"
  }
 },
 "nbformat": 4,
 "nbformat_minor": 2
}
